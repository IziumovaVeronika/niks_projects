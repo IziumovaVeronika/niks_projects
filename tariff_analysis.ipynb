{
 "cells": [
  {
   "cell_type": "markdown",
   "id": "5425ce03",
   "metadata": {},
   "source": [
    "# <div align=\"center\"><b> ОПРЕДЕЛЕНИЕ ПЕРСПЕКТИВНОГО ТАРИФА ДЛЯ ТЕЛЕКОМ-КОМПАНИИ</b></div> "
   ]
  },
  {
   "cell_type": "markdown",
   "id": "30c5486a",
   "metadata": {},
   "source": [
    "Компания \"Мегалайн\" обеспечивает поддержку двух тарифных планов: Smart и  Ultra. Для корректировки рекламного бюджета на основании данных о пользовательском поведении 500 абонентов в 2018 г. необходимо выявить, какой тариф является наиболее рентабельным. "
   ]
  },
  {
   "cell_type": "markdown",
   "id": "741bafe0",
   "metadata": {},
   "source": [
    "# 1. Предобработка данных"
   ]
  },
  {
   "cell_type": "markdown",
   "id": "e5303aa4",
   "metadata": {},
   "source": [
    "С целью получения корректных результатов исследования на этапе предобработки данных должно быть выполнено следующее:\n",
    "- получение общей информации о данных, выявление возможных проблем;\n",
    "- поиск и устранение аномальных значений (при необходимости);\n",
    "- поиск и устранение пропусков (при необходимости);\n",
    "- поиск и устранение явных и неявных дубликатов;\n",
    "- корректировка типов данных (при необходимости)."
   ]
  },
  {
   "cell_type": "markdown",
   "id": "9e05ed46",
   "metadata": {},
   "source": [
    "## 1.1 Обзор данных"
   ]
  },
  {
   "cell_type": "code",
   "execution_count": 5,
   "id": "0504a03f",
   "metadata": {},
   "outputs": [],
   "source": [
    "#импорт библиотек\n",
    "import pandas as pd\n",
    "import numpy as np\n",
    "import math\n",
    "import matplotlib.pyplot as plt\n",
    "from scipy import stats as st"
   ]
  },
  {
   "cell_type": "code",
   "execution_count": 6,
   "id": "c7d7799e",
   "metadata": {},
   "outputs": [],
   "source": [
    "#снимем ограничение на количество столбцов датафрейма, выводимых на экран\n",
    "pd.options.display.max_columns = None"
   ]
  },
  {
   "cell_type": "code",
   "execution_count": 7,
   "id": "c90b1f91",
   "metadata": {},
   "outputs": [
    {
     "data": {
      "text/html": [
       "<div>\n",
       "<style scoped>\n",
       "    .dataframe tbody tr th:only-of-type {\n",
       "        vertical-align: middle;\n",
       "    }\n",
       "\n",
       "    .dataframe tbody tr th {\n",
       "        vertical-align: top;\n",
       "    }\n",
       "\n",
       "    .dataframe thead th {\n",
       "        text-align: right;\n",
       "    }\n",
       "</style>\n",
       "<table border=\"1\" class=\"dataframe\">\n",
       "  <thead>\n",
       "    <tr style=\"text-align: right;\">\n",
       "      <th></th>\n",
       "      <th>user_id</th>\n",
       "      <th>age</th>\n",
       "      <th>churn_date</th>\n",
       "      <th>city</th>\n",
       "      <th>first_name</th>\n",
       "      <th>last_name</th>\n",
       "      <th>reg_date</th>\n",
       "      <th>tariff</th>\n",
       "    </tr>\n",
       "  </thead>\n",
       "  <tbody>\n",
       "    <tr>\n",
       "      <th>0</th>\n",
       "      <td>1000</td>\n",
       "      <td>52</td>\n",
       "      <td>NaN</td>\n",
       "      <td>Краснодар</td>\n",
       "      <td>Рафаил</td>\n",
       "      <td>Верещагин</td>\n",
       "      <td>2018-05-25</td>\n",
       "      <td>ultra</td>\n",
       "    </tr>\n",
       "    <tr>\n",
       "      <th>1</th>\n",
       "      <td>1001</td>\n",
       "      <td>41</td>\n",
       "      <td>NaN</td>\n",
       "      <td>Москва</td>\n",
       "      <td>Иван</td>\n",
       "      <td>Ежов</td>\n",
       "      <td>2018-11-01</td>\n",
       "      <td>smart</td>\n",
       "    </tr>\n",
       "    <tr>\n",
       "      <th>2</th>\n",
       "      <td>1002</td>\n",
       "      <td>59</td>\n",
       "      <td>NaN</td>\n",
       "      <td>Стерлитамак</td>\n",
       "      <td>Евгений</td>\n",
       "      <td>Абрамович</td>\n",
       "      <td>2018-06-17</td>\n",
       "      <td>smart</td>\n",
       "    </tr>\n",
       "    <tr>\n",
       "      <th>3</th>\n",
       "      <td>1003</td>\n",
       "      <td>23</td>\n",
       "      <td>NaN</td>\n",
       "      <td>Москва</td>\n",
       "      <td>Белла</td>\n",
       "      <td>Белякова</td>\n",
       "      <td>2018-08-17</td>\n",
       "      <td>ultra</td>\n",
       "    </tr>\n",
       "    <tr>\n",
       "      <th>4</th>\n",
       "      <td>1004</td>\n",
       "      <td>68</td>\n",
       "      <td>NaN</td>\n",
       "      <td>Новокузнецк</td>\n",
       "      <td>Татьяна</td>\n",
       "      <td>Авдеенко</td>\n",
       "      <td>2018-05-14</td>\n",
       "      <td>ultra</td>\n",
       "    </tr>\n",
       "  </tbody>\n",
       "</table>\n",
       "</div>"
      ],
      "text/plain": [
       "   user_id  age churn_date         city first_name  last_name    reg_date  \\\n",
       "0     1000   52        NaN    Краснодар     Рафаил  Верещагин  2018-05-25   \n",
       "1     1001   41        NaN       Москва       Иван       Ежов  2018-11-01   \n",
       "2     1002   59        NaN  Стерлитамак    Евгений  Абрамович  2018-06-17   \n",
       "3     1003   23        NaN       Москва      Белла   Белякова  2018-08-17   \n",
       "4     1004   68        NaN  Новокузнецк    Татьяна   Авдеенко  2018-05-14   \n",
       "\n",
       "  tariff  \n",
       "0  ultra  \n",
       "1  smart  \n",
       "2  smart  \n",
       "3  ultra  \n",
       "4  ultra  "
      ]
     },
     "execution_count": 7,
     "metadata": {},
     "output_type": "execute_result"
    }
   ],
   "source": [
    "#прочитаем файл с информацией о пользователях, сохраним в переменную df_users\n",
    "try:\n",
    "    # local machine\n",
    "    df_users = pd.read_csv(r'C:\\Users\\vizum\\Desktop\\yandex_practicum\\project_4_tariffs_analysis\\datasets\\users.csv')\n",
    "except:\n",
    "    #yandex practicum server\n",
    "    df_users = pd.read_csv('/datasets/users.csv')\n",
    "    \n",
    "#выведем на экран первые 5 строк датафрейма df_users\n",
    "df_users.head()"
   ]
  },
  {
   "cell_type": "code",
   "execution_count": 8,
   "id": "a6ec5340",
   "metadata": {
    "scrolled": true
   },
   "outputs": [
    {
     "name": "stdout",
     "output_type": "stream",
     "text": [
      "<class 'pandas.core.frame.DataFrame'>\n",
      "RangeIndex: 500 entries, 0 to 499\n",
      "Data columns (total 8 columns):\n",
      " #   Column      Non-Null Count  Dtype \n",
      "---  ------      --------------  ----- \n",
      " 0   user_id     500 non-null    int64 \n",
      " 1   age         500 non-null    int64 \n",
      " 2   churn_date  38 non-null     object\n",
      " 3   city        500 non-null    object\n",
      " 4   first_name  500 non-null    object\n",
      " 5   last_name   500 non-null    object\n",
      " 6   reg_date    500 non-null    object\n",
      " 7   tariff      500 non-null    object\n",
      "dtypes: int64(2), object(6)\n",
      "memory usage: 31.4+ KB\n"
     ]
    }
   ],
   "source": [
    "#получим общую информацию о df_users\n",
    "df_users.info()"
   ]
  },
  {
   "cell_type": "markdown",
   "id": "2ae5e2da",
   "metadata": {},
   "source": [
    "**Выводы по датасету *df_users*:** <a id = 'concl_df_users'></a>\n",
    "- датасет, содержащий информацию о пользователях, содержит 500 строк и 7 столбцов;\n",
    "- пропуски наблюдаются только в столбце `churn_date` - дата прекращения пользования тарифом, что связано с тем, что на момент выгрузки данных тариф все еще действовал;\n",
    "- несоответствие типов данных наблюдается для столбцов `churn_date` (должен быть тип datetime), `reg_date` (должен быть тип datetime).\n",
    "\n",
    "Для дальнейшей работы с датасетом *df_users* требуется:\n",
    "- привести столбцы `churn_date` и `reg_date` к формату datetime;\n",
    "- выполнить поиск аномальных значений;\n",
    "- проверить датасет на явные и неявные дубликаты, в том числе по столбцам `user_id`, `city`, `tariff`."
   ]
  },
  {
   "cell_type": "code",
   "execution_count": 9,
   "id": "147d0d97",
   "metadata": {},
   "outputs": [
    {
     "data": {
      "text/html": [
       "<div>\n",
       "<style scoped>\n",
       "    .dataframe tbody tr th:only-of-type {\n",
       "        vertical-align: middle;\n",
       "    }\n",
       "\n",
       "    .dataframe tbody tr th {\n",
       "        vertical-align: top;\n",
       "    }\n",
       "\n",
       "    .dataframe thead th {\n",
       "        text-align: right;\n",
       "    }\n",
       "</style>\n",
       "<table border=\"1\" class=\"dataframe\">\n",
       "  <thead>\n",
       "    <tr style=\"text-align: right;\">\n",
       "      <th></th>\n",
       "      <th>id</th>\n",
       "      <th>call_date</th>\n",
       "      <th>duration</th>\n",
       "      <th>user_id</th>\n",
       "    </tr>\n",
       "  </thead>\n",
       "  <tbody>\n",
       "    <tr>\n",
       "      <th>0</th>\n",
       "      <td>1000_0</td>\n",
       "      <td>2018-07-25</td>\n",
       "      <td>0.00</td>\n",
       "      <td>1000</td>\n",
       "    </tr>\n",
       "    <tr>\n",
       "      <th>1</th>\n",
       "      <td>1000_1</td>\n",
       "      <td>2018-08-17</td>\n",
       "      <td>0.00</td>\n",
       "      <td>1000</td>\n",
       "    </tr>\n",
       "    <tr>\n",
       "      <th>2</th>\n",
       "      <td>1000_2</td>\n",
       "      <td>2018-06-11</td>\n",
       "      <td>2.85</td>\n",
       "      <td>1000</td>\n",
       "    </tr>\n",
       "    <tr>\n",
       "      <th>3</th>\n",
       "      <td>1000_3</td>\n",
       "      <td>2018-09-21</td>\n",
       "      <td>13.80</td>\n",
       "      <td>1000</td>\n",
       "    </tr>\n",
       "    <tr>\n",
       "      <th>4</th>\n",
       "      <td>1000_4</td>\n",
       "      <td>2018-12-15</td>\n",
       "      <td>5.18</td>\n",
       "      <td>1000</td>\n",
       "    </tr>\n",
       "  </tbody>\n",
       "</table>\n",
       "</div>"
      ],
      "text/plain": [
       "       id   call_date  duration  user_id\n",
       "0  1000_0  2018-07-25      0.00     1000\n",
       "1  1000_1  2018-08-17      0.00     1000\n",
       "2  1000_2  2018-06-11      2.85     1000\n",
       "3  1000_3  2018-09-21     13.80     1000\n",
       "4  1000_4  2018-12-15      5.18     1000"
      ]
     },
     "execution_count": 9,
     "metadata": {},
     "output_type": "execute_result"
    }
   ],
   "source": [
    "#прочитаем файл с информацией о звонках, сохраним в переменную df_calls\n",
    "try:\n",
    "    # local machine\n",
    "    df_calls = pd.read_csv(r'C:\\Users\\vizum\\Desktop\\yandex_practicum\\project_4_tariffs_analysis\\datasets\\calls.csv')\n",
    "except:\n",
    "    #yandex practicum server\n",
    "    df_calls = pd.read_csv('/datasets/calls.csv')\n",
    "    \n",
    "#выведем на экран первые 5 строк датафрейма df_calls\n",
    "df_calls.head()"
   ]
  },
  {
   "cell_type": "code",
   "execution_count": 10,
   "id": "954dc8f1",
   "metadata": {},
   "outputs": [
    {
     "name": "stdout",
     "output_type": "stream",
     "text": [
      "<class 'pandas.core.frame.DataFrame'>\n",
      "RangeIndex: 202607 entries, 0 to 202606\n",
      "Data columns (total 4 columns):\n",
      " #   Column     Non-Null Count   Dtype  \n",
      "---  ------     --------------   -----  \n",
      " 0   id         202607 non-null  object \n",
      " 1   call_date  202607 non-null  object \n",
      " 2   duration   202607 non-null  float64\n",
      " 3   user_id    202607 non-null  int64  \n",
      "dtypes: float64(1), int64(1), object(2)\n",
      "memory usage: 6.2+ MB\n"
     ]
    }
   ],
   "source": [
    "#получим общую информацию о df_calls\n",
    "df_calls.info()"
   ]
  },
  {
   "cell_type": "markdown",
   "id": "ad086837",
   "metadata": {},
   "source": [
    "**Выводы по датасету *df_calls*:** <a id = 'concl_df_calls'></a>\n",
    "- датасет с информацией о звонках содержит 202607 строк и 4 столбца;\n",
    "- пропуски в датасете отсутствуют;\n",
    "- для столбца `call_date` наблюдается несоответствие типа данных (должен быть формат datetime).\n",
    "\n",
    "Для дальнейшей работы с *df_calls* необходимо:\n",
    "- привести столбец `call_date` к формату datetime;\n",
    "- провести проверку датасета на наличие дубликатов;\n",
    "- провести проверку датасета на наличие аномальных значений;\n",
    "- согласно условиям компании \"Мегалайн\", все звонки округляются до минут. В связи с этим необходимо добавить еще один столбец, в котором продолжительность звонков из `call_durate` будет округлена до минут (в большую сторону)."
   ]
  },
  {
   "cell_type": "code",
   "execution_count": 11,
   "id": "3d3f82ff",
   "metadata": {},
   "outputs": [
    {
     "data": {
      "text/html": [
       "<div>\n",
       "<style scoped>\n",
       "    .dataframe tbody tr th:only-of-type {\n",
       "        vertical-align: middle;\n",
       "    }\n",
       "\n",
       "    .dataframe tbody tr th {\n",
       "        vertical-align: top;\n",
       "    }\n",
       "\n",
       "    .dataframe thead th {\n",
       "        text-align: right;\n",
       "    }\n",
       "</style>\n",
       "<table border=\"1\" class=\"dataframe\">\n",
       "  <thead>\n",
       "    <tr style=\"text-align: right;\">\n",
       "      <th></th>\n",
       "      <th>id</th>\n",
       "      <th>message_date</th>\n",
       "      <th>user_id</th>\n",
       "    </tr>\n",
       "  </thead>\n",
       "  <tbody>\n",
       "    <tr>\n",
       "      <th>0</th>\n",
       "      <td>1000_0</td>\n",
       "      <td>2018-06-27</td>\n",
       "      <td>1000</td>\n",
       "    </tr>\n",
       "    <tr>\n",
       "      <th>1</th>\n",
       "      <td>1000_1</td>\n",
       "      <td>2018-10-08</td>\n",
       "      <td>1000</td>\n",
       "    </tr>\n",
       "    <tr>\n",
       "      <th>2</th>\n",
       "      <td>1000_2</td>\n",
       "      <td>2018-08-04</td>\n",
       "      <td>1000</td>\n",
       "    </tr>\n",
       "    <tr>\n",
       "      <th>3</th>\n",
       "      <td>1000_3</td>\n",
       "      <td>2018-06-16</td>\n",
       "      <td>1000</td>\n",
       "    </tr>\n",
       "    <tr>\n",
       "      <th>4</th>\n",
       "      <td>1000_4</td>\n",
       "      <td>2018-12-05</td>\n",
       "      <td>1000</td>\n",
       "    </tr>\n",
       "  </tbody>\n",
       "</table>\n",
       "</div>"
      ],
      "text/plain": [
       "       id message_date  user_id\n",
       "0  1000_0   2018-06-27     1000\n",
       "1  1000_1   2018-10-08     1000\n",
       "2  1000_2   2018-08-04     1000\n",
       "3  1000_3   2018-06-16     1000\n",
       "4  1000_4   2018-12-05     1000"
      ]
     },
     "execution_count": 11,
     "metadata": {},
     "output_type": "execute_result"
    }
   ],
   "source": [
    "#прочитаем файл с информацией о сообщениях, сохраним в переменную df_messages\n",
    "try:\n",
    "    # local machine\n",
    "    df_messages = pd.read_csv(r'C:\\Users\\vizum\\Desktop\\yandex_practicum\\project_4_tariffs_analysis\\datasets\\messages.csv')\n",
    "except:\n",
    "    #yandex practicum server\n",
    "    df_messages = pd.read_csv('/datasets/messages.csv')\n",
    "    \n",
    "#выведем на экран первые 5 строк датафрейма df_messages\n",
    "df_messages.head()"
   ]
  },
  {
   "cell_type": "code",
   "execution_count": 12,
   "id": "6b23c0bf",
   "metadata": {},
   "outputs": [
    {
     "name": "stdout",
     "output_type": "stream",
     "text": [
      "<class 'pandas.core.frame.DataFrame'>\n",
      "RangeIndex: 123036 entries, 0 to 123035\n",
      "Data columns (total 3 columns):\n",
      " #   Column        Non-Null Count   Dtype \n",
      "---  ------        --------------   ----- \n",
      " 0   id            123036 non-null  object\n",
      " 1   message_date  123036 non-null  object\n",
      " 2   user_id       123036 non-null  int64 \n",
      "dtypes: int64(1), object(2)\n",
      "memory usage: 2.8+ MB\n"
     ]
    }
   ],
   "source": [
    "#получим общую информацию о df_messages\n",
    "df_messages.info()"
   ]
  },
  {
   "cell_type": "markdown",
   "id": "6b61609f",
   "metadata": {},
   "source": [
    "**Выводы по датасету *df_messages*:** <a id = 'concl_df_messages'></a>\n",
    "- датасет содержит 123035 строк и 3 столбца;\n",
    "- пропуски отсутствуют;\n",
    "- наблюдается несоответствие формата столбца `mesage_date` (должен быть тип datetime).\n",
    "\n",
    "Для дальнейшей работы с *df_messages* необходимо:\n",
    "- привести столбец `message_date` к формату datetime;\n",
    "- выполнить проверку датасета на дубликаты и аномальные значения."
   ]
  },
  {
   "cell_type": "code",
   "execution_count": 13,
   "id": "303e39ec",
   "metadata": {},
   "outputs": [
    {
     "data": {
      "text/html": [
       "<div>\n",
       "<style scoped>\n",
       "    .dataframe tbody tr th:only-of-type {\n",
       "        vertical-align: middle;\n",
       "    }\n",
       "\n",
       "    .dataframe tbody tr th {\n",
       "        vertical-align: top;\n",
       "    }\n",
       "\n",
       "    .dataframe thead th {\n",
       "        text-align: right;\n",
       "    }\n",
       "</style>\n",
       "<table border=\"1\" class=\"dataframe\">\n",
       "  <thead>\n",
       "    <tr style=\"text-align: right;\">\n",
       "      <th></th>\n",
       "      <th>Unnamed: 0</th>\n",
       "      <th>id</th>\n",
       "      <th>mb_used</th>\n",
       "      <th>session_date</th>\n",
       "      <th>user_id</th>\n",
       "    </tr>\n",
       "  </thead>\n",
       "  <tbody>\n",
       "    <tr>\n",
       "      <th>0</th>\n",
       "      <td>0</td>\n",
       "      <td>1000_0</td>\n",
       "      <td>112.95</td>\n",
       "      <td>2018-11-25</td>\n",
       "      <td>1000</td>\n",
       "    </tr>\n",
       "    <tr>\n",
       "      <th>1</th>\n",
       "      <td>1</td>\n",
       "      <td>1000_1</td>\n",
       "      <td>1052.81</td>\n",
       "      <td>2018-09-07</td>\n",
       "      <td>1000</td>\n",
       "    </tr>\n",
       "    <tr>\n",
       "      <th>2</th>\n",
       "      <td>2</td>\n",
       "      <td>1000_2</td>\n",
       "      <td>1197.26</td>\n",
       "      <td>2018-06-25</td>\n",
       "      <td>1000</td>\n",
       "    </tr>\n",
       "    <tr>\n",
       "      <th>3</th>\n",
       "      <td>3</td>\n",
       "      <td>1000_3</td>\n",
       "      <td>550.27</td>\n",
       "      <td>2018-08-22</td>\n",
       "      <td>1000</td>\n",
       "    </tr>\n",
       "    <tr>\n",
       "      <th>4</th>\n",
       "      <td>4</td>\n",
       "      <td>1000_4</td>\n",
       "      <td>302.56</td>\n",
       "      <td>2018-09-24</td>\n",
       "      <td>1000</td>\n",
       "    </tr>\n",
       "  </tbody>\n",
       "</table>\n",
       "</div>"
      ],
      "text/plain": [
       "   Unnamed: 0      id  mb_used session_date  user_id\n",
       "0           0  1000_0   112.95   2018-11-25     1000\n",
       "1           1  1000_1  1052.81   2018-09-07     1000\n",
       "2           2  1000_2  1197.26   2018-06-25     1000\n",
       "3           3  1000_3   550.27   2018-08-22     1000\n",
       "4           4  1000_4   302.56   2018-09-24     1000"
      ]
     },
     "execution_count": 13,
     "metadata": {},
     "output_type": "execute_result"
    }
   ],
   "source": [
    "#прочитаем файл с информацией об интернет траффике, сохраним в переменную df_internet\n",
    "try:\n",
    "    # local machine\n",
    "    df_internet = pd.read_csv(r'C:\\Users\\vizum\\Desktop\\yandex_practicum\\project_4_tariffs_analysis\\datasets\\internet.csv')\n",
    "except:\n",
    "    #yandex practicum server\n",
    "    df_internet = pd.read_csv('/datasets/internet.csv')\n",
    "    \n",
    "#выведем на экран первые 5 строк датафрейма df_internet\n",
    "df_internet.head()"
   ]
  },
  {
   "cell_type": "code",
   "execution_count": 14,
   "id": "3c0c63a6",
   "metadata": {},
   "outputs": [
    {
     "name": "stdout",
     "output_type": "stream",
     "text": [
      "<class 'pandas.core.frame.DataFrame'>\n",
      "RangeIndex: 149396 entries, 0 to 149395\n",
      "Data columns (total 5 columns):\n",
      " #   Column        Non-Null Count   Dtype  \n",
      "---  ------        --------------   -----  \n",
      " 0   Unnamed: 0    149396 non-null  int64  \n",
      " 1   id            149396 non-null  object \n",
      " 2   mb_used       149396 non-null  float64\n",
      " 3   session_date  149396 non-null  object \n",
      " 4   user_id       149396 non-null  int64  \n",
      "dtypes: float64(1), int64(2), object(2)\n",
      "memory usage: 5.7+ MB\n"
     ]
    }
   ],
   "source": [
    "#получим общую информацию о df_internet\n",
    "df_internet.info()"
   ]
  },
  {
   "cell_type": "markdown",
   "id": "05179b74",
   "metadata": {},
   "source": [
    "**Выводы по датасету *df_internet*:** <a id = 'concl_df_internet'></a>\n",
    "- датасет содержит 149396 строк и 5 столбцов;\n",
    "- пропуски в датасете отсутствуют;\n",
    "- тип данных в столбце `session_date` не соответствует формату datetime;\n",
    "- в датасете присутствует лишний столбец `Unnamed: 0`\n",
    "\n",
    "Для дальнейшей работы с датасетом *df_internet* необходимо:\n",
    "- привести данные в столбце `session_date` к формату datetime;\n",
    "- проверить датасет на аномальные значения и дубликаты;\n",
    "- удалить столбец `Unnamed: 0` (вероятно, он дублирует индексы строк датафрейма, поэтому перед удалением следует проверить предположение)."
   ]
  },
  {
   "cell_type": "code",
   "execution_count": 15,
   "id": "4c47cf55",
   "metadata": {},
   "outputs": [
    {
     "data": {
      "text/html": [
       "<div>\n",
       "<style scoped>\n",
       "    .dataframe tbody tr th:only-of-type {\n",
       "        vertical-align: middle;\n",
       "    }\n",
       "\n",
       "    .dataframe tbody tr th {\n",
       "        vertical-align: top;\n",
       "    }\n",
       "\n",
       "    .dataframe thead th {\n",
       "        text-align: right;\n",
       "    }\n",
       "</style>\n",
       "<table border=\"1\" class=\"dataframe\">\n",
       "  <thead>\n",
       "    <tr style=\"text-align: right;\">\n",
       "      <th></th>\n",
       "      <th>messages_included</th>\n",
       "      <th>mb_per_month_included</th>\n",
       "      <th>minutes_included</th>\n",
       "      <th>rub_monthly_fee</th>\n",
       "      <th>rub_per_gb</th>\n",
       "      <th>rub_per_message</th>\n",
       "      <th>rub_per_minute</th>\n",
       "      <th>tariff_name</th>\n",
       "    </tr>\n",
       "  </thead>\n",
       "  <tbody>\n",
       "    <tr>\n",
       "      <th>0</th>\n",
       "      <td>50</td>\n",
       "      <td>15360</td>\n",
       "      <td>500</td>\n",
       "      <td>550</td>\n",
       "      <td>200</td>\n",
       "      <td>3</td>\n",
       "      <td>3</td>\n",
       "      <td>smart</td>\n",
       "    </tr>\n",
       "    <tr>\n",
       "      <th>1</th>\n",
       "      <td>1000</td>\n",
       "      <td>30720</td>\n",
       "      <td>3000</td>\n",
       "      <td>1950</td>\n",
       "      <td>150</td>\n",
       "      <td>1</td>\n",
       "      <td>1</td>\n",
       "      <td>ultra</td>\n",
       "    </tr>\n",
       "  </tbody>\n",
       "</table>\n",
       "</div>"
      ],
      "text/plain": [
       "   messages_included  mb_per_month_included  minutes_included  \\\n",
       "0                 50                  15360               500   \n",
       "1               1000                  30720              3000   \n",
       "\n",
       "   rub_monthly_fee  rub_per_gb  rub_per_message  rub_per_minute tariff_name  \n",
       "0              550         200                3               3       smart  \n",
       "1             1950         150                1               1       ultra  "
      ]
     },
     "execution_count": 15,
     "metadata": {},
     "output_type": "execute_result"
    }
   ],
   "source": [
    "#прочитаем файл с информацией об интернет траффике, сохраним в переменную df_tariffs\n",
    "try:\n",
    "    # local machine\n",
    "    df_tariffs = pd.read_csv(r'C:\\Users\\vizum\\Desktop\\yandex_practicum\\project_4_tariffs_analysis\\datasets\\tariffs.csv')\n",
    "except:\n",
    "    #yandex practicum server\n",
    "    df_tariffs = pd.read_csv('/datasets/tariffs.csv')\n",
    "    \n",
    "#выведем на экран df_tariffs\n",
    "df_tariffs"
   ]
  },
  {
   "cell_type": "code",
   "execution_count": 16,
   "id": "0d5f4b80",
   "metadata": {},
   "outputs": [
    {
     "name": "stdout",
     "output_type": "stream",
     "text": [
      "<class 'pandas.core.frame.DataFrame'>\n",
      "RangeIndex: 2 entries, 0 to 1\n",
      "Data columns (total 8 columns):\n",
      " #   Column                 Non-Null Count  Dtype \n",
      "---  ------                 --------------  ----- \n",
      " 0   messages_included      2 non-null      int64 \n",
      " 1   mb_per_month_included  2 non-null      int64 \n",
      " 2   minutes_included       2 non-null      int64 \n",
      " 3   rub_monthly_fee        2 non-null      int64 \n",
      " 4   rub_per_gb             2 non-null      int64 \n",
      " 5   rub_per_message        2 non-null      int64 \n",
      " 6   rub_per_minute         2 non-null      int64 \n",
      " 7   tariff_name            2 non-null      object\n",
      "dtypes: int64(7), object(1)\n",
      "memory usage: 256.0+ bytes\n"
     ]
    }
   ],
   "source": [
    "#получим общую информацию о df_tariffs\n",
    "df_tariffs.info()"
   ]
  },
  {
   "cell_type": "markdown",
   "id": "873f0189",
   "metadata": {},
   "source": [
    "**Выводы по *df_tariffs*:**\n",
    "- в датафрейме 2 строки и семь столбцов;\n",
    "- все типы данных в датафрейме корректны;\n",
    "- пропуски отсутствуют, информация о тарифах приведена полностью;\n",
    "- предобработка данных в *df_tariffs* не требуется."
   ]
  },
  {
   "cell_type": "markdown",
   "id": "6886346b",
   "metadata": {},
   "source": [
    "## 1.2 Предобработка данных датафрейма *df_users*"
   ]
  },
  {
   "cell_type": "markdown",
   "id": "c7823bc4",
   "metadata": {},
   "source": [
    "### 1.2.1 Изменение типов данных датафрейма *df_users*"
   ]
  },
  {
   "cell_type": "markdown",
   "id": "60a6b8b8",
   "metadata": {},
   "source": [
    "Исходя из [анализа общей информации о датафрейме *df_users*](#concl_df_users), данные столбцов `churn_date` и `reg_date` необходимо привести к типу datetime."
   ]
  },
  {
   "cell_type": "code",
   "execution_count": 17,
   "id": "0beaa573",
   "metadata": {},
   "outputs": [
    {
     "data": {
      "text/html": [
       "<div>\n",
       "<style scoped>\n",
       "    .dataframe tbody tr th:only-of-type {\n",
       "        vertical-align: middle;\n",
       "    }\n",
       "\n",
       "    .dataframe tbody tr th {\n",
       "        vertical-align: top;\n",
       "    }\n",
       "\n",
       "    .dataframe thead th {\n",
       "        text-align: right;\n",
       "    }\n",
       "</style>\n",
       "<table border=\"1\" class=\"dataframe\">\n",
       "  <thead>\n",
       "    <tr style=\"text-align: right;\">\n",
       "      <th></th>\n",
       "      <th>user_id</th>\n",
       "      <th>age</th>\n",
       "      <th>churn_date</th>\n",
       "      <th>city</th>\n",
       "      <th>first_name</th>\n",
       "      <th>last_name</th>\n",
       "      <th>reg_date</th>\n",
       "      <th>tariff</th>\n",
       "    </tr>\n",
       "  </thead>\n",
       "  <tbody>\n",
       "    <tr>\n",
       "      <th>19</th>\n",
       "      <td>1019</td>\n",
       "      <td>63</td>\n",
       "      <td>2018-10-05</td>\n",
       "      <td>Томск</td>\n",
       "      <td>Игнатий</td>\n",
       "      <td>Круглов</td>\n",
       "      <td>2018-05-16</td>\n",
       "      <td>ultra</td>\n",
       "    </tr>\n",
       "    <tr>\n",
       "      <th>20</th>\n",
       "      <td>1020</td>\n",
       "      <td>59</td>\n",
       "      <td>2018-12-18</td>\n",
       "      <td>Чита</td>\n",
       "      <td>Тала</td>\n",
       "      <td>Костина</td>\n",
       "      <td>2018-10-22</td>\n",
       "      <td>smart</td>\n",
       "    </tr>\n",
       "    <tr>\n",
       "      <th>34</th>\n",
       "      <td>1034</td>\n",
       "      <td>66</td>\n",
       "      <td>2018-11-21</td>\n",
       "      <td>Вологда</td>\n",
       "      <td>Святослав</td>\n",
       "      <td>Бондарев</td>\n",
       "      <td>2018-08-26</td>\n",
       "      <td>smart</td>\n",
       "    </tr>\n",
       "    <tr>\n",
       "      <th>50</th>\n",
       "      <td>1050</td>\n",
       "      <td>44</td>\n",
       "      <td>2018-10-03</td>\n",
       "      <td>Тюмень</td>\n",
       "      <td>Рузана</td>\n",
       "      <td>Аничкина</td>\n",
       "      <td>2018-06-16</td>\n",
       "      <td>ultra</td>\n",
       "    </tr>\n",
       "    <tr>\n",
       "      <th>51</th>\n",
       "      <td>1051</td>\n",
       "      <td>37</td>\n",
       "      <td>2018-10-14</td>\n",
       "      <td>Москва</td>\n",
       "      <td>Кристина</td>\n",
       "      <td>Сомова</td>\n",
       "      <td>2018-05-28</td>\n",
       "      <td>smart</td>\n",
       "    </tr>\n",
       "  </tbody>\n",
       "</table>\n",
       "</div>"
      ],
      "text/plain": [
       "    user_id  age  churn_date     city first_name last_name    reg_date tariff\n",
       "19     1019   63  2018-10-05    Томск    Игнатий   Круглов  2018-05-16  ultra\n",
       "20     1020   59  2018-12-18     Чита       Тала   Костина  2018-10-22  smart\n",
       "34     1034   66  2018-11-21  Вологда  Святослав  Бондарев  2018-08-26  smart\n",
       "50     1050   44  2018-10-03   Тюмень     Рузана  Аничкина  2018-06-16  ultra\n",
       "51     1051   37  2018-10-14   Москва   Кристина    Сомова  2018-05-28  smart"
      ]
     },
     "execution_count": 17,
     "metadata": {},
     "output_type": "execute_result"
    }
   ],
   "source": [
    "#для получения информации о способе записи даты в столбце churn_date выведем на экран строки, для которых значение в этом\n",
    "#столбце не является пропуском\n",
    "df_users[~df_users['churn_date'].isna()].head()"
   ]
  },
  {
   "cell_type": "markdown",
   "id": "e2da157f",
   "metadata": {},
   "source": [
    "Способ записи даты в `churn_date` и в `reg_date` один и тот же: год-месяц-день. Преобразуем данные в указанных столбцах в формат datetime, используя метод библиотеки pandas to_datetime()."
   ]
  },
  {
   "cell_type": "code",
   "execution_count": 18,
   "id": "17693201",
   "metadata": {},
   "outputs": [
    {
     "name": "stdout",
     "output_type": "stream",
     "text": [
      "<class 'pandas.core.frame.DataFrame'>\n",
      "RangeIndex: 500 entries, 0 to 499\n",
      "Data columns (total 8 columns):\n",
      " #   Column      Non-Null Count  Dtype         \n",
      "---  ------      --------------  -----         \n",
      " 0   user_id     500 non-null    int64         \n",
      " 1   age         500 non-null    int64         \n",
      " 2   churn_date  38 non-null     datetime64[ns]\n",
      " 3   city        500 non-null    object        \n",
      " 4   first_name  500 non-null    object        \n",
      " 5   last_name   500 non-null    object        \n",
      " 6   reg_date    500 non-null    datetime64[ns]\n",
      " 7   tariff      500 non-null    object        \n",
      "dtypes: datetime64[ns](2), int64(2), object(4)\n",
      "memory usage: 31.4+ KB\n"
     ]
    }
   ],
   "source": [
    "#приведем данные столбца churn_date к формату datetime\n",
    "df_users['churn_date']=pd.to_datetime(df_users['churn_date'], format='%Y-%m-%d')\n",
    "\n",
    "#приведем данные столбца reg_date к формату datetime\n",
    "df_users['reg_date']=pd.to_datetime(df_users['reg_date'], format='%Y-%m-%d')\n",
    "\n",
    "#проверим результат\n",
    "df_users.info()"
   ]
  },
  {
   "cell_type": "markdown",
   "id": "49cbefb9",
   "metadata": {},
   "source": [
    "### 1.2.2 Поиск аномальных значений в *df_users*"
   ]
  },
  {
   "cell_type": "markdown",
   "id": "375e6fe5",
   "metadata": {},
   "source": [
    "Исходя из [анализа общей информации о датафрейме *df_users*](#concl_df_users), необходимо выполнить поиск аномальных значений в наборе данных:\n",
    "- для анализа данных в столбцах `user_id`, `age` воспользуемся методом describe();\n",
    "- для поиска аномальных значений в столбцах `churn_date` и `reg_date` выявим самую раннюю и самую позднюю записи и убедимся, что полученный результат соответствует 2018 году.\n",
    "- для поиска аномальных значений в столбцах `city` и `tariff` воспользуемся методом unique();\n",
    "- поиск аномалий в столбцах с именем и фамилией пользователя (`first_name` и `last_name` соответственно) выполнять не будем, так как в рамках исследования это не имеет значения."
   ]
  },
  {
   "cell_type": "code",
   "execution_count": 19,
   "id": "30820749",
   "metadata": {},
   "outputs": [
    {
     "data": {
      "text/html": [
       "<div>\n",
       "<style scoped>\n",
       "    .dataframe tbody tr th:only-of-type {\n",
       "        vertical-align: middle;\n",
       "    }\n",
       "\n",
       "    .dataframe tbody tr th {\n",
       "        vertical-align: top;\n",
       "    }\n",
       "\n",
       "    .dataframe thead th {\n",
       "        text-align: right;\n",
       "    }\n",
       "</style>\n",
       "<table border=\"1\" class=\"dataframe\">\n",
       "  <thead>\n",
       "    <tr style=\"text-align: right;\">\n",
       "      <th></th>\n",
       "      <th>user_id</th>\n",
       "      <th>age</th>\n",
       "    </tr>\n",
       "  </thead>\n",
       "  <tbody>\n",
       "    <tr>\n",
       "      <th>count</th>\n",
       "      <td>500.000000</td>\n",
       "      <td>500.00000</td>\n",
       "    </tr>\n",
       "    <tr>\n",
       "      <th>mean</th>\n",
       "      <td>1249.500000</td>\n",
       "      <td>46.58800</td>\n",
       "    </tr>\n",
       "    <tr>\n",
       "      <th>std</th>\n",
       "      <td>144.481833</td>\n",
       "      <td>16.66763</td>\n",
       "    </tr>\n",
       "    <tr>\n",
       "      <th>min</th>\n",
       "      <td>1000.000000</td>\n",
       "      <td>18.00000</td>\n",
       "    </tr>\n",
       "    <tr>\n",
       "      <th>25%</th>\n",
       "      <td>1124.750000</td>\n",
       "      <td>32.00000</td>\n",
       "    </tr>\n",
       "    <tr>\n",
       "      <th>50%</th>\n",
       "      <td>1249.500000</td>\n",
       "      <td>46.00000</td>\n",
       "    </tr>\n",
       "    <tr>\n",
       "      <th>75%</th>\n",
       "      <td>1374.250000</td>\n",
       "      <td>62.00000</td>\n",
       "    </tr>\n",
       "    <tr>\n",
       "      <th>max</th>\n",
       "      <td>1499.000000</td>\n",
       "      <td>75.00000</td>\n",
       "    </tr>\n",
       "  </tbody>\n",
       "</table>\n",
       "</div>"
      ],
      "text/plain": [
       "           user_id        age\n",
       "count   500.000000  500.00000\n",
       "mean   1249.500000   46.58800\n",
       "std     144.481833   16.66763\n",
       "min    1000.000000   18.00000\n",
       "25%    1124.750000   32.00000\n",
       "50%    1249.500000   46.00000\n",
       "75%    1374.250000   62.00000\n",
       "max    1499.000000   75.00000"
      ]
     },
     "execution_count": 19,
     "metadata": {},
     "output_type": "execute_result"
    }
   ],
   "source": [
    "#получим статистическую информацию о столбцах user_id и age\n",
    "df_users.describe()"
   ]
  },
  {
   "cell_type": "markdown",
   "id": "27d41f8d",
   "metadata": {},
   "source": [
    "Аномалий в столбцах `user_id` и `age` не выявлено:\n",
    "- в столбце `user_id` находится 500 значений от 1000 до 1499 включительно;\n",
    "- минимальный возраст пользователя - 18 лет, максимальный - 75 лет, что может соответствовать действительности."
   ]
  },
  {
   "cell_type": "code",
   "execution_count": 20,
   "id": "065eb18c",
   "metadata": {},
   "outputs": [
    {
     "name": "stdout",
     "output_type": "stream",
     "text": [
      "Самая ранняя дата прекращения пользования тарифом: 2018-08-17 00:00:00\n",
      "Самая поздняя дата прекращения пользования тарифом: 2018-12-30 00:00:00\n",
      "Самая ранняя дата подключения: 2018-01-01 00:00:00\n",
      "Самая поздняя дата подключения: 2018-12-31 00:00:00\n"
     ]
    }
   ],
   "source": [
    "#выполним проверку на аномалии для столбца churn_date\n",
    "print('Самая ранняя дата прекращения пользования тарифом:', df_users['churn_date'].min())\n",
    "print('Самая поздняя дата прекращения пользования тарифом:', df_users['churn_date'].max())\n",
    "\n",
    "#выполним проверку на аномалии для столбца reg_date\n",
    "print('Самая ранняя дата подключения:', df_users['reg_date'].min())\n",
    "print('Самая поздняя дата подключения:', df_users['reg_date'].max())"
   ]
  },
  {
   "cell_type": "markdown",
   "id": "31415bc3",
   "metadata": {},
   "source": [
    "Все записи в столбцах `churn_date` и `reg_date` соответствуют 2018 году, аномалий нет."
   ]
  },
  {
   "cell_type": "code",
   "execution_count": 21,
   "id": "20eb5850",
   "metadata": {},
   "outputs": [
    {
     "data": {
      "text/plain": [
       "array(['Архангельск', 'Астрахань', 'Балашиха', 'Барнаул', 'Белгород',\n",
       "       'Брянск', 'Владивосток', 'Владикавказ', 'Владимир', 'Волгоград',\n",
       "       'Волжский', 'Вологда', 'Воронеж', 'Грозный', 'Екатеринбург',\n",
       "       'Иваново', 'Ижевск', 'Иркутск', 'Казань', 'Калининград', 'Калуга',\n",
       "       'Кемерово', 'Киров', 'Кострома', 'Краснодар', 'Красноярск',\n",
       "       'Курган', 'Курск', 'Липецк', 'Магнитогорск', 'Махачкала', 'Москва',\n",
       "       'Мурманск', 'Набережные Челны', 'Нижневартовск', 'Нижний Новгород',\n",
       "       'Нижний Тагил', 'Новокузнецк', 'Новороссийск', 'Новосибирск',\n",
       "       'Омск', 'Оренбург', 'Орёл', 'Пенза', 'Пермь', 'Петрозаводск',\n",
       "       'Подольск', 'Ростов-на-Дону', 'Рязань', 'Самара',\n",
       "       'Санкт-Петербург', 'Саранск', 'Саратов', 'Севастополь', 'Смоленск',\n",
       "       'Сочи', 'Ставрополь', 'Стерлитамак', 'Сургут', 'Тамбов', 'Тверь',\n",
       "       'Тольятти', 'Томск', 'Тула', 'Тюмень', 'Улан-Удэ', 'Ульяновск',\n",
       "       'Уфа', 'Хабаровск', 'Химки', 'Чебоксары', 'Челябинск', 'Череповец',\n",
       "       'Чита', 'Якутск', 'Ярославль'], dtype=object)"
      ]
     },
     "execution_count": 21,
     "metadata": {},
     "output_type": "execute_result"
    }
   ],
   "source": [
    "#выведем на экран уникальные значения столбца city\n",
    "df_users['city'].sort_values().unique()"
   ]
  },
  {
   "cell_type": "code",
   "execution_count": 22,
   "id": "b9bac02f",
   "metadata": {},
   "outputs": [
    {
     "data": {
      "text/plain": [
       "array(['ultra', 'smart'], dtype=object)"
      ]
     },
     "execution_count": 22,
     "metadata": {},
     "output_type": "execute_result"
    }
   ],
   "source": [
    "#выведем на экран уникальные значения столбца tariff\n",
    "df_users['tariff'].unique()"
   ]
  },
  {
   "cell_type": "markdown",
   "id": "5a0df520",
   "metadata": {},
   "source": [
    "Аномальных значений (и неявных дубликатов) в столбцах `city` и `tariff` не обнаружено."
   ]
  },
  {
   "cell_type": "markdown",
   "id": "8a8522b5",
   "metadata": {},
   "source": [
    "### 1.2.3 Поиск дубликатов в *df_users*"
   ]
  },
  {
   "cell_type": "markdown",
   "id": "173f7f13",
   "metadata": {},
   "source": [
    "На этапе поиска аномальных значений было выявлено, что неявные дубликаты в столбцах `city` и `tariff` отсутствуют. Проверим, есть ли дубликаты в столбце `user_id`."
   ]
  },
  {
   "cell_type": "code",
   "execution_count": 23,
   "id": "6d75a335",
   "metadata": {},
   "outputs": [
    {
     "name": "stdout",
     "output_type": "stream",
     "text": [
      "Уникальных значений в user_id: 500\n"
     ]
    }
   ],
   "source": [
    "#проверим количество уникальных значений в `user_id`\n",
    "print('Уникальных значений в user_id:', len(df_users['user_id'].unique()))"
   ]
  },
  {
   "cell_type": "markdown",
   "id": "a4ea70bf",
   "metadata": {},
   "source": [
    "Количество уникальных значений в `user_id` соответствует количеству строк *df_users*. Соответственно, дубликатов в `user_id` нет, и каждому пользователю соответствует свой id (конечно, может возникнуть ситуация, при которой одному пользователю назначены два разных id, но информации для проверки такой ошибки недостаточно. Примем, что никаких сбоев в системе не возникло). Так как нет дубликатов в `user_id`, строки-дубликаты также отсутствуют."
   ]
  },
  {
   "cell_type": "markdown",
   "id": "df37fe65",
   "metadata": {},
   "source": [
    "## 1.3 Предобработка данных датафрейма *df_calls*"
   ]
  },
  {
   "cell_type": "markdown",
   "id": "83a844a6",
   "metadata": {},
   "source": [
    "### 1.3.1 Изменение типов данных датафрейма *df_calls*"
   ]
  },
  {
   "cell_type": "markdown",
   "id": "fd7d67a4",
   "metadata": {},
   "source": [
    "Исходя из [анализа общей информации о датафрейме *df_calls*](#concl_df_calls), данные столбца `call_date` необходимо привести к типу datetime."
   ]
  },
  {
   "cell_type": "code",
   "execution_count": 24,
   "id": "e3a6e88c",
   "metadata": {},
   "outputs": [
    {
     "name": "stdout",
     "output_type": "stream",
     "text": [
      "<class 'pandas.core.frame.DataFrame'>\n",
      "RangeIndex: 202607 entries, 0 to 202606\n",
      "Data columns (total 4 columns):\n",
      " #   Column     Non-Null Count   Dtype         \n",
      "---  ------     --------------   -----         \n",
      " 0   id         202607 non-null  object        \n",
      " 1   call_date  202607 non-null  datetime64[ns]\n",
      " 2   duration   202607 non-null  float64       \n",
      " 3   user_id    202607 non-null  int64         \n",
      "dtypes: datetime64[ns](1), float64(1), int64(1), object(1)\n",
      "memory usage: 6.2+ MB\n"
     ]
    }
   ],
   "source": [
    "#приведем данные столбца call_date к формату datetime\n",
    "df_calls['call_date']=pd.to_datetime(df_calls['call_date'], format='%Y-%m-%d')\n",
    "\n",
    "#проверим результат\n",
    "df_calls.info()"
   ]
  },
  {
   "cell_type": "markdown",
   "id": "47695b41",
   "metadata": {},
   "source": [
    "Формат данных столбца `call_date` успешно изменен."
   ]
  },
  {
   "cell_type": "markdown",
   "id": "e962db90",
   "metadata": {},
   "source": [
    "### 1.3.2 Поиск аномальных значений в *df_calls*"
   ]
  },
  {
   "cell_type": "markdown",
   "id": "054ed75c",
   "metadata": {},
   "source": [
    "- для анализа значений в столбцах `duration` и `user_id` воспользуемся методом describe();\n",
    "- для поиска аномалий в столбце `call_date` наидем самый ранний и самый поздний звонок. Они должны соответствовать 2018 году.\n",
    "- поиск аномалий в столбце `id` выполнять не будем, так как в дальнейших операциях эта информация не имеет значения."
   ]
  },
  {
   "cell_type": "code",
   "execution_count": 25,
   "id": "3e7ea3ab",
   "metadata": {},
   "outputs": [
    {
     "data": {
      "text/html": [
       "<div>\n",
       "<style scoped>\n",
       "    .dataframe tbody tr th:only-of-type {\n",
       "        vertical-align: middle;\n",
       "    }\n",
       "\n",
       "    .dataframe tbody tr th {\n",
       "        vertical-align: top;\n",
       "    }\n",
       "\n",
       "    .dataframe thead th {\n",
       "        text-align: right;\n",
       "    }\n",
       "</style>\n",
       "<table border=\"1\" class=\"dataframe\">\n",
       "  <thead>\n",
       "    <tr style=\"text-align: right;\">\n",
       "      <th></th>\n",
       "      <th>duration</th>\n",
       "      <th>user_id</th>\n",
       "    </tr>\n",
       "  </thead>\n",
       "  <tbody>\n",
       "    <tr>\n",
       "      <th>count</th>\n",
       "      <td>202607.000000</td>\n",
       "      <td>202607.000000</td>\n",
       "    </tr>\n",
       "    <tr>\n",
       "      <th>mean</th>\n",
       "      <td>6.755887</td>\n",
       "      <td>1253.940619</td>\n",
       "    </tr>\n",
       "    <tr>\n",
       "      <th>std</th>\n",
       "      <td>5.843365</td>\n",
       "      <td>144.722751</td>\n",
       "    </tr>\n",
       "    <tr>\n",
       "      <th>min</th>\n",
       "      <td>0.000000</td>\n",
       "      <td>1000.000000</td>\n",
       "    </tr>\n",
       "    <tr>\n",
       "      <th>25%</th>\n",
       "      <td>1.300000</td>\n",
       "      <td>1126.000000</td>\n",
       "    </tr>\n",
       "    <tr>\n",
       "      <th>50%</th>\n",
       "      <td>6.000000</td>\n",
       "      <td>1260.000000</td>\n",
       "    </tr>\n",
       "    <tr>\n",
       "      <th>75%</th>\n",
       "      <td>10.700000</td>\n",
       "      <td>1379.000000</td>\n",
       "    </tr>\n",
       "    <tr>\n",
       "      <th>max</th>\n",
       "      <td>38.000000</td>\n",
       "      <td>1499.000000</td>\n",
       "    </tr>\n",
       "  </tbody>\n",
       "</table>\n",
       "</div>"
      ],
      "text/plain": [
       "            duration        user_id\n",
       "count  202607.000000  202607.000000\n",
       "mean        6.755887    1253.940619\n",
       "std         5.843365     144.722751\n",
       "min         0.000000    1000.000000\n",
       "25%         1.300000    1126.000000\n",
       "50%         6.000000    1260.000000\n",
       "75%        10.700000    1379.000000\n",
       "max        38.000000    1499.000000"
      ]
     },
     "execution_count": 25,
     "metadata": {},
     "output_type": "execute_result"
    }
   ],
   "source": [
    "#получим статистическую информацию о столбцах duration и  user_id\n",
    "df_calls.describe()"
   ]
  },
  {
   "cell_type": "markdown",
   "id": "0e8db21e",
   "metadata": {},
   "source": [
    "Минимальная продолжительность разговора соответствует 0 минутам - пропущенный вызов, максимальная - 38 минутам, что может соответствовать действительности. Минимальное значений user_id: 1000, максимальное: 1499, что соответствует значениям `df_users['user_id']`. Аномалий нет."
   ]
  },
  {
   "cell_type": "code",
   "execution_count": 26,
   "id": "d4e9086d",
   "metadata": {},
   "outputs": [
    {
     "name": "stdout",
     "output_type": "stream",
     "text": [
      "Самая ранняя дата совершения звонка: 2018-01-01 00:00:00\n",
      "Самая поздняя дата совершения звонка: 2018-12-31 00:00:00\n"
     ]
    }
   ],
   "source": [
    "#выполним проверку на аномалии для столбца call_date\n",
    "print('Самая ранняя дата совершения звонка:', df_calls['call_date'].min())\n",
    "print('Самая поздняя дата совершения звонка:', df_calls['call_date'].max())"
   ]
  },
  {
   "cell_type": "markdown",
   "id": "702401ca",
   "metadata": {},
   "source": [
    "Все звонки в *df_calls* соответствуют 2018 году. Аномалий нет."
   ]
  },
  {
   "cell_type": "markdown",
   "id": "2d79be1e",
   "metadata": {},
   "source": [
    "### 1.3.3 Поиск дубликатов в *df_calls*"
   ]
  },
  {
   "cell_type": "markdown",
   "id": "0da884fc",
   "metadata": {},
   "source": [
    "Так как содержащиеся в df_calls данные не предполагают наличия неявных дубликатов, сразу выполним проверку на наличие полных дубликатов:"
   ]
  },
  {
   "cell_type": "code",
   "execution_count": 27,
   "id": "02c2352c",
   "metadata": {},
   "outputs": [
    {
     "name": "stdout",
     "output_type": "stream",
     "text": [
      "Полных дубликатов в df_calls: 0\n"
     ]
    }
   ],
   "source": [
    "print('Полных дубликатов в df_calls:', df_calls.duplicated().sum())"
   ]
  },
  {
   "cell_type": "markdown",
   "id": "a27d0d38",
   "metadata": {},
   "source": [
    "Дубликаты в *df_calls* отсутствуют."
   ]
  },
  {
   "cell_type": "markdown",
   "id": "e7106f89",
   "metadata": {},
   "source": [
    "### 1.3.4 Округление продолжительности звонков до минут"
   ]
  },
  {
   "cell_type": "markdown",
   "id": "1db07cae",
   "metadata": {},
   "source": [
    "Согласно заданиию на проект, компания \"Мегалайн\" округляет продолжительность звонков до минут. Так как в столбце `duration` длительность звонков приведена в долях минут, округлим длительность звонков до целых минут в большую сторону (так как 1 секунда при звонке округляется до минуты). Результат сохраним в новый столбец."
   ]
  },
  {
   "cell_type": "code",
   "execution_count": 28,
   "id": "16ff6ea0",
   "metadata": {
    "scrolled": true
   },
   "outputs": [
    {
     "data": {
      "text/html": [
       "<div>\n",
       "<style scoped>\n",
       "    .dataframe tbody tr th:only-of-type {\n",
       "        vertical-align: middle;\n",
       "    }\n",
       "\n",
       "    .dataframe tbody tr th {\n",
       "        vertical-align: top;\n",
       "    }\n",
       "\n",
       "    .dataframe thead th {\n",
       "        text-align: right;\n",
       "    }\n",
       "</style>\n",
       "<table border=\"1\" class=\"dataframe\">\n",
       "  <thead>\n",
       "    <tr style=\"text-align: right;\">\n",
       "      <th></th>\n",
       "      <th>id</th>\n",
       "      <th>call_date</th>\n",
       "      <th>duration</th>\n",
       "      <th>user_id</th>\n",
       "      <th>durations_minutes</th>\n",
       "    </tr>\n",
       "  </thead>\n",
       "  <tbody>\n",
       "    <tr>\n",
       "      <th>0</th>\n",
       "      <td>1000_0</td>\n",
       "      <td>2018-07-25</td>\n",
       "      <td>0.00</td>\n",
       "      <td>1000</td>\n",
       "      <td>0.0</td>\n",
       "    </tr>\n",
       "    <tr>\n",
       "      <th>1</th>\n",
       "      <td>1000_1</td>\n",
       "      <td>2018-08-17</td>\n",
       "      <td>0.00</td>\n",
       "      <td>1000</td>\n",
       "      <td>0.0</td>\n",
       "    </tr>\n",
       "    <tr>\n",
       "      <th>2</th>\n",
       "      <td>1000_2</td>\n",
       "      <td>2018-06-11</td>\n",
       "      <td>2.85</td>\n",
       "      <td>1000</td>\n",
       "      <td>3.0</td>\n",
       "    </tr>\n",
       "    <tr>\n",
       "      <th>3</th>\n",
       "      <td>1000_3</td>\n",
       "      <td>2018-09-21</td>\n",
       "      <td>13.80</td>\n",
       "      <td>1000</td>\n",
       "      <td>14.0</td>\n",
       "    </tr>\n",
       "    <tr>\n",
       "      <th>4</th>\n",
       "      <td>1000_4</td>\n",
       "      <td>2018-12-15</td>\n",
       "      <td>5.18</td>\n",
       "      <td>1000</td>\n",
       "      <td>6.0</td>\n",
       "    </tr>\n",
       "    <tr>\n",
       "      <th>5</th>\n",
       "      <td>1000_5</td>\n",
       "      <td>2018-11-02</td>\n",
       "      <td>0.00</td>\n",
       "      <td>1000</td>\n",
       "      <td>0.0</td>\n",
       "    </tr>\n",
       "    <tr>\n",
       "      <th>6</th>\n",
       "      <td>1000_6</td>\n",
       "      <td>2018-10-18</td>\n",
       "      <td>0.00</td>\n",
       "      <td>1000</td>\n",
       "      <td>0.0</td>\n",
       "    </tr>\n",
       "    <tr>\n",
       "      <th>7</th>\n",
       "      <td>1000_7</td>\n",
       "      <td>2018-08-22</td>\n",
       "      <td>18.31</td>\n",
       "      <td>1000</td>\n",
       "      <td>19.0</td>\n",
       "    </tr>\n",
       "    <tr>\n",
       "      <th>8</th>\n",
       "      <td>1000_8</td>\n",
       "      <td>2018-09-15</td>\n",
       "      <td>18.44</td>\n",
       "      <td>1000</td>\n",
       "      <td>19.0</td>\n",
       "    </tr>\n",
       "    <tr>\n",
       "      <th>9</th>\n",
       "      <td>1000_9</td>\n",
       "      <td>2018-08-15</td>\n",
       "      <td>0.00</td>\n",
       "      <td>1000</td>\n",
       "      <td>0.0</td>\n",
       "    </tr>\n",
       "  </tbody>\n",
       "</table>\n",
       "</div>"
      ],
      "text/plain": [
       "       id  call_date  duration  user_id  durations_minutes\n",
       "0  1000_0 2018-07-25      0.00     1000                0.0\n",
       "1  1000_1 2018-08-17      0.00     1000                0.0\n",
       "2  1000_2 2018-06-11      2.85     1000                3.0\n",
       "3  1000_3 2018-09-21     13.80     1000               14.0\n",
       "4  1000_4 2018-12-15      5.18     1000                6.0\n",
       "5  1000_5 2018-11-02      0.00     1000                0.0\n",
       "6  1000_6 2018-10-18      0.00     1000                0.0\n",
       "7  1000_7 2018-08-22     18.31     1000               19.0\n",
       "8  1000_8 2018-09-15     18.44     1000               19.0\n",
       "9  1000_9 2018-08-15      0.00     1000                0.0"
      ]
     },
     "execution_count": 28,
     "metadata": {},
     "output_type": "execute_result"
    }
   ],
   "source": [
    "#округлим значения столбца duration в большую сторону и сохраним результат в новый столбцец\n",
    "df_calls['durations_minutes']=df_calls['duration'].apply(np.ceil)\n",
    "\n",
    "#проверим результат\n",
    "df_calls.head(10)"
   ]
  },
  {
   "cell_type": "markdown",
   "id": "112cd03c",
   "metadata": {},
   "source": [
    "Функция округления сработала корректно. Проверим тип данных нового столбца:"
   ]
  },
  {
   "cell_type": "code",
   "execution_count": 29,
   "id": "94d87bee",
   "metadata": {
    "scrolled": true
   },
   "outputs": [
    {
     "name": "stdout",
     "output_type": "stream",
     "text": [
      "<class 'pandas.core.frame.DataFrame'>\n",
      "RangeIndex: 202607 entries, 0 to 202606\n",
      "Data columns (total 5 columns):\n",
      " #   Column             Non-Null Count   Dtype         \n",
      "---  ------             --------------   -----         \n",
      " 0   id                 202607 non-null  object        \n",
      " 1   call_date          202607 non-null  datetime64[ns]\n",
      " 2   duration           202607 non-null  float64       \n",
      " 3   user_id            202607 non-null  int64         \n",
      " 4   durations_minutes  202607 non-null  float64       \n",
      "dtypes: datetime64[ns](1), float64(2), int64(1), object(1)\n",
      "memory usage: 7.7+ MB\n"
     ]
    }
   ],
   "source": [
    "df_calls.info()"
   ]
  },
  {
   "cell_type": "markdown",
   "id": "73895937",
   "metadata": {},
   "source": [
    "Формат нового столбца `duration_minutes` float64. Переведем его в тип данных `'int'`:"
   ]
  },
  {
   "cell_type": "code",
   "execution_count": 30,
   "id": "086eb39f",
   "metadata": {},
   "outputs": [
    {
     "name": "stdout",
     "output_type": "stream",
     "text": [
      "<class 'pandas.core.frame.DataFrame'>\n",
      "RangeIndex: 202607 entries, 0 to 202606\n",
      "Data columns (total 5 columns):\n",
      " #   Column             Non-Null Count   Dtype         \n",
      "---  ------             --------------   -----         \n",
      " 0   id                 202607 non-null  object        \n",
      " 1   call_date          202607 non-null  datetime64[ns]\n",
      " 2   duration           202607 non-null  float64       \n",
      " 3   user_id            202607 non-null  int64         \n",
      " 4   durations_minutes  202607 non-null  int64         \n",
      "dtypes: datetime64[ns](1), float64(1), int64(2), object(1)\n",
      "memory usage: 7.7+ MB\n"
     ]
    }
   ],
   "source": [
    "df_calls['durations_minutes']=df_calls['durations_minutes'].astype('int')\n",
    "\n",
    "#проверим результат\n",
    "df_calls.info()"
   ]
  },
  {
   "cell_type": "markdown",
   "id": "2ca934cd",
   "metadata": {},
   "source": [
    "Формат столбца `duration_minutes` изменен на `int`."
   ]
  },
  {
   "cell_type": "markdown",
   "id": "7961ae9e",
   "metadata": {},
   "source": [
    "## 1.4 Предобработка данных датафрейма *df_messages*"
   ]
  },
  {
   "cell_type": "markdown",
   "id": "977b89aa",
   "metadata": {},
   "source": [
    "### 1.4.1 Изменение типов данных датафрейма *df_messages*"
   ]
  },
  {
   "cell_type": "markdown",
   "id": "0205459f",
   "metadata": {},
   "source": [
    "Исходя из [анализа общей информации о датафрейме *df_messages*](#concl_df_messages), данные столбца `message_date` необходимо привести к типу datetime."
   ]
  },
  {
   "cell_type": "code",
   "execution_count": 31,
   "id": "1a893756",
   "metadata": {},
   "outputs": [
    {
     "name": "stdout",
     "output_type": "stream",
     "text": [
      "<class 'pandas.core.frame.DataFrame'>\n",
      "RangeIndex: 123036 entries, 0 to 123035\n",
      "Data columns (total 3 columns):\n",
      " #   Column        Non-Null Count   Dtype         \n",
      "---  ------        --------------   -----         \n",
      " 0   id            123036 non-null  object        \n",
      " 1   message_date  123036 non-null  datetime64[ns]\n",
      " 2   user_id       123036 non-null  int64         \n",
      "dtypes: datetime64[ns](1), int64(1), object(1)\n",
      "memory usage: 2.8+ MB\n"
     ]
    }
   ],
   "source": [
    "#приведем данные столбца call_date к формату datetime\n",
    "df_messages['message_date']=pd.to_datetime(df_messages['message_date'], format='%Y-%m-%d')\n",
    "\n",
    "#проверим результат\n",
    "df_messages.info()"
   ]
  },
  {
   "cell_type": "markdown",
   "id": "0fb07a24",
   "metadata": {},
   "source": [
    "Формат данных столбца `message_date` успешно изменен."
   ]
  },
  {
   "cell_type": "markdown",
   "id": "6fa49648",
   "metadata": {},
   "source": [
    "### 1.4.2 Поиск аномальных значений в *df_messages*"
   ]
  },
  {
   "cell_type": "markdown",
   "id": "50d2d12a",
   "metadata": {},
   "source": [
    "- для анализа значений `user_id` воспользуемся методом describe();\n",
    "- для поиска аномалий в столбце `message_date` наидем самую раннюю и самую позднюю sms. Они должны соответствовать 2018 году;\n",
    "- поиск аномалий в столбце `id` выполнять не будем, так как в дальнейших операциях эта информация не имеет значения."
   ]
  },
  {
   "cell_type": "code",
   "execution_count": 32,
   "id": "91fa5463",
   "metadata": {},
   "outputs": [
    {
     "data": {
      "text/html": [
       "<div>\n",
       "<style scoped>\n",
       "    .dataframe tbody tr th:only-of-type {\n",
       "        vertical-align: middle;\n",
       "    }\n",
       "\n",
       "    .dataframe tbody tr th {\n",
       "        vertical-align: top;\n",
       "    }\n",
       "\n",
       "    .dataframe thead th {\n",
       "        text-align: right;\n",
       "    }\n",
       "</style>\n",
       "<table border=\"1\" class=\"dataframe\">\n",
       "  <thead>\n",
       "    <tr style=\"text-align: right;\">\n",
       "      <th></th>\n",
       "      <th>user_id</th>\n",
       "    </tr>\n",
       "  </thead>\n",
       "  <tbody>\n",
       "    <tr>\n",
       "      <th>count</th>\n",
       "      <td>123036.000000</td>\n",
       "    </tr>\n",
       "    <tr>\n",
       "      <th>mean</th>\n",
       "      <td>1256.989410</td>\n",
       "    </tr>\n",
       "    <tr>\n",
       "      <th>std</th>\n",
       "      <td>143.523967</td>\n",
       "    </tr>\n",
       "    <tr>\n",
       "      <th>min</th>\n",
       "      <td>1000.000000</td>\n",
       "    </tr>\n",
       "    <tr>\n",
       "      <th>25%</th>\n",
       "      <td>1134.000000</td>\n",
       "    </tr>\n",
       "    <tr>\n",
       "      <th>50%</th>\n",
       "      <td>1271.000000</td>\n",
       "    </tr>\n",
       "    <tr>\n",
       "      <th>75%</th>\n",
       "      <td>1381.000000</td>\n",
       "    </tr>\n",
       "    <tr>\n",
       "      <th>max</th>\n",
       "      <td>1499.000000</td>\n",
       "    </tr>\n",
       "  </tbody>\n",
       "</table>\n",
       "</div>"
      ],
      "text/plain": [
       "             user_id\n",
       "count  123036.000000\n",
       "mean     1256.989410\n",
       "std       143.523967\n",
       "min      1000.000000\n",
       "25%      1134.000000\n",
       "50%      1271.000000\n",
       "75%      1381.000000\n",
       "max      1499.000000"
      ]
     },
     "execution_count": 32,
     "metadata": {},
     "output_type": "execute_result"
    }
   ],
   "source": [
    "#получим статистическую информацию о столбце user_id\n",
    "df_messages.describe()"
   ]
  },
  {
   "cell_type": "markdown",
   "id": "2c3fec50",
   "metadata": {},
   "source": [
    "Минимальное значений user_id: 1000, максимальное: 1499, что соответствует значениям `df_users['user_id']`. Аномалий нет."
   ]
  },
  {
   "cell_type": "code",
   "execution_count": 33,
   "id": "051646a8",
   "metadata": {},
   "outputs": [
    {
     "name": "stdout",
     "output_type": "stream",
     "text": [
      "Самая ранняя дата отправления sms: 2018-01-02 00:00:00\n",
      "Самая поздняя дата отправления sms: 2018-12-31 00:00:00\n"
     ]
    }
   ],
   "source": [
    "#выполним проверку на аномалии для столбца message_date\n",
    "print('Самая ранняя дата отправления sms:', df_messages['message_date'].min())\n",
    "print('Самая поздняя дата отправления sms:', df_messages['message_date'].max())"
   ]
  },
  {
   "cell_type": "markdown",
   "id": "6dd4402c",
   "metadata": {},
   "source": [
    "Все даты отправления sms-сообщений соответствуют 2018 году. Аномалий нет."
   ]
  },
  {
   "cell_type": "markdown",
   "id": "47fbfddf",
   "metadata": {},
   "source": [
    "### 1.4.3 Поиск дубликатов в *df_messages*"
   ]
  },
  {
   "cell_type": "markdown",
   "id": "2feb4c18",
   "metadata": {},
   "source": [
    "Так как содержащиеся в df_messages данные не предполагают наличия неявных дубликатов, сразу выполним проверку на наличие полных дубликатов:"
   ]
  },
  {
   "cell_type": "code",
   "execution_count": 34,
   "id": "c78535aa",
   "metadata": {
    "scrolled": true
   },
   "outputs": [
    {
     "name": "stdout",
     "output_type": "stream",
     "text": [
      "Полных дубликатов в df_messages: 0\n"
     ]
    }
   ],
   "source": [
    "print('Полных дубликатов в df_messages:', df_messages.duplicated().sum())"
   ]
  },
  {
   "cell_type": "markdown",
   "id": "3051592e",
   "metadata": {},
   "source": [
    "Полные дубликаты в *df_messages* отсутствуют."
   ]
  },
  {
   "cell_type": "markdown",
   "id": "e61f57bb",
   "metadata": {},
   "source": [
    "## 1.5 Предобработка данных датафрейма *df_internet*"
   ]
  },
  {
   "cell_type": "markdown",
   "id": "00bfe771",
   "metadata": {},
   "source": [
    "### 1.5.1 Изменение типов данных в *df_internet*"
   ]
  },
  {
   "cell_type": "markdown",
   "id": "4b7ab542",
   "metadata": {},
   "source": [
    "Исходя из [анализа общей информации о датафрейме *df_internet*](#concl_df_internet), данные столбца `session_date` необходимо привести к типу datetime."
   ]
  },
  {
   "cell_type": "code",
   "execution_count": 35,
   "id": "f6eb2c0d",
   "metadata": {},
   "outputs": [
    {
     "name": "stdout",
     "output_type": "stream",
     "text": [
      "<class 'pandas.core.frame.DataFrame'>\n",
      "RangeIndex: 149396 entries, 0 to 149395\n",
      "Data columns (total 5 columns):\n",
      " #   Column        Non-Null Count   Dtype         \n",
      "---  ------        --------------   -----         \n",
      " 0   Unnamed: 0    149396 non-null  int64         \n",
      " 1   id            149396 non-null  object        \n",
      " 2   mb_used       149396 non-null  float64       \n",
      " 3   session_date  149396 non-null  datetime64[ns]\n",
      " 4   user_id       149396 non-null  int64         \n",
      "dtypes: datetime64[ns](1), float64(1), int64(2), object(1)\n",
      "memory usage: 5.7+ MB\n"
     ]
    }
   ],
   "source": [
    "#приведем данные столбца session_date к формату datetime\n",
    "df_internet['session_date']=pd.to_datetime(df_internet['session_date'], format='%Y-%m-%d')\n",
    "\n",
    "#проверим результат\n",
    "df_internet.info()"
   ]
  },
  {
   "cell_type": "markdown",
   "id": "7c5a021c",
   "metadata": {},
   "source": [
    "Тип данных столбца `session_date` успешно изменен."
   ]
  },
  {
   "cell_type": "markdown",
   "id": "06607b1d",
   "metadata": {},
   "source": [
    "### 1.5.2 Поиск аномальных значений в *df_internet*"
   ]
  },
  {
   "cell_type": "markdown",
   "id": "12bb9b0e",
   "metadata": {},
   "source": [
    "- для анализа значений `user_id`, `mb_used` воспользуемся методом describe();\n",
    "- для поиска аномалий в столбце `session_date` наидем самую раннюю и самую позднюю интернет-сессию. Они должны соответствовать 2018 году;\n",
    "- поиск аномалий в столбце `id` выполнять не будем, так как в дальнейших операциях эта информация не имеет значения."
   ]
  },
  {
   "cell_type": "code",
   "execution_count": 36,
   "id": "43de696b",
   "metadata": {},
   "outputs": [
    {
     "data": {
      "text/html": [
       "<div>\n",
       "<style scoped>\n",
       "    .dataframe tbody tr th:only-of-type {\n",
       "        vertical-align: middle;\n",
       "    }\n",
       "\n",
       "    .dataframe tbody tr th {\n",
       "        vertical-align: top;\n",
       "    }\n",
       "\n",
       "    .dataframe thead th {\n",
       "        text-align: right;\n",
       "    }\n",
       "</style>\n",
       "<table border=\"1\" class=\"dataframe\">\n",
       "  <thead>\n",
       "    <tr style=\"text-align: right;\">\n",
       "      <th></th>\n",
       "      <th>Unnamed: 0</th>\n",
       "      <th>mb_used</th>\n",
       "      <th>user_id</th>\n",
       "    </tr>\n",
       "  </thead>\n",
       "  <tbody>\n",
       "    <tr>\n",
       "      <th>count</th>\n",
       "      <td>149396.000000</td>\n",
       "      <td>149396.000000</td>\n",
       "      <td>149396.000000</td>\n",
       "    </tr>\n",
       "    <tr>\n",
       "      <th>mean</th>\n",
       "      <td>74697.500000</td>\n",
       "      <td>370.192426</td>\n",
       "      <td>1252.099842</td>\n",
       "    </tr>\n",
       "    <tr>\n",
       "      <th>std</th>\n",
       "      <td>43127.054745</td>\n",
       "      <td>278.300951</td>\n",
       "      <td>144.050823</td>\n",
       "    </tr>\n",
       "    <tr>\n",
       "      <th>min</th>\n",
       "      <td>0.000000</td>\n",
       "      <td>0.000000</td>\n",
       "      <td>1000.000000</td>\n",
       "    </tr>\n",
       "    <tr>\n",
       "      <th>25%</th>\n",
       "      <td>37348.750000</td>\n",
       "      <td>138.187500</td>\n",
       "      <td>1130.000000</td>\n",
       "    </tr>\n",
       "    <tr>\n",
       "      <th>50%</th>\n",
       "      <td>74697.500000</td>\n",
       "      <td>348.015000</td>\n",
       "      <td>1251.000000</td>\n",
       "    </tr>\n",
       "    <tr>\n",
       "      <th>75%</th>\n",
       "      <td>112046.250000</td>\n",
       "      <td>559.552500</td>\n",
       "      <td>1380.000000</td>\n",
       "    </tr>\n",
       "    <tr>\n",
       "      <th>max</th>\n",
       "      <td>149395.000000</td>\n",
       "      <td>1724.830000</td>\n",
       "      <td>1499.000000</td>\n",
       "    </tr>\n",
       "  </tbody>\n",
       "</table>\n",
       "</div>"
      ],
      "text/plain": [
       "          Unnamed: 0        mb_used        user_id\n",
       "count  149396.000000  149396.000000  149396.000000\n",
       "mean    74697.500000     370.192426    1252.099842\n",
       "std     43127.054745     278.300951     144.050823\n",
       "min         0.000000       0.000000    1000.000000\n",
       "25%     37348.750000     138.187500    1130.000000\n",
       "50%     74697.500000     348.015000    1251.000000\n",
       "75%    112046.250000     559.552500    1380.000000\n",
       "max    149395.000000    1724.830000    1499.000000"
      ]
     },
     "execution_count": 36,
     "metadata": {},
     "output_type": "execute_result"
    }
   ],
   "source": [
    "#получим статистическую информацию о столбцах user_id и mb_used\n",
    "df_internet.describe()"
   ]
  },
  {
   "cell_type": "markdown",
   "id": "09d6c5be",
   "metadata": {},
   "source": [
    "Минимальное количество траффика составляет 0 Мб, максимальное - 1.7 Гб. Аномальные значения в `mb_used` отсутствуют. Минимальное значений user_id: 1000, максимальное: 1499, что соответствует значениям `df_users['user_id']`. Аномалий нет."
   ]
  },
  {
   "cell_type": "code",
   "execution_count": 37,
   "id": "1460baf8",
   "metadata": {},
   "outputs": [
    {
     "name": "stdout",
     "output_type": "stream",
     "text": [
      "Самая ранняя дата интернет-сессии: 2018-01-01 00:00:00\n",
      "Самая поздняя дата интернет-сессии: 2018-12-31 00:00:00\n"
     ]
    }
   ],
   "source": [
    "#выполним проверку на аномалии для столбца session_date\n",
    "print('Самая ранняя дата интернет-сессии:', df_internet['session_date'].min())\n",
    "print('Самая поздняя дата интернет-сессии:', df_internet['session_date'].max())"
   ]
  },
  {
   "cell_type": "markdown",
   "id": "501feb9d",
   "metadata": {},
   "source": [
    "Даты всех интернет-сессий соответствуют 2018 году. Аномалий нет."
   ]
  },
  {
   "cell_type": "markdown",
   "id": "04580c8a",
   "metadata": {},
   "source": [
    "### 1.5.3 Поиск дубликатов в *df_internet*"
   ]
  },
  {
   "cell_type": "markdown",
   "id": "3ac1c101",
   "metadata": {},
   "source": [
    "Так как содержащиеся в df_internet данные не предполагают наличия неявных дубликатов, сразу выполним проверку на наличие полных дубликатов:"
   ]
  },
  {
   "cell_type": "code",
   "execution_count": 38,
   "id": "baeb8b5a",
   "metadata": {},
   "outputs": [
    {
     "name": "stdout",
     "output_type": "stream",
     "text": [
      "Полных дубликатов в df_internet: 0\n"
     ]
    }
   ],
   "source": [
    "print('Полных дубликатов в df_internet:', df_internet.duplicated().sum())"
   ]
  },
  {
   "cell_type": "markdown",
   "id": "0a7d2c72",
   "metadata": {},
   "source": [
    "Полные дубликаты в *df_internet* отсутствуют."
   ]
  },
  {
   "cell_type": "markdown",
   "id": "5d562da6",
   "metadata": {},
   "source": [
    "### 1.5.4 Удаление столбца *df_internet['Unnamed: 0']*"
   ]
  },
  {
   "cell_type": "markdown",
   "id": "f5768cb8",
   "metadata": {},
   "source": [
    "На этапе [анализа общей информации о датафрейме *df_internet*](#concl_df_internet) было выявлено, что *df_internet* содержит лишний столбец `Unnamed: 0`. Вероятно, этот столбец возник при выгрузке данных об абонентах и соответствует индексам строк датафрейма. \n",
    "\n",
    "В пункте 1.5.2 (при получении статистической информации о `mb_used` и `user_id`) было выявлено, что минимальному значению столбца `Unnamed: 0` соответствует 0, максимальному - 149395 (максимальный индекс строки). Если предположение, что значения столбца `Unnamed: 0` соответствуют индексам строк, верно, то в данном столбце нет ни одного дубликата. Проверим:"
   ]
  },
  {
   "cell_type": "code",
   "execution_count": 39,
   "id": "10008d02",
   "metadata": {},
   "outputs": [
    {
     "data": {
      "text/plain": [
       "149396"
      ]
     },
     "execution_count": 39,
     "metadata": {},
     "output_type": "execute_result"
    }
   ],
   "source": [
    "len(df_internet['Unnamed: 0'].unique())"
   ]
  },
  {
   "cell_type": "markdown",
   "id": "f239beb1",
   "metadata": {},
   "source": [
    "Количество уникальных значений в  `Unnamed: 0` соответствует количеству строк в содержащем его датафрейме. Предположение верно, столбец можно удалить."
   ]
  },
  {
   "cell_type": "code",
   "execution_count": 40,
   "id": "0ecf15f0",
   "metadata": {},
   "outputs": [
    {
     "data": {
      "text/plain": [
       "Index(['id', 'mb_used', 'session_date', 'user_id'], dtype='object')"
      ]
     },
     "execution_count": 40,
     "metadata": {},
     "output_type": "execute_result"
    }
   ],
   "source": [
    "#удалим столбец Unnamed: 0\n",
    "df_internet.pop('Unnamed: 0')\n",
    "\n",
    "#проверим результат\n",
    "df_internet.columns"
   ]
  },
  {
   "cell_type": "markdown",
   "id": "c0ab5180",
   "metadata": {},
   "source": [
    "Лишний столбец в *df_internet* удален."
   ]
  },
  {
   "cell_type": "markdown",
   "id": "d736d6bc",
   "metadata": {},
   "source": [
    "<div class=\"alert-success\"> \n",
    "<b>Комментарий ревьюера 👍</b> Все необходимые пункты в шаге выполнены :)"
   ]
  },
  {
   "cell_type": "markdown",
   "id": "3ed61563",
   "metadata": {},
   "source": [
    "# 2. Расчет ежемесячных показателей для каждого пользователя"
   ]
  },
  {
   "cell_type": "markdown",
   "id": "0ad08a37",
   "metadata": {},
   "source": [
    "Согласно заданию на проект, для каждого пользователя необходимо рассчитать:\n",
    "- количество звонков и израсходованных минут разговора по месяцам;\n",
    "- количество отправленных сообщений по месяцам;\n",
    "- ежемесячный объем израсходованного интернет-трафика;\n",
    "- ежемесячную выручку с каждого пользователя.\n",
    "\n",
    "Для расчета необходимых показателей для каждой пользовательской операции (звонок, sms-сообщение, выход в интернет) определим месяц совершения, после чего создадим сводную таблицу с ежемесячной статистикой для каждого пользователя."
   ]
  },
  {
   "cell_type": "markdown",
   "id": "a0360e04",
   "metadata": {},
   "source": [
    "## 2.1 Определение месяца совершения операции"
   ]
  },
  {
   "cell_type": "code",
   "execution_count": 41,
   "id": "323b3f07",
   "metadata": {},
   "outputs": [],
   "source": [
    "#определим месяцы совершения звонков\n",
    "df_calls['month']=df_calls['call_date'].dt.month\n",
    "\n",
    "#определим месяцы отправления сообщений\n",
    "df_messages['month']=df_messages['message_date'].dt.month\n",
    "\n",
    "#определим месяцы выхода в интернет\n",
    "df_internet['month']=df_internet['session_date'].dt.month"
   ]
  },
  {
   "cell_type": "code",
   "execution_count": 42,
   "id": "d43e04f9",
   "metadata": {},
   "outputs": [
    {
     "data": {
      "text/html": [
       "<div>\n",
       "<style scoped>\n",
       "    .dataframe tbody tr th:only-of-type {\n",
       "        vertical-align: middle;\n",
       "    }\n",
       "\n",
       "    .dataframe tbody tr th {\n",
       "        vertical-align: top;\n",
       "    }\n",
       "\n",
       "    .dataframe thead th {\n",
       "        text-align: right;\n",
       "    }\n",
       "</style>\n",
       "<table border=\"1\" class=\"dataframe\">\n",
       "  <thead>\n",
       "    <tr style=\"text-align: right;\">\n",
       "      <th></th>\n",
       "      <th>id</th>\n",
       "      <th>call_date</th>\n",
       "      <th>duration</th>\n",
       "      <th>user_id</th>\n",
       "      <th>durations_minutes</th>\n",
       "      <th>month</th>\n",
       "    </tr>\n",
       "  </thead>\n",
       "  <tbody>\n",
       "    <tr>\n",
       "      <th>0</th>\n",
       "      <td>1000_0</td>\n",
       "      <td>2018-07-25</td>\n",
       "      <td>0.00</td>\n",
       "      <td>1000</td>\n",
       "      <td>0</td>\n",
       "      <td>7</td>\n",
       "    </tr>\n",
       "    <tr>\n",
       "      <th>1</th>\n",
       "      <td>1000_1</td>\n",
       "      <td>2018-08-17</td>\n",
       "      <td>0.00</td>\n",
       "      <td>1000</td>\n",
       "      <td>0</td>\n",
       "      <td>8</td>\n",
       "    </tr>\n",
       "    <tr>\n",
       "      <th>2</th>\n",
       "      <td>1000_2</td>\n",
       "      <td>2018-06-11</td>\n",
       "      <td>2.85</td>\n",
       "      <td>1000</td>\n",
       "      <td>3</td>\n",
       "      <td>6</td>\n",
       "    </tr>\n",
       "    <tr>\n",
       "      <th>3</th>\n",
       "      <td>1000_3</td>\n",
       "      <td>2018-09-21</td>\n",
       "      <td>13.80</td>\n",
       "      <td>1000</td>\n",
       "      <td>14</td>\n",
       "      <td>9</td>\n",
       "    </tr>\n",
       "    <tr>\n",
       "      <th>4</th>\n",
       "      <td>1000_4</td>\n",
       "      <td>2018-12-15</td>\n",
       "      <td>5.18</td>\n",
       "      <td>1000</td>\n",
       "      <td>6</td>\n",
       "      <td>12</td>\n",
       "    </tr>\n",
       "  </tbody>\n",
       "</table>\n",
       "</div>"
      ],
      "text/plain": [
       "       id  call_date  duration  user_id  durations_minutes  month\n",
       "0  1000_0 2018-07-25      0.00     1000                  0      7\n",
       "1  1000_1 2018-08-17      0.00     1000                  0      8\n",
       "2  1000_2 2018-06-11      2.85     1000                  3      6\n",
       "3  1000_3 2018-09-21     13.80     1000                 14      9\n",
       "4  1000_4 2018-12-15      5.18     1000                  6     12"
      ]
     },
     "execution_count": 42,
     "metadata": {},
     "output_type": "execute_result"
    }
   ],
   "source": [
    "#проверим результат для df_calls\n",
    "df_calls.head()"
   ]
  },
  {
   "cell_type": "code",
   "execution_count": 43,
   "id": "6b12a899",
   "metadata": {},
   "outputs": [
    {
     "data": {
      "text/html": [
       "<div>\n",
       "<style scoped>\n",
       "    .dataframe tbody tr th:only-of-type {\n",
       "        vertical-align: middle;\n",
       "    }\n",
       "\n",
       "    .dataframe tbody tr th {\n",
       "        vertical-align: top;\n",
       "    }\n",
       "\n",
       "    .dataframe thead th {\n",
       "        text-align: right;\n",
       "    }\n",
       "</style>\n",
       "<table border=\"1\" class=\"dataframe\">\n",
       "  <thead>\n",
       "    <tr style=\"text-align: right;\">\n",
       "      <th></th>\n",
       "      <th>id</th>\n",
       "      <th>message_date</th>\n",
       "      <th>user_id</th>\n",
       "      <th>month</th>\n",
       "    </tr>\n",
       "  </thead>\n",
       "  <tbody>\n",
       "    <tr>\n",
       "      <th>0</th>\n",
       "      <td>1000_0</td>\n",
       "      <td>2018-06-27</td>\n",
       "      <td>1000</td>\n",
       "      <td>6</td>\n",
       "    </tr>\n",
       "    <tr>\n",
       "      <th>1</th>\n",
       "      <td>1000_1</td>\n",
       "      <td>2018-10-08</td>\n",
       "      <td>1000</td>\n",
       "      <td>10</td>\n",
       "    </tr>\n",
       "    <tr>\n",
       "      <th>2</th>\n",
       "      <td>1000_2</td>\n",
       "      <td>2018-08-04</td>\n",
       "      <td>1000</td>\n",
       "      <td>8</td>\n",
       "    </tr>\n",
       "    <tr>\n",
       "      <th>3</th>\n",
       "      <td>1000_3</td>\n",
       "      <td>2018-06-16</td>\n",
       "      <td>1000</td>\n",
       "      <td>6</td>\n",
       "    </tr>\n",
       "    <tr>\n",
       "      <th>4</th>\n",
       "      <td>1000_4</td>\n",
       "      <td>2018-12-05</td>\n",
       "      <td>1000</td>\n",
       "      <td>12</td>\n",
       "    </tr>\n",
       "  </tbody>\n",
       "</table>\n",
       "</div>"
      ],
      "text/plain": [
       "       id message_date  user_id  month\n",
       "0  1000_0   2018-06-27     1000      6\n",
       "1  1000_1   2018-10-08     1000     10\n",
       "2  1000_2   2018-08-04     1000      8\n",
       "3  1000_3   2018-06-16     1000      6\n",
       "4  1000_4   2018-12-05     1000     12"
      ]
     },
     "execution_count": 43,
     "metadata": {},
     "output_type": "execute_result"
    }
   ],
   "source": [
    "#проверим результат для df_messages\n",
    "df_messages.head()"
   ]
  },
  {
   "cell_type": "code",
   "execution_count": 44,
   "id": "07068d9b",
   "metadata": {},
   "outputs": [
    {
     "data": {
      "text/html": [
       "<div>\n",
       "<style scoped>\n",
       "    .dataframe tbody tr th:only-of-type {\n",
       "        vertical-align: middle;\n",
       "    }\n",
       "\n",
       "    .dataframe tbody tr th {\n",
       "        vertical-align: top;\n",
       "    }\n",
       "\n",
       "    .dataframe thead th {\n",
       "        text-align: right;\n",
       "    }\n",
       "</style>\n",
       "<table border=\"1\" class=\"dataframe\">\n",
       "  <thead>\n",
       "    <tr style=\"text-align: right;\">\n",
       "      <th></th>\n",
       "      <th>id</th>\n",
       "      <th>mb_used</th>\n",
       "      <th>session_date</th>\n",
       "      <th>user_id</th>\n",
       "      <th>month</th>\n",
       "    </tr>\n",
       "  </thead>\n",
       "  <tbody>\n",
       "    <tr>\n",
       "      <th>0</th>\n",
       "      <td>1000_0</td>\n",
       "      <td>112.95</td>\n",
       "      <td>2018-11-25</td>\n",
       "      <td>1000</td>\n",
       "      <td>11</td>\n",
       "    </tr>\n",
       "    <tr>\n",
       "      <th>1</th>\n",
       "      <td>1000_1</td>\n",
       "      <td>1052.81</td>\n",
       "      <td>2018-09-07</td>\n",
       "      <td>1000</td>\n",
       "      <td>9</td>\n",
       "    </tr>\n",
       "    <tr>\n",
       "      <th>2</th>\n",
       "      <td>1000_2</td>\n",
       "      <td>1197.26</td>\n",
       "      <td>2018-06-25</td>\n",
       "      <td>1000</td>\n",
       "      <td>6</td>\n",
       "    </tr>\n",
       "    <tr>\n",
       "      <th>3</th>\n",
       "      <td>1000_3</td>\n",
       "      <td>550.27</td>\n",
       "      <td>2018-08-22</td>\n",
       "      <td>1000</td>\n",
       "      <td>8</td>\n",
       "    </tr>\n",
       "    <tr>\n",
       "      <th>4</th>\n",
       "      <td>1000_4</td>\n",
       "      <td>302.56</td>\n",
       "      <td>2018-09-24</td>\n",
       "      <td>1000</td>\n",
       "      <td>9</td>\n",
       "    </tr>\n",
       "  </tbody>\n",
       "</table>\n",
       "</div>"
      ],
      "text/plain": [
       "       id  mb_used session_date  user_id  month\n",
       "0  1000_0   112.95   2018-11-25     1000     11\n",
       "1  1000_1  1052.81   2018-09-07     1000      9\n",
       "2  1000_2  1197.26   2018-06-25     1000      6\n",
       "3  1000_3   550.27   2018-08-22     1000      8\n",
       "4  1000_4   302.56   2018-09-24     1000      9"
      ]
     },
     "execution_count": 44,
     "metadata": {},
     "output_type": "execute_result"
    }
   ],
   "source": [
    "#проверим результат для df_internet\n",
    "df_internet.head()"
   ]
  },
  {
   "cell_type": "markdown",
   "id": "cd50d1cf",
   "metadata": {},
   "source": [
    "Месяцы совершения операций определены корректно."
   ]
  },
  {
   "cell_type": "markdown",
   "id": "ae6901da",
   "metadata": {},
   "source": [
    "## 2.2 Создание сводной таблицы с ежемесячной статистикой активности"
   ]
  },
  {
   "cell_type": "code",
   "execution_count": 45,
   "id": "6578a7a4",
   "metadata": {},
   "outputs": [
    {
     "data": {
      "text/html": [
       "<div>\n",
       "<style scoped>\n",
       "    .dataframe tbody tr th:only-of-type {\n",
       "        vertical-align: middle;\n",
       "    }\n",
       "\n",
       "    .dataframe tbody tr th {\n",
       "        vertical-align: top;\n",
       "    }\n",
       "\n",
       "    .dataframe thead th {\n",
       "        text-align: right;\n",
       "    }\n",
       "</style>\n",
       "<table border=\"1\" class=\"dataframe\">\n",
       "  <thead>\n",
       "    <tr style=\"text-align: right;\">\n",
       "      <th></th>\n",
       "      <th>user_id</th>\n",
       "      <th>month</th>\n",
       "      <th>(count, durations_minutes)</th>\n",
       "      <th>(sum, durations_minutes)</th>\n",
       "      <th>message_date</th>\n",
       "      <th>mb_used</th>\n",
       "    </tr>\n",
       "  </thead>\n",
       "  <tbody>\n",
       "    <tr>\n",
       "      <th>0</th>\n",
       "      <td>1000</td>\n",
       "      <td>5</td>\n",
       "      <td>22.0</td>\n",
       "      <td>159.0</td>\n",
       "      <td>22.0</td>\n",
       "      <td>2253.49</td>\n",
       "    </tr>\n",
       "    <tr>\n",
       "      <th>1</th>\n",
       "      <td>1000</td>\n",
       "      <td>6</td>\n",
       "      <td>43.0</td>\n",
       "      <td>172.0</td>\n",
       "      <td>60.0</td>\n",
       "      <td>23233.77</td>\n",
       "    </tr>\n",
       "    <tr>\n",
       "      <th>2</th>\n",
       "      <td>1000</td>\n",
       "      <td>7</td>\n",
       "      <td>47.0</td>\n",
       "      <td>340.0</td>\n",
       "      <td>75.0</td>\n",
       "      <td>14003.64</td>\n",
       "    </tr>\n",
       "    <tr>\n",
       "      <th>3</th>\n",
       "      <td>1000</td>\n",
       "      <td>8</td>\n",
       "      <td>52.0</td>\n",
       "      <td>408.0</td>\n",
       "      <td>81.0</td>\n",
       "      <td>14055.93</td>\n",
       "    </tr>\n",
       "    <tr>\n",
       "      <th>4</th>\n",
       "      <td>1000</td>\n",
       "      <td>9</td>\n",
       "      <td>58.0</td>\n",
       "      <td>466.0</td>\n",
       "      <td>57.0</td>\n",
       "      <td>14568.91</td>\n",
       "    </tr>\n",
       "    <tr>\n",
       "      <th>...</th>\n",
       "      <td>...</td>\n",
       "      <td>...</td>\n",
       "      <td>...</td>\n",
       "      <td>...</td>\n",
       "      <td>...</td>\n",
       "      <td>...</td>\n",
       "    </tr>\n",
       "    <tr>\n",
       "      <th>3209</th>\n",
       "      <td>1498</td>\n",
       "      <td>10</td>\n",
       "      <td>41.0</td>\n",
       "      <td>247.0</td>\n",
       "      <td>42.0</td>\n",
       "      <td>20579.36</td>\n",
       "    </tr>\n",
       "    <tr>\n",
       "      <th>3210</th>\n",
       "      <td>1499</td>\n",
       "      <td>9</td>\n",
       "      <td>9.0</td>\n",
       "      <td>70.0</td>\n",
       "      <td>11.0</td>\n",
       "      <td>1845.75</td>\n",
       "    </tr>\n",
       "    <tr>\n",
       "      <th>3211</th>\n",
       "      <td>1499</td>\n",
       "      <td>10</td>\n",
       "      <td>68.0</td>\n",
       "      <td>449.0</td>\n",
       "      <td>48.0</td>\n",
       "      <td>17788.51</td>\n",
       "    </tr>\n",
       "    <tr>\n",
       "      <th>3212</th>\n",
       "      <td>1499</td>\n",
       "      <td>11</td>\n",
       "      <td>74.0</td>\n",
       "      <td>612.0</td>\n",
       "      <td>59.0</td>\n",
       "      <td>17963.31</td>\n",
       "    </tr>\n",
       "    <tr>\n",
       "      <th>3213</th>\n",
       "      <td>1499</td>\n",
       "      <td>12</td>\n",
       "      <td>69.0</td>\n",
       "      <td>492.0</td>\n",
       "      <td>66.0</td>\n",
       "      <td>13055.58</td>\n",
       "    </tr>\n",
       "  </tbody>\n",
       "</table>\n",
       "<p>3214 rows × 6 columns</p>\n",
       "</div>"
      ],
      "text/plain": [
       "      user_id  month  (count, durations_minutes)  (sum, durations_minutes)  \\\n",
       "0        1000      5                        22.0                     159.0   \n",
       "1        1000      6                        43.0                     172.0   \n",
       "2        1000      7                        47.0                     340.0   \n",
       "3        1000      8                        52.0                     408.0   \n",
       "4        1000      9                        58.0                     466.0   \n",
       "...       ...    ...                         ...                       ...   \n",
       "3209     1498     10                        41.0                     247.0   \n",
       "3210     1499      9                         9.0                      70.0   \n",
       "3211     1499     10                        68.0                     449.0   \n",
       "3212     1499     11                        74.0                     612.0   \n",
       "3213     1499     12                        69.0                     492.0   \n",
       "\n",
       "      message_date   mb_used  \n",
       "0             22.0   2253.49  \n",
       "1             60.0  23233.77  \n",
       "2             75.0  14003.64  \n",
       "3             81.0  14055.93  \n",
       "4             57.0  14568.91  \n",
       "...            ...       ...  \n",
       "3209          42.0  20579.36  \n",
       "3210          11.0   1845.75  \n",
       "3211          48.0  17788.51  \n",
       "3212          59.0  17963.31  \n",
       "3213          66.0  13055.58  \n",
       "\n",
       "[3214 rows x 6 columns]"
      ]
     },
     "execution_count": 45,
     "metadata": {},
     "output_type": "execute_result"
    }
   ],
   "source": [
    "#создадим сводную таблицу с ежемес. активностью и сохраним туда информацию о ежемесячной продолжительности звонков, количестве смс,\n",
    "#объеме интернет-траффика\n",
    "month_pivot_table=df_calls.pivot_table(index=['user_id', 'month'], values='durations_minutes', aggfunc=['count', 'sum']).join(\n",
    "    [df_messages.pivot_table(index=['user_id', 'month'], values='message_date', aggfunc='count'),\n",
    "     df_internet.pivot_table(index=['user_id', 'month'], values='mb_used', aggfunc='sum')], how='outer').reset_index()\n",
    "month_pivot_table"
   ]
  },
  {
   "cell_type": "code",
   "execution_count": 46,
   "id": "a0372dc6",
   "metadata": {
    "scrolled": true
   },
   "outputs": [
    {
     "data": {
      "text/html": [
       "<div>\n",
       "<style scoped>\n",
       "    .dataframe tbody tr th:only-of-type {\n",
       "        vertical-align: middle;\n",
       "    }\n",
       "\n",
       "    .dataframe tbody tr th {\n",
       "        vertical-align: top;\n",
       "    }\n",
       "\n",
       "    .dataframe thead th {\n",
       "        text-align: right;\n",
       "    }\n",
       "</style>\n",
       "<table border=\"1\" class=\"dataframe\">\n",
       "  <thead>\n",
       "    <tr style=\"text-align: right;\">\n",
       "      <th></th>\n",
       "      <th>user_id</th>\n",
       "      <th>month</th>\n",
       "      <th>(count, durations_minutes)</th>\n",
       "      <th>(sum, durations_minutes)</th>\n",
       "      <th>message_date</th>\n",
       "      <th>mb_used</th>\n",
       "      <th>age</th>\n",
       "      <th>churn_date</th>\n",
       "      <th>city</th>\n",
       "      <th>first_name</th>\n",
       "      <th>last_name</th>\n",
       "      <th>reg_date</th>\n",
       "      <th>tariff</th>\n",
       "    </tr>\n",
       "  </thead>\n",
       "  <tbody>\n",
       "    <tr>\n",
       "      <th>0</th>\n",
       "      <td>1000</td>\n",
       "      <td>5</td>\n",
       "      <td>22.0</td>\n",
       "      <td>159.0</td>\n",
       "      <td>22.0</td>\n",
       "      <td>2253.49</td>\n",
       "      <td>52</td>\n",
       "      <td>NaT</td>\n",
       "      <td>Краснодар</td>\n",
       "      <td>Рафаил</td>\n",
       "      <td>Верещагин</td>\n",
       "      <td>2018-05-25</td>\n",
       "      <td>ultra</td>\n",
       "    </tr>\n",
       "    <tr>\n",
       "      <th>1</th>\n",
       "      <td>1000</td>\n",
       "      <td>6</td>\n",
       "      <td>43.0</td>\n",
       "      <td>172.0</td>\n",
       "      <td>60.0</td>\n",
       "      <td>23233.77</td>\n",
       "      <td>52</td>\n",
       "      <td>NaT</td>\n",
       "      <td>Краснодар</td>\n",
       "      <td>Рафаил</td>\n",
       "      <td>Верещагин</td>\n",
       "      <td>2018-05-25</td>\n",
       "      <td>ultra</td>\n",
       "    </tr>\n",
       "    <tr>\n",
       "      <th>2</th>\n",
       "      <td>1000</td>\n",
       "      <td>7</td>\n",
       "      <td>47.0</td>\n",
       "      <td>340.0</td>\n",
       "      <td>75.0</td>\n",
       "      <td>14003.64</td>\n",
       "      <td>52</td>\n",
       "      <td>NaT</td>\n",
       "      <td>Краснодар</td>\n",
       "      <td>Рафаил</td>\n",
       "      <td>Верещагин</td>\n",
       "      <td>2018-05-25</td>\n",
       "      <td>ultra</td>\n",
       "    </tr>\n",
       "    <tr>\n",
       "      <th>3</th>\n",
       "      <td>1000</td>\n",
       "      <td>8</td>\n",
       "      <td>52.0</td>\n",
       "      <td>408.0</td>\n",
       "      <td>81.0</td>\n",
       "      <td>14055.93</td>\n",
       "      <td>52</td>\n",
       "      <td>NaT</td>\n",
       "      <td>Краснодар</td>\n",
       "      <td>Рафаил</td>\n",
       "      <td>Верещагин</td>\n",
       "      <td>2018-05-25</td>\n",
       "      <td>ultra</td>\n",
       "    </tr>\n",
       "    <tr>\n",
       "      <th>4</th>\n",
       "      <td>1000</td>\n",
       "      <td>9</td>\n",
       "      <td>58.0</td>\n",
       "      <td>466.0</td>\n",
       "      <td>57.0</td>\n",
       "      <td>14568.91</td>\n",
       "      <td>52</td>\n",
       "      <td>NaT</td>\n",
       "      <td>Краснодар</td>\n",
       "      <td>Рафаил</td>\n",
       "      <td>Верещагин</td>\n",
       "      <td>2018-05-25</td>\n",
       "      <td>ultra</td>\n",
       "    </tr>\n",
       "    <tr>\n",
       "      <th>...</th>\n",
       "      <td>...</td>\n",
       "      <td>...</td>\n",
       "      <td>...</td>\n",
       "      <td>...</td>\n",
       "      <td>...</td>\n",
       "      <td>...</td>\n",
       "      <td>...</td>\n",
       "      <td>...</td>\n",
       "      <td>...</td>\n",
       "      <td>...</td>\n",
       "      <td>...</td>\n",
       "      <td>...</td>\n",
       "      <td>...</td>\n",
       "    </tr>\n",
       "    <tr>\n",
       "      <th>3209</th>\n",
       "      <td>1498</td>\n",
       "      <td>10</td>\n",
       "      <td>41.0</td>\n",
       "      <td>247.0</td>\n",
       "      <td>42.0</td>\n",
       "      <td>20579.36</td>\n",
       "      <td>68</td>\n",
       "      <td>2018-10-25</td>\n",
       "      <td>Владикавказ</td>\n",
       "      <td>Всеволод</td>\n",
       "      <td>Акимчин</td>\n",
       "      <td>2018-07-19</td>\n",
       "      <td>smart</td>\n",
       "    </tr>\n",
       "    <tr>\n",
       "      <th>3210</th>\n",
       "      <td>1499</td>\n",
       "      <td>9</td>\n",
       "      <td>9.0</td>\n",
       "      <td>70.0</td>\n",
       "      <td>11.0</td>\n",
       "      <td>1845.75</td>\n",
       "      <td>35</td>\n",
       "      <td>NaT</td>\n",
       "      <td>Пермь</td>\n",
       "      <td>Гектор</td>\n",
       "      <td>Корнилов</td>\n",
       "      <td>2018-09-27</td>\n",
       "      <td>smart</td>\n",
       "    </tr>\n",
       "    <tr>\n",
       "      <th>3211</th>\n",
       "      <td>1499</td>\n",
       "      <td>10</td>\n",
       "      <td>68.0</td>\n",
       "      <td>449.0</td>\n",
       "      <td>48.0</td>\n",
       "      <td>17788.51</td>\n",
       "      <td>35</td>\n",
       "      <td>NaT</td>\n",
       "      <td>Пермь</td>\n",
       "      <td>Гектор</td>\n",
       "      <td>Корнилов</td>\n",
       "      <td>2018-09-27</td>\n",
       "      <td>smart</td>\n",
       "    </tr>\n",
       "    <tr>\n",
       "      <th>3212</th>\n",
       "      <td>1499</td>\n",
       "      <td>11</td>\n",
       "      <td>74.0</td>\n",
       "      <td>612.0</td>\n",
       "      <td>59.0</td>\n",
       "      <td>17963.31</td>\n",
       "      <td>35</td>\n",
       "      <td>NaT</td>\n",
       "      <td>Пермь</td>\n",
       "      <td>Гектор</td>\n",
       "      <td>Корнилов</td>\n",
       "      <td>2018-09-27</td>\n",
       "      <td>smart</td>\n",
       "    </tr>\n",
       "    <tr>\n",
       "      <th>3213</th>\n",
       "      <td>1499</td>\n",
       "      <td>12</td>\n",
       "      <td>69.0</td>\n",
       "      <td>492.0</td>\n",
       "      <td>66.0</td>\n",
       "      <td>13055.58</td>\n",
       "      <td>35</td>\n",
       "      <td>NaT</td>\n",
       "      <td>Пермь</td>\n",
       "      <td>Гектор</td>\n",
       "      <td>Корнилов</td>\n",
       "      <td>2018-09-27</td>\n",
       "      <td>smart</td>\n",
       "    </tr>\n",
       "  </tbody>\n",
       "</table>\n",
       "<p>3214 rows × 13 columns</p>\n",
       "</div>"
      ],
      "text/plain": [
       "      user_id  month  (count, durations_minutes)  (sum, durations_minutes)  \\\n",
       "0        1000      5                        22.0                     159.0   \n",
       "1        1000      6                        43.0                     172.0   \n",
       "2        1000      7                        47.0                     340.0   \n",
       "3        1000      8                        52.0                     408.0   \n",
       "4        1000      9                        58.0                     466.0   \n",
       "...       ...    ...                         ...                       ...   \n",
       "3209     1498     10                        41.0                     247.0   \n",
       "3210     1499      9                         9.0                      70.0   \n",
       "3211     1499     10                        68.0                     449.0   \n",
       "3212     1499     11                        74.0                     612.0   \n",
       "3213     1499     12                        69.0                     492.0   \n",
       "\n",
       "      message_date   mb_used  age churn_date         city first_name  \\\n",
       "0             22.0   2253.49   52        NaT    Краснодар     Рафаил   \n",
       "1             60.0  23233.77   52        NaT    Краснодар     Рафаил   \n",
       "2             75.0  14003.64   52        NaT    Краснодар     Рафаил   \n",
       "3             81.0  14055.93   52        NaT    Краснодар     Рафаил   \n",
       "4             57.0  14568.91   52        NaT    Краснодар     Рафаил   \n",
       "...            ...       ...  ...        ...          ...        ...   \n",
       "3209          42.0  20579.36   68 2018-10-25  Владикавказ   Всеволод   \n",
       "3210          11.0   1845.75   35        NaT        Пермь     Гектор   \n",
       "3211          48.0  17788.51   35        NaT        Пермь     Гектор   \n",
       "3212          59.0  17963.31   35        NaT        Пермь     Гектор   \n",
       "3213          66.0  13055.58   35        NaT        Пермь     Гектор   \n",
       "\n",
       "      last_name   reg_date tariff  \n",
       "0     Верещагин 2018-05-25  ultra  \n",
       "1     Верещагин 2018-05-25  ultra  \n",
       "2     Верещагин 2018-05-25  ultra  \n",
       "3     Верещагин 2018-05-25  ultra  \n",
       "4     Верещагин 2018-05-25  ultra  \n",
       "...         ...        ...    ...  \n",
       "3209    Акимчин 2018-07-19  smart  \n",
       "3210   Корнилов 2018-09-27  smart  \n",
       "3211   Корнилов 2018-09-27  smart  \n",
       "3212   Корнилов 2018-09-27  smart  \n",
       "3213   Корнилов 2018-09-27  smart  \n",
       "\n",
       "[3214 rows x 13 columns]"
      ]
     },
     "execution_count": 46,
     "metadata": {},
     "output_type": "execute_result"
    }
   ],
   "source": [
    "#добавим в сводную таблицу информацю о пользователях\n",
    "month_pivot_table = month_pivot_table.merge(df_users, on='user_id', how='left')\n",
    "month_pivot_table"
   ]
  },
  {
   "cell_type": "code",
   "execution_count": 47,
   "id": "be079515",
   "metadata": {},
   "outputs": [
    {
     "data": {
      "text/plain": [
       "Index(['user_id', 'month', 'calls_count', 'calls_duration', 'messages_count',\n",
       "       'mb_used', 'age', 'churn_date', 'city', 'first_name', 'last_name',\n",
       "       'reg_date', 'tariff'],\n",
       "      dtype='object')"
      ]
     },
     "execution_count": 47,
     "metadata": {},
     "output_type": "execute_result"
    }
   ],
   "source": [
    "#заменим названия столбцов, полученные в результате аггрегирования данных, на более удобные\n",
    "month_pivot_table=month_pivot_table.rename(columns={('count', 'durations_minutes'):'calls_count', ('sum', 'durations_minutes'):'calls_duration', 'message_date':'messages_count'})\n",
    "month_pivot_table.columns"
   ]
  },
  {
   "cell_type": "code",
   "execution_count": 48,
   "id": "e2cede99",
   "metadata": {},
   "outputs": [
    {
     "data": {
      "text/plain": [
       "Index(['messages_included', 'mb_per_month_included', 'minutes_included',\n",
       "       'rub_monthly_fee', 'rub_per_gb', 'rub_per_message', 'rub_per_minute',\n",
       "       'tariff'],\n",
       "      dtype='object')"
      ]
     },
     "execution_count": 48,
     "metadata": {},
     "output_type": "execute_result"
    }
   ],
   "source": [
    "#изменим название столбца tariff_name в df_traffics на tariff - для дальнейшего расчета помесячной выручки\n",
    "df_tariffs = df_tariffs.rename(columns={'tariff_name':'tariff'})\n",
    "df_tariffs.columns"
   ]
  },
  {
   "cell_type": "code",
   "execution_count": 49,
   "id": "73f81184",
   "metadata": {},
   "outputs": [
    {
     "name": "stdout",
     "output_type": "stream",
     "text": [
      "<class 'pandas.core.frame.DataFrame'>\n",
      "Int64Index: 3214 entries, 0 to 3213\n",
      "Data columns (total 13 columns):\n",
      " #   Column          Non-Null Count  Dtype         \n",
      "---  ------          --------------  -----         \n",
      " 0   user_id         3214 non-null   int64         \n",
      " 1   month           3214 non-null   int64         \n",
      " 2   calls_count     3174 non-null   float64       \n",
      " 3   calls_duration  3174 non-null   float64       \n",
      " 4   messages_count  2717 non-null   float64       \n",
      " 5   mb_used         3203 non-null   float64       \n",
      " 6   age             3214 non-null   int64         \n",
      " 7   churn_date      187 non-null    datetime64[ns]\n",
      " 8   city            3214 non-null   object        \n",
      " 9   first_name      3214 non-null   object        \n",
      " 10  last_name       3214 non-null   object        \n",
      " 11  reg_date        3214 non-null   datetime64[ns]\n",
      " 12  tariff          3214 non-null   object        \n",
      "dtypes: datetime64[ns](2), float64(4), int64(3), object(4)\n",
      "memory usage: 351.5+ KB\n"
     ]
    }
   ],
   "source": [
    "#просмотрим общую информацию о полученной сводной таблице\n",
    "month_pivot_table.info()"
   ]
  },
  {
   "cell_type": "markdown",
   "id": "bd7bb103",
   "metadata": {},
   "source": [
    "Создадим функцию для расчета помесячной выручки:"
   ]
  },
  {
   "cell_type": "code",
   "execution_count": 50,
   "id": "e9e200e8",
   "metadata": {
    "scrolled": true
   },
   "outputs": [
    {
     "data": {
      "text/html": [
       "<div>\n",
       "<style scoped>\n",
       "    .dataframe tbody tr th:only-of-type {\n",
       "        vertical-align: middle;\n",
       "    }\n",
       "\n",
       "    .dataframe tbody tr th {\n",
       "        vertical-align: top;\n",
       "    }\n",
       "\n",
       "    .dataframe thead th {\n",
       "        text-align: right;\n",
       "    }\n",
       "</style>\n",
       "<table border=\"1\" class=\"dataframe\">\n",
       "  <thead>\n",
       "    <tr style=\"text-align: right;\">\n",
       "      <th></th>\n",
       "      <th>tariff</th>\n",
       "      <th>calls_duration</th>\n",
       "      <th>messages_count</th>\n",
       "      <th>mb_used</th>\n",
       "      <th>rev_per_minute</th>\n",
       "      <th>rev_per_message</th>\n",
       "      <th>rev_per_gb</th>\n",
       "      <th>monthly_fee</th>\n",
       "      <th>revenue</th>\n",
       "    </tr>\n",
       "  </thead>\n",
       "  <tbody>\n",
       "    <tr>\n",
       "      <th>0</th>\n",
       "      <td>smart</td>\n",
       "      <td>600</td>\n",
       "      <td>30</td>\n",
       "      <td>1024</td>\n",
       "      <td>300</td>\n",
       "      <td>0</td>\n",
       "      <td>0</td>\n",
       "      <td>550</td>\n",
       "      <td>850</td>\n",
       "    </tr>\n",
       "    <tr>\n",
       "      <th>1</th>\n",
       "      <td>smart</td>\n",
       "      <td>500</td>\n",
       "      <td>50</td>\n",
       "      <td>15360</td>\n",
       "      <td>0</td>\n",
       "      <td>0</td>\n",
       "      <td>0</td>\n",
       "      <td>550</td>\n",
       "      <td>550</td>\n",
       "    </tr>\n",
       "    <tr>\n",
       "      <th>2</th>\n",
       "      <td>smart</td>\n",
       "      <td>400</td>\n",
       "      <td>60</td>\n",
       "      <td>20000</td>\n",
       "      <td>0</td>\n",
       "      <td>30</td>\n",
       "      <td>1000</td>\n",
       "      <td>550</td>\n",
       "      <td>1580</td>\n",
       "    </tr>\n",
       "    <tr>\n",
       "      <th>3</th>\n",
       "      <td>smart</td>\n",
       "      <td>0</td>\n",
       "      <td>0</td>\n",
       "      <td>0</td>\n",
       "      <td>0</td>\n",
       "      <td>0</td>\n",
       "      <td>0</td>\n",
       "      <td>550</td>\n",
       "      <td>550</td>\n",
       "    </tr>\n",
       "    <tr>\n",
       "      <th>4</th>\n",
       "      <td>ultra</td>\n",
       "      <td>1500</td>\n",
       "      <td>900</td>\n",
       "      <td>10000</td>\n",
       "      <td>0</td>\n",
       "      <td>0</td>\n",
       "      <td>0</td>\n",
       "      <td>1950</td>\n",
       "      <td>1950</td>\n",
       "    </tr>\n",
       "    <tr>\n",
       "      <th>5</th>\n",
       "      <td>ultra</td>\n",
       "      <td>3000</td>\n",
       "      <td>1030</td>\n",
       "      <td>40000</td>\n",
       "      <td>0</td>\n",
       "      <td>30</td>\n",
       "      <td>1500</td>\n",
       "      <td>1950</td>\n",
       "      <td>3480</td>\n",
       "    </tr>\n",
       "    <tr>\n",
       "      <th>6</th>\n",
       "      <td>ultra</td>\n",
       "      <td>3050</td>\n",
       "      <td>1000</td>\n",
       "      <td>30721</td>\n",
       "      <td>50</td>\n",
       "      <td>0</td>\n",
       "      <td>150</td>\n",
       "      <td>1950</td>\n",
       "      <td>2150</td>\n",
       "    </tr>\n",
       "    <tr>\n",
       "      <th>7</th>\n",
       "      <td>ultra</td>\n",
       "      <td>0</td>\n",
       "      <td>0</td>\n",
       "      <td>0</td>\n",
       "      <td>0</td>\n",
       "      <td>0</td>\n",
       "      <td>0</td>\n",
       "      <td>1950</td>\n",
       "      <td>1950</td>\n",
       "    </tr>\n",
       "  </tbody>\n",
       "</table>\n",
       "</div>"
      ],
      "text/plain": [
       "  tariff  calls_duration  messages_count  mb_used  rev_per_minute  \\\n",
       "0  smart             600              30     1024             300   \n",
       "1  smart             500              50    15360               0   \n",
       "2  smart             400              60    20000               0   \n",
       "3  smart               0               0        0               0   \n",
       "4  ultra            1500             900    10000               0   \n",
       "5  ultra            3000            1030    40000               0   \n",
       "6  ultra            3050            1000    30721              50   \n",
       "7  ultra               0               0        0               0   \n",
       "\n",
       "   rev_per_message  rev_per_gb  monthly_fee  revenue  \n",
       "0                0           0          550      850  \n",
       "1                0           0          550      550  \n",
       "2               30        1000          550     1580  \n",
       "3                0           0          550      550  \n",
       "4                0           0         1950     1950  \n",
       "5               30        1500         1950     3480  \n",
       "6                0         150         1950     2150  \n",
       "7                0           0         1950     1950  "
      ]
     },
     "execution_count": 50,
     "metadata": {},
     "output_type": "execute_result"
    }
   ],
   "source": [
    "#объявим функцию revenue_count, выполняющую расчет помесячной выручки для каждого пользователя\n",
    "def revenue_count(row):\n",
    "    \n",
    "    #определим индекс строки df_tariffs, соотвутствующую тарифу конкретного пользователя\n",
    "    if row['tariff']=='smart':\n",
    "        tariff_idx = 0\n",
    "    else:\n",
    "        tariff_idx = 1\n",
    "     \n",
    "    #проверим, превышает ли длительность звонков установленную тарифом\n",
    "    #если превышаем - рассчитаем стоимость звонков сверх тарифного плана, иначе - укажем переплату 0 рублей\n",
    "    if row['calls_duration'] > df_tariffs.loc[tariff_idx, 'minutes_included']:\n",
    "        row['rev_per_minute'] = (row['calls_duration'] - df_tariffs.loc[tariff_idx, 'minutes_included'])*df_tariffs.loc[tariff_idx, 'rub_per_minute']\n",
    "    else:\n",
    "        row['rev_per_minute'] = 0\n",
    "        \n",
    "    #проверим, превышает ли количество сообщений установленное тарифом\n",
    "    #если превышаем - рассчитаем стоимость сообщений сверх тарифного плана, иначе - укажем переплату 0 рублей\n",
    "    if row['messages_count']>df_tariffs.loc[tariff_idx, 'messages_included']:\n",
    "        row['rev_per_message'] = (row['messages_count']-df_tariffs.loc[tariff_idx, 'messages_included'])*df_tariffs.loc[tariff_idx, 'rub_per_message']\n",
    "    else:\n",
    "        row['rev_per_message'] = 0\n",
    "      \n",
    "    #проверим, превышает ли объем траффика установленный тарифом\n",
    "    #если превышаем - рассчитаем стоимость траффика сверх тарифного плана, иначе - укажем переплату 0 рублей\n",
    "    if row['mb_used']>df_tariffs.loc[tariff_idx, 'mb_per_month_included']:\n",
    "        row['rev_per_gb'] = math.ceil((row['mb_used']-df_tariffs.loc[tariff_idx, 'mb_per_month_included'])/1024)*df_tariffs.loc[tariff_idx, 'rub_per_gb']\n",
    "    else:\n",
    "        row['rev_per_gb'] = 0\n",
    "        \n",
    "    #добавим в объем выручки абонентскую плату\n",
    "    row['monthly_fee'] = df_tariffs.loc[tariff_idx, 'rub_monthly_fee']\n",
    "    \n",
    "    #сохраним объем выручки в одноименный столбец\n",
    "    row['revenue'] = row['rev_per_minute']+row['rev_per_message']+row['rev_per_gb']+row['monthly_fee']\n",
    "    \n",
    "    return row\n",
    "\n",
    "#проверим работу функции на тестовых данных\n",
    "test_data = pd.DataFrame({'tariff':['smart', 'smart', 'smart', 'smart', 'ultra', 'ultra', 'ultra', 'ultra'],\n",
    "                         'calls_duration':[600, 500, 400, 0, 1500, 3000, 3050, 0],\n",
    "                         'messages_count':[30, 50, 60, 0, 900, 1030, 1000, 0],\n",
    "                         'mb_used':[1024, 15360, 20000, 0, 10000, 40000, 30721,0]})\n",
    "test_data=test_data.apply(revenue_count, axis=1)\n",
    "test_data"
   ]
  },
  {
   "cell_type": "markdown",
   "id": "8c230263",
   "metadata": {},
   "source": [
    "Функция revenue_count для тестовых данных сработала корректно. Рассчитаем фактическую ежемесячную выручку по каждому абоненту."
   ]
  },
  {
   "cell_type": "code",
   "execution_count": 51,
   "id": "67dc6046",
   "metadata": {},
   "outputs": [
    {
     "data": {
      "text/html": [
       "<div>\n",
       "<style scoped>\n",
       "    .dataframe tbody tr th:only-of-type {\n",
       "        vertical-align: middle;\n",
       "    }\n",
       "\n",
       "    .dataframe tbody tr th {\n",
       "        vertical-align: top;\n",
       "    }\n",
       "\n",
       "    .dataframe thead th {\n",
       "        text-align: right;\n",
       "    }\n",
       "</style>\n",
       "<table border=\"1\" class=\"dataframe\">\n",
       "  <thead>\n",
       "    <tr style=\"text-align: right;\">\n",
       "      <th></th>\n",
       "      <th>user_id</th>\n",
       "      <th>month</th>\n",
       "      <th>calls_count</th>\n",
       "      <th>calls_duration</th>\n",
       "      <th>messages_count</th>\n",
       "      <th>mb_used</th>\n",
       "      <th>age</th>\n",
       "      <th>churn_date</th>\n",
       "      <th>city</th>\n",
       "      <th>first_name</th>\n",
       "      <th>last_name</th>\n",
       "      <th>reg_date</th>\n",
       "      <th>tariff</th>\n",
       "      <th>rev_per_minute</th>\n",
       "      <th>rev_per_message</th>\n",
       "      <th>rev_per_gb</th>\n",
       "      <th>monthly_fee</th>\n",
       "      <th>revenue</th>\n",
       "    </tr>\n",
       "  </thead>\n",
       "  <tbody>\n",
       "    <tr>\n",
       "      <th>0</th>\n",
       "      <td>1000</td>\n",
       "      <td>5</td>\n",
       "      <td>22.0</td>\n",
       "      <td>159.0</td>\n",
       "      <td>22.0</td>\n",
       "      <td>2253.49</td>\n",
       "      <td>52</td>\n",
       "      <td>NaT</td>\n",
       "      <td>Краснодар</td>\n",
       "      <td>Рафаил</td>\n",
       "      <td>Верещагин</td>\n",
       "      <td>2018-05-25</td>\n",
       "      <td>ultra</td>\n",
       "      <td>0.0</td>\n",
       "      <td>0.0</td>\n",
       "      <td>0</td>\n",
       "      <td>1950</td>\n",
       "      <td>1950.0</td>\n",
       "    </tr>\n",
       "    <tr>\n",
       "      <th>1</th>\n",
       "      <td>1000</td>\n",
       "      <td>6</td>\n",
       "      <td>43.0</td>\n",
       "      <td>172.0</td>\n",
       "      <td>60.0</td>\n",
       "      <td>23233.77</td>\n",
       "      <td>52</td>\n",
       "      <td>NaT</td>\n",
       "      <td>Краснодар</td>\n",
       "      <td>Рафаил</td>\n",
       "      <td>Верещагин</td>\n",
       "      <td>2018-05-25</td>\n",
       "      <td>ultra</td>\n",
       "      <td>0.0</td>\n",
       "      <td>0.0</td>\n",
       "      <td>0</td>\n",
       "      <td>1950</td>\n",
       "      <td>1950.0</td>\n",
       "    </tr>\n",
       "    <tr>\n",
       "      <th>2</th>\n",
       "      <td>1000</td>\n",
       "      <td>7</td>\n",
       "      <td>47.0</td>\n",
       "      <td>340.0</td>\n",
       "      <td>75.0</td>\n",
       "      <td>14003.64</td>\n",
       "      <td>52</td>\n",
       "      <td>NaT</td>\n",
       "      <td>Краснодар</td>\n",
       "      <td>Рафаил</td>\n",
       "      <td>Верещагин</td>\n",
       "      <td>2018-05-25</td>\n",
       "      <td>ultra</td>\n",
       "      <td>0.0</td>\n",
       "      <td>0.0</td>\n",
       "      <td>0</td>\n",
       "      <td>1950</td>\n",
       "      <td>1950.0</td>\n",
       "    </tr>\n",
       "    <tr>\n",
       "      <th>3</th>\n",
       "      <td>1000</td>\n",
       "      <td>8</td>\n",
       "      <td>52.0</td>\n",
       "      <td>408.0</td>\n",
       "      <td>81.0</td>\n",
       "      <td>14055.93</td>\n",
       "      <td>52</td>\n",
       "      <td>NaT</td>\n",
       "      <td>Краснодар</td>\n",
       "      <td>Рафаил</td>\n",
       "      <td>Верещагин</td>\n",
       "      <td>2018-05-25</td>\n",
       "      <td>ultra</td>\n",
       "      <td>0.0</td>\n",
       "      <td>0.0</td>\n",
       "      <td>0</td>\n",
       "      <td>1950</td>\n",
       "      <td>1950.0</td>\n",
       "    </tr>\n",
       "    <tr>\n",
       "      <th>4</th>\n",
       "      <td>1000</td>\n",
       "      <td>9</td>\n",
       "      <td>58.0</td>\n",
       "      <td>466.0</td>\n",
       "      <td>57.0</td>\n",
       "      <td>14568.91</td>\n",
       "      <td>52</td>\n",
       "      <td>NaT</td>\n",
       "      <td>Краснодар</td>\n",
       "      <td>Рафаил</td>\n",
       "      <td>Верещагин</td>\n",
       "      <td>2018-05-25</td>\n",
       "      <td>ultra</td>\n",
       "      <td>0.0</td>\n",
       "      <td>0.0</td>\n",
       "      <td>0</td>\n",
       "      <td>1950</td>\n",
       "      <td>1950.0</td>\n",
       "    </tr>\n",
       "    <tr>\n",
       "      <th>...</th>\n",
       "      <td>...</td>\n",
       "      <td>...</td>\n",
       "      <td>...</td>\n",
       "      <td>...</td>\n",
       "      <td>...</td>\n",
       "      <td>...</td>\n",
       "      <td>...</td>\n",
       "      <td>...</td>\n",
       "      <td>...</td>\n",
       "      <td>...</td>\n",
       "      <td>...</td>\n",
       "      <td>...</td>\n",
       "      <td>...</td>\n",
       "      <td>...</td>\n",
       "      <td>...</td>\n",
       "      <td>...</td>\n",
       "      <td>...</td>\n",
       "      <td>...</td>\n",
       "    </tr>\n",
       "    <tr>\n",
       "      <th>3209</th>\n",
       "      <td>1498</td>\n",
       "      <td>10</td>\n",
       "      <td>41.0</td>\n",
       "      <td>247.0</td>\n",
       "      <td>42.0</td>\n",
       "      <td>20579.36</td>\n",
       "      <td>68</td>\n",
       "      <td>2018-10-25</td>\n",
       "      <td>Владикавказ</td>\n",
       "      <td>Всеволод</td>\n",
       "      <td>Акимчин</td>\n",
       "      <td>2018-07-19</td>\n",
       "      <td>smart</td>\n",
       "      <td>0.0</td>\n",
       "      <td>0.0</td>\n",
       "      <td>1200</td>\n",
       "      <td>550</td>\n",
       "      <td>1750.0</td>\n",
       "    </tr>\n",
       "    <tr>\n",
       "      <th>3210</th>\n",
       "      <td>1499</td>\n",
       "      <td>9</td>\n",
       "      <td>9.0</td>\n",
       "      <td>70.0</td>\n",
       "      <td>11.0</td>\n",
       "      <td>1845.75</td>\n",
       "      <td>35</td>\n",
       "      <td>NaT</td>\n",
       "      <td>Пермь</td>\n",
       "      <td>Гектор</td>\n",
       "      <td>Корнилов</td>\n",
       "      <td>2018-09-27</td>\n",
       "      <td>smart</td>\n",
       "      <td>0.0</td>\n",
       "      <td>0.0</td>\n",
       "      <td>0</td>\n",
       "      <td>550</td>\n",
       "      <td>550.0</td>\n",
       "    </tr>\n",
       "    <tr>\n",
       "      <th>3211</th>\n",
       "      <td>1499</td>\n",
       "      <td>10</td>\n",
       "      <td>68.0</td>\n",
       "      <td>449.0</td>\n",
       "      <td>48.0</td>\n",
       "      <td>17788.51</td>\n",
       "      <td>35</td>\n",
       "      <td>NaT</td>\n",
       "      <td>Пермь</td>\n",
       "      <td>Гектор</td>\n",
       "      <td>Корнилов</td>\n",
       "      <td>2018-09-27</td>\n",
       "      <td>smart</td>\n",
       "      <td>0.0</td>\n",
       "      <td>0.0</td>\n",
       "      <td>600</td>\n",
       "      <td>550</td>\n",
       "      <td>1150.0</td>\n",
       "    </tr>\n",
       "    <tr>\n",
       "      <th>3212</th>\n",
       "      <td>1499</td>\n",
       "      <td>11</td>\n",
       "      <td>74.0</td>\n",
       "      <td>612.0</td>\n",
       "      <td>59.0</td>\n",
       "      <td>17963.31</td>\n",
       "      <td>35</td>\n",
       "      <td>NaT</td>\n",
       "      <td>Пермь</td>\n",
       "      <td>Гектор</td>\n",
       "      <td>Корнилов</td>\n",
       "      <td>2018-09-27</td>\n",
       "      <td>smart</td>\n",
       "      <td>336.0</td>\n",
       "      <td>27.0</td>\n",
       "      <td>600</td>\n",
       "      <td>550</td>\n",
       "      <td>1513.0</td>\n",
       "    </tr>\n",
       "    <tr>\n",
       "      <th>3213</th>\n",
       "      <td>1499</td>\n",
       "      <td>12</td>\n",
       "      <td>69.0</td>\n",
       "      <td>492.0</td>\n",
       "      <td>66.0</td>\n",
       "      <td>13055.58</td>\n",
       "      <td>35</td>\n",
       "      <td>NaT</td>\n",
       "      <td>Пермь</td>\n",
       "      <td>Гектор</td>\n",
       "      <td>Корнилов</td>\n",
       "      <td>2018-09-27</td>\n",
       "      <td>smart</td>\n",
       "      <td>0.0</td>\n",
       "      <td>48.0</td>\n",
       "      <td>0</td>\n",
       "      <td>550</td>\n",
       "      <td>598.0</td>\n",
       "    </tr>\n",
       "  </tbody>\n",
       "</table>\n",
       "<p>3214 rows × 18 columns</p>\n",
       "</div>"
      ],
      "text/plain": [
       "      user_id  month  calls_count  calls_duration  messages_count   mb_used  \\\n",
       "0        1000      5         22.0           159.0            22.0   2253.49   \n",
       "1        1000      6         43.0           172.0            60.0  23233.77   \n",
       "2        1000      7         47.0           340.0            75.0  14003.64   \n",
       "3        1000      8         52.0           408.0            81.0  14055.93   \n",
       "4        1000      9         58.0           466.0            57.0  14568.91   \n",
       "...       ...    ...          ...             ...             ...       ...   \n",
       "3209     1498     10         41.0           247.0            42.0  20579.36   \n",
       "3210     1499      9          9.0            70.0            11.0   1845.75   \n",
       "3211     1499     10         68.0           449.0            48.0  17788.51   \n",
       "3212     1499     11         74.0           612.0            59.0  17963.31   \n",
       "3213     1499     12         69.0           492.0            66.0  13055.58   \n",
       "\n",
       "      age churn_date         city first_name  last_name   reg_date tariff  \\\n",
       "0      52        NaT    Краснодар     Рафаил  Верещагин 2018-05-25  ultra   \n",
       "1      52        NaT    Краснодар     Рафаил  Верещагин 2018-05-25  ultra   \n",
       "2      52        NaT    Краснодар     Рафаил  Верещагин 2018-05-25  ultra   \n",
       "3      52        NaT    Краснодар     Рафаил  Верещагин 2018-05-25  ultra   \n",
       "4      52        NaT    Краснодар     Рафаил  Верещагин 2018-05-25  ultra   \n",
       "...   ...        ...          ...        ...        ...        ...    ...   \n",
       "3209   68 2018-10-25  Владикавказ   Всеволод    Акимчин 2018-07-19  smart   \n",
       "3210   35        NaT        Пермь     Гектор   Корнилов 2018-09-27  smart   \n",
       "3211   35        NaT        Пермь     Гектор   Корнилов 2018-09-27  smart   \n",
       "3212   35        NaT        Пермь     Гектор   Корнилов 2018-09-27  smart   \n",
       "3213   35        NaT        Пермь     Гектор   Корнилов 2018-09-27  smart   \n",
       "\n",
       "      rev_per_minute  rev_per_message  rev_per_gb  monthly_fee  revenue  \n",
       "0                0.0              0.0           0         1950   1950.0  \n",
       "1                0.0              0.0           0         1950   1950.0  \n",
       "2                0.0              0.0           0         1950   1950.0  \n",
       "3                0.0              0.0           0         1950   1950.0  \n",
       "4                0.0              0.0           0         1950   1950.0  \n",
       "...              ...              ...         ...          ...      ...  \n",
       "3209             0.0              0.0        1200          550   1750.0  \n",
       "3210             0.0              0.0           0          550    550.0  \n",
       "3211             0.0              0.0         600          550   1150.0  \n",
       "3212           336.0             27.0         600          550   1513.0  \n",
       "3213             0.0             48.0           0          550    598.0  \n",
       "\n",
       "[3214 rows x 18 columns]"
      ]
     },
     "execution_count": 51,
     "metadata": {},
     "output_type": "execute_result"
    }
   ],
   "source": [
    "month_pivot_table=month_pivot_table.apply(revenue_count, axis=1)\n",
    "month_pivot_table"
   ]
  },
  {
   "cell_type": "markdown",
   "id": "1f0910ce",
   "metadata": {},
   "source": [
    "# 3. Анализ поведения абонентов"
   ]
  },
  {
   "cell_type": "markdown",
   "id": "9e53ab3f",
   "metadata": {},
   "source": [
    "В рамках анализа поведения клиентов оператора, требуется определить, сколько минут разговора, сколько сообщений и какой объем интернет-траффика требуется пользователям каждого тарифа в месяц. Необходимо рассчитать среднее количество исследуемых параметров, дисперсию и стандартное отклонение, а также построить гистограммы и описать распределения.\n",
    "\n",
    "Для получения статистической информации о длительности звонков, количестве сообщений и объеме интернет-траффика создадим сводную таблицу, куда также включим информацию о выручке."
   ]
  },
  {
   "cell_type": "code",
   "execution_count": 52,
   "id": "54164929",
   "metadata": {
    "scrolled": true
   },
   "outputs": [
    {
     "data": {
      "text/html": [
       "<div>\n",
       "<style scoped>\n",
       "    .dataframe tbody tr th:only-of-type {\n",
       "        vertical-align: middle;\n",
       "    }\n",
       "\n",
       "    .dataframe tbody tr th {\n",
       "        vertical-align: top;\n",
       "    }\n",
       "\n",
       "    .dataframe thead tr th {\n",
       "        text-align: left;\n",
       "    }\n",
       "</style>\n",
       "<table border=\"1\" class=\"dataframe\">\n",
       "  <thead>\n",
       "    <tr>\n",
       "      <th></th>\n",
       "      <th colspan=\"2\" halign=\"left\">mean</th>\n",
       "      <th colspan=\"2\" halign=\"left\">median</th>\n",
       "      <th colspan=\"2\" halign=\"left\">sum</th>\n",
       "      <th colspan=\"2\" halign=\"left\">min</th>\n",
       "      <th colspan=\"2\" halign=\"left\">max</th>\n",
       "      <th colspan=\"2\" halign=\"left\">std</th>\n",
       "      <th colspan=\"2\" halign=\"left\">var</th>\n",
       "    </tr>\n",
       "    <tr>\n",
       "      <th>tariff</th>\n",
       "      <th>smart</th>\n",
       "      <th>ultra</th>\n",
       "      <th>smart</th>\n",
       "      <th>ultra</th>\n",
       "      <th>smart</th>\n",
       "      <th>ultra</th>\n",
       "      <th>smart</th>\n",
       "      <th>ultra</th>\n",
       "      <th>smart</th>\n",
       "      <th>ultra</th>\n",
       "      <th>smart</th>\n",
       "      <th>ultra</th>\n",
       "      <th>smart</th>\n",
       "      <th>ultra</th>\n",
       "    </tr>\n",
       "  </thead>\n",
       "  <tbody>\n",
       "    <tr>\n",
       "      <th>calls_duration</th>\n",
       "      <td>419.062978</td>\n",
       "      <td>545.451104</td>\n",
       "      <td>423.00</td>\n",
       "      <td>528.00</td>\n",
       "      <td>931577.0</td>\n",
       "      <td>518724.00</td>\n",
       "      <td>0.0</td>\n",
       "      <td>0.0</td>\n",
       "      <td>1435.00</td>\n",
       "      <td>1673.00</td>\n",
       "      <td>189.325618</td>\n",
       "      <td>306.925754</td>\n",
       "      <td>3.584419e+04</td>\n",
       "      <td>9.420342e+04</td>\n",
       "    </tr>\n",
       "    <tr>\n",
       "      <th>mb_used</th>\n",
       "      <td>16215.661849</td>\n",
       "      <td>19668.485262</td>\n",
       "      <td>16507.74</td>\n",
       "      <td>19394.29</td>\n",
       "      <td>36128494.6</td>\n",
       "      <td>19176773.13</td>\n",
       "      <td>0.0</td>\n",
       "      <td>0.0</td>\n",
       "      <td>38552.45</td>\n",
       "      <td>49745.69</td>\n",
       "      <td>5861.736234</td>\n",
       "      <td>9943.050284</td>\n",
       "      <td>3.435995e+07</td>\n",
       "      <td>9.886425e+07</td>\n",
       "    </tr>\n",
       "    <tr>\n",
       "      <th>messages_count</th>\n",
       "      <td>38.716441</td>\n",
       "      <td>61.161006</td>\n",
       "      <td>34.00</td>\n",
       "      <td>51.00</td>\n",
       "      <td>74413.0</td>\n",
       "      <td>48623.00</td>\n",
       "      <td>1.0</td>\n",
       "      <td>1.0</td>\n",
       "      <td>143.00</td>\n",
       "      <td>224.00</td>\n",
       "      <td>26.787949</td>\n",
       "      <td>45.931026</td>\n",
       "      <td>7.175942e+02</td>\n",
       "      <td>2.109659e+03</td>\n",
       "    </tr>\n",
       "    <tr>\n",
       "      <th>rev_per_gb</th>\n",
       "      <td>597.756842</td>\n",
       "      <td>120.152284</td>\n",
       "      <td>400.00</td>\n",
       "      <td>0.00</td>\n",
       "      <td>1332400.0</td>\n",
       "      <td>118350.00</td>\n",
       "      <td>0.0</td>\n",
       "      <td>0.0</td>\n",
       "      <td>4600.00</td>\n",
       "      <td>2850.00</td>\n",
       "      <td>736.563904</td>\n",
       "      <td>376.187114</td>\n",
       "      <td>5.425264e+05</td>\n",
       "      <td>1.415167e+05</td>\n",
       "    </tr>\n",
       "    <tr>\n",
       "      <th>rev_per_message</th>\n",
       "      <td>17.399731</td>\n",
       "      <td>0.000000</td>\n",
       "      <td>0.00</td>\n",
       "      <td>0.00</td>\n",
       "      <td>38784.0</td>\n",
       "      <td>0.00</td>\n",
       "      <td>0.0</td>\n",
       "      <td>0.0</td>\n",
       "      <td>279.00</td>\n",
       "      <td>0.00</td>\n",
       "      <td>40.327368</td>\n",
       "      <td>0.000000</td>\n",
       "      <td>1.626297e+03</td>\n",
       "      <td>0.000000e+00</td>\n",
       "    </tr>\n",
       "    <tr>\n",
       "      <th>rev_per_minute</th>\n",
       "      <td>124.816958</td>\n",
       "      <td>0.000000</td>\n",
       "      <td>0.00</td>\n",
       "      <td>0.00</td>\n",
       "      <td>278217.0</td>\n",
       "      <td>0.00</td>\n",
       "      <td>0.0</td>\n",
       "      <td>0.0</td>\n",
       "      <td>2805.00</td>\n",
       "      <td>0.00</td>\n",
       "      <td>254.035718</td>\n",
       "      <td>0.000000</td>\n",
       "      <td>6.453415e+04</td>\n",
       "      <td>0.000000e+00</td>\n",
       "    </tr>\n",
       "    <tr>\n",
       "      <th>revenue</th>\n",
       "      <td>1289.973531</td>\n",
       "      <td>2070.152284</td>\n",
       "      <td>1023.00</td>\n",
       "      <td>1950.00</td>\n",
       "      <td>2875351.0</td>\n",
       "      <td>2039100.00</td>\n",
       "      <td>550.0</td>\n",
       "      <td>1950.0</td>\n",
       "      <td>6770.00</td>\n",
       "      <td>4800.00</td>\n",
       "      <td>818.404367</td>\n",
       "      <td>376.187114</td>\n",
       "      <td>6.697857e+05</td>\n",
       "      <td>1.415167e+05</td>\n",
       "    </tr>\n",
       "  </tbody>\n",
       "</table>\n",
       "</div>"
      ],
      "text/plain": [
       "                         mean                  median                   sum  \\\n",
       "tariff                  smart         ultra     smart     ultra       smart   \n",
       "calls_duration     419.062978    545.451104    423.00    528.00    931577.0   \n",
       "mb_used          16215.661849  19668.485262  16507.74  19394.29  36128494.6   \n",
       "messages_count      38.716441     61.161006     34.00     51.00     74413.0   \n",
       "rev_per_gb         597.756842    120.152284    400.00      0.00   1332400.0   \n",
       "rev_per_message     17.399731      0.000000      0.00      0.00     38784.0   \n",
       "rev_per_minute     124.816958      0.000000      0.00      0.00    278217.0   \n",
       "revenue           1289.973531   2070.152284   1023.00   1950.00   2875351.0   \n",
       "\n",
       "                                min               max                    std  \\\n",
       "tariff                 ultra  smart   ultra     smart     ultra        smart   \n",
       "calls_duration     518724.00    0.0     0.0   1435.00   1673.00   189.325618   \n",
       "mb_used          19176773.13    0.0     0.0  38552.45  49745.69  5861.736234   \n",
       "messages_count      48623.00    1.0     1.0    143.00    224.00    26.787949   \n",
       "rev_per_gb         118350.00    0.0     0.0   4600.00   2850.00   736.563904   \n",
       "rev_per_message         0.00    0.0     0.0    279.00      0.00    40.327368   \n",
       "rev_per_minute          0.00    0.0     0.0   2805.00      0.00   254.035718   \n",
       "revenue           2039100.00  550.0  1950.0   6770.00   4800.00   818.404367   \n",
       "\n",
       "                                       var                \n",
       "tariff                 ultra         smart         ultra  \n",
       "calls_duration    306.925754  3.584419e+04  9.420342e+04  \n",
       "mb_used          9943.050284  3.435995e+07  9.886425e+07  \n",
       "messages_count     45.931026  7.175942e+02  2.109659e+03  \n",
       "rev_per_gb        376.187114  5.425264e+05  1.415167e+05  \n",
       "rev_per_message     0.000000  1.626297e+03  0.000000e+00  \n",
       "rev_per_minute      0.000000  6.453415e+04  0.000000e+00  \n",
       "revenue           376.187114  6.697857e+05  1.415167e+05  "
      ]
     },
     "execution_count": 52,
     "metadata": {},
     "output_type": "execute_result"
    }
   ],
   "source": [
    "month_pivot_table.pivot_table(columns='tariff', values=['calls_duration', 'messages_count', 'mb_used', 'revenue', 'rev_per_minute', 'rev_per_message', 'rev_per_gb'], aggfunc=['mean', 'median', 'sum', 'min', 'max', np.std, np.var])"
   ]
  },
  {
   "cell_type": "markdown",
   "id": "20f35e04",
   "metadata": {},
   "source": [
    "Исходя из полученной сводной таблицы со статистической информацией об активности абонентов и выручке, можно сделать следующие **выводы**:\n",
    "\n",
    "\n",
    "- в среднем все показатели ежемесячной активности пользователей тарифа Ultra выше, чем аналогичные показатели для пользователей тарифа Smart. Так, средняя продолжительность разговора пользователей тарифа Ultra составляет 545 минут, пользователей тарифа Smart - 419 минут; среднее количество отправленных сообщений пользователей тарифа Ultra - 61, тарифа Smart - 39; средний объем интернет-траффика за месяц для пользователей тарифа Utra составляет 19668 Мб, для пользователей тарифа Smart - 16216 Мб;\n",
    "- все средние (и медианные) показатели для тарифа Ultra не превышают объемов, предусмотренных тарифным планом. Для тарифа Smart в рамках тарифного плана остаются только продолжительность звонков и количество отправленных сообщений, в то время как средний объем интернет-траффика превышается предусмотренный тарифным планом на 5.6% (856 Мб), медианный - на 7.4% (1148 Мб);\n",
    "- среднеквадратическое отклонение израсходованных минут, смс и мегабайт интернета от среднего показателя для пользователей тарифа Ultra в ≈1.7 раз выше, чем для тарифа Smart;\n",
    "- медианная ежемесячная выручка для пользователей тарифа Ultra равна абонентской плате (1950 руб); медианная ежемесячная выручка для пользователей тарифа Smart составляет 1021 рубль, что практически в два раза больше абонентской платы за счет перерасхода интернет-траффика, однако в два раза меньше медианной ежемесячной выручки от тарифа Ultra;\n",
    "- в общей сложности пользователи тарифа Ultra дополнительно доплачивали только за интернет-траффик, дополнительная плата за звонки и сообщения - нулевая. Пользователи тарифа Smart доплачивали (в порядке убывания цены) за интернет, звонки и сообщения. При этом переплата пользователей тарифа Smart за интернет в 11.2 раза выше, чем для тарифа Ultra;\n",
    "- среднеквадратическое отклонение ежемесячной выручки пользователей тарифа Smart в 2.2 раза больше, чем для тарифа Ultra, что говорит о большем разнообразии поведения пользователей тарифа Smart: кому-то хватает включенного пакета услуг, а кто-то значительно переплачивает;\n",
    "- дисперсия выручки от тарифа Smart в 4.7 раз выше, чем от тарифа Ultra;\n",
    "- валовая выручка за год от пользователей тарифа Ultra составляет 2 млн, от пользователей тарифа Smart - 2.9 млн (на 45% больше). Возможно, это вызвано, тем, что пользователей тарифа Smart больше.\n",
    "\n",
    "Рассчитаем количество абоненто-месяцев использования тарифов Smart и Ultra, а также их соотношение (использование абоненто-месяцев более целессообразно, так как в течение года абонент мог изменить тариф или вовсе отказаться от услуг компании)."
   ]
  },
  {
   "cell_type": "code",
   "execution_count": 53,
   "id": "5d49386d",
   "metadata": {},
   "outputs": [
    {
     "name": "stdout",
     "output_type": "stream",
     "text": [
      "Количество абоненто-месяцев использования тарифов Smart и Ultra\n"
     ]
    },
    {
     "data": {
      "text/html": [
       "<div>\n",
       "<style scoped>\n",
       "    .dataframe tbody tr th:only-of-type {\n",
       "        vertical-align: middle;\n",
       "    }\n",
       "\n",
       "    .dataframe tbody tr th {\n",
       "        vertical-align: top;\n",
       "    }\n",
       "\n",
       "    .dataframe thead th {\n",
       "        text-align: right;\n",
       "    }\n",
       "</style>\n",
       "<table border=\"1\" class=\"dataframe\">\n",
       "  <thead>\n",
       "    <tr style=\"text-align: right;\">\n",
       "      <th></th>\n",
       "      <th>index</th>\n",
       "      <th>tariff</th>\n",
       "    </tr>\n",
       "  </thead>\n",
       "  <tbody>\n",
       "    <tr>\n",
       "      <th>0</th>\n",
       "      <td>smart</td>\n",
       "      <td>2229</td>\n",
       "    </tr>\n",
       "    <tr>\n",
       "      <th>1</th>\n",
       "      <td>ultra</td>\n",
       "      <td>985</td>\n",
       "    </tr>\n",
       "  </tbody>\n",
       "</table>\n",
       "</div>"
      ],
      "text/plain": [
       "   index  tariff\n",
       "0  smart    2229\n",
       "1  ultra     985"
      ]
     },
     "metadata": {},
     "output_type": "display_data"
    },
    {
     "name": "stdout",
     "output_type": "stream",
     "text": [
      "Процент абоненто-месяцев тарифа Smart: 69.4%\n",
      "Процент абоненто-месяцев тарифа Ultra: 30.6%\n"
     ]
    }
   ],
   "source": [
    "print('Количество абоненто-месяцев использования тарифов Smart и Ultra')\n",
    "display(month_pivot_table['tariff'].value_counts().reset_index())\n",
    "print(f\"Процент абоненто-месяцев тарифа Smart: {month_pivot_table.loc[month_pivot_table['tariff']=='smart', 'tariff'].count()/month_pivot_table.shape[0]:.1%}\")\n",
    "print(f\"Процент абоненто-месяцев тарифа Ultra: {month_pivot_table.loc[month_pivot_table['tariff']=='ultra', 'tariff'].count()/month_pivot_table.shape[0]:.1%}\")"
   ]
  },
  {
   "cell_type": "markdown",
   "id": "054ec197",
   "metadata": {},
   "source": [
    "Действительно, абоненто-месяцев тарифа Smart на 39% больше, чем абоненто-месяцев тарифа Ultra, что и вызвало большую величину валовой выручки для тарифа Smart."
   ]
  },
  {
   "cell_type": "markdown",
   "id": "4aba5b27",
   "metadata": {},
   "source": [
    "Построим гистограммы распределения использования в месяц количества минут, сообщений и объема интернет-траффика для пользователей тарифов Smart и Ultra."
   ]
  },
  {
   "cell_type": "code",
   "execution_count": 54,
   "id": "6e93465a",
   "metadata": {},
   "outputs": [
    {
     "data": {
      "image/png": "[encoded data removed]",
      "text/plain": [
       "<Figure size 1368x720 with 1 Axes>"
      ]
     },
     "metadata": {
      "needs_background": "light"
     },
     "output_type": "display_data"
    }
   ],
   "source": [
    "#построим гистрограмму распределения продолжительности разговоров для пользователей тарифа Smart (по 10 минут в корзине)\n",
    "ax=month_pivot_table[month_pivot_table['tariff']=='smart']['calls_duration'].plot(\n",
    "kind='hist', range=(0, 2000), bins=200, linewidth=7, label='smart', legend=True, figsize=(19, 10), grid=True, alpha=0.7)\n",
    "\n",
    "#построим гистрограмму распределения продолжительности разговоров для пользователей тарифа Ultra (по 10 минут в корзине)\n",
    "month_pivot_table[month_pivot_table['tariff']=='ultra']['calls_duration'].plot(\n",
    "kind='hist', range=(0, 2000), bins=200, linewidth=7, label='ultra', legend=True, figsize=(19, 10), grid=True, ax=ax, alpha=0.7)\n",
    "\n",
    "#добавим заголовок и названия осей\n",
    "plt.title('Рис. 1. Гистограмма распределения продолжительности разговоров в месяц для пользователей тарифов Smart и Ultra');\n",
    "plt.xlabel('Общая продолжительность звонков в месяц, минут');\n",
    "plt.ylabel('Количество случаев (абоненто-месяцев)');"
   ]
  },
  {
   "cell_type": "code",
   "execution_count": 55,
   "id": "7a1a391b",
   "metadata": {},
   "outputs": [
    {
     "data": {
      "image/png": "[encoded data removed]",
      "text/plain": [
       "<Figure size 1368x720 with 1 Axes>"
      ]
     },
     "metadata": {
      "needs_background": "light"
     },
     "output_type": "display_data"
    }
   ],
   "source": [
    "#построим гистрограмму распределения отправленных сообщений для пользователей тарифа Smart (по 5 смс в корзине)\n",
    "ax=month_pivot_table[month_pivot_table['tariff']=='smart']['messages_count'].plot(\n",
    "kind='hist', range=(0, 250), bins=50, linewidth=7, label='smart', legend=True, figsize=(19, 10), grid=True, alpha=0.7)\n",
    "\n",
    "#построим гистрограмму распределения отправленных сообщений для пользователей тарифа Ultra (по 5 смс в корзине)\n",
    "month_pivot_table[month_pivot_table['tariff']=='ultra']['messages_count'].plot(\n",
    "kind='hist', range=(0, 250), bins=50, linewidth=7, label='ultra', legend=True, figsize=(19, 10), grid=True, ax=ax, alpha=0.7)\n",
    "\n",
    "#добавим заголовок и названия осей\n",
    "plt.title('Рис. 2. Гистограмма распределения количества смс-сообщений в месяц пользователями тарифов Smart и Ultra');\n",
    "plt.xlabel('Количество отправленных сообщений в месяц');\n",
    "plt.ylabel('Количество случаев (абоненто-месяцев)');"
   ]
  },
  {
   "cell_type": "code",
   "execution_count": 56,
   "id": "cf985214",
   "metadata": {},
   "outputs": [
    {
     "data": {
      "image/png": "[encoded data removed]",
      "text/plain": [
       "<Figure size 1368x720 with 1 Axes>"
      ]
     },
     "metadata": {
      "needs_background": "light"
     },
     "output_type": "display_data"
    }
   ],
   "source": [
    "#построим гистрограмму распределения израсходованного за месяц объема интернет-траффика для пользователей тарифа Smart (по 1000 Мб в корзине)\n",
    "ax=month_pivot_table[month_pivot_table['tariff']=='smart']['mb_used'].plot(\n",
    "kind='hist', range=(0, 50000), bins=50, linewidth=3, label='smart', legend=True, figsize=(19, 10), grid=True, alpha=0.7)\n",
    "\n",
    "#построим гистрограмму распределения израсходованного за месяц объема интернет-траффика для пользователей тарифа Ultra (по 1000 Мб в корзине)\n",
    "month_pivot_table[month_pivot_table['tariff']=='ultra']['mb_used'].plot(\n",
    "kind='hist', range=(0, 50000), bins=50, linewidth=7, label='ultra', legend=True, figsize=(19, 10), grid=True, ax=ax, alpha=0.7)\n",
    "\n",
    "#добавим заголовок и названия осей\n",
    "plt.title('Рис. 3. Гистограмма распределения расходования интернет-траффика в месяц пользователями тарифов Smart и Ultra');\n",
    "plt.xlabel('Объем потраченного интернет-траффика, Мб');\n",
    "plt.ylabel('Количество случаев (абоненто-месяцев)');"
   ]
  },
  {
   "cell_type": "markdown",
   "id": "4da884e2",
   "metadata": {},
   "source": [
    "Анализируя полученные гистограммы, можно сделать следующие **выводы**:\n",
    "\n",
    "- полученные гистограммы для продолжительности звонков и объема интернет-траффика имеют вид нормального распределения, при этом характер нормального распределения для тарифа Smart выражен более ярко по сравнению с тарифом Ultra, что, вероятно, обусловлено различными объемами выборок (выборка для тарифа Smart в два раза больше, чем для тарифа Ultra);\n",
    "- распределение количества отправленных сообщений близок к распределению Пуассона, при этом характер распределения для тарифа Smart также выражен сильнее;\n",
    "- для тарифа Smart большая часть звонков длится от 210 до 590 минут. При этом количество звонков с продолжительностью более 480 минут снижается более резко, чем количество звонков увеличивается от продолжительности 210 минут до 480 минут. Звонки от 750 минут встречаются совсем редко, свыше 1000 минут - единичные случаи;\n",
    "- для тарифа Ultra звонки продолжительностью от 230 до 870 минут встречаются примерно с одинаковой частотой (около 10 абоненто месяцев на каждый интервал продолжительности с шагом 10 минут). В этом же интервале находится большая часть значений для тарифа Ultra. Реже встречаются звонки длительностью менее 230 минут, свыше 870 - еще реже и убывают к 1400 минутам;\n",
    "- пользователи тарифа Smart чаще всего отправляют от 5 до 35 сообщений в месяц. При этом наблюдается локальный пик от 40 до 50 сообщений (50 сообщений - лимит тарифного плана). При увеличении отправленного в месяц количества сообщений от 50 до 115 количество случаев снижается.  Количество сообщений в интервале 115-145 сообщений в месяц с шагом 5 сообщений встречается 2-3 раза. Больше 145 сообщений в месяц не встречается;\n",
    "- пользователи тарифа Ulra чаще всего отправляют от 15 до 30 сообщений в месяц (более 130 случаев в общей сложности). К 200 сообщениям в месяц количество случаев плавно снижается до 1 случая в корзине;\n",
    "- чаще всего пользователи тарифа Smart используют от 16000 до 17000 Мб интернет-траффика (более 175 случаев). Большая часть пользователей использует от 13000 до 20000 Мб (более 140 случаев на каждый интервал с шагом 1000 Мб). Использование более 33000 Мб пользователями тарифа Smart наблюдается в единичных случаях;\n",
    "- чаще всего пользователи тарифа Ultra используют от 13000 до 24000 Мб интернет-траффика (более 25 случаев на каждый интервал с шагом 1000 Мб). До 13000 Мб количество случаев растет (от 10 случаев в интервале от 0 до 100 Мб), после 24000 Мб снижается (до 1 случая в интервалах от 44000 Мб до 46000 Мб с шагом 1000 Мб). Как на этапе роста количества случаев, так и на этапе уменьшения наблюдаются локальные максимумы (9-12 тыс. Мб и 27-29 тыс. Мб соответственно). Максимальный объем траффика для пользователей тарифа Ultra не превышает 50000 Мб.\n"
   ]
  },
  {
   "cell_type": "markdown",
   "id": "fdd58de3",
   "metadata": {},
   "source": [
    "# 4. Проверка гипотез"
   ]
  },
  {
   "cell_type": "markdown",
   "id": "6f60c18e",
   "metadata": {},
   "source": [
    "В рамках проверки статистических гипотез требуется проверить:\n",
    "- различается ли средняя выручка от тарифов Ultra и Smart;\n",
    "- различается ли выручка от пользователей из Москвы и от пользователей из других регионов.\n",
    "\n",
    "Для проверки гипотез воспользуемся критерием Стьюдента, так как он работает для выборок любых размеров.\n",
    "\n",
    "Проверим гипотезу о различии средней выручки от тарифов Ultra и Smart.\n",
    "\n",
    "***Нулевая гипотеза***: средние выручки от пользователей тарифов Ultra и Smart равны. </br>\n",
    "***Альтернативная гипотеза***: средние выручки пользователей тарифов Ultra и Smart неравны.\n",
    "\n",
    "Примем уровень значимости α=0.01."
   ]
  },
  {
   "cell_type": "code",
   "execution_count": 57,
   "id": "5c5ea1f5",
   "metadata": {},
   "outputs": [
    {
     "name": "stdout",
     "output_type": "stream",
     "text": [
      "Вероятность получить наблюдаемый результат сравнения, если нулевая гипотеза верна: 4.2606313931076085e-250\n",
      "Результат противоречит нулевой гипотезе, отвергаем.\n"
     ]
    }
   ],
   "source": [
    "alpha=0.01\n",
    "\n",
    "#выполним проверку нулевой гипотезы о том, что выручка от тарифов Smart и Ultra одинакова\n",
    "#так как дисперсии выборок для тарифов не равны, параметру equal_var зададим значение False\n",
    "equal_revenue_check_tariffs=st.ttest_ind(month_pivot_table[month_pivot_table['tariff']=='smart']['revenue'],\n",
    "                                month_pivot_table[month_pivot_table['tariff']=='ultra']['revenue'],\n",
    "                                equal_var=False)\n",
    "\n",
    "#выведем на экран значение pvalue\n",
    "print('Вероятность получить наблюдаемый результат сравнения, если нулевая гипотеза верна:', equal_revenue_check_tariffs.pvalue)\n",
    "\n",
    "#сравним полученное значение критерия с выбранным уровнем значимости\n",
    "if equal_revenue_check_tariffs.pvalue < alpha:\n",
    "    print('Результат противоречит нулевой гипотезе, отвергаем.')\n",
    "if equal_revenue_check_tariffs.pvalue > alpha:\n",
    "    print('Результат не противоречит нулевой гипотезе, не отвергаем.')"
   ]
  },
  {
   "cell_type": "markdown",
   "id": "83b455e3",
   "metadata": {},
   "source": [
    "Проверим гипотезу о различии средней выручки пользователей из Москвы и пользователей из других регионов.\n",
    "\n",
    "***Нулевая гипотеза***: средняя выручка для пользователей из Москвы и для пользователей из других регионов одинакова. </br>\n",
    "***Альтернативная гипотеза***: средняя выручка для пользователей из Москвы и для пользователей из других регионов неодинакова.\n",
    "\n",
    "Перед началом теста определим объем выборки для пользователей из Москвы и из других регионов."
   ]
  },
  {
   "cell_type": "code",
   "execution_count": 58,
   "id": "c7984c33",
   "metadata": {
    "scrolled": true
   },
   "outputs": [
    {
     "name": "stdout",
     "output_type": "stream",
     "text": [
      "Объем выборки для пользователей из Москвы: 611\n",
      "Объем выборки для пользователей из регионов: 2603\n"
     ]
    }
   ],
   "source": [
    "print('Объем выборки для пользователей из Москвы:', month_pivot_table[month_pivot_table['city']=='Москва']['revenue'].count())\n",
    "print('Объем выборки для пользователей из регионов:', month_pivot_table[month_pivot_table['city']!='Москва']['revenue'].count())"
   ]
  },
  {
   "cell_type": "markdown",
   "id": "0260080c",
   "metadata": {},
   "source": [
    "Пользователей из регионов в 4 раза больше. При проверке нулевой гипотезы параметру equal_var зададим значение False."
   ]
  },
  {
   "cell_type": "code",
   "execution_count": 59,
   "id": "e4da1a72",
   "metadata": {},
   "outputs": [
    {
     "name": "stdout",
     "output_type": "stream",
     "text": [
      "Вероятность получить наблюдаемый результат сравнения, если нулевая гипотеза верна: 0.5257376663729298\n",
      "Результат не противоречит нулевой гипотезе, не отвергаем.\n"
     ]
    }
   ],
   "source": [
    "alpha=0.01\n",
    "\n",
    "#выполним проверку нулевой гипотезы о том, что выручка от пользователей из Москвы и пользователей из регионов одинакова\n",
    "#так как дисперсии выборок для тарифов не равны, параметру equal_var зададим значение False\n",
    "equal_revenue_check_Moscow_and_regions=st.ttest_ind(month_pivot_table[month_pivot_table['city']=='Москва']['revenue'],\n",
    "                                month_pivot_table[month_pivot_table['city']!='Москва']['revenue'],\n",
    "                                equal_var=False)\n",
    "\n",
    "#выведем на экран значение pvalue\n",
    "print('Вероятность получить наблюдаемый результат сравнения, если нулевая гипотеза верна:', equal_revenue_check_Moscow_and_regions.pvalue)\n",
    "\n",
    "#сравним полученное значение критерия с выбранным уровнем значимости\n",
    "if equal_revenue_check_Moscow_and_regions.pvalue < alpha:\n",
    "    print('Результат противоречит нулевой гипотезе, отвергаем.')\n",
    "if equal_revenue_check_Moscow_and_regions.pvalue > alpha:\n",
    "    print('Результат не противоречит нулевой гипотезе, не отвергаем.')"
   ]
  },
  {
   "cell_type": "markdown",
   "id": "ca718d35",
   "metadata": {},
   "source": [
    "**Выводы:**\n",
    "- на имеющихся данных при уровне значимости 1% есть основания отвергнуть нулевую гипотезу о равенстве средних выручек от пользователей тарифов Smart и Ultra. Средние выручки не равны. С учетом того, что значение p_value меньше половины выбранного уровня значимости и средняя выборочная выручка от продажи тарифа Ultra выше, чем от тарифа Smart, можно сделать также вывод о том, что средняя выручка от тарифа Ultra для генеральной совокупности больше, чем от тарифа Smart. В связи с этим, компании \"Мегалайн\" следует вложить больше средств в рекламу тарифа Ultra.\n",
    "- на имеющихся данных при уровне значимости 1% оснований отвергнуть нулевую гипотезу о равенстве средней выручки от пользователей из Москвы и от пользователей из регионов нет. Средние выручки равны с вероятностью 52%.\n"
   ]
  },
  {
   "cell_type": "markdown",
   "id": "921164dd",
   "metadata": {},
   "source": [
    "# 5. Общий вывод"
   ]
  },
  {
   "cell_type": "markdown",
   "id": "3c8f3e86",
   "metadata": {},
   "source": [
    "В рамках анализа выборки об абонентах компании \"Мегалайн\" выполнено:\n",
    "- для каждого из тарифов Smart и Ultra рассчитаны средние месячные показатели количества отправленных сообщений, продолжительности звонков, объема интернет-траффика; для этих же параметров определены среднеквадратические отклонения и дисперсия;\n",
    "- для каждого из тарифов Smart и Ultra получено среднемесячное значение выручки и общая валовая выручка за 2018 год;\n",
    "- на основании данных о статистике расходования минут, сообщений и мегабайт интернет-траффика выполнен анализ поведения абонентов;\n",
    "- выполнена проверка влияния места жительства абонента на среднемесячную выручку;\n",
    "- выявлен наиболее выгодный для компании тариф.\n",
    "\n",
    "В результате исследования получены следующие выводы:\n",
    "- средняя продолжительность разговоров в месяц для пользователей тарифа Smart составила 419 минут, количество отправленных смс - 39, объем интернет-траффика - 16216 Мб;\n",
    "- средняя продолжительность разговоров в месяц для пользователей тарифа Ultra составила 545 минут, количество отправленных смс - 61, объем интернет-траффика - 19668 Мб;\n",
    "- все средние (и медианные) показатели для тарифа Ultra не превышают объемов, предусмотренных тарифным планом. Для тарифа Smart в рамках тарифного плана остаются только продолжительность звонков и количество отправленных сообщений, в то время как средний объем интернет-траффика превышается предусмотренный тарифным планом на 5.6% (856 Мб), медианный - на 7.4% (1148 Мб);\n",
    "- для рассматриваемой выборки максимальная продолжительность разговора для тарифа Ultra составляет лишь 56% от предусмотренной тарифным планом, максимальное количество отправленных сообщений - 22% от предусмотренного тарифным планом;\n",
    "- все значения продолжительности разговоров и количества отправленных сообщений для тарифа Ultra не выходят за рамки установленного тарифным планом пакета. Дополнительная плата за интернет в общей сложности за 2018 год не превышает 119 тысяч, в то время как общая выручка за год от тарифа Ultra составляет 2 миллиона рублей. Основная часть выручки от тарифного плана Ultra (94%) - абонентская плата;\n",
    "- общая выручка за 2018 год от тарифа Smart составила 2.8 миллиона, из которых абонентская плата составляет 1.5 миллиона - чуть больше половины;\n",
    "- общая выручка за 2018 год от тарифа Smart больше аналогичного показателя для тарифа Ultra достигнута за счет большего количества абоненто-месяцев использования тарифа Smart (69% и 31% соответственно);\n",
    "- место жительства абонента не влияет на среднемесячную выручку компании: с вероятностью 52% средняя выручка по Москве и по регионам будет примерно одинакова;\n",
    "- среднемесячная выручка от тарифа Smart составила 1290 рублей, от тарифа Ultra составила 2070 рублей. Опираясь на результат проверки гипотез и значения среднемесячной выручки от двух тарифов, можно сделать вывод о том, что наиболее прибыльныv для компании является тариф Ultra."
   ]
  },
  {
   "cell_type": "markdown",
   "id": "ef88e573",
   "metadata": {},
   "source": [
    "<div align=\"center\"><b> КОТИК ДЛЯ РЕВЬЮЕРА :) </b></div> \n",
    "<img src=\"https://simonscat.com/wp-content/uploads/2018/03/Screen-Shot-2018-03-14-at-12.50.08.png\" align=center width=1000, heigth=100>"
   ]
  }
 ],
 "metadata": {
  "ExecuteTimeLog": [
   {
    "duration": 519,
    "start_time": "2022-06-06T18:45:54.182Z"
   },
   {
    "duration": 4,
    "start_time": "2022-06-06T18:45:54.703Z"
   },
   {
    "duration": 12,
    "start_time": "2022-06-06T18:45:54.709Z"
   },
   {
    "duration": 584,
    "start_time": "2022-06-06T18:45:54.799Z"
   },
   {
    "duration": 460,
    "start_time": "2022-06-06T18:45:55.385Z"
   },
   {
    "duration": 4,
    "start_time": "2022-06-06T18:45:57.993Z"
   },
   {
    "duration": 95,
    "start_time": "2022-06-06T18:45:58.217Z"
   },
   {
    "duration": 29,
    "start_time": "2022-06-06T18:45:58.421Z"
   },
   {
    "duration": 573,
    "start_time": "2022-06-06T18:45:58.990Z"
   },
   {
    "duration": 26,
    "start_time": "2022-06-06T18:45:59.565Z"
   },
   {
    "duration": 195,
    "start_time": "2022-06-06T18:45:59.812Z"
   },
   {
    "duration": 22,
    "start_time": "2022-06-06T18:46:00.039Z"
   },
   {
    "duration": 676,
    "start_time": "2022-06-06T18:46:00.471Z"
   },
   {
    "duration": 27,
    "start_time": "2022-06-06T18:46:01.150Z"
   },
   {
    "duration": 94,
    "start_time": "2022-06-06T18:46:01.179Z"
   },
   {
    "duration": 20,
    "start_time": "2022-06-06T18:46:01.322Z"
   },
   {
    "duration": 11,
    "start_time": "2022-06-06T18:46:02.561Z"
   },
   {
    "duration": 22,
    "start_time": "2022-06-06T18:46:02.976Z"
   },
   {
    "duration": 21,
    "start_time": "2022-06-06T18:46:03.802Z"
   },
   {
    "duration": 6,
    "start_time": "2022-06-06T18:46:04.282Z"
   },
   {
    "duration": 17,
    "start_time": "2022-06-06T18:46:05.022Z"
   },
   {
    "duration": 5,
    "start_time": "2022-06-06T18:46:05.481Z"
   },
   {
    "duration": 4,
    "start_time": "2022-06-06T18:46:06.875Z"
   },
   {
    "duration": 78,
    "start_time": "2022-06-06T18:46:08.118Z"
   },
   {
    "duration": 40,
    "start_time": "2022-06-06T18:46:08.974Z"
   },
   {
    "duration": 6,
    "start_time": "2022-06-06T18:46:09.374Z"
   },
   {
    "duration": 153,
    "start_time": "2022-06-06T18:46:10.247Z"
   },
   {
    "duration": 22,
    "start_time": "2022-06-06T18:46:10.919Z"
   },
   {
    "duration": 22,
    "start_time": "2022-06-06T18:46:11.372Z"
   },
   {
    "duration": 24,
    "start_time": "2022-06-06T18:46:11.846Z"
   },
   {
    "duration": 47,
    "start_time": "2022-06-06T18:46:13.207Z"
   },
   {
    "duration": 16,
    "start_time": "2022-06-06T18:46:14.279Z"
   },
   {
    "duration": 15,
    "start_time": "2022-06-06T18:46:15.046Z"
   },
   {
    "duration": 75,
    "start_time": "2022-06-06T18:46:16.204Z"
   },
   {
    "duration": 61,
    "start_time": "2022-06-06T18:46:17.807Z"
   },
   {
    "duration": 54,
    "start_time": "2022-06-06T18:46:19.121Z"
   },
   {
    "duration": 6,
    "start_time": "2022-06-06T18:46:19.761Z"
   },
   {
    "duration": 80,
    "start_time": "2022-06-06T18:46:21.025Z"
   },
   {
    "duration": 11,
    "start_time": "2022-06-06T18:46:22.279Z"
   },
   {
    "duration": 6,
    "start_time": "2022-06-06T18:46:23.056Z"
   },
   {
    "duration": 62,
    "start_time": "2022-06-06T18:46:27.679Z"
   },
   {
    "duration": 14,
    "start_time": "2022-06-06T18:46:28.208Z"
   },
   {
    "duration": 12,
    "start_time": "2022-06-06T18:46:29.160Z"
   },
   {
    "duration": 14,
    "start_time": "2022-06-06T18:46:31.257Z"
   },
   {
    "duration": 232,
    "start_time": "2022-06-06T18:46:34.018Z"
   },
   {
    "duration": 48,
    "start_time": "2022-06-06T18:46:41.351Z"
   },
   {
    "duration": 61,
    "start_time": "2022-06-06T18:46:44.201Z"
   },
   {
    "duration": 70,
    "start_time": "2022-06-06T18:46:54.598Z"
   },
   {
    "duration": 83,
    "start_time": "2022-06-06T18:47:00.419Z"
   },
   {
    "duration": 88,
    "start_time": "2022-06-06T18:47:05.311Z"
   },
   {
    "duration": 24,
    "start_time": "2022-06-07T12:33:36.843Z"
   },
   {
    "duration": 22,
    "start_time": "2022-06-07T12:33:43.621Z"
   },
   {
    "duration": 22,
    "start_time": "2022-06-07T12:34:00.700Z"
   },
   {
    "duration": 21,
    "start_time": "2022-06-07T12:36:20.363Z"
   },
   {
    "duration": 1151,
    "start_time": "2022-06-07T12:46:10.363Z"
   },
   {
    "duration": 3,
    "start_time": "2022-06-07T12:46:11.516Z"
   },
   {
    "duration": 89,
    "start_time": "2022-06-07T12:46:11.520Z"
   },
   {
    "duration": 10,
    "start_time": "2022-06-07T12:46:11.610Z"
   },
   {
    "duration": 210,
    "start_time": "2022-06-07T12:46:11.622Z"
   },
   {
    "duration": 23,
    "start_time": "2022-06-07T12:46:11.834Z"
   },
   {
    "duration": 265,
    "start_time": "2022-06-07T12:46:11.858Z"
   },
   {
    "duration": 15,
    "start_time": "2022-06-07T12:46:12.125Z"
   },
   {
    "duration": 296,
    "start_time": "2022-06-07T12:46:12.142Z"
   },
   {
    "duration": 19,
    "start_time": "2022-06-07T12:46:12.439Z"
   },
   {
    "duration": 60,
    "start_time": "2022-06-07T12:46:12.459Z"
   },
   {
    "duration": 8,
    "start_time": "2022-06-07T12:46:12.521Z"
   },
   {
    "duration": 21,
    "start_time": "2022-06-07T12:46:12.531Z"
   },
   {
    "duration": 19,
    "start_time": "2022-06-07T12:46:12.555Z"
   },
   {
    "duration": 13,
    "start_time": "2022-06-07T12:46:12.576Z"
   },
   {
    "duration": 6,
    "start_time": "2022-06-07T12:46:12.590Z"
   },
   {
    "duration": 18,
    "start_time": "2022-06-07T12:46:12.597Z"
   },
   {
    "duration": 24,
    "start_time": "2022-06-07T12:46:12.616Z"
   },
   {
    "duration": 11,
    "start_time": "2022-06-07T12:46:12.641Z"
   },
   {
    "duration": 44,
    "start_time": "2022-06-07T12:46:12.653Z"
   },
   {
    "duration": 28,
    "start_time": "2022-06-07T12:46:12.698Z"
   },
   {
    "duration": 5,
    "start_time": "2022-06-07T12:46:12.727Z"
   },
   {
    "duration": 104,
    "start_time": "2022-06-07T12:46:12.734Z"
   },
   {
    "duration": 13,
    "start_time": "2022-06-07T12:46:12.840Z"
   },
   {
    "duration": 25,
    "start_time": "2022-06-07T12:46:12.856Z"
   },
   {
    "duration": 18,
    "start_time": "2022-06-07T12:46:12.883Z"
   },
   {
    "duration": 41,
    "start_time": "2022-06-07T12:46:12.927Z"
   },
   {
    "duration": 14,
    "start_time": "2022-06-07T12:46:12.969Z"
   },
   {
    "duration": 5,
    "start_time": "2022-06-07T12:46:12.985Z"
   },
   {
    "duration": 80,
    "start_time": "2022-06-07T12:46:12.993Z"
   },
   {
    "duration": 37,
    "start_time": "2022-06-07T12:46:13.075Z"
   },
   {
    "duration": 48,
    "start_time": "2022-06-07T12:46:13.113Z"
   },
   {
    "duration": 6,
    "start_time": "2022-06-07T12:46:13.163Z"
   },
   {
    "duration": 77,
    "start_time": "2022-06-07T12:46:13.171Z"
   },
   {
    "duration": 26,
    "start_time": "2022-06-07T12:46:13.250Z"
   },
   {
    "duration": 10,
    "start_time": "2022-06-07T12:46:13.278Z"
   },
   {
    "duration": 56,
    "start_time": "2022-06-07T12:46:13.289Z"
   },
   {
    "duration": 9,
    "start_time": "2022-06-07T12:46:13.346Z"
   },
   {
    "duration": 12,
    "start_time": "2022-06-07T12:46:13.357Z"
   },
   {
    "duration": 14,
    "start_time": "2022-06-07T12:46:13.370Z"
   },
   {
    "duration": 179,
    "start_time": "2022-06-07T12:46:13.387Z"
   },
   {
    "duration": 24,
    "start_time": "2022-06-07T12:46:13.568Z"
   },
   {
    "duration": 5,
    "start_time": "2022-06-07T12:46:13.594Z"
   },
   {
    "duration": 8,
    "start_time": "2022-06-07T12:46:13.600Z"
   },
   {
    "duration": 28,
    "start_time": "2022-06-07T12:46:13.609Z"
   },
   {
    "duration": 41,
    "start_time": "2022-06-07T12:46:13.639Z"
   },
   {
    "duration": 8639,
    "start_time": "2022-06-07T12:46:13.681Z"
   },
   {
    "duration": 69,
    "start_time": "2022-06-07T12:46:22.322Z"
   },
   {
    "duration": 10,
    "start_time": "2022-06-07T12:46:22.392Z"
   },
   {
    "duration": 836,
    "start_time": "2022-06-07T12:46:22.403Z"
   },
   {
    "duration": 363,
    "start_time": "2022-06-07T12:46:23.240Z"
   },
   {
    "duration": 369,
    "start_time": "2022-06-07T12:46:23.605Z"
   },
   {
    "duration": 7,
    "start_time": "2022-06-07T12:46:23.976Z"
   },
   {
    "duration": 33,
    "start_time": "2022-06-07T12:46:23.984Z"
   },
   {
    "duration": 21,
    "start_time": "2022-06-07T12:46:24.019Z"
   }
  ],
  "kernelspec": {
   "display_name": "Python 3 (ipykernel)",
   "language": "python",
   "name": "python3"
  },
  "language_info": {
   "codemirror_mode": {
    "name": "ipython",
    "version": 3
   },
   "file_extension": ".py",
   "mimetype": "text/x-python",
   "name": "python",
   "nbconvert_exporter": "python",
   "pygments_lexer": "ipython3",
   "version": "3.9.12"
  },
  "toc": {
   "base_numbering": 1,
   "nav_menu": {},
   "number_sections": true,
   "sideBar": true,
   "skip_h1_title": true,
   "title_cell": "Table of Contents",
   "title_sidebar": "Contents",
   "toc_cell": false,
   "toc_position": {},
   "toc_section_display": true,
   "toc_window_display": false
  }
 },
 "nbformat": 4,
 "nbformat_minor": 5
}
