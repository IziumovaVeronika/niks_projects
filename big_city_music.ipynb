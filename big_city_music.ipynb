{
 "cells": [
  {
   "cell_type": "markdown",
   "metadata": {
    "id": "E0vqbgi9ay0H"
   },
   "source": [
    "# Яндекс.Музыка"
   ]
  },
  {
   "cell_type": "markdown",
   "metadata": {
    "id": "VUC88oWjTJw2"
   },
   "source": [
    "Сравнение Москвы и Петербурга окружено мифами. Например:\n",
    " * Москва — мегаполис, подчинённый жёсткому ритму рабочей недели;\n",
    " * Петербург — культурная столица, со своими вкусами.\n",
    "\n",
    "На данных Яндекс.Музыки вы сравните поведение пользователей двух столиц.\n",
    "\n",
    "**Цель исследования** — проверьте три гипотезы:\n",
    "1. Активность пользователей зависит от дня недели. Причём в Москве и Петербурге это проявляется по-разному.\n",
    "2. В понедельник утром в Москве преобладают одни жанры, а в Петербурге — другие. Так же и вечером пятницы преобладают разные жанры — в зависимости от города. \n",
    "3. Москва и Петербург предпочитают разные жанры музыки. В Москве чаще слушают поп-музыку, в Петербурге — русский рэп.\n",
    "\n",
    "**Ход исследования**\n",
    "\n",
    "Данные о поведении пользователей вы получите из файла `yandex_music_project.csv`. О качестве данных ничего не известно. Поэтому перед проверкой гипотез понадобится обзор данных. \n",
    "\n",
    "Вы проверите данные на ошибки и оцените их влияние на исследование. Затем, на этапе предобработки вы поищете возможность исправить самые критичные ошибки данных.\n",
    " \n",
    "Таким образом, исследование пройдёт в три этапа:\n",
    " 1. Обзор данных.\n",
    " 2. Предобработка данных.\n",
    " 3. Проверка гипотез.\n",
    "\n"
   ]
  },
  {
   "cell_type": "markdown",
   "metadata": {
    "id": "Ml1hmfXC_Zcs"
   },
   "source": [
    "## Обзор данных\n",
    "\n",
    "Составьте первое представление о данных Яндекс.Музыки.\n",
    "\n",
    "\n"
   ]
  },
  {
   "cell_type": "markdown",
   "metadata": {
    "id": "57eAOGIz_Zcs"
   },
   "source": [
    "Основной инструмент аналитика — `pandas`. Импортируйте эту библиотеку."
   ]
  },
  {
   "cell_type": "code",
   "execution_count": 1,
   "metadata": {
    "id": "AXN7PHPN_Zcs"
   },
   "outputs": [],
   "source": [
    "import pandas as pd # импорт библиотеки pandas"
   ]
  },
  {
   "cell_type": "markdown",
   "metadata": {
    "id": "SG23P8tt_Zcs"
   },
   "source": [
    "Прочитайте файл `yandex_music_project.csv` из папки `/datasets` и сохраните его в переменной `df`:"
   ]
  },
  {
   "cell_type": "code",
   "execution_count": 2,
   "metadata": {
    "id": "fFVu7vqh_Zct"
   },
   "outputs": [],
   "source": [
    "df = pd.read_csv('/datasets/yandex_music_project.csv') # чтение файла с данными и сохранение в df"
   ]
  },
  {
   "cell_type": "markdown",
   "metadata": {
    "id": "rDoOMd3uTqnZ"
   },
   "source": [
    "Выведите на экран первые десять строк таблицы:"
   ]
  },
  {
   "cell_type": "code",
   "execution_count": 3,
   "metadata": {
    "id": "oWTVX3gW_Zct"
   },
   "outputs": [
    {
     "data": {
      "text/html": [
       "<div>\n",
       "<style scoped>\n",
       "    .dataframe tbody tr th:only-of-type {\n",
       "        vertical-align: middle;\n",
       "    }\n",
       "\n",
       "    .dataframe tbody tr th {\n",
       "        vertical-align: top;\n",
       "    }\n",
       "\n",
       "    .dataframe thead th {\n",
       "        text-align: right;\n",
       "    }\n",
       "</style>\n",
       "<table border=\"1\" class=\"dataframe\">\n",
       "  <thead>\n",
       "    <tr style=\"text-align: right;\">\n",
       "      <th></th>\n",
       "      <th>userID</th>\n",
       "      <th>Track</th>\n",
       "      <th>artist</th>\n",
       "      <th>genre</th>\n",
       "      <th>City</th>\n",
       "      <th>time</th>\n",
       "      <th>Day</th>\n",
       "    </tr>\n",
       "  </thead>\n",
       "  <tbody>\n",
       "    <tr>\n",
       "      <th>0</th>\n",
       "      <td>FFB692EC</td>\n",
       "      <td>Kamigata To Boots</td>\n",
       "      <td>The Mass Missile</td>\n",
       "      <td>rock</td>\n",
       "      <td>Saint-Petersburg</td>\n",
       "      <td>20:28:33</td>\n",
       "      <td>Wednesday</td>\n",
       "    </tr>\n",
       "    <tr>\n",
       "      <th>1</th>\n",
       "      <td>55204538</td>\n",
       "      <td>Delayed Because of Accident</td>\n",
       "      <td>Andreas Rönnberg</td>\n",
       "      <td>rock</td>\n",
       "      <td>Moscow</td>\n",
       "      <td>14:07:09</td>\n",
       "      <td>Friday</td>\n",
       "    </tr>\n",
       "    <tr>\n",
       "      <th>2</th>\n",
       "      <td>20EC38</td>\n",
       "      <td>Funiculì funiculà</td>\n",
       "      <td>Mario Lanza</td>\n",
       "      <td>pop</td>\n",
       "      <td>Saint-Petersburg</td>\n",
       "      <td>20:58:07</td>\n",
       "      <td>Wednesday</td>\n",
       "    </tr>\n",
       "    <tr>\n",
       "      <th>3</th>\n",
       "      <td>A3DD03C9</td>\n",
       "      <td>Dragons in the Sunset</td>\n",
       "      <td>Fire + Ice</td>\n",
       "      <td>folk</td>\n",
       "      <td>Saint-Petersburg</td>\n",
       "      <td>08:37:09</td>\n",
       "      <td>Monday</td>\n",
       "    </tr>\n",
       "    <tr>\n",
       "      <th>4</th>\n",
       "      <td>E2DC1FAE</td>\n",
       "      <td>Soul People</td>\n",
       "      <td>Space Echo</td>\n",
       "      <td>dance</td>\n",
       "      <td>Moscow</td>\n",
       "      <td>08:34:34</td>\n",
       "      <td>Monday</td>\n",
       "    </tr>\n",
       "    <tr>\n",
       "      <th>5</th>\n",
       "      <td>842029A1</td>\n",
       "      <td>Преданная</td>\n",
       "      <td>IMPERVTOR</td>\n",
       "      <td>rusrap</td>\n",
       "      <td>Saint-Petersburg</td>\n",
       "      <td>13:09:41</td>\n",
       "      <td>Friday</td>\n",
       "    </tr>\n",
       "    <tr>\n",
       "      <th>6</th>\n",
       "      <td>4CB90AA5</td>\n",
       "      <td>True</td>\n",
       "      <td>Roman Messer</td>\n",
       "      <td>dance</td>\n",
       "      <td>Moscow</td>\n",
       "      <td>13:00:07</td>\n",
       "      <td>Wednesday</td>\n",
       "    </tr>\n",
       "    <tr>\n",
       "      <th>7</th>\n",
       "      <td>F03E1C1F</td>\n",
       "      <td>Feeling This Way</td>\n",
       "      <td>Polina Griffith</td>\n",
       "      <td>dance</td>\n",
       "      <td>Moscow</td>\n",
       "      <td>20:47:49</td>\n",
       "      <td>Wednesday</td>\n",
       "    </tr>\n",
       "    <tr>\n",
       "      <th>8</th>\n",
       "      <td>8FA1D3BE</td>\n",
       "      <td>И вновь продолжается бой</td>\n",
       "      <td>NaN</td>\n",
       "      <td>ruspop</td>\n",
       "      <td>Moscow</td>\n",
       "      <td>09:17:40</td>\n",
       "      <td>Friday</td>\n",
       "    </tr>\n",
       "    <tr>\n",
       "      <th>9</th>\n",
       "      <td>E772D5C0</td>\n",
       "      <td>Pessimist</td>\n",
       "      <td>NaN</td>\n",
       "      <td>dance</td>\n",
       "      <td>Saint-Petersburg</td>\n",
       "      <td>21:20:49</td>\n",
       "      <td>Wednesday</td>\n",
       "    </tr>\n",
       "  </tbody>\n",
       "</table>\n",
       "</div>"
      ],
      "text/plain": [
       "     userID                        Track            artist   genre  \\\n",
       "0  FFB692EC            Kamigata To Boots  The Mass Missile    rock   \n",
       "1  55204538  Delayed Because of Accident  Andreas Rönnberg    rock   \n",
       "2    20EC38            Funiculì funiculà       Mario Lanza     pop   \n",
       "3  A3DD03C9        Dragons in the Sunset        Fire + Ice    folk   \n",
       "4  E2DC1FAE                  Soul People        Space Echo   dance   \n",
       "5  842029A1                    Преданная         IMPERVTOR  rusrap   \n",
       "6  4CB90AA5                         True      Roman Messer   dance   \n",
       "7  F03E1C1F             Feeling This Way   Polina Griffith   dance   \n",
       "8  8FA1D3BE     И вновь продолжается бой               NaN  ruspop   \n",
       "9  E772D5C0                    Pessimist               NaN   dance   \n",
       "\n",
       "             City        time        Day  \n",
       "0  Saint-Petersburg  20:28:33  Wednesday  \n",
       "1            Moscow  14:07:09     Friday  \n",
       "2  Saint-Petersburg  20:58:07  Wednesday  \n",
       "3  Saint-Petersburg  08:37:09     Monday  \n",
       "4            Moscow  08:34:34     Monday  \n",
       "5  Saint-Petersburg  13:09:41     Friday  \n",
       "6            Moscow  13:00:07  Wednesday  \n",
       "7            Moscow  20:47:49  Wednesday  \n",
       "8            Moscow  09:17:40     Friday  \n",
       "9  Saint-Petersburg  21:20:49  Wednesday  "
      ]
     },
     "metadata": {},
     "output_type": "display_data"
    }
   ],
   "source": [
    "# получение первых 10 строк таблицы df\n",
    "display(df.head(10))"
   ]
  },
  {
   "cell_type": "markdown",
   "metadata": {
    "id": "EO73Kwic_Zct"
   },
   "source": [
    "Одной командой получить общую информацию о таблице:"
   ]
  },
  {
   "cell_type": "code",
   "execution_count": 4,
   "metadata": {
    "id": "DSf2kIb-_Zct"
   },
   "outputs": [
    {
     "name": "stdout",
     "output_type": "stream",
     "text": [
      "<class 'pandas.core.frame.DataFrame'>\n",
      "RangeIndex: 65079 entries, 0 to 65078\n",
      "Data columns (total 7 columns):\n",
      " #   Column    Non-Null Count  Dtype \n",
      "---  ------    --------------  ----- \n",
      " 0     userID  65079 non-null  object\n",
      " 1   Track     63848 non-null  object\n",
      " 2   artist    57876 non-null  object\n",
      " 3   genre     63881 non-null  object\n",
      " 4     City    65079 non-null  object\n",
      " 5   time      65079 non-null  object\n",
      " 6   Day       65079 non-null  object\n",
      "dtypes: object(7)\n",
      "memory usage: 3.5+ MB\n"
     ]
    }
   ],
   "source": [
    "# получение общей информации о данных в таблице df\n",
    "df.info()"
   ]
  },
  {
   "cell_type": "markdown",
   "metadata": {
    "id": "TaQ2Iwbr_Zct"
   },
   "source": [
    "Итак, в таблице семь столбцов. Тип данных во всех столбцах — `object`.\n",
    "\n",
    "Согласно документации к данным:\n",
    "* `userID` — идентификатор пользователя;\n",
    "* `Track` — название трека;  \n",
    "* `artist` — имя исполнителя;\n",
    "* `genre` — название жанра;\n",
    "* `City` — город пользователя;\n",
    "* `time` — время начала прослушивания;\n",
    "* `Day` — день недели.\n",
    "\n",
    "В названиях колонок видны три нарушения стиля:\n",
    "1. Строчные буквы сочетаются с прописными.\n",
    "2. Встречаются пробелы.\n",
    "3. Заголовок **userID** не выдержан в стиле snake_case. Более корректный вариант: **user_id**\n",
    "\n",
    "\n",
    "\n",
    "Количество значений в столбцах различается. Значит, в данных есть пропущенные значения.\n"
   ]
  },
  {
   "cell_type": "markdown",
   "metadata": {
    "id": "MCB6-dXG_Zct"
   },
   "source": [
    "**Выводы**\n",
    "\n",
    "В каждой строке таблицы — данные о прослушанном треке. Часть колонок описывает саму композицию: название, исполнителя и жанр. Остальные данные рассказывают о пользователе: из какого он города, когда он слушал музыку. \n",
    "\n",
    "Предварительно можно утверждать, что, данных достаточно для проверки гипотез. Но встречаются пропуски в данных, а в названиях колонок — расхождения с хорошим стилем.\n",
    "\n",
    "Чтобы двигаться дальше, нужно устранить проблемы в данных."
   ]
  },
  {
   "cell_type": "markdown",
   "metadata": {
    "id": "SjYF6Ub9_Zct"
   },
   "source": [
    "## Предобработка данных\n",
    "Исправьте стиль в заголовках столбцов, исключите пропуски. Затем проверьте данные на дубликаты."
   ]
  },
  {
   "cell_type": "markdown",
   "metadata": {
    "id": "dIaKXr29_Zct"
   },
   "source": [
    "### Стиль заголовков\n",
    "Выведите на экран названия столбцов:"
   ]
  },
  {
   "cell_type": "code",
   "execution_count": 5,
   "metadata": {
    "id": "oKOTdF_Q_Zct",
    "scrolled": true
   },
   "outputs": [
    {
     "data": {
      "text/plain": [
       "Index(['  userID', 'Track', 'artist', 'genre', '  City  ', 'time', 'Day'], dtype='object')"
      ]
     },
     "execution_count": 5,
     "metadata": {},
     "output_type": "execute_result"
    }
   ],
   "source": [
    "# перечень названий столбцов таблицы df\n",
    "df.columns"
   ]
  },
  {
   "cell_type": "markdown",
   "metadata": {
    "id": "zj5534cv_Zct"
   },
   "source": [
    "Приведите названия в соответствие с хорошим стилем:\n",
    "* несколько слов в названии запишите в «змеином_регистре»,\n",
    "* все символы сделайте строчными,\n",
    "* устраните пробелы.\n",
    "\n",
    "Для этого переименуйте колонки так:\n",
    "* `'  userID'` → `'user_id'`;\n",
    "* `'Track'` → `'track'`;\n",
    "* `'  City  '` → `'city'`;\n",
    "* `'Day'` → `'day'`."
   ]
  },
  {
   "cell_type": "code",
   "execution_count": 6,
   "metadata": {
    "id": "ISlFqs5y_Zct"
   },
   "outputs": [],
   "source": [
    "# переименование столбцов\n",
    "df = df.rename(columns = {'  userID':'user_id', 'Track':'track', '  City  ':'city', 'Day':'day'})"
   ]
  },
  {
   "cell_type": "markdown",
   "metadata": {
    "id": "1dqbh00J_Zct"
   },
   "source": [
    "Проверьте результат. Для этого ещё раз выведите на экран названия столбцов:"
   ]
  },
  {
   "cell_type": "code",
   "execution_count": 7,
   "metadata": {
    "id": "d4NOAmTW_Zct"
   },
   "outputs": [
    {
     "data": {
      "text/plain": [
       "Index(['user_id', 'track', 'artist', 'genre', 'city', 'time', 'day'], dtype='object')"
      ]
     },
     "execution_count": 7,
     "metadata": {},
     "output_type": "execute_result"
    }
   ],
   "source": [
    "# проверка результатов - перечень названий столбцов\n",
    "df.columns"
   ]
  },
  {
   "cell_type": "markdown",
   "metadata": {
    "id": "5ISfbcfY_Zct"
   },
   "source": [
    "### Пропуски значений\n",
    "Сначала посчитайте, сколько в таблице пропущенных значений. Для этого достаточно двух методов `pandas`:"
   ]
  },
  {
   "cell_type": "code",
   "execution_count": 8,
   "metadata": {
    "id": "RskX29qr_Zct"
   },
   "outputs": [
    {
     "data": {
      "text/plain": [
       "user_id       0\n",
       "track      1231\n",
       "artist     7203\n",
       "genre      1198\n",
       "city          0\n",
       "time          0\n",
       "day           0\n",
       "dtype: int64"
      ]
     },
     "execution_count": 8,
     "metadata": {},
     "output_type": "execute_result"
    }
   ],
   "source": [
    "# подсчёт пропусков\n",
    "df.isna().sum()"
   ]
  },
  {
   "cell_type": "markdown",
   "metadata": {
    "id": "qubhgnlO_Zct"
   },
   "source": [
    "Не все пропущенные значения влияют на исследование. Так в `track` и `artist` пропуски не важны для вашей работы. Достаточно заменить их явными обозначениями.\n",
    "\n",
    "Но пропуски в `genre` могут помешать сравнению музыкальных вкусов в Москве и Санкт-Петербурге. На практике было бы правильно установить причину пропусков и восстановить данные. Такой возможности нет в учебном проекте. Придётся:\n",
    "* заполнить и эти пропуски явными обозначениями,\n",
    "* оценить, насколько они повредят расчётам. "
   ]
  },
  {
   "cell_type": "markdown",
   "metadata": {
    "id": "fSv2laPA_Zct"
   },
   "source": [
    "Замените пропущенные значения в столбцах `track`, `artist` и `genre` на строку `'unknown'`. Для этого создайте список `columns_to_replace`, переберите его элементы циклом `for` и для каждого столбца выполните замену пропущенных значений:"
   ]
  },
  {
   "cell_type": "code",
   "execution_count": 9,
   "metadata": {
    "id": "KplB5qWs_Zct"
   },
   "outputs": [],
   "source": [
    "# перебор названий столбцов в цикле и замена пропущенных значений на 'unknown'\n",
    "columns_to_replace = ['track', 'artist', 'genre']\n",
    "for name in columns_to_replace:\n",
    "    df[name] = df[name].fillna('unknown')"
   ]
  },
  {
   "cell_type": "markdown",
   "metadata": {
    "id": "Ilsm-MZo_Zct"
   },
   "source": [
    "Убедитесь, что в таблице не осталось пропусков. Для этого ещё раз посчитайте пропущенные значения."
   ]
  },
  {
   "cell_type": "code",
   "execution_count": 10,
   "metadata": {
    "id": "Tq4nYRX4_Zct"
   },
   "outputs": [
    {
     "data": {
      "text/plain": [
       "user_id    0\n",
       "track      0\n",
       "artist     0\n",
       "genre      0\n",
       "city       0\n",
       "time       0\n",
       "day        0\n",
       "dtype: int64"
      ]
     },
     "execution_count": 10,
     "metadata": {},
     "output_type": "execute_result"
    }
   ],
   "source": [
    "# подсчёт пропусков\n",
    "df.isna().sum()"
   ]
  },
  {
   "cell_type": "markdown",
   "metadata": {
    "id": "BWKRtBJ3_Zct"
   },
   "source": [
    "### Дубликаты\n",
    "Посчитайте явные дубликаты в таблице одной командой:"
   ]
  },
  {
   "cell_type": "code",
   "execution_count": 11,
   "metadata": {
    "id": "36eES_S0_Zct"
   },
   "outputs": [
    {
     "data": {
      "text/plain": [
       "3826"
      ]
     },
     "execution_count": 11,
     "metadata": {},
     "output_type": "execute_result"
    }
   ],
   "source": [
    "# подсчёт явных дубликатов\n",
    "df.duplicated().sum()"
   ]
  },
  {
   "cell_type": "markdown",
   "metadata": {
    "id": "Ot25h6XR_Zct"
   },
   "source": [
    "Вызовите специальный метод `pandas`, чтобы удалить явные дубликаты:"
   ]
  },
  {
   "cell_type": "code",
   "execution_count": 12,
   "metadata": {
    "id": "exFHq6tt_Zct"
   },
   "outputs": [],
   "source": [
    "# удаление явных дубликатов (с удалением старых индексов и формированием новых)\n",
    "df = df.drop_duplicates().reset_index(drop = True)"
   ]
  },
  {
   "cell_type": "markdown",
   "metadata": {
    "id": "Im2YwBEG_Zct"
   },
   "source": [
    "Ещё раз посчитайте явные дубликаты в таблице — убедитесь, что полностью от них избавились:"
   ]
  },
  {
   "cell_type": "code",
   "execution_count": 13,
   "metadata": {
    "id": "-8PuNWQ0_Zct"
   },
   "outputs": [
    {
     "data": {
      "text/plain": [
       "0"
      ]
     },
     "execution_count": 13,
     "metadata": {},
     "output_type": "execute_result"
    }
   ],
   "source": [
    "# проверка на отсутствие дубликатов\n",
    "df.duplicated().sum()"
   ]
  },
  {
   "cell_type": "markdown",
   "metadata": {
    "id": "QlFBsxAr_Zct"
   },
   "source": [
    "Теперь избавьтесь от неявных дубликатов в колонке `genre`. Например, название одного и того же жанра может быть записано немного по-разному. Такие ошибки тоже повлияют на результат исследования."
   ]
  },
  {
   "cell_type": "markdown",
   "metadata": {
    "id": "eSjWwsOh_Zct"
   },
   "source": [
    "Выведите на экран список уникальных названий жанров, отсортированный в алфавитном порядке. Для этого:\n",
    "* извлеките нужный столбец датафрейма, \n",
    "* примените к нему метод сортировки,\n",
    "* для отсортированного столбца вызовите метод, который вернёт уникальные значения из столбца."
   ]
  },
  {
   "cell_type": "code",
   "execution_count": 14,
   "metadata": {
    "id": "JIUcqzZN_Zct"
   },
   "outputs": [
    {
     "data": {
      "text/plain": [
       "array(['acid', 'acoustic', 'action', 'adult', 'africa', 'afrikaans',\n",
       "       'alternative', 'alternativepunk', 'ambient', 'americana',\n",
       "       'animated', 'anime', 'arabesk', 'arabic', 'arena',\n",
       "       'argentinetango', 'art', 'audiobook', 'author', 'avantgarde',\n",
       "       'axé', 'baile', 'balkan', 'beats', 'bigroom', 'black', 'bluegrass',\n",
       "       'blues', 'bollywood', 'bossa', 'brazilian', 'breakbeat', 'breaks',\n",
       "       'broadway', 'cantautori', 'cantopop', 'canzone', 'caribbean',\n",
       "       'caucasian', 'celtic', 'chamber', 'chanson', 'children', 'chill',\n",
       "       'chinese', 'choral', 'christian', 'christmas', 'classical',\n",
       "       'classicmetal', 'club', 'colombian', 'comedy', 'conjazz',\n",
       "       'contemporary', 'country', 'cuban', 'dance', 'dancehall',\n",
       "       'dancepop', 'dark', 'death', 'deep', 'deutschrock', 'deutschspr',\n",
       "       'dirty', 'disco', 'dnb', 'documentary', 'downbeat', 'downtempo',\n",
       "       'drum', 'dub', 'dubstep', 'eastern', 'easy', 'electronic',\n",
       "       'electropop', 'emo', 'entehno', 'epicmetal', 'estrada', 'ethnic',\n",
       "       'eurofolk', 'european', 'experimental', 'extrememetal', 'fado',\n",
       "       'fairytail', 'film', 'fitness', 'flamenco', 'folk', 'folklore',\n",
       "       'folkmetal', 'folkrock', 'folktronica', 'forró', 'frankreich',\n",
       "       'französisch', 'french', 'funk', 'future', 'gangsta', 'garage',\n",
       "       'german', 'ghazal', 'gitarre', 'glitch', 'gospel', 'gothic',\n",
       "       'grime', 'grunge', 'gypsy', 'handsup', \"hard'n'heavy\", 'hardcore',\n",
       "       'hardstyle', 'hardtechno', 'hip', 'hip-hop', 'hiphop',\n",
       "       'historisch', 'holiday', 'hop', 'horror', 'house', 'hymn', 'idm',\n",
       "       'independent', 'indian', 'indie', 'indipop', 'industrial',\n",
       "       'inspirational', 'instrumental', 'international', 'irish', 'jam',\n",
       "       'japanese', 'jazz', 'jewish', 'jpop', 'jungle', 'k-pop',\n",
       "       'karadeniz', 'karaoke', 'kayokyoku', 'korean', 'laiko', 'latin',\n",
       "       'latino', 'leftfield', 'local', 'lounge', 'loungeelectronic',\n",
       "       'lovers', 'malaysian', 'mandopop', 'marschmusik', 'meditative',\n",
       "       'mediterranean', 'melodic', 'metal', 'metalcore', 'mexican',\n",
       "       'middle', 'minimal', 'miscellaneous', 'modern', 'mood', 'mpb',\n",
       "       'muslim', 'native', 'neoklassik', 'neue', 'new', 'newage',\n",
       "       'newwave', 'nu', 'nujazz', 'numetal', 'oceania', 'old', 'opera',\n",
       "       'orchestral', 'other', 'piano', 'podcasts', 'pop', 'popdance',\n",
       "       'popelectronic', 'popeurodance', 'poprussian', 'post',\n",
       "       'posthardcore', 'postrock', 'power', 'progmetal', 'progressive',\n",
       "       'psychedelic', 'punjabi', 'punk', 'quebecois', 'ragga', 'ram',\n",
       "       'rancheras', 'rap', 'rave', 'reggae', 'reggaeton', 'regional',\n",
       "       'relax', 'religious', 'retro', 'rhythm', 'rnb', 'rnr', 'rock',\n",
       "       'rockabilly', 'rockalternative', 'rockindie', 'rockother',\n",
       "       'romance', 'roots', 'ruspop', 'rusrap', 'rusrock', 'russian',\n",
       "       'salsa', 'samba', 'scenic', 'schlager', 'self', 'sertanejo',\n",
       "       'shanson', 'shoegazing', 'showtunes', 'singer', 'ska', 'skarock',\n",
       "       'slow', 'smooth', 'soft', 'soul', 'soulful', 'sound', 'soundtrack',\n",
       "       'southern', 'specialty', 'speech', 'spiritual', 'sport',\n",
       "       'stonerrock', 'surf', 'swing', 'synthpop', 'synthrock',\n",
       "       'sängerportrait', 'tango', 'tanzorchester', 'taraftar', 'tatar',\n",
       "       'tech', 'techno', 'teen', 'thrash', 'top', 'traditional',\n",
       "       'tradjazz', 'trance', 'tribal', 'trip', 'triphop', 'tropical',\n",
       "       'türk', 'türkçe', 'ukrrock', 'unknown', 'urban', 'uzbek',\n",
       "       'variété', 'vi', 'videogame', 'vocal', 'western', 'world',\n",
       "       'worldbeat', 'ïîï', 'электроника'], dtype=object)"
      ]
     },
     "execution_count": 14,
     "metadata": {},
     "output_type": "execute_result"
    }
   ],
   "source": [
    "# Просмотр уникальных названий жанров\n",
    "df['genre'].sort_values().unique()"
   ]
  },
  {
   "cell_type": "markdown",
   "metadata": {
    "id": "qej-Qmuo_Zct"
   },
   "source": [
    "Просмотрите список и найдите неявные дубликаты названия `hiphop`. Это могут быть названия с ошибками или альтернативные названия того же жанра.\n",
    "\n",
    "Вы увидите следующие неявные дубликаты:\n",
    "* *hip*,\n",
    "* *hop*,\n",
    "* *hip-hop*.\n",
    "\n",
    "**!** *Кроме предложенных Практикумом дубликатов обнаружен еще один дубликат: electronic - электроника.*\n",
    "\n",
    "Чтобы очистить от них таблицу, напишите функцию `replace_wrong_genres()` с двумя параметрами: \n",
    "* `wrong_genres` — список дубликатов,\n",
    "* `correct_genre` — строка с правильным значением.\n",
    "\n",
    "Функция должна исправить колонку `genre` в таблице `df`: заменить каждое значение из списка `wrong_genres` на значение из `correct_genre`."
   ]
  },
  {
   "cell_type": "code",
   "execution_count": 15,
   "metadata": {
    "id": "ErNDkmns_Zct"
   },
   "outputs": [],
   "source": [
    "# Функция для замены неявных дубликатов\n",
    "# Так как дубликаты найдены для нескольких жанров, захотелось сделать почти универсальную функцию :))\n",
    "# wrong_name_genres - список списков дубликатов (в каждом подсписке дубликаты для определенного жанра)\n",
    "# correct_name_genres - список с корректными именами жанров\n",
    "def remove_hidden_duplicates(wrong_name_genres, correct_name_genres):\n",
    "    for i, corr_name in enumerate(correct_name_genres):\n",
    "        for name in wrong_name_genres[i]:\n",
    "            df['genre'] = df['genre'].replace(name, corr_name)\n",
    "    #i = -1 # итератор для выбора соответствующих значений из списка с корректными именами\n",
    "    #for genre in wrong_name_genres: #genre - список с дубликатами для каждого жанра\n",
    "        # i+=1\n",
    "        #for name in genre: #name - дубликат из списка с дубликатами\n",
    "            #df['genre'] = df['genre'].replace(name, correct_name_genres[i])"
   ]
  },
  {
   "cell_type": "markdown",
   "metadata": {
    "id": "aDoBJxbA_Zct"
   },
   "source": [
    "Вызовите `replace_wrong_genres()` и передайте ей такие аргументы, чтобы она устранила неявные дубликаты: вместо `hip`, `hop` и `hip-hop` в таблице должно быть значение `hiphop`:"
   ]
  },
  {
   "cell_type": "code",
   "execution_count": 16,
   "metadata": {
    "id": "YN5i2hpmSo09"
   },
   "outputs": [],
   "source": [
    "# Устранение неявных дубликатов\n",
    "wrong_genres = [['hip', 'hop', 'hip-hop'],['электроника']]\n",
    "correct_genres = ['hiphop', 'electronic']\n",
    "remove_hidden_duplicates(wrong_genres, correct_genres)\n"
   ]
  },
  {
   "cell_type": "markdown",
   "metadata": {
    "id": "zQKF16_RG15m"
   },
   "source": [
    "Проверьте, что заменили неправильные названия:\n",
    "\n",
    "*   hip\n",
    "*   hop\n",
    "*   hip-hop\n",
    "\n",
    "Выведите отсортированный список уникальных значений столбца `genre`:"
   ]
  },
  {
   "cell_type": "code",
   "execution_count": 17,
   "metadata": {
    "id": "wvixALnFG15m"
   },
   "outputs": [
    {
     "data": {
      "text/plain": [
       "array(['acid', 'acoustic', 'action', 'adult', 'africa', 'afrikaans',\n",
       "       'alternative', 'alternativepunk', 'ambient', 'americana',\n",
       "       'animated', 'anime', 'arabesk', 'arabic', 'arena',\n",
       "       'argentinetango', 'art', 'audiobook', 'author', 'avantgarde',\n",
       "       'axé', 'baile', 'balkan', 'beats', 'bigroom', 'black', 'bluegrass',\n",
       "       'blues', 'bollywood', 'bossa', 'brazilian', 'breakbeat', 'breaks',\n",
       "       'broadway', 'cantautori', 'cantopop', 'canzone', 'caribbean',\n",
       "       'caucasian', 'celtic', 'chamber', 'chanson', 'children', 'chill',\n",
       "       'chinese', 'choral', 'christian', 'christmas', 'classical',\n",
       "       'classicmetal', 'club', 'colombian', 'comedy', 'conjazz',\n",
       "       'contemporary', 'country', 'cuban', 'dance', 'dancehall',\n",
       "       'dancepop', 'dark', 'death', 'deep', 'deutschrock', 'deutschspr',\n",
       "       'dirty', 'disco', 'dnb', 'documentary', 'downbeat', 'downtempo',\n",
       "       'drum', 'dub', 'dubstep', 'eastern', 'easy', 'electronic',\n",
       "       'electropop', 'emo', 'entehno', 'epicmetal', 'estrada', 'ethnic',\n",
       "       'eurofolk', 'european', 'experimental', 'extrememetal', 'fado',\n",
       "       'fairytail', 'film', 'fitness', 'flamenco', 'folk', 'folklore',\n",
       "       'folkmetal', 'folkrock', 'folktronica', 'forró', 'frankreich',\n",
       "       'französisch', 'french', 'funk', 'future', 'gangsta', 'garage',\n",
       "       'german', 'ghazal', 'gitarre', 'glitch', 'gospel', 'gothic',\n",
       "       'grime', 'grunge', 'gypsy', 'handsup', \"hard'n'heavy\", 'hardcore',\n",
       "       'hardstyle', 'hardtechno', 'hiphop', 'historisch', 'holiday',\n",
       "       'horror', 'house', 'hymn', 'idm', 'independent', 'indian', 'indie',\n",
       "       'indipop', 'industrial', 'inspirational', 'instrumental',\n",
       "       'international', 'irish', 'jam', 'japanese', 'jazz', 'jewish',\n",
       "       'jpop', 'jungle', 'k-pop', 'karadeniz', 'karaoke', 'kayokyoku',\n",
       "       'korean', 'laiko', 'latin', 'latino', 'leftfield', 'local',\n",
       "       'lounge', 'loungeelectronic', 'lovers', 'malaysian', 'mandopop',\n",
       "       'marschmusik', 'meditative', 'mediterranean', 'melodic', 'metal',\n",
       "       'metalcore', 'mexican', 'middle', 'minimal', 'miscellaneous',\n",
       "       'modern', 'mood', 'mpb', 'muslim', 'native', 'neoklassik', 'neue',\n",
       "       'new', 'newage', 'newwave', 'nu', 'nujazz', 'numetal', 'oceania',\n",
       "       'old', 'opera', 'orchestral', 'other', 'piano', 'podcasts', 'pop',\n",
       "       'popdance', 'popelectronic', 'popeurodance', 'poprussian', 'post',\n",
       "       'posthardcore', 'postrock', 'power', 'progmetal', 'progressive',\n",
       "       'psychedelic', 'punjabi', 'punk', 'quebecois', 'ragga', 'ram',\n",
       "       'rancheras', 'rap', 'rave', 'reggae', 'reggaeton', 'regional',\n",
       "       'relax', 'religious', 'retro', 'rhythm', 'rnb', 'rnr', 'rock',\n",
       "       'rockabilly', 'rockalternative', 'rockindie', 'rockother',\n",
       "       'romance', 'roots', 'ruspop', 'rusrap', 'rusrock', 'russian',\n",
       "       'salsa', 'samba', 'scenic', 'schlager', 'self', 'sertanejo',\n",
       "       'shanson', 'shoegazing', 'showtunes', 'singer', 'ska', 'skarock',\n",
       "       'slow', 'smooth', 'soft', 'soul', 'soulful', 'sound', 'soundtrack',\n",
       "       'southern', 'specialty', 'speech', 'spiritual', 'sport',\n",
       "       'stonerrock', 'surf', 'swing', 'synthpop', 'synthrock',\n",
       "       'sängerportrait', 'tango', 'tanzorchester', 'taraftar', 'tatar',\n",
       "       'tech', 'techno', 'teen', 'thrash', 'top', 'traditional',\n",
       "       'tradjazz', 'trance', 'tribal', 'trip', 'triphop', 'tropical',\n",
       "       'türk', 'türkçe', 'ukrrock', 'unknown', 'urban', 'uzbek',\n",
       "       'variété', 'vi', 'videogame', 'vocal', 'western', 'world',\n",
       "       'worldbeat', 'ïîï'], dtype=object)"
      ]
     },
     "execution_count": 17,
     "metadata": {},
     "output_type": "execute_result"
    }
   ],
   "source": [
    "# Проверка на неявные дубликаты\n",
    "df = df.sort_values(by = 'genre')\n",
    "df['genre'].unique()"
   ]
  },
  {
   "cell_type": "markdown",
   "metadata": {
    "id": "jz6a9-7HQUDd"
   },
   "source": [
    "**Выводы**\n",
    "\n",
    "Предобработка обнаружила три проблемы в данных:\n",
    "\n",
    "- нарушения в стиле заголовков,\n",
    "- пропущенные значения,\n",
    "- дубликаты — явные и неявные.\n",
    "\n",
    "Вы исправили заголовки, чтобы упростить работу с таблицей. Без дубликатов исследование станет более точным.\n",
    "\n",
    "Пропущенные значения вы заменили на `'unknown'`. Ещё предстоит увидеть, не повредят ли исследованию пропуски в колонке `genre`.\n",
    "\n",
    "Теперь можно перейти к проверке гипотез. "
   ]
  },
  {
   "cell_type": "markdown",
   "metadata": {
    "id": "WttZHXH0SqKk"
   },
   "source": [
    "## Проверка гипотез"
   ]
  },
  {
   "cell_type": "markdown",
   "metadata": {
    "id": "Im936VVi_Zcu"
   },
   "source": [
    "### Сравнение поведения пользователей двух столиц"
   ]
  },
  {
   "cell_type": "markdown",
   "metadata": {
    "id": "nwt_MuaL_Zcu"
   },
   "source": [
    "Первая гипотеза утверждает, что пользователи по-разному слушают музыку в Москве и Санкт-Петербурге. Проверьте это предположение по данным о трёх днях недели — понедельнике, среде и пятнице. Для этого:\n",
    "\n",
    "* Разделите пользователей Москвы и Санкт-Петербурга\n",
    "* Сравните, сколько треков послушала каждая группа пользователей в понедельник, среду и пятницу.\n"
   ]
  },
  {
   "cell_type": "markdown",
   "metadata": {
    "id": "8Dw_YMmT_Zcu"
   },
   "source": [
    "Для тренировки сначала выполните каждый из расчётов по отдельности. \n",
    "\n",
    "Оцените активность пользователей в каждом городе. Сгруппируйте данные по городу и посчитайте прослушивания в каждой группе.\n",
    "\n"
   ]
  },
  {
   "cell_type": "code",
   "execution_count": 18,
   "metadata": {
    "id": "0_Qs96oh_Zcu"
   },
   "outputs": [
    {
     "name": "stdout",
     "output_type": "stream",
     "text": [
      "Прослушано за неделю:\n"
     ]
    },
    {
     "data": {
      "text/plain": [
       "city\n",
       "Moscow              42741\n",
       "Saint-Petersburg    18512\n",
       "Name: user_id, dtype: int64"
      ]
     },
     "execution_count": 18,
     "metadata": {},
     "output_type": "execute_result"
    }
   ],
   "source": [
    "# Подсчёт прослушиваний в каждом городе\n",
    "print('Прослушано за неделю:')\n",
    "df.groupby('city')['user_id'].count()"
   ]
  },
  {
   "cell_type": "markdown",
   "metadata": {
    "id": "dzli3w8o_Zcu"
   },
   "source": [
    "В Москве прослушиваний больше, чем в Петербурге. Из этого не следует, что московские пользователи чаще слушают музыку. Просто самих пользователей в Москве больше.\n",
    "\n",
    "Теперь сгруппируйте данные по дню недели и подсчитайте прослушивания в понедельник, среду и пятницу. Учтите, что в данных есть информация о прослушиваниях только за эти дни.\n"
   ]
  },
  {
   "cell_type": "code",
   "execution_count": 19,
   "metadata": {
    "id": "uZMKjiJz_Zcu"
   },
   "outputs": [
    {
     "name": "stdout",
     "output_type": "stream",
     "text": [
      "Общее количество прослушиваний в пн, ср, пт среди всех жителей СПб и Мск\n"
     ]
    },
    {
     "data": {
      "text/plain": [
       "day\n",
       "Friday       21840\n",
       "Monday       21354\n",
       "Wednesday    18059\n",
       "Name: user_id, dtype: int64"
      ]
     },
     "execution_count": 19,
     "metadata": {},
     "output_type": "execute_result"
    }
   ],
   "source": [
    "# Подсчёт прослушиваний в каждый из трёх дней\n",
    "print('Общее количество прослушиваний в пн, ср, пт среди всех жителей СПб и Мск')\n",
    "df.groupby('day')['user_id'].count()"
   ]
  },
  {
   "cell_type": "markdown",
   "metadata": {
    "id": "cC2tNrlL_Zcu"
   },
   "source": [
    "В среднем пользователи из двух городов менее активны по средам. Но картина может измениться, если рассмотреть каждый город в отдельности."
   ]
  },
  {
   "cell_type": "markdown",
   "metadata": {
    "id": "POzs8bGa_Zcu"
   },
   "source": [
    "Вы видели, как работает группировка по городу и по дням недели. Теперь напишите функцию, которая объединит два эти расчёта.\n",
    "\n",
    "Создайте функцию `number_tracks()`, которая посчитает прослушивания для заданного дня и города. Ей понадобятся два параметра:\n",
    "* день недели,\n",
    "* название города.\n",
    "\n",
    "В функции сохраните в переменную строки исходной таблицы, у которых значение:\n",
    "  * в колонке `day` равно параметру `day`,\n",
    "  * в колонке `city` равно параметру `city`.\n",
    "\n",
    "Для этого примените последовательную фильтрацию с логической индексацией.\n",
    "\n",
    "Затем посчитайте значения в столбце `user_id` получившейся таблицы. Результат сохраните в новую переменную. Верните эту переменную из функции."
   ]
  },
  {
   "cell_type": "code",
   "execution_count": 20,
   "metadata": {
    "id": "Nz3GdQB1_Zcu"
   },
   "outputs": [],
   "source": [
    "# <создание функции number_tracks()>\n",
    "# Объявляется функция с двумя параметрами: day, city.\n",
    "# В переменной track_list сохраняются те строки таблицы df, для которых \n",
    "# значение в столбце 'day' равно параметру day и одновременно значение\n",
    "# в столбце 'city' равно параметру city (используйте последовательную фильтрацию\n",
    "# с помощью логической индексации).\n",
    "# В переменной track_list_count сохраняется число значений столбца 'user_id',\n",
    "# рассчитанное методом count() для таблицы track_list.\n",
    "# Функция возвращает число - значение track_list_count.\n",
    "# Функция для подсчёта прослушиваний для конкретного города и дня.\n",
    "# С помощью последовательной фильтрации с логической индексацией она \n",
    "# сначала получит из исходной таблицы строки с нужным днём,\n",
    "# затем из результата отфильтрует строки с нужным городом,\n",
    "# методом count() посчитает количество значений в колонке user_id. \n",
    "# Это количество функция вернёт в качестве результата\n",
    "def number_tracks(day, city):\n",
    "    track_list = df[df['day'] == day]\n",
    "    track_list = track_list[track_list['city'] == city]\n",
    "    track_list_count = track_list['user_id'].count()\n",
    "    return track_list_count"
   ]
  },
  {
   "cell_type": "markdown",
   "metadata": {
    "id": "ytf7xFrFJQ2r"
   },
   "source": [
    "Вызовите `number_tracks()` шесть раз, меняя значение параметров — так, чтобы получить данные для каждого города в каждый из трёх дней."
   ]
  },
  {
   "cell_type": "code",
   "execution_count": 21,
   "metadata": {
    "id": "rJcRATNQ_Zcu"
   },
   "outputs": [
    {
     "data": {
      "text/plain": [
       "15740"
      ]
     },
     "execution_count": 21,
     "metadata": {},
     "output_type": "execute_result"
    }
   ],
   "source": [
    "# количество прослушиваний в Москве по понедельникам\n",
    "mon_msk = number_tracks('Monday', 'Moscow')\n",
    "mon_msk"
   ]
  },
  {
   "cell_type": "code",
   "execution_count": 22,
   "metadata": {
    "id": "hq_ncZ5T_Zcu"
   },
   "outputs": [
    {
     "data": {
      "text/plain": [
       "5614"
      ]
     },
     "execution_count": 22,
     "metadata": {},
     "output_type": "execute_result"
    }
   ],
   "source": [
    "# количество прослушиваний в Санкт-Петербурге по понедельникам\n",
    "mon_spb = number_tracks('Monday', 'Saint-Petersburg')\n",
    "mon_spb"
   ]
  },
  {
   "cell_type": "code",
   "execution_count": 23,
   "metadata": {
    "id": "_NTy2VPU_Zcu"
   },
   "outputs": [
    {
     "data": {
      "text/plain": [
       "11056"
      ]
     },
     "execution_count": 23,
     "metadata": {},
     "output_type": "execute_result"
    }
   ],
   "source": [
    "# количество прослушиваний в Москве по средам\n",
    "wed_msk = number_tracks('Wednesday', 'Moscow')\n",
    "wed_msk"
   ]
  },
  {
   "cell_type": "code",
   "execution_count": 24,
   "metadata": {
    "id": "j2y3TAwo_Zcu"
   },
   "outputs": [
    {
     "data": {
      "text/plain": [
       "7003"
      ]
     },
     "execution_count": 24,
     "metadata": {},
     "output_type": "execute_result"
    }
   ],
   "source": [
    "# количество прослушиваний в Санкт-Петербурге по средам\n",
    "wed_spb = number_tracks('Wednesday', 'Saint-Petersburg')\n",
    "wed_spb"
   ]
  },
  {
   "cell_type": "code",
   "execution_count": 25,
   "metadata": {
    "id": "vYDw5u_K_Zcu"
   },
   "outputs": [
    {
     "data": {
      "text/plain": [
       "15945"
      ]
     },
     "execution_count": 25,
     "metadata": {},
     "output_type": "execute_result"
    }
   ],
   "source": [
    "# количество прослушиваний в Москве по пятницам\n",
    "fri_msk = number_tracks('Friday', 'Moscow')\n",
    "fri_msk"
   ]
  },
  {
   "cell_type": "code",
   "execution_count": 26,
   "metadata": {
    "id": "8_yzFtW3_Zcu"
   },
   "outputs": [
    {
     "data": {
      "text/plain": [
       "5895"
      ]
     },
     "execution_count": 26,
     "metadata": {},
     "output_type": "execute_result"
    }
   ],
   "source": [
    "# количество прослушиваний в Санкт-Петербурге по пятницам\n",
    "fri_spb = number_tracks('Friday', 'Saint-Petersburg')\n",
    "fri_spb"
   ]
  },
  {
   "cell_type": "markdown",
   "metadata": {
    "id": "7QXffbO-_Zcu"
   },
   "source": [
    "Создайте c помощью конструктора `pd.DataFrame` таблицу, где\n",
    "* названия колонок — `['city', 'monday', 'wednesday', 'friday']`;\n",
    "* данные — результаты, которые вы получили с помощью `number_tracks`."
   ]
  },
  {
   "cell_type": "code",
   "execution_count": 27,
   "metadata": {
    "id": "APAcLpOr_Zcu"
   },
   "outputs": [
    {
     "data": {
      "text/html": [
       "<div>\n",
       "<style scoped>\n",
       "    .dataframe tbody tr th:only-of-type {\n",
       "        vertical-align: middle;\n",
       "    }\n",
       "\n",
       "    .dataframe tbody tr th {\n",
       "        vertical-align: top;\n",
       "    }\n",
       "\n",
       "    .dataframe thead th {\n",
       "        text-align: right;\n",
       "    }\n",
       "</style>\n",
       "<table border=\"1\" class=\"dataframe\">\n",
       "  <thead>\n",
       "    <tr style=\"text-align: right;\">\n",
       "      <th></th>\n",
       "      <th>city</th>\n",
       "      <th>monday</th>\n",
       "      <th>wednesday</th>\n",
       "      <th>friday</th>\n",
       "    </tr>\n",
       "  </thead>\n",
       "  <tbody>\n",
       "    <tr>\n",
       "      <th>0</th>\n",
       "      <td>Moscow</td>\n",
       "      <td>15740</td>\n",
       "      <td>11056</td>\n",
       "      <td>15945</td>\n",
       "    </tr>\n",
       "    <tr>\n",
       "      <th>1</th>\n",
       "      <td>Saint-Petersburg</td>\n",
       "      <td>5614</td>\n",
       "      <td>7003</td>\n",
       "      <td>5895</td>\n",
       "    </tr>\n",
       "  </tbody>\n",
       "</table>\n",
       "</div>"
      ],
      "text/plain": [
       "               city  monday  wednesday  friday\n",
       "0            Moscow   15740      11056   15945\n",
       "1  Saint-Petersburg    5614       7003    5895"
      ]
     },
     "metadata": {},
     "output_type": "display_data"
    }
   ],
   "source": [
    "# Таблица с результатами\n",
    "columns_name = ['city', 'monday', 'wednesday', 'friday']\n",
    "data = [\n",
    "    ['Moscow', mon_msk, wed_msk, fri_msk], \n",
    "    ['Saint-Petersburg', mon_spb, wed_spb, fri_spb]\n",
    "]\n",
    "pivot_table = pd.DataFrame(data = data, columns = columns_name) #создание сводной таблицы\n",
    "display(pivot_table)\n"
   ]
  },
  {
   "cell_type": "markdown",
   "metadata": {
    "id": "-EgPIHYu_Zcu"
   },
   "source": [
    "**Выводы**\n",
    "\n",
    "Данные показывают разницу поведения пользователей:\n",
    "\n",
    "- В Москве пик прослушиваний приходится на понедельник и пятницу, а в среду заметен спад.\n",
    "- В Петербурге, наоборот, больше слушают музыку по средам. Активность в понедельник и пятницу здесь почти в равной мере уступает среде.\n",
    "\n",
    "Значит, данные говорят в пользу первой гипотезы."
   ]
  },
  {
   "cell_type": "markdown",
   "metadata": {
    "id": "atZAxtq4_Zcu"
   },
   "source": [
    "### Музыка в начале и в конце недели"
   ]
  },
  {
   "cell_type": "markdown",
   "metadata": {
    "id": "eXrQqXFH_Zcu"
   },
   "source": [
    "Согласно второй гипотезе, утром в понедельник в Москве преобладают одни жанры, а в Петербурге — другие. Так же и вечером пятницы преобладают разные жанры — в зависимости от города."
   ]
  },
  {
   "cell_type": "markdown",
   "metadata": {
    "id": "S8UcW6Hw_Zcu"
   },
   "source": [
    "Сохраните таблицы с данными в две переменные:\n",
    "* по Москве — в `moscow_general`;\n",
    "* по Санкт-Петербургу — в `spb_general`."
   ]
  },
  {
   "cell_type": "code",
   "execution_count": 28,
   "metadata": {
    "id": "qeaFfM_P_Zcu"
   },
   "outputs": [],
   "source": [
    "# получение таблицы moscow_general из тех строк таблицы df, \n",
    "# для которых значение в столбце 'city' равно 'Moscow'\n",
    "moscow_general = df[df['city'] == 'Moscow']"
   ]
  },
  {
   "cell_type": "code",
   "execution_count": 29,
   "metadata": {
    "id": "ORaVRKto_Zcu"
   },
   "outputs": [],
   "source": [
    "# получение таблицы spb_general из тех строк таблицы df,\n",
    "# для которых значение в столбце 'city' равно 'Saint-Petersburg'\n",
    "spb_general = df[df['city'] == 'Saint-Petersburg']"
   ]
  },
  {
   "cell_type": "markdown",
   "metadata": {
    "id": "MEJV-CX2_Zcu"
   },
   "source": [
    "Создайте функцию `genre_weekday()` с четырьмя параметрами:\n",
    "* таблица (датафрейм) с данными,\n",
    "* день недели,\n",
    "* начальная временная метка в формате 'hh:mm', \n",
    "* последняя временная метка в формате 'hh:mm'.\n",
    "\n",
    "Функция должна вернуть информацию о топ-10 жанров тех треков, которые прослушивали в указанный день, в промежутке между двумя отметками времени."
   ]
  },
  {
   "cell_type": "code",
   "execution_count": 30,
   "metadata": {
    "id": "laJT9BYl_Zcu"
   },
   "outputs": [],
   "source": [
    "# Объявление функции genre_weekday() с параметрами table, day, time1, time2,\n",
    "# которая возвращает информацию о самых популярных жанрах в указанный день в\n",
    "# заданное время:\n",
    "# 1) в переменную genre_df сохраняются те строки переданного датафрейма table, для\n",
    "#    которых одновременно:\n",
    "#    - значение в столбце day равно значению аргумента day\n",
    "#    - значение в столбце time больше значения аргумента time1\n",
    "#    - значение в столбце time меньше значения аргумента time2\n",
    "#    Используйте последовательную фильтрацию с помощью логической индексации.\n",
    "# 2) сгруппировать датафрейм genre_df по столбцу genre, взять один из его\n",
    "#    столбцов и посчитать методом count() количество записей для каждого из\n",
    "#    присутствующих жанров, получившийся Series записать в переменную\n",
    "#    genre_df_count\n",
    "# 3) отсортировать genre_df_count по убыванию встречаемости и сохранить\n",
    "#    в переменную genre_df_sorted\n",
    "# 4) вернуть Series из 10 первых значений genre_df_sorted, это будут топ-10\n",
    "#    популярных жанров (в указанный день, в заданное время)\n",
    "def genre_weekday(table, day, time1, time2):\n",
    "    genre_df = table[table['day'] == day]\n",
    "    genre_df = genre_df[genre_df['time'] > time1]\n",
    "    genre_df = genre_df[genre_df['time'] < time2]\n",
    "    genre_df_count = genre_df.groupby('genre')['user_id'].count()\n",
    "    genre_df_sorted = genre_df_count.sort_values(ascending = False)\n",
    "    return genre_df_sorted[:10]"
   ]
  },
  {
   "cell_type": "markdown",
   "metadata": {
    "id": "la2s2_PF_Zcu"
   },
   "source": [
    "Cравните результаты функции `genre_weekday()` для Москвы и Санкт-Петербурга в понедельник утром (с 7:00 до 11:00) и в пятницу вечером (с 17:00 до 23:00):"
   ]
  },
  {
   "cell_type": "code",
   "execution_count": 31,
   "metadata": {
    "id": "yz7itPUQ_Zcu",
    "scrolled": true
   },
   "outputs": [
    {
     "data": {
      "text/plain": [
       "genre\n",
       "pop            781\n",
       "dance          549\n",
       "electronic     480\n",
       "rock           474\n",
       "hiphop         286\n",
       "ruspop         186\n",
       "world          181\n",
       "rusrap         175\n",
       "alternative    164\n",
       "unknown        161\n",
       "Name: user_id, dtype: int64"
      ]
     },
     "metadata": {},
     "output_type": "display_data"
    }
   ],
   "source": [
    "# вызов функции для утра понедельника в Москве (вместо df — таблица moscow_general)\n",
    "# объекты, хранящие время, являются строками и сравниваются как строки\n",
    "# пример вызова: genre_weekday(moscow_general, 'Monday', '07:00', '11:00')\n",
    "display(genre_weekday(moscow_general, 'Monday', '07:00', '11:00'))"
   ]
  },
  {
   "cell_type": "code",
   "execution_count": 32,
   "metadata": {
    "id": "kwUcHPdy_Zcu"
   },
   "outputs": [
    {
     "data": {
      "text/plain": [
       "genre\n",
       "pop            218\n",
       "dance          182\n",
       "rock           162\n",
       "electronic     147\n",
       "hiphop          80\n",
       "ruspop          64\n",
       "alternative     58\n",
       "rusrap          55\n",
       "jazz            44\n",
       "classical       40\n",
       "Name: user_id, dtype: int64"
      ]
     },
     "metadata": {},
     "output_type": "display_data"
    }
   ],
   "source": [
    "# вызов функции для утра понедельника в Петербурге (вместо df — таблица spb_general)\n",
    "display(genre_weekday(spb_general, 'Monday', '07:00', '11:00'))"
   ]
  },
  {
   "cell_type": "code",
   "execution_count": 33,
   "metadata": {
    "id": "EzXVRE1o_Zcu"
   },
   "outputs": [
    {
     "data": {
      "text/plain": [
       "genre\n",
       "pop            713\n",
       "rock           517\n",
       "dance          495\n",
       "electronic     482\n",
       "hiphop         273\n",
       "world          208\n",
       "ruspop         170\n",
       "alternative    163\n",
       "classical      163\n",
       "rusrap         142\n",
       "Name: user_id, dtype: int64"
      ]
     },
     "metadata": {},
     "output_type": "display_data"
    }
   ],
   "source": [
    "# вызов функции для вечера пятницы в Москве\n",
    "display(genre_weekday(moscow_general, 'Friday', '17:00', '23:00'))"
   ]
  },
  {
   "cell_type": "code",
   "execution_count": 34,
   "metadata": {
    "id": "JZaEKu5v_Zcu"
   },
   "outputs": [
    {
     "data": {
      "text/plain": [
       "genre\n",
       "pop            256\n",
       "electronic     216\n",
       "rock           216\n",
       "dance          210\n",
       "hiphop          97\n",
       "alternative     63\n",
       "jazz            61\n",
       "classical       60\n",
       "rusrap          59\n",
       "world           54\n",
       "Name: user_id, dtype: int64"
      ]
     },
     "metadata": {},
     "output_type": "display_data"
    }
   ],
   "source": [
    "# вызов функции для вечера пятницы в Петербурге\n",
    "display(genre_weekday(spb_general, 'Friday', '17:00', '23:00'))"
   ]
  },
  {
   "cell_type": "markdown",
   "metadata": {
    "id": "wrCe4MNX_Zcu"
   },
   "source": [
    "**Выводы**\n",
    "\n",
    "Если сравнить топ-10 жанров в понедельник утром, можно сделать такие выводы:\n",
    "\n",
    "1. В Москве и Петербурге слушают похожую музыку. Единственное отличие — в московский рейтинг вошёл жанр “world”, а в петербургский — джаз и классика.\n",
    "\n",
    "2. В Москве пропущенных значений оказалось так много, что значение `'unknown'` заняло десятое место среди самых популярных жанров. Значит, пропущенные значения занимают существенную долю в данных и угрожают достоверности исследования.\n",
    "\n",
    "Вечер пятницы не меняет эту картину. Некоторые жанры поднимаются немного выше, другие спускаются, но в целом топ-10 остаётся тем же самым.\n",
    "\n",
    "Таким образом, вторая гипотеза подтвердилась лишь частично:\n",
    "* Пользователи слушают похожую музыку в начале недели и в конце.\n",
    "* Разница между Москвой и Петербургом не слишком выражена. В Москве чаще слушают русскую популярную музыку, в Петербурге — джаз.\n",
    "\n",
    "Однако пропуски в данных ставят под сомнение этот результат. В Москве их так много, что рейтинг топ-10 мог бы выглядеть иначе, если бы не утерянные  данные о жанрах."
   ]
  },
  {
   "cell_type": "markdown",
   "metadata": {
    "id": "JolODAqr_Zcu"
   },
   "source": [
    "### Жанровые предпочтения в Москве и Петербурге\n",
    "\n",
    "Гипотеза: Петербург — столица рэпа, музыку этого жанра там слушают чаще, чем в Москве.  А Москва — город контрастов, в котором, тем не менее, преобладает поп-музыка."
   ]
  },
  {
   "cell_type": "markdown",
   "metadata": {
    "id": "DlegSvaT_Zcu"
   },
   "source": [
    "Сгруппируйте таблицу `moscow_general` по жанру и посчитайте прослушивания треков каждого жанра методом `count()`. Затем отсортируйте результат в порядке убывания и сохраните его в таблице `moscow_genres`."
   ]
  },
  {
   "cell_type": "code",
   "execution_count": 35,
   "metadata": {
    "id": "r19lIPke_Zcu"
   },
   "outputs": [],
   "source": [
    "# одной строкой: группировка таблицы moscow_general по столбцу 'genre', \n",
    "# подсчёт числа значений 'genre' в этой группировке методом count(), \n",
    "# сортировка получившегося Series в порядке убывания и сохранение в moscow_genres\n",
    "moscow_genres = moscow_general.groupby('genre')['user_id'].count().sort_values(ascending = False)"
   ]
  },
  {
   "cell_type": "markdown",
   "metadata": {
    "id": "6kMuomxTiIr8"
   },
   "source": [
    "Выведите на экран первые десять строк `moscow_genres`:"
   ]
  },
  {
   "cell_type": "code",
   "execution_count": 36,
   "metadata": {
    "id": "WhCSooF8_Zcv"
   },
   "outputs": [
    {
     "data": {
      "text/plain": [
       "genre\n",
       "pop            5892\n",
       "dance          4435\n",
       "rock           3965\n",
       "electronic     3786\n",
       "hiphop         2096\n",
       "classical      1616\n",
       "world          1432\n",
       "alternative    1379\n",
       "ruspop         1372\n",
       "rusrap         1161\n",
       "Name: user_id, dtype: int64"
      ]
     },
     "metadata": {},
     "output_type": "display_data"
    }
   ],
   "source": [
    "# просмотр первых 10 строк moscow_genres\n",
    "display(moscow_genres[0:10])"
   ]
  },
  {
   "cell_type": "markdown",
   "metadata": {
    "id": "cnPG2vnN_Zcv"
   },
   "source": [
    "Теперь повторите то же и для Петербурга.\n",
    "\n",
    "Сгруппируйте таблицу `spb_general` по жанру. Посчитайте прослушивания треков каждого жанра. Результат отсортируйте в порядке убывания и сохраните в таблице `spb_genres`:\n"
   ]
  },
  {
   "cell_type": "code",
   "execution_count": 37,
   "metadata": {
    "id": "gluLIpE7_Zcv"
   },
   "outputs": [],
   "source": [
    "# одной строкой: группировка таблицы spb_general по столбцу 'genre', \n",
    "# подсчёт числа значений 'genre' в этой группировке методом count(), \n",
    "# сортировка получившегося Series в порядке убывания и сохранение в spb_genres\n",
    "spb_genres = spb_general.groupby('genre')['user_id'].count().sort_values(ascending = False)"
   ]
  },
  {
   "cell_type": "markdown",
   "metadata": {
    "id": "5Doha_ODgyQ8"
   },
   "source": [
    "Выведите на экран первые десять строк `spb_genres`:"
   ]
  },
  {
   "cell_type": "code",
   "execution_count": 38,
   "metadata": {
    "id": "uaGJHjVU_Zcv"
   },
   "outputs": [
    {
     "data": {
      "text/plain": [
       "genre\n",
       "pop            2431\n",
       "dance          1932\n",
       "rock           1879\n",
       "electronic     1737\n",
       "hiphop          960\n",
       "alternative     649\n",
       "classical       646\n",
       "rusrap          564\n",
       "ruspop          538\n",
       "world           515\n",
       "Name: user_id, dtype: int64"
      ]
     },
     "metadata": {},
     "output_type": "display_data"
    }
   ],
   "source": [
    "# просмотр первых 10 строк spb_genres\n",
    "display(spb_genres[0:10])"
   ]
  },
  {
   "cell_type": "markdown",
   "metadata": {
    "id": "RY51YJYu_Zcv"
   },
   "source": [
    "**Выводы**"
   ]
  },
  {
   "cell_type": "markdown",
   "metadata": {
    "id": "nVhnJEm__Zcv"
   },
   "source": [
    "Гипотеза частично подтвердилась:\n",
    "* Поп-музыка — самый популярный жанр в Москве, как и предполагала гипотеза. Более того, в топ-10 жанров встречается близкий жанр — русская популярная музыка.\n",
    "* Вопреки ожиданиям, рэп одинаково популярен в Москве и Петербурге. \n"
   ]
  },
  {
   "cell_type": "markdown",
   "metadata": {
    "id": "ykKQ0N65_Zcv"
   },
   "source": [
    "## Итоги исследования"
   ]
  },
  {
   "cell_type": "markdown",
   "metadata": {
    "id": "tjUwbHb3_Zcv"
   },
   "source": [
    "Вы проверили три гипотезы и установили:\n",
    "\n",
    "1. День недели по-разному влияет на активность пользователей в Москве и Петербурге. \n",
    "\n",
    "Первая гипотеза полностью подтвердилась.\n",
    "\n",
    "2. Музыкальные предпочтения не сильно меняются в течение недели — будь то Москва или Петербург. Небольшие различия заметны в начале недели, по понедельникам:\n",
    "* в Москве слушают музыку жанра “world”,\n",
    "* в Петербурге — джаз и классику.\n",
    "\n",
    "Таким образом, вторая гипотеза подтвердилась лишь отчасти. Этот результат мог оказаться иным, если бы не пропуски в данных.\n",
    "\n",
    "3. Во вкусах пользователей Москвы и Петербурга больше общего чем различий. Вопреки ожиданиям, предпочтения жанров в Петербурге напоминают московские.\n",
    "\n",
    "Третья гипотеза не подтвердилась. Если различия в предпочтениях и существуют, на основной массе пользователей они незаметны.\n",
    "\n",
    "**На практике исследования содержат проверки статистических гипотез.**\n",
    "Из данных одного сервиса не всегда можно сделать вывод о всех жителях города.\n",
    "Проверки статистических гипотез покажут, насколько они достоверны, исходя из имеющихся данных. \n",
    "С методами проверок гипотез вы ещё познакомитесь в следующих темах."
   ]
  }
 ],
 "metadata": {
  "ExecuteTimeLog": [
   {
    "duration": 148,
    "start_time": "2022-03-24T21:45:01.601Z"
   },
   {
    "duration": 42,
    "start_time": "2022-03-24T21:45:52.862Z"
   },
   {
    "duration": 424,
    "start_time": "2022-03-24T21:46:10.429Z"
   },
   {
    "duration": 175,
    "start_time": "2022-03-24T21:46:13.013Z"
   },
   {
    "duration": 175,
    "start_time": "2022-03-24T21:47:10.001Z"
   },
   {
    "duration": 144,
    "start_time": "2022-03-24T21:47:14.462Z"
   },
   {
    "duration": 11,
    "start_time": "2022-03-24T21:47:21.591Z"
   },
   {
    "duration": 35,
    "start_time": "2022-03-24T21:47:43.833Z"
   },
   {
    "duration": 4,
    "start_time": "2022-03-24T21:55:27.612Z"
   },
   {
    "duration": 3,
    "start_time": "2022-03-24T21:55:34.261Z"
   },
   {
    "duration": 108,
    "start_time": "2022-03-24T21:58:10.661Z"
   },
   {
    "duration": 106,
    "start_time": "2022-03-24T21:58:32.093Z"
   },
   {
    "duration": 4,
    "start_time": "2022-03-24T21:59:34.493Z"
   },
   {
    "duration": 10,
    "start_time": "2022-03-24T21:59:45.331Z"
   },
   {
    "duration": 28,
    "start_time": "2022-03-24T21:59:47.012Z"
   },
   {
    "duration": 7,
    "start_time": "2022-03-24T22:00:05.742Z"
   },
   {
    "duration": 7,
    "start_time": "2022-03-24T22:00:13.701Z"
   },
   {
    "duration": 7,
    "start_time": "2022-03-24T22:00:42.500Z"
   },
   {
    "duration": 8,
    "start_time": "2022-03-24T22:00:43.592Z"
   },
   {
    "duration": 8,
    "start_time": "2022-03-24T22:01:31.692Z"
   },
   {
    "duration": 157,
    "start_time": "2022-03-24T22:02:02.381Z"
   },
   {
    "duration": 10,
    "start_time": "2022-03-24T22:02:18.451Z"
   },
   {
    "duration": 9,
    "start_time": "2022-03-24T22:02:25.972Z"
   },
   {
    "duration": 3,
    "start_time": "2022-03-24T22:02:42.052Z"
   },
   {
    "duration": 2,
    "start_time": "2022-03-24T22:03:22.103Z"
   },
   {
    "duration": 32,
    "start_time": "2022-03-24T22:04:57.778Z"
   },
   {
    "duration": 24,
    "start_time": "2022-03-24T22:05:27.909Z"
   },
   {
    "duration": 24,
    "start_time": "2022-03-24T22:05:56.101Z"
   },
   {
    "duration": 24,
    "start_time": "2022-03-24T22:06:04.753Z"
   },
   {
    "duration": 24,
    "start_time": "2022-03-24T22:06:11.713Z"
   },
   {
    "duration": 140,
    "start_time": "2022-03-24T22:10:44.981Z"
   },
   {
    "duration": 106,
    "start_time": "2022-03-24T22:10:48.100Z"
   },
   {
    "duration": 3,
    "start_time": "2022-03-24T22:11:35.739Z"
   },
   {
    "duration": 3,
    "start_time": "2022-03-24T22:11:37.350Z"
   },
   {
    "duration": 3,
    "start_time": "2022-03-24T22:11:39.512Z"
   },
   {
    "duration": 8,
    "start_time": "2022-03-24T22:11:53.823Z"
   },
   {
    "duration": 3,
    "start_time": "2022-03-24T22:12:10.772Z"
   },
   {
    "duration": 8,
    "start_time": "2022-03-24T22:14:14.482Z"
   },
   {
    "duration": 16,
    "start_time": "2022-03-24T22:14:51.432Z"
   },
   {
    "duration": 16,
    "start_time": "2022-03-24T22:14:53.155Z"
   },
   {
    "duration": 24,
    "start_time": "2022-03-24T22:15:35.083Z"
   },
   {
    "duration": 17,
    "start_time": "2022-03-24T22:17:27.372Z"
   },
   {
    "duration": 27,
    "start_time": "2022-03-24T22:17:30.573Z"
   },
   {
    "duration": 26,
    "start_time": "2022-03-24T22:17:30.670Z"
   },
   {
    "duration": 10,
    "start_time": "2022-03-24T22:18:21.492Z"
   },
   {
    "duration": 68,
    "start_time": "2022-03-24T22:18:30.361Z"
   },
   {
    "duration": 62,
    "start_time": "2022-03-24T22:18:45.593Z"
   },
   {
    "duration": 63,
    "start_time": "2022-03-24T22:18:55.774Z"
   },
   {
    "duration": 77,
    "start_time": "2022-03-24T22:19:49.132Z"
   },
   {
    "duration": 64,
    "start_time": "2022-03-24T22:19:59.913Z"
   },
   {
    "duration": 61,
    "start_time": "2022-03-24T22:20:09.722Z"
   },
   {
    "duration": 56,
    "start_time": "2022-03-24T22:20:13.781Z"
   },
   {
    "duration": 66,
    "start_time": "2022-03-24T22:20:42.281Z"
   },
   {
    "duration": 56,
    "start_time": "2022-03-24T22:20:44.341Z"
   },
   {
    "duration": 66,
    "start_time": "2022-03-24T22:20:52.962Z"
   },
   {
    "duration": 60,
    "start_time": "2022-03-24T22:20:55.443Z"
   },
   {
    "duration": 3,
    "start_time": "2022-03-24T22:21:38.349Z"
   },
   {
    "duration": 56,
    "start_time": "2022-03-24T22:22:43.053Z"
   },
   {
    "duration": 17,
    "start_time": "2022-03-24T22:22:52.572Z"
   },
   {
    "duration": 24,
    "start_time": "2022-03-24T22:22:54.723Z"
   },
   {
    "duration": 61,
    "start_time": "2022-03-24T22:22:57.021Z"
   },
   {
    "duration": 60,
    "start_time": "2022-03-24T22:23:09.012Z"
   },
   {
    "duration": 60,
    "start_time": "2022-03-24T22:23:16.372Z"
   },
   {
    "duration": 65,
    "start_time": "2022-03-24T22:23:26.292Z"
   },
   {
    "duration": 4,
    "start_time": "2022-03-24T22:23:33.704Z"
   },
   {
    "duration": 154,
    "start_time": "2022-03-24T22:23:36.291Z"
   },
   {
    "duration": 11,
    "start_time": "2022-03-24T22:23:39.780Z"
   },
   {
    "duration": 30,
    "start_time": "2022-03-24T22:23:42.583Z"
   },
   {
    "duration": 4,
    "start_time": "2022-03-24T22:23:46.001Z"
   },
   {
    "duration": 8,
    "start_time": "2022-03-24T22:23:48.495Z"
   },
   {
    "duration": 3,
    "start_time": "2022-03-24T22:23:50.695Z"
   },
   {
    "duration": 23,
    "start_time": "2022-03-24T22:23:54.024Z"
   },
   {
    "duration": 22,
    "start_time": "2022-03-24T22:24:00.131Z"
   },
   {
    "duration": 25,
    "start_time": "2022-03-24T22:24:03.201Z"
   },
   {
    "duration": 64,
    "start_time": "2022-03-24T22:24:18.011Z"
   },
   {
    "duration": 77,
    "start_time": "2022-03-24T22:24:33.241Z"
   },
   {
    "duration": 56,
    "start_time": "2022-03-24T22:24:36.769Z"
   },
   {
    "duration": 36,
    "start_time": "2022-03-24T22:28:26.161Z"
   },
   {
    "duration": 49,
    "start_time": "2022-03-24T22:30:28.764Z"
   },
   {
    "duration": 40,
    "start_time": "2022-03-24T22:31:25.742Z"
   },
   {
    "duration": 4,
    "start_time": "2022-03-24T22:32:03.050Z"
   },
   {
    "duration": 3,
    "start_time": "2022-03-24T22:32:04.622Z"
   },
   {
    "duration": 41,
    "start_time": "2022-03-24T22:32:16.492Z"
   },
   {
    "duration": 8,
    "start_time": "2022-03-24T22:48:11.122Z"
   },
   {
    "duration": 8,
    "start_time": "2022-03-24T22:49:16.181Z"
   },
   {
    "duration": 7,
    "start_time": "2022-03-24T22:49:58.471Z"
   },
   {
    "duration": 3,
    "start_time": "2022-03-24T22:50:19.573Z"
   },
   {
    "duration": 10,
    "start_time": "2022-03-24T22:50:21.301Z"
   },
   {
    "duration": 3,
    "start_time": "2022-03-24T22:53:43.500Z"
   },
   {
    "duration": 10,
    "start_time": "2022-03-24T22:53:45.201Z"
   },
   {
    "duration": 7,
    "start_time": "2022-03-24T22:54:35.132Z"
   },
   {
    "duration": 7,
    "start_time": "2022-03-24T22:54:53.392Z"
   },
   {
    "duration": 3,
    "start_time": "2022-03-24T22:54:56.104Z"
   },
   {
    "duration": 86,
    "start_time": "2022-03-24T22:55:06.352Z"
   },
   {
    "duration": 73,
    "start_time": "2022-03-24T22:55:07.832Z"
   },
   {
    "duration": 94,
    "start_time": "2022-03-24T22:55:19.382Z"
   },
   {
    "duration": 41,
    "start_time": "2022-03-24T22:55:38.964Z"
   },
   {
    "duration": 115,
    "start_time": "2022-03-24T22:55:53.812Z"
   },
   {
    "duration": 121,
    "start_time": "2022-03-24T22:55:54.983Z"
   },
   {
    "duration": 39,
    "start_time": "2022-03-24T22:55:57.582Z"
   },
   {
    "duration": 40,
    "start_time": "2022-03-24T22:56:26.383Z"
   },
   {
    "duration": 3,
    "start_time": "2022-03-24T22:57:21.203Z"
   },
   {
    "duration": 119,
    "start_time": "2022-03-24T22:57:23.219Z"
   },
   {
    "duration": 44,
    "start_time": "2022-03-24T22:57:37.792Z"
   },
   {
    "duration": 113,
    "start_time": "2022-03-24T22:59:00.921Z"
   },
   {
    "duration": 106,
    "start_time": "2022-03-24T22:59:02.193Z"
   },
   {
    "duration": 117,
    "start_time": "2022-03-24T22:59:03.021Z"
   },
   {
    "duration": 126,
    "start_time": "2022-03-24T22:59:06.043Z"
   },
   {
    "duration": 131,
    "start_time": "2022-03-24T22:59:08.601Z"
   },
   {
    "duration": 3,
    "start_time": "2022-03-24T23:01:43.735Z"
   },
   {
    "duration": 12,
    "start_time": "2022-03-24T23:01:45.395Z"
   },
   {
    "duration": 43,
    "start_time": "2022-03-24T23:01:48.434Z"
   },
   {
    "duration": 2,
    "start_time": "2022-03-24T23:02:33.996Z"
   },
   {
    "duration": 11,
    "start_time": "2022-03-24T23:02:35.665Z"
   },
   {
    "duration": 41,
    "start_time": "2022-03-24T23:02:39.665Z"
   },
   {
    "duration": 41,
    "start_time": "2022-03-24T23:12:09.226Z"
   },
   {
    "duration": 7,
    "start_time": "2022-03-24T23:12:13.835Z"
   },
   {
    "duration": 40,
    "start_time": "2022-03-24T23:12:16.557Z"
   },
   {
    "duration": 412,
    "start_time": "2022-03-24T23:12:52.602Z"
   },
   {
    "duration": 161,
    "start_time": "2022-03-24T23:12:54.813Z"
   },
   {
    "duration": 17,
    "start_time": "2022-03-24T23:12:56.453Z"
   },
   {
    "duration": 29,
    "start_time": "2022-03-24T23:12:59.271Z"
   },
   {
    "duration": 3,
    "start_time": "2022-03-24T23:13:02.511Z"
   },
   {
    "duration": 14,
    "start_time": "2022-03-24T23:13:05.393Z"
   },
   {
    "duration": 3,
    "start_time": "2022-03-24T23:13:07.111Z"
   },
   {
    "duration": 24,
    "start_time": "2022-03-24T23:13:09.112Z"
   },
   {
    "duration": 20,
    "start_time": "2022-03-24T23:13:12.051Z"
   },
   {
    "duration": 23,
    "start_time": "2022-03-24T23:13:13.821Z"
   },
   {
    "duration": 63,
    "start_time": "2022-03-24T23:13:16.071Z"
   },
   {
    "duration": 77,
    "start_time": "2022-03-24T23:13:18.260Z"
   },
   {
    "duration": 60,
    "start_time": "2022-03-24T23:13:21.031Z"
   },
   {
    "duration": 46,
    "start_time": "2022-03-24T23:13:24.551Z"
   },
   {
    "duration": 40,
    "start_time": "2022-03-24T23:13:30.922Z"
   },
   {
    "duration": 62,
    "start_time": "2022-03-24T23:14:00.962Z"
   },
   {
    "duration": 4,
    "start_time": "2022-03-24T23:14:21.990Z"
   },
   {
    "duration": 9,
    "start_time": "2022-03-24T23:14:31.323Z"
   },
   {
    "duration": 3,
    "start_time": "2022-03-24T23:14:49.108Z"
   },
   {
    "duration": 13,
    "start_time": "2022-03-24T23:14:52.981Z"
   },
   {
    "duration": 41,
    "start_time": "2022-03-24T23:14:55.743Z"
   },
   {
    "duration": 4,
    "start_time": "2022-03-24T23:17:01.361Z"
   },
   {
    "duration": 12,
    "start_time": "2022-03-24T23:17:10.131Z"
   },
   {
    "duration": 39,
    "start_time": "2022-03-24T23:17:13.351Z"
   },
   {
    "duration": 93,
    "start_time": "2022-03-26T10:38:50.645Z"
   },
   {
    "duration": 66,
    "start_time": "2022-03-26T10:39:05.186Z"
   },
   {
    "duration": 474,
    "start_time": "2022-03-26T10:39:22.894Z"
   },
   {
    "duration": 190,
    "start_time": "2022-03-26T10:39:23.370Z"
   },
   {
    "duration": 45,
    "start_time": "2022-03-26T10:39:23.562Z"
   },
   {
    "duration": 75,
    "start_time": "2022-03-26T10:39:23.611Z"
   },
   {
    "duration": 4,
    "start_time": "2022-03-26T10:39:23.689Z"
   },
   {
    "duration": 22,
    "start_time": "2022-03-26T10:39:23.695Z"
   },
   {
    "duration": 9,
    "start_time": "2022-03-26T10:39:23.720Z"
   },
   {
    "duration": 65,
    "start_time": "2022-03-26T10:39:23.732Z"
   },
   {
    "duration": 35,
    "start_time": "2022-03-26T10:39:23.800Z"
   },
   {
    "duration": 74,
    "start_time": "2022-03-26T10:39:23.841Z"
   },
   {
    "duration": 155,
    "start_time": "2022-03-26T10:39:23.918Z"
   },
   {
    "duration": 125,
    "start_time": "2022-03-26T10:39:24.075Z"
   },
   {
    "duration": 97,
    "start_time": "2022-03-26T10:39:24.203Z"
   },
   {
    "duration": 112,
    "start_time": "2022-03-26T10:39:24.302Z"
   },
   {
    "duration": 7,
    "start_time": "2022-03-26T10:39:24.417Z"
   },
   {
    "duration": 31,
    "start_time": "2022-03-26T10:39:24.427Z"
   },
   {
    "duration": 66,
    "start_time": "2022-03-26T10:39:24.461Z"
   },
   {
    "duration": 55,
    "start_time": "2022-03-26T10:39:24.530Z"
   },
   {
    "duration": 3,
    "start_time": "2022-03-26T10:39:24.588Z"
   },
   {
    "duration": 7,
    "start_time": "2022-03-26T10:39:24.593Z"
   },
   {
    "duration": 6,
    "start_time": "2022-03-26T10:39:24.602Z"
   },
   {
    "duration": 17,
    "start_time": "2022-03-26T10:39:24.610Z"
   },
   {
    "duration": 5,
    "start_time": "2022-03-26T10:39:24.632Z"
   },
   {
    "duration": 34,
    "start_time": "2022-03-26T10:39:24.640Z"
   },
   {
    "duration": 4,
    "start_time": "2022-03-26T10:39:24.684Z"
   },
   {
    "duration": 35,
    "start_time": "2022-03-26T10:39:24.691Z"
   },
   {
    "duration": 14,
    "start_time": "2022-03-26T10:39:24.730Z"
   },
   {
    "duration": 11,
    "start_time": "2022-03-26T10:39:24.749Z"
   },
   {
    "duration": 22,
    "start_time": "2022-03-26T10:39:24.763Z"
   },
   {
    "duration": 13,
    "start_time": "2022-03-26T10:39:24.788Z"
   },
   {
    "duration": 16,
    "start_time": "2022-03-26T10:39:24.804Z"
   },
   {
    "duration": 11,
    "start_time": "2022-03-26T10:39:24.823Z"
   },
   {
    "duration": 25,
    "start_time": "2022-03-26T10:39:24.837Z"
   },
   {
    "duration": 9,
    "start_time": "2022-03-26T10:39:24.865Z"
   },
   {
    "duration": 10,
    "start_time": "2022-03-26T10:39:24.877Z"
   },
   {
    "duration": 8,
    "start_time": "2022-03-26T10:39:24.890Z"
   },
   {
    "duration": 9,
    "start_time": "2022-03-26T10:39:24.900Z"
   },
   {
    "duration": 5,
    "start_time": "2022-03-26T10:39:24.912Z"
   },
   {
    "duration": 35,
    "start_time": "2022-03-26T10:46:36.301Z"
   },
   {
    "duration": 26,
    "start_time": "2022-03-26T10:48:06.521Z"
   },
   {
    "duration": 21,
    "start_time": "2022-03-26T10:48:42.951Z"
   },
   {
    "duration": 21,
    "start_time": "2022-03-26T10:49:28.091Z"
   },
   {
    "duration": 20,
    "start_time": "2022-03-26T10:50:23.554Z"
   },
   {
    "duration": 4,
    "start_time": "2022-03-26T11:02:16.314Z"
   },
   {
    "duration": 46,
    "start_time": "2022-03-26T11:17:43.760Z"
   },
   {
    "duration": 392,
    "start_time": "2022-03-26T11:17:56.871Z"
   },
   {
    "duration": 134,
    "start_time": "2022-03-26T11:17:57.266Z"
   },
   {
    "duration": 18,
    "start_time": "2022-03-26T11:17:57.402Z"
   },
   {
    "duration": 45,
    "start_time": "2022-03-26T11:17:57.422Z"
   },
   {
    "duration": 3,
    "start_time": "2022-03-26T11:17:57.469Z"
   },
   {
    "duration": 14,
    "start_time": "2022-03-26T11:17:57.474Z"
   },
   {
    "duration": 5,
    "start_time": "2022-03-26T11:17:57.490Z"
   },
   {
    "duration": 29,
    "start_time": "2022-03-26T11:17:57.496Z"
   },
   {
    "duration": 39,
    "start_time": "2022-03-26T11:17:57.526Z"
   },
   {
    "duration": 22,
    "start_time": "2022-03-26T11:17:57.568Z"
   },
   {
    "duration": 71,
    "start_time": "2022-03-26T11:17:57.592Z"
   },
   {
    "duration": 75,
    "start_time": "2022-03-26T11:17:57.665Z"
   },
   {
    "duration": 67,
    "start_time": "2022-03-26T11:17:57.742Z"
   },
   {
    "duration": 60,
    "start_time": "2022-03-26T11:17:57.811Z"
   },
   {
    "duration": 4,
    "start_time": "2022-03-26T11:17:57.872Z"
   },
   {
    "duration": 18,
    "start_time": "2022-03-26T11:17:57.877Z"
   },
   {
    "duration": 42,
    "start_time": "2022-03-26T11:17:57.896Z"
   },
   {
    "duration": 32,
    "start_time": "2022-03-26T11:17:57.940Z"
   },
   {
    "duration": 13,
    "start_time": "2022-03-26T11:17:57.973Z"
   },
   {
    "duration": 3,
    "start_time": "2022-03-26T11:17:57.988Z"
   },
   {
    "duration": 46,
    "start_time": "2022-03-26T11:17:57.992Z"
   },
   {
    "duration": 0,
    "start_time": "2022-03-26T11:17:58.040Z"
   },
   {
    "duration": 0,
    "start_time": "2022-03-26T11:17:58.041Z"
   },
   {
    "duration": 0,
    "start_time": "2022-03-26T11:17:58.042Z"
   },
   {
    "duration": 0,
    "start_time": "2022-03-26T11:17:58.063Z"
   },
   {
    "duration": 0,
    "start_time": "2022-03-26T11:17:58.064Z"
   },
   {
    "duration": 0,
    "start_time": "2022-03-26T11:17:58.065Z"
   },
   {
    "duration": 0,
    "start_time": "2022-03-26T11:17:58.066Z"
   },
   {
    "duration": 0,
    "start_time": "2022-03-26T11:17:58.067Z"
   },
   {
    "duration": 0,
    "start_time": "2022-03-26T11:17:58.068Z"
   },
   {
    "duration": 0,
    "start_time": "2022-03-26T11:17:58.069Z"
   },
   {
    "duration": 0,
    "start_time": "2022-03-26T11:17:58.070Z"
   },
   {
    "duration": 0,
    "start_time": "2022-03-26T11:17:58.071Z"
   },
   {
    "duration": 0,
    "start_time": "2022-03-26T11:17:58.071Z"
   },
   {
    "duration": 0,
    "start_time": "2022-03-26T11:17:58.073Z"
   },
   {
    "duration": 0,
    "start_time": "2022-03-26T11:17:58.074Z"
   },
   {
    "duration": 0,
    "start_time": "2022-03-26T11:17:58.075Z"
   },
   {
    "duration": 0,
    "start_time": "2022-03-26T11:17:58.076Z"
   },
   {
    "duration": 22,
    "start_time": "2022-03-26T11:18:44.927Z"
   },
   {
    "duration": 21,
    "start_time": "2022-03-26T11:18:48.431Z"
   },
   {
    "duration": 4,
    "start_time": "2022-03-26T11:18:50.470Z"
   },
   {
    "duration": 21,
    "start_time": "2022-03-26T11:18:53.325Z"
   },
   {
    "duration": 3,
    "start_time": "2022-03-26T11:18:57.469Z"
   },
   {
    "duration": 159,
    "start_time": "2022-03-26T11:18:57.474Z"
   },
   {
    "duration": 10,
    "start_time": "2022-03-26T11:18:57.635Z"
   },
   {
    "duration": 40,
    "start_time": "2022-03-26T11:18:57.646Z"
   },
   {
    "duration": 3,
    "start_time": "2022-03-26T11:18:57.688Z"
   },
   {
    "duration": 11,
    "start_time": "2022-03-26T11:18:57.693Z"
   },
   {
    "duration": 3,
    "start_time": "2022-03-26T11:18:57.706Z"
   },
   {
    "duration": 27,
    "start_time": "2022-03-26T11:18:57.710Z"
   },
   {
    "duration": 40,
    "start_time": "2022-03-26T11:18:57.738Z"
   },
   {
    "duration": 22,
    "start_time": "2022-03-26T11:18:57.779Z"
   },
   {
    "duration": 84,
    "start_time": "2022-03-26T11:18:57.803Z"
   },
   {
    "duration": 83,
    "start_time": "2022-03-26T11:18:57.888Z"
   },
   {
    "duration": 54,
    "start_time": "2022-03-26T11:18:57.973Z"
   },
   {
    "duration": 55,
    "start_time": "2022-03-26T11:18:58.032Z"
   },
   {
    "duration": 4,
    "start_time": "2022-03-26T11:18:58.089Z"
   },
   {
    "duration": 16,
    "start_time": "2022-03-26T11:18:58.094Z"
   },
   {
    "duration": 58,
    "start_time": "2022-03-26T11:18:58.112Z"
   },
   {
    "duration": 15,
    "start_time": "2022-03-26T11:18:58.172Z"
   },
   {
    "duration": 14,
    "start_time": "2022-03-26T11:18:58.188Z"
   },
   {
    "duration": 3,
    "start_time": "2022-03-26T11:18:58.203Z"
   },
   {
    "duration": 27,
    "start_time": "2022-03-26T11:18:58.207Z"
   },
   {
    "duration": 0,
    "start_time": "2022-03-26T11:18:58.235Z"
   },
   {
    "duration": 0,
    "start_time": "2022-03-26T11:18:58.236Z"
   },
   {
    "duration": 0,
    "start_time": "2022-03-26T11:18:58.238Z"
   },
   {
    "duration": 0,
    "start_time": "2022-03-26T11:18:58.238Z"
   },
   {
    "duration": 0,
    "start_time": "2022-03-26T11:18:58.263Z"
   },
   {
    "duration": 0,
    "start_time": "2022-03-26T11:18:58.264Z"
   },
   {
    "duration": 0,
    "start_time": "2022-03-26T11:18:58.265Z"
   },
   {
    "duration": 0,
    "start_time": "2022-03-26T11:18:58.266Z"
   },
   {
    "duration": 0,
    "start_time": "2022-03-26T11:18:58.268Z"
   },
   {
    "duration": 0,
    "start_time": "2022-03-26T11:18:58.269Z"
   },
   {
    "duration": 0,
    "start_time": "2022-03-26T11:18:58.270Z"
   },
   {
    "duration": 0,
    "start_time": "2022-03-26T11:18:58.271Z"
   },
   {
    "duration": 0,
    "start_time": "2022-03-26T11:18:58.272Z"
   },
   {
    "duration": 0,
    "start_time": "2022-03-26T11:18:58.273Z"
   },
   {
    "duration": 0,
    "start_time": "2022-03-26T11:18:58.274Z"
   },
   {
    "duration": 0,
    "start_time": "2022-03-26T11:18:58.275Z"
   },
   {
    "duration": 0,
    "start_time": "2022-03-26T11:18:58.276Z"
   },
   {
    "duration": 21,
    "start_time": "2022-03-26T11:19:17.967Z"
   },
   {
    "duration": 21,
    "start_time": "2022-03-26T11:19:18.815Z"
   },
   {
    "duration": 3,
    "start_time": "2022-03-26T11:19:34.601Z"
   },
   {
    "duration": 161,
    "start_time": "2022-03-26T11:19:34.606Z"
   },
   {
    "duration": 10,
    "start_time": "2022-03-26T11:19:34.768Z"
   },
   {
    "duration": 36,
    "start_time": "2022-03-26T11:19:34.779Z"
   },
   {
    "duration": 7,
    "start_time": "2022-03-26T11:19:34.817Z"
   },
   {
    "duration": 17,
    "start_time": "2022-03-26T11:19:34.825Z"
   },
   {
    "duration": 10,
    "start_time": "2022-03-26T11:19:34.844Z"
   },
   {
    "duration": 35,
    "start_time": "2022-03-26T11:19:34.863Z"
   },
   {
    "duration": 26,
    "start_time": "2022-03-26T11:19:34.900Z"
   },
   {
    "duration": 26,
    "start_time": "2022-03-26T11:19:34.928Z"
   },
   {
    "duration": 70,
    "start_time": "2022-03-26T11:19:34.963Z"
   },
   {
    "duration": 96,
    "start_time": "2022-03-26T11:19:35.036Z"
   },
   {
    "duration": 67,
    "start_time": "2022-03-26T11:19:35.134Z"
   },
   {
    "duration": 59,
    "start_time": "2022-03-26T11:19:35.204Z"
   },
   {
    "duration": 4,
    "start_time": "2022-03-26T11:19:35.264Z"
   },
   {
    "duration": 32,
    "start_time": "2022-03-26T11:19:35.269Z"
   },
   {
    "duration": 47,
    "start_time": "2022-03-26T11:19:35.302Z"
   },
   {
    "duration": 16,
    "start_time": "2022-03-26T11:19:35.351Z"
   },
   {
    "duration": 19,
    "start_time": "2022-03-26T11:19:35.369Z"
   },
   {
    "duration": 6,
    "start_time": "2022-03-26T11:19:35.389Z"
   },
   {
    "duration": 8,
    "start_time": "2022-03-26T11:20:31.599Z"
   },
   {
    "duration": 2,
    "start_time": "2022-03-26T11:20:54.983Z"
   },
   {
    "duration": 170,
    "start_time": "2022-03-26T11:20:54.987Z"
   },
   {
    "duration": 11,
    "start_time": "2022-03-26T11:20:55.159Z"
   },
   {
    "duration": 40,
    "start_time": "2022-03-26T11:20:55.173Z"
   },
   {
    "duration": 4,
    "start_time": "2022-03-26T11:20:55.216Z"
   },
   {
    "duration": 12,
    "start_time": "2022-03-26T11:20:55.222Z"
   },
   {
    "duration": 4,
    "start_time": "2022-03-26T11:20:55.235Z"
   },
   {
    "duration": 43,
    "start_time": "2022-03-26T11:20:55.241Z"
   },
   {
    "duration": 23,
    "start_time": "2022-03-26T11:20:55.286Z"
   },
   {
    "duration": 52,
    "start_time": "2022-03-26T11:20:55.311Z"
   },
   {
    "duration": 71,
    "start_time": "2022-03-26T11:20:55.365Z"
   },
   {
    "duration": 94,
    "start_time": "2022-03-26T11:20:55.438Z"
   },
   {
    "duration": 75,
    "start_time": "2022-03-26T11:20:55.535Z"
   },
   {
    "duration": 64,
    "start_time": "2022-03-26T11:20:55.613Z"
   },
   {
    "duration": 3,
    "start_time": "2022-03-26T11:20:55.679Z"
   },
   {
    "duration": 29,
    "start_time": "2022-03-26T11:20:55.684Z"
   },
   {
    "duration": 50,
    "start_time": "2022-03-26T11:20:55.715Z"
   },
   {
    "duration": 16,
    "start_time": "2022-03-26T11:20:55.767Z"
   },
   {
    "duration": 37,
    "start_time": "2022-03-26T11:20:55.785Z"
   },
   {
    "duration": 3,
    "start_time": "2022-03-26T11:20:55.824Z"
   },
   {
    "duration": 21,
    "start_time": "2022-03-26T11:21:00.728Z"
   },
   {
    "duration": 3,
    "start_time": "2022-03-26T11:21:35.900Z"
   },
   {
    "duration": 180,
    "start_time": "2022-03-26T11:21:35.904Z"
   },
   {
    "duration": 9,
    "start_time": "2022-03-26T11:21:36.086Z"
   },
   {
    "duration": 40,
    "start_time": "2022-03-26T11:21:36.097Z"
   },
   {
    "duration": 12,
    "start_time": "2022-03-26T11:21:36.139Z"
   },
   {
    "duration": 23,
    "start_time": "2022-03-26T11:21:36.152Z"
   },
   {
    "duration": 10,
    "start_time": "2022-03-26T11:21:36.176Z"
   },
   {
    "duration": 44,
    "start_time": "2022-03-26T11:21:36.188Z"
   },
   {
    "duration": 20,
    "start_time": "2022-03-26T11:21:36.234Z"
   },
   {
    "duration": 25,
    "start_time": "2022-03-26T11:21:36.257Z"
   },
   {
    "duration": 73,
    "start_time": "2022-03-26T11:21:36.284Z"
   },
   {
    "duration": 75,
    "start_time": "2022-03-26T11:21:36.359Z"
   },
   {
    "duration": 74,
    "start_time": "2022-03-26T11:21:36.435Z"
   },
   {
    "duration": 56,
    "start_time": "2022-03-26T11:21:36.511Z"
   },
   {
    "duration": 3,
    "start_time": "2022-03-26T11:21:36.569Z"
   },
   {
    "duration": 23,
    "start_time": "2022-03-26T11:21:36.574Z"
   },
   {
    "duration": 44,
    "start_time": "2022-03-26T11:21:36.598Z"
   },
   {
    "duration": 23,
    "start_time": "2022-03-26T11:21:36.643Z"
   },
   {
    "duration": 16,
    "start_time": "2022-03-26T11:21:36.667Z"
   },
   {
    "duration": 7,
    "start_time": "2022-03-26T11:21:36.684Z"
   },
   {
    "duration": 17,
    "start_time": "2022-03-26T11:21:38.686Z"
   },
   {
    "duration": 15,
    "start_time": "2022-03-26T11:22:01.628Z"
   },
   {
    "duration": 14,
    "start_time": "2022-03-26T11:23:13.788Z"
   },
   {
    "duration": 14,
    "start_time": "2022-03-26T11:23:45.636Z"
   },
   {
    "duration": 12,
    "start_time": "2022-03-26T11:24:01.149Z"
   },
   {
    "duration": 15,
    "start_time": "2022-03-26T11:24:08.508Z"
   },
   {
    "duration": 19,
    "start_time": "2022-03-26T11:24:20.036Z"
   },
   {
    "duration": 14,
    "start_time": "2022-03-26T11:24:35.549Z"
   },
   {
    "duration": 18,
    "start_time": "2022-03-26T11:25:56.002Z"
   },
   {
    "duration": 3,
    "start_time": "2022-03-26T11:31:27.984Z"
   },
   {
    "duration": 8,
    "start_time": "2022-03-26T11:34:36.326Z"
   },
   {
    "duration": 3,
    "start_time": "2022-03-26T11:34:53.581Z"
   },
   {
    "duration": 224,
    "start_time": "2022-03-26T11:34:53.587Z"
   },
   {
    "duration": 15,
    "start_time": "2022-03-26T11:34:53.813Z"
   },
   {
    "duration": 54,
    "start_time": "2022-03-26T11:34:53.830Z"
   },
   {
    "duration": 23,
    "start_time": "2022-03-26T11:34:53.886Z"
   },
   {
    "duration": 24,
    "start_time": "2022-03-26T11:34:53.910Z"
   },
   {
    "duration": 10,
    "start_time": "2022-03-26T11:34:53.935Z"
   },
   {
    "duration": 44,
    "start_time": "2022-03-26T11:34:53.946Z"
   },
   {
    "duration": 24,
    "start_time": "2022-03-26T11:34:53.992Z"
   },
   {
    "duration": 48,
    "start_time": "2022-03-26T11:34:54.018Z"
   },
   {
    "duration": 79,
    "start_time": "2022-03-26T11:34:54.067Z"
   },
   {
    "duration": 70,
    "start_time": "2022-03-26T11:34:54.148Z"
   },
   {
    "duration": 55,
    "start_time": "2022-03-26T11:34:54.220Z"
   },
   {
    "duration": 47,
    "start_time": "2022-03-26T11:34:54.278Z"
   },
   {
    "duration": 4,
    "start_time": "2022-03-26T11:34:54.326Z"
   },
   {
    "duration": 46,
    "start_time": "2022-03-26T11:34:54.331Z"
   },
   {
    "duration": 56,
    "start_time": "2022-03-26T11:34:54.379Z"
   },
   {
    "duration": 17,
    "start_time": "2022-03-26T11:34:54.436Z"
   },
   {
    "duration": 37,
    "start_time": "2022-03-26T11:34:54.455Z"
   },
   {
    "duration": 4,
    "start_time": "2022-03-26T11:34:54.493Z"
   },
   {
    "duration": 47,
    "start_time": "2022-03-26T11:34:54.499Z"
   },
   {
    "duration": 20,
    "start_time": "2022-03-26T11:34:54.548Z"
   },
   {
    "duration": 33,
    "start_time": "2022-03-26T11:34:54.570Z"
   },
   {
    "duration": 15,
    "start_time": "2022-03-26T11:34:54.604Z"
   },
   {
    "duration": 27,
    "start_time": "2022-03-26T11:34:54.621Z"
   },
   {
    "duration": 18,
    "start_time": "2022-03-26T11:34:54.650Z"
   },
   {
    "duration": 4,
    "start_time": "2022-03-26T11:35:01.951Z"
   },
   {
    "duration": 4,
    "start_time": "2022-03-26T11:35:03.183Z"
   },
   {
    "duration": 9,
    "start_time": "2022-03-26T11:35:21.438Z"
   },
   {
    "duration": 9,
    "start_time": "2022-03-26T11:35:52.982Z"
   },
   {
    "duration": 8,
    "start_time": "2022-03-26T11:36:05.079Z"
   },
   {
    "duration": 12,
    "start_time": "2022-03-26T11:44:07.018Z"
   },
   {
    "duration": 10,
    "start_time": "2022-03-26T11:44:27.794Z"
   },
   {
    "duration": 7,
    "start_time": "2022-03-26T12:08:49.861Z"
   },
   {
    "duration": 4,
    "start_time": "2022-03-26T12:08:56.783Z"
   },
   {
    "duration": 0,
    "start_time": "2022-03-26T12:09:01.323Z"
   },
   {
    "duration": 2166,
    "start_time": "2022-03-26T12:09:22.767Z"
   },
   {
    "duration": 0,
    "start_time": "2022-03-26T12:09:24.935Z"
   },
   {
    "duration": 2285,
    "start_time": "2022-03-26T12:09:28.863Z"
   },
   {
    "duration": 2,
    "start_time": "2022-03-26T12:09:37.331Z"
   },
   {
    "duration": 157,
    "start_time": "2022-03-26T12:09:37.335Z"
   },
   {
    "duration": 14,
    "start_time": "2022-03-26T12:09:37.493Z"
   },
   {
    "duration": 36,
    "start_time": "2022-03-26T12:09:37.508Z"
   },
   {
    "duration": 3,
    "start_time": "2022-03-26T12:09:37.546Z"
   },
   {
    "duration": 21,
    "start_time": "2022-03-26T12:09:37.550Z"
   },
   {
    "duration": 9,
    "start_time": "2022-03-26T12:09:37.572Z"
   },
   {
    "duration": 29,
    "start_time": "2022-03-26T12:09:37.582Z"
   },
   {
    "duration": 21,
    "start_time": "2022-03-26T12:09:37.613Z"
   },
   {
    "duration": 47,
    "start_time": "2022-03-26T12:09:37.636Z"
   },
   {
    "duration": 78,
    "start_time": "2022-03-26T12:09:37.685Z"
   },
   {
    "duration": 83,
    "start_time": "2022-03-26T12:09:37.764Z"
   },
   {
    "duration": 75,
    "start_time": "2022-03-26T12:09:37.848Z"
   },
   {
    "duration": 59,
    "start_time": "2022-03-26T12:09:37.925Z"
   },
   {
    "duration": 3,
    "start_time": "2022-03-26T12:09:37.986Z"
   },
   {
    "duration": 13,
    "start_time": "2022-03-26T12:09:37.990Z"
   },
   {
    "duration": 60,
    "start_time": "2022-03-26T12:09:38.005Z"
   },
   {
    "duration": 16,
    "start_time": "2022-03-26T12:09:38.067Z"
   },
   {
    "duration": 17,
    "start_time": "2022-03-26T12:09:38.085Z"
   },
   {
    "duration": 4,
    "start_time": "2022-03-26T12:09:38.104Z"
   },
   {
    "duration": 29,
    "start_time": "2022-03-26T12:09:38.110Z"
   },
   {
    "duration": 31,
    "start_time": "2022-03-26T12:09:38.141Z"
   },
   {
    "duration": 16,
    "start_time": "2022-03-26T12:09:38.174Z"
   },
   {
    "duration": 13,
    "start_time": "2022-03-26T12:09:38.191Z"
   },
   {
    "duration": 16,
    "start_time": "2022-03-26T12:09:38.206Z"
   },
   {
    "duration": 13,
    "start_time": "2022-03-26T12:09:38.224Z"
   },
   {
    "duration": 9,
    "start_time": "2022-03-26T12:09:38.262Z"
   },
   {
    "duration": 15,
    "start_time": "2022-03-26T12:09:38.273Z"
   },
   {
    "duration": 13,
    "start_time": "2022-03-26T12:09:38.290Z"
   },
   {
    "duration": 4,
    "start_time": "2022-03-26T12:09:38.305Z"
   },
   {
    "duration": 2,
    "start_time": "2022-03-26T12:33:53.319Z"
   },
   {
    "duration": 170,
    "start_time": "2022-03-26T12:33:53.323Z"
   },
   {
    "duration": 10,
    "start_time": "2022-03-26T12:33:53.495Z"
   },
   {
    "duration": 34,
    "start_time": "2022-03-26T12:33:53.506Z"
   },
   {
    "duration": 3,
    "start_time": "2022-03-26T12:33:53.542Z"
   },
   {
    "duration": 11,
    "start_time": "2022-03-26T12:33:53.563Z"
   },
   {
    "duration": 4,
    "start_time": "2022-03-26T12:33:53.576Z"
   },
   {
    "duration": 32,
    "start_time": "2022-03-26T12:33:53.582Z"
   },
   {
    "duration": 20,
    "start_time": "2022-03-26T12:33:53.617Z"
   },
   {
    "duration": 51,
    "start_time": "2022-03-26T12:33:53.638Z"
   },
   {
    "duration": 87,
    "start_time": "2022-03-26T12:33:53.691Z"
   },
   {
    "duration": 84,
    "start_time": "2022-03-26T12:33:53.780Z"
   },
   {
    "duration": 62,
    "start_time": "2022-03-26T12:33:53.867Z"
   },
   {
    "duration": 66,
    "start_time": "2022-03-26T12:33:53.931Z"
   },
   {
    "duration": 3,
    "start_time": "2022-03-26T12:33:53.999Z"
   },
   {
    "duration": 17,
    "start_time": "2022-03-26T12:33:54.004Z"
   },
   {
    "duration": 60,
    "start_time": "2022-03-26T12:33:54.023Z"
   },
   {
    "duration": 18,
    "start_time": "2022-03-26T12:33:54.084Z"
   },
   {
    "duration": 17,
    "start_time": "2022-03-26T12:33:54.104Z"
   },
   {
    "duration": 3,
    "start_time": "2022-03-26T12:33:54.122Z"
   },
   {
    "duration": 45,
    "start_time": "2022-03-26T12:33:54.127Z"
   },
   {
    "duration": 17,
    "start_time": "2022-03-26T12:33:54.174Z"
   },
   {
    "duration": 17,
    "start_time": "2022-03-26T12:33:54.192Z"
   },
   {
    "duration": 14,
    "start_time": "2022-03-26T12:33:54.211Z"
   },
   {
    "duration": 50,
    "start_time": "2022-03-26T12:33:54.227Z"
   },
   {
    "duration": 18,
    "start_time": "2022-03-26T12:33:54.279Z"
   },
   {
    "duration": 9,
    "start_time": "2022-03-26T12:33:54.299Z"
   },
   {
    "duration": 22,
    "start_time": "2022-03-26T12:33:54.310Z"
   },
   {
    "duration": 45,
    "start_time": "2022-03-26T12:33:54.333Z"
   },
   {
    "duration": 6,
    "start_time": "2022-03-26T12:33:54.380Z"
   },
   {
    "duration": 26,
    "start_time": "2022-03-26T12:37:03.289Z"
   },
   {
    "duration": 0,
    "start_time": "2022-03-26T12:37:53.936Z"
   },
   {
    "duration": 0,
    "start_time": "2022-03-26T12:37:56.644Z"
   },
   {
    "duration": 2734,
    "start_time": "2022-03-26T12:38:03.016Z"
   },
   {
    "duration": 0,
    "start_time": "2022-03-26T12:38:08.545Z"
   },
   {
    "duration": 0,
    "start_time": "2022-03-26T12:38:19.682Z"
   },
   {
    "duration": 3,
    "start_time": "2022-03-26T12:38:21.848Z"
   },
   {
    "duration": 171,
    "start_time": "2022-03-26T12:38:21.853Z"
   },
   {
    "duration": 10,
    "start_time": "2022-03-26T12:38:22.026Z"
   },
   {
    "duration": 42,
    "start_time": "2022-03-26T12:38:22.038Z"
   },
   {
    "duration": 7,
    "start_time": "2022-03-26T12:38:22.082Z"
   },
   {
    "duration": 17,
    "start_time": "2022-03-26T12:38:22.090Z"
   },
   {
    "duration": 4,
    "start_time": "2022-03-26T12:38:22.108Z"
   },
   {
    "duration": 45,
    "start_time": "2022-03-26T12:38:22.113Z"
   },
   {
    "duration": 24,
    "start_time": "2022-03-26T12:38:22.160Z"
   },
   {
    "duration": 26,
    "start_time": "2022-03-26T12:38:22.186Z"
   },
   {
    "duration": 79,
    "start_time": "2022-03-26T12:38:22.214Z"
   },
   {
    "duration": 88,
    "start_time": "2022-03-26T12:38:22.295Z"
   },
   {
    "duration": 62,
    "start_time": "2022-03-26T12:38:22.386Z"
   },
   {
    "duration": 58,
    "start_time": "2022-03-26T12:38:22.450Z"
   },
   {
    "duration": 3,
    "start_time": "2022-03-26T12:38:22.510Z"
   },
   {
    "duration": 41,
    "start_time": "2022-03-26T12:38:22.515Z"
   },
   {
    "duration": 46,
    "start_time": "2022-03-26T12:38:22.558Z"
   },
   {
    "duration": 16,
    "start_time": "2022-03-26T12:38:22.605Z"
   },
   {
    "duration": 16,
    "start_time": "2022-03-26T12:38:22.623Z"
   },
   {
    "duration": 22,
    "start_time": "2022-03-26T12:38:22.641Z"
   },
   {
    "duration": 24,
    "start_time": "2022-03-26T12:38:22.664Z"
   },
   {
    "duration": 14,
    "start_time": "2022-03-26T12:38:22.690Z"
   },
   {
    "duration": 16,
    "start_time": "2022-03-26T12:38:22.706Z"
   },
   {
    "duration": 16,
    "start_time": "2022-03-26T12:38:22.723Z"
   },
   {
    "duration": 39,
    "start_time": "2022-03-26T12:38:22.740Z"
   },
   {
    "duration": 16,
    "start_time": "2022-03-26T12:38:22.781Z"
   },
   {
    "duration": 8,
    "start_time": "2022-03-26T12:38:22.799Z"
   },
   {
    "duration": 25,
    "start_time": "2022-03-26T12:38:22.809Z"
   },
   {
    "duration": 34,
    "start_time": "2022-03-26T12:38:22.836Z"
   },
   {
    "duration": 2185,
    "start_time": "2022-03-26T12:38:26.496Z"
   },
   {
    "duration": 0,
    "start_time": "2022-03-26T12:38:42.741Z"
   },
   {
    "duration": 3,
    "start_time": "2022-03-26T12:38:46.156Z"
   },
   {
    "duration": 147,
    "start_time": "2022-03-26T12:38:46.173Z"
   },
   {
    "duration": 10,
    "start_time": "2022-03-26T12:38:46.322Z"
   },
   {
    "duration": 42,
    "start_time": "2022-03-26T12:38:46.334Z"
   },
   {
    "duration": 3,
    "start_time": "2022-03-26T12:38:46.378Z"
   },
   {
    "duration": 12,
    "start_time": "2022-03-26T12:38:46.383Z"
   },
   {
    "duration": 4,
    "start_time": "2022-03-26T12:38:46.396Z"
   },
   {
    "duration": 36,
    "start_time": "2022-03-26T12:38:46.401Z"
   },
   {
    "duration": 55,
    "start_time": "2022-03-26T12:38:46.440Z"
   },
   {
    "duration": 46,
    "start_time": "2022-03-26T12:38:46.497Z"
   },
   {
    "duration": 89,
    "start_time": "2022-03-26T12:38:46.545Z"
   },
   {
    "duration": 81,
    "start_time": "2022-03-26T12:38:46.635Z"
   },
   {
    "duration": 76,
    "start_time": "2022-03-26T12:38:46.717Z"
   },
   {
    "duration": 51,
    "start_time": "2022-03-26T12:38:46.794Z"
   },
   {
    "duration": 16,
    "start_time": "2022-03-26T12:38:46.847Z"
   },
   {
    "duration": 22,
    "start_time": "2022-03-26T12:38:46.865Z"
   },
   {
    "duration": 41,
    "start_time": "2022-03-26T12:38:46.889Z"
   },
   {
    "duration": 17,
    "start_time": "2022-03-26T12:38:46.931Z"
   },
   {
    "duration": 17,
    "start_time": "2022-03-26T12:38:46.964Z"
   },
   {
    "duration": 4,
    "start_time": "2022-03-26T12:38:46.982Z"
   },
   {
    "duration": 22,
    "start_time": "2022-03-26T12:38:46.988Z"
   },
   {
    "duration": 15,
    "start_time": "2022-03-26T12:38:47.012Z"
   },
   {
    "duration": 40,
    "start_time": "2022-03-26T12:38:47.028Z"
   },
   {
    "duration": 13,
    "start_time": "2022-03-26T12:38:47.070Z"
   },
   {
    "duration": 17,
    "start_time": "2022-03-26T12:38:47.085Z"
   },
   {
    "duration": 14,
    "start_time": "2022-03-26T12:38:47.104Z"
   },
   {
    "duration": 9,
    "start_time": "2022-03-26T12:38:47.120Z"
   },
   {
    "duration": 21,
    "start_time": "2022-03-26T12:38:47.162Z"
   },
   {
    "duration": 13,
    "start_time": "2022-03-26T12:38:47.184Z"
   },
   {
    "duration": 2192,
    "start_time": "2022-03-26T12:38:53.160Z"
   },
   {
    "duration": 35,
    "start_time": "2022-03-26T12:39:22.888Z"
   },
   {
    "duration": 31,
    "start_time": "2022-03-26T12:39:27.024Z"
   },
   {
    "duration": 25,
    "start_time": "2022-03-26T12:40:06.840Z"
   },
   {
    "duration": 28,
    "start_time": "2022-03-26T12:42:23.856Z"
   },
   {
    "duration": 0,
    "start_time": "2022-03-26T12:43:15.649Z"
   },
   {
    "duration": 3,
    "start_time": "2022-03-26T12:43:19.004Z"
   },
   {
    "duration": 165,
    "start_time": "2022-03-26T12:43:19.009Z"
   },
   {
    "duration": 10,
    "start_time": "2022-03-26T12:43:19.176Z"
   },
   {
    "duration": 34,
    "start_time": "2022-03-26T12:43:19.188Z"
   },
   {
    "duration": 3,
    "start_time": "2022-03-26T12:43:19.225Z"
   },
   {
    "duration": 13,
    "start_time": "2022-03-26T12:43:19.229Z"
   },
   {
    "duration": 3,
    "start_time": "2022-03-26T12:43:19.264Z"
   },
   {
    "duration": 33,
    "start_time": "2022-03-26T12:43:19.268Z"
   },
   {
    "duration": 23,
    "start_time": "2022-03-26T12:43:19.302Z"
   },
   {
    "duration": 39,
    "start_time": "2022-03-26T12:43:19.326Z"
   },
   {
    "duration": 111,
    "start_time": "2022-03-26T12:43:19.367Z"
   },
   {
    "duration": 94,
    "start_time": "2022-03-26T12:43:19.480Z"
   },
   {
    "duration": 64,
    "start_time": "2022-03-26T12:43:19.577Z"
   },
   {
    "duration": 62,
    "start_time": "2022-03-26T12:43:19.643Z"
   },
   {
    "duration": 4,
    "start_time": "2022-03-26T12:43:19.706Z"
   },
   {
    "duration": 18,
    "start_time": "2022-03-26T12:43:19.711Z"
   },
   {
    "duration": 54,
    "start_time": "2022-03-26T12:43:19.731Z"
   },
   {
    "duration": 18,
    "start_time": "2022-03-26T12:43:19.787Z"
   },
   {
    "duration": 15,
    "start_time": "2022-03-26T12:43:19.807Z"
   },
   {
    "duration": 3,
    "start_time": "2022-03-26T12:43:19.824Z"
   },
   {
    "duration": 48,
    "start_time": "2022-03-26T12:43:19.828Z"
   },
   {
    "duration": 18,
    "start_time": "2022-03-26T12:43:19.877Z"
   },
   {
    "duration": 15,
    "start_time": "2022-03-26T12:43:19.897Z"
   },
   {
    "duration": 14,
    "start_time": "2022-03-26T12:43:19.913Z"
   },
   {
    "duration": 47,
    "start_time": "2022-03-26T12:43:19.928Z"
   },
   {
    "duration": 14,
    "start_time": "2022-03-26T12:43:19.977Z"
   },
   {
    "duration": 54,
    "start_time": "2022-03-26T12:43:19.993Z"
   },
   {
    "duration": 42,
    "start_time": "2022-03-26T12:43:20.048Z"
   },
   {
    "duration": 15,
    "start_time": "2022-03-26T12:43:20.091Z"
   },
   {
    "duration": 2356,
    "start_time": "2022-03-26T12:43:24.358Z"
   },
   {
    "duration": 27,
    "start_time": "2022-03-26T12:43:35.797Z"
   },
   {
    "duration": 27,
    "start_time": "2022-03-26T12:43:45.030Z"
   },
   {
    "duration": 29,
    "start_time": "2022-03-26T12:44:36.534Z"
   },
   {
    "duration": 28,
    "start_time": "2022-03-26T12:44:42.708Z"
   },
   {
    "duration": 31,
    "start_time": "2022-03-26T12:44:59.501Z"
   },
   {
    "duration": 4,
    "start_time": "2022-03-26T12:46:06.461Z"
   },
   {
    "duration": 19,
    "start_time": "2022-03-26T12:46:47.588Z"
   },
   {
    "duration": 3,
    "start_time": "2022-03-26T12:47:01.643Z"
   },
   {
    "duration": 15,
    "start_time": "2022-03-26T12:47:16.956Z"
   },
   {
    "duration": 18,
    "start_time": "2022-03-26T12:48:02.997Z"
   },
   {
    "duration": 12,
    "start_time": "2022-03-26T12:48:40.811Z"
   },
   {
    "duration": 16,
    "start_time": "2022-03-26T12:53:12.329Z"
   },
   {
    "duration": 14,
    "start_time": "2022-03-26T12:53:51.527Z"
   },
   {
    "duration": 5,
    "start_time": "2022-03-26T12:53:54.391Z"
   },
   {
    "duration": 9,
    "start_time": "2022-03-26T12:54:28.920Z"
   },
   {
    "duration": 5,
    "start_time": "2022-03-26T12:54:34.263Z"
   },
   {
    "duration": 3,
    "start_time": "2022-03-26T12:55:33.182Z"
   },
   {
    "duration": 173,
    "start_time": "2022-03-26T12:55:33.188Z"
   },
   {
    "duration": 12,
    "start_time": "2022-03-26T12:55:33.362Z"
   },
   {
    "duration": 37,
    "start_time": "2022-03-26T12:55:33.376Z"
   },
   {
    "duration": 4,
    "start_time": "2022-03-26T12:55:33.416Z"
   },
   {
    "duration": 13,
    "start_time": "2022-03-26T12:55:33.422Z"
   },
   {
    "duration": 4,
    "start_time": "2022-03-26T12:55:33.463Z"
   },
   {
    "duration": 32,
    "start_time": "2022-03-26T12:55:33.469Z"
   },
   {
    "duration": 24,
    "start_time": "2022-03-26T12:55:33.503Z"
   },
   {
    "duration": 52,
    "start_time": "2022-03-26T12:55:33.530Z"
   },
   {
    "duration": 82,
    "start_time": "2022-03-26T12:55:33.584Z"
   },
   {
    "duration": 105,
    "start_time": "2022-03-26T12:55:33.669Z"
   },
   {
    "duration": 69,
    "start_time": "2022-03-26T12:55:33.776Z"
   },
   {
    "duration": 51,
    "start_time": "2022-03-26T12:55:33.862Z"
   },
   {
    "duration": 4,
    "start_time": "2022-03-26T12:55:33.915Z"
   },
   {
    "duration": 16,
    "start_time": "2022-03-26T12:55:33.920Z"
   },
   {
    "duration": 60,
    "start_time": "2022-03-26T12:55:33.937Z"
   },
   {
    "duration": 17,
    "start_time": "2022-03-26T12:55:33.998Z"
   },
   {
    "duration": 16,
    "start_time": "2022-03-26T12:55:34.017Z"
   },
   {
    "duration": 28,
    "start_time": "2022-03-26T12:55:34.035Z"
   },
   {
    "duration": 20,
    "start_time": "2022-03-26T12:55:34.065Z"
   },
   {
    "duration": 15,
    "start_time": "2022-03-26T12:55:34.087Z"
   },
   {
    "duration": 25,
    "start_time": "2022-03-26T12:55:34.104Z"
   },
   {
    "duration": 31,
    "start_time": "2022-03-26T12:55:34.131Z"
   },
   {
    "duration": 20,
    "start_time": "2022-03-26T12:55:34.164Z"
   },
   {
    "duration": 18,
    "start_time": "2022-03-26T12:55:34.186Z"
   },
   {
    "duration": 11,
    "start_time": "2022-03-26T12:55:34.206Z"
   },
   {
    "duration": 51,
    "start_time": "2022-03-26T12:55:34.218Z"
   },
   {
    "duration": 14,
    "start_time": "2022-03-26T12:55:34.270Z"
   },
   {
    "duration": 4,
    "start_time": "2022-03-26T12:55:34.286Z"
   },
   {
    "duration": 30,
    "start_time": "2022-03-26T12:55:34.292Z"
   },
   {
    "duration": 12,
    "start_time": "2022-03-26T12:55:34.324Z"
   },
   {
    "duration": 42,
    "start_time": "2022-03-26T12:55:34.338Z"
   },
   {
    "duration": 13,
    "start_time": "2022-03-26T12:55:34.381Z"
   },
   {
    "duration": 13,
    "start_time": "2022-03-26T12:55:34.396Z"
   },
   {
    "duration": 5,
    "start_time": "2022-03-26T12:55:34.410Z"
   },
   {
    "duration": 22,
    "start_time": "2022-03-26T12:55:34.417Z"
   },
   {
    "duration": 26,
    "start_time": "2022-03-26T12:55:34.441Z"
   },
   {
    "duration": 568,
    "start_time": "2022-03-31T14:07:03.207Z"
   },
   {
    "duration": 237,
    "start_time": "2022-03-31T14:07:03.778Z"
   },
   {
    "duration": 27,
    "start_time": "2022-03-31T14:07:04.017Z"
   },
   {
    "duration": 51,
    "start_time": "2022-03-31T14:07:04.047Z"
   },
   {
    "duration": 12,
    "start_time": "2022-03-31T14:07:04.100Z"
   },
   {
    "duration": 29,
    "start_time": "2022-03-31T14:07:04.114Z"
   },
   {
    "duration": 11,
    "start_time": "2022-03-31T14:07:04.145Z"
   },
   {
    "duration": 48,
    "start_time": "2022-03-31T14:07:04.158Z"
   },
   {
    "duration": 24,
    "start_time": "2022-03-31T14:07:04.209Z"
   },
   {
    "duration": 49,
    "start_time": "2022-03-31T14:07:04.236Z"
   },
   {
    "duration": 116,
    "start_time": "2022-03-31T14:07:04.287Z"
   },
   {
    "duration": 147,
    "start_time": "2022-03-31T14:07:04.406Z"
   },
   {
    "duration": 112,
    "start_time": "2022-03-31T14:07:04.556Z"
   },
   {
    "duration": 79,
    "start_time": "2022-03-31T14:07:04.670Z"
   },
   {
    "duration": 7,
    "start_time": "2022-03-31T14:07:04.752Z"
   },
   {
    "duration": 46,
    "start_time": "2022-03-31T14:07:04.762Z"
   },
   {
    "duration": 63,
    "start_time": "2022-03-31T14:07:04.811Z"
   },
   {
    "duration": 22,
    "start_time": "2022-03-31T14:07:04.885Z"
   },
   {
    "duration": 27,
    "start_time": "2022-03-31T14:07:04.909Z"
   },
   {
    "duration": 5,
    "start_time": "2022-03-31T14:07:04.938Z"
   },
   {
    "duration": 54,
    "start_time": "2022-03-31T14:07:04.946Z"
   },
   {
    "duration": 37,
    "start_time": "2022-03-31T14:07:05.002Z"
   },
   {
    "duration": 20,
    "start_time": "2022-03-31T14:07:05.041Z"
   },
   {
    "duration": 20,
    "start_time": "2022-03-31T14:07:05.083Z"
   },
   {
    "duration": 64,
    "start_time": "2022-03-31T14:07:05.106Z"
   },
   {
    "duration": 27,
    "start_time": "2022-03-31T14:07:05.174Z"
   },
   {
    "duration": 13,
    "start_time": "2022-03-31T14:07:05.203Z"
   },
   {
    "duration": 44,
    "start_time": "2022-03-31T14:07:05.223Z"
   },
   {
    "duration": 26,
    "start_time": "2022-03-31T14:07:05.270Z"
   },
   {
    "duration": 67,
    "start_time": "2022-03-31T14:07:05.298Z"
   },
   {
    "duration": 150,
    "start_time": "2022-03-31T14:07:05.368Z"
   },
   {
    "duration": 28,
    "start_time": "2022-03-31T14:07:05.520Z"
   },
   {
    "duration": 88,
    "start_time": "2022-03-31T14:07:05.551Z"
   },
   {
    "duration": 23,
    "start_time": "2022-03-31T14:07:05.641Z"
   },
   {
    "duration": 22,
    "start_time": "2022-03-31T14:07:05.667Z"
   },
   {
    "duration": 17,
    "start_time": "2022-03-31T14:07:05.692Z"
   },
   {
    "duration": 31,
    "start_time": "2022-03-31T14:07:05.712Z"
   },
   {
    "duration": 32,
    "start_time": "2022-03-31T14:07:05.746Z"
   },
   {
    "duration": 4,
    "start_time": "2022-03-31T14:20:07.023Z"
   },
   {
    "duration": 24,
    "start_time": "2022-03-31T14:20:09.871Z"
   },
   {
    "duration": 16,
    "start_time": "2022-03-31T14:20:11.687Z"
   },
   {
    "duration": 22,
    "start_time": "2022-03-31T14:20:13.959Z"
   },
   {
    "duration": 15,
    "start_time": "2022-03-31T14:20:16.136Z"
   },
   {
    "duration": 383,
    "start_time": "2022-04-01T11:23:02.954Z"
   },
   {
    "duration": 155,
    "start_time": "2022-04-01T11:23:03.339Z"
   },
   {
    "duration": 16,
    "start_time": "2022-04-01T11:23:03.496Z"
   },
   {
    "duration": 39,
    "start_time": "2022-04-01T11:23:03.514Z"
   },
   {
    "duration": 4,
    "start_time": "2022-04-01T11:23:06.496Z"
   },
   {
    "duration": 5,
    "start_time": "2022-04-01T11:24:35.675Z"
   },
   {
    "duration": 25,
    "start_time": "2022-04-01T11:26:33.720Z"
   },
   {
    "duration": 25,
    "start_time": "2022-04-01T11:27:06.696Z"
   },
   {
    "duration": 3,
    "start_time": "2022-04-01T11:27:14.808Z"
   },
   {
    "duration": 213,
    "start_time": "2022-04-01T11:27:14.813Z"
   },
   {
    "duration": 12,
    "start_time": "2022-04-01T11:27:15.028Z"
   },
   {
    "duration": 36,
    "start_time": "2022-04-01T11:27:15.042Z"
   },
   {
    "duration": 22,
    "start_time": "2022-04-01T11:27:15.081Z"
   },
   {
    "duration": 18,
    "start_time": "2022-04-01T11:27:15.104Z"
   },
   {
    "duration": 8,
    "start_time": "2022-04-01T11:27:15.124Z"
   },
   {
    "duration": 28,
    "start_time": "2022-04-01T11:27:15.133Z"
   },
   {
    "duration": 18,
    "start_time": "2022-04-01T11:27:15.163Z"
   },
   {
    "duration": 27,
    "start_time": "2022-04-01T11:27:15.200Z"
   },
   {
    "duration": 132,
    "start_time": "2022-04-01T11:27:15.232Z"
   },
   {
    "duration": 98,
    "start_time": "2022-04-01T11:27:15.367Z"
   },
   {
    "duration": 71,
    "start_time": "2022-04-01T11:27:15.467Z"
   },
   {
    "duration": 49,
    "start_time": "2022-04-01T11:27:15.539Z"
   },
   {
    "duration": 13,
    "start_time": "2022-04-01T11:27:15.589Z"
   },
   {
    "duration": 15,
    "start_time": "2022-04-01T11:27:15.603Z"
   },
   {
    "duration": 44,
    "start_time": "2022-04-01T11:27:15.619Z"
   },
   {
    "duration": 45,
    "start_time": "2022-04-01T11:27:15.664Z"
   },
   {
    "duration": 16,
    "start_time": "2022-04-01T11:27:15.711Z"
   },
   {
    "duration": 4,
    "start_time": "2022-04-01T11:27:15.729Z"
   },
   {
    "duration": 21,
    "start_time": "2022-04-01T11:27:15.734Z"
   },
   {
    "duration": 48,
    "start_time": "2022-04-01T11:27:15.756Z"
   },
   {
    "duration": 15,
    "start_time": "2022-04-01T11:27:15.806Z"
   },
   {
    "duration": 14,
    "start_time": "2022-04-01T11:27:15.822Z"
   },
   {
    "duration": 17,
    "start_time": "2022-04-01T11:27:15.838Z"
   },
   {
    "duration": 52,
    "start_time": "2022-04-01T11:27:15.856Z"
   },
   {
    "duration": 8,
    "start_time": "2022-04-01T11:27:15.910Z"
   },
   {
    "duration": 12,
    "start_time": "2022-04-01T11:27:15.920Z"
   },
   {
    "duration": 9,
    "start_time": "2022-04-01T11:27:15.936Z"
   },
   {
    "duration": 4,
    "start_time": "2022-04-01T11:27:15.947Z"
   },
   {
    "duration": 64,
    "start_time": "2022-04-01T11:27:15.952Z"
   },
   {
    "duration": 14,
    "start_time": "2022-04-01T11:27:16.017Z"
   },
   {
    "duration": 16,
    "start_time": "2022-04-01T11:27:16.033Z"
   },
   {
    "duration": 12,
    "start_time": "2022-04-01T11:27:16.051Z"
   },
   {
    "duration": 40,
    "start_time": "2022-04-01T11:27:16.064Z"
   },
   {
    "duration": 5,
    "start_time": "2022-04-01T11:27:16.106Z"
   },
   {
    "duration": 10,
    "start_time": "2022-04-01T11:27:16.112Z"
   },
   {
    "duration": 4,
    "start_time": "2022-04-01T11:27:16.124Z"
   },
   {
    "duration": 4,
    "start_time": "2022-04-01T11:49:22.410Z"
   },
   {
    "duration": 65,
    "start_time": "2022-04-01T11:49:29.691Z"
   },
   {
    "duration": 3,
    "start_time": "2022-04-01T11:49:38.074Z"
   },
   {
    "duration": 11,
    "start_time": "2022-04-01T11:49:40.155Z"
   },
   {
    "duration": 40,
    "start_time": "2022-04-01T11:49:43.061Z"
   },
   {
    "duration": 46,
    "start_time": "2022-04-01T11:51:47.314Z"
   },
   {
    "duration": 67,
    "start_time": "2022-04-01T11:52:11.710Z"
   },
   {
    "duration": 15,
    "start_time": "2022-04-01T11:52:51.854Z"
   },
   {
    "duration": 3,
    "start_time": "2022-04-01T11:52:55.843Z"
   },
   {
    "duration": 253,
    "start_time": "2022-04-01T11:52:55.848Z"
   },
   {
    "duration": 14,
    "start_time": "2022-04-01T11:52:56.103Z"
   },
   {
    "duration": 50,
    "start_time": "2022-04-01T11:52:56.120Z"
   },
   {
    "duration": 29,
    "start_time": "2022-04-01T11:52:56.173Z"
   },
   {
    "duration": 8,
    "start_time": "2022-04-01T11:52:56.204Z"
   },
   {
    "duration": 6,
    "start_time": "2022-04-01T11:52:56.214Z"
   },
   {
    "duration": 44,
    "start_time": "2022-04-01T11:52:56.222Z"
   },
   {
    "duration": 53,
    "start_time": "2022-04-01T11:52:56.269Z"
   },
   {
    "duration": 28,
    "start_time": "2022-04-01T11:52:56.324Z"
   },
   {
    "duration": 145,
    "start_time": "2022-04-01T11:52:56.357Z"
   },
   {
    "duration": 134,
    "start_time": "2022-04-01T11:52:56.505Z"
   },
   {
    "duration": 113,
    "start_time": "2022-04-01T11:52:56.641Z"
   },
   {
    "duration": 96,
    "start_time": "2022-04-01T11:52:56.757Z"
   },
   {
    "duration": 6,
    "start_time": "2022-04-01T11:52:56.855Z"
   },
   {
    "duration": 28,
    "start_time": "2022-04-01T11:52:56.863Z"
   },
   {
    "duration": 69,
    "start_time": "2022-04-01T11:52:56.900Z"
   },
   {
    "duration": 37,
    "start_time": "2022-04-01T11:52:56.972Z"
   },
   {
    "duration": 24,
    "start_time": "2022-04-01T11:52:57.012Z"
   },
   {
    "duration": 5,
    "start_time": "2022-04-01T11:52:57.039Z"
   },
   {
    "duration": 54,
    "start_time": "2022-04-01T11:52:57.047Z"
   },
   {
    "duration": 24,
    "start_time": "2022-04-01T11:52:57.104Z"
   },
   {
    "duration": 24,
    "start_time": "2022-04-01T11:52:57.130Z"
   },
   {
    "duration": 45,
    "start_time": "2022-04-01T11:52:57.156Z"
   },
   {
    "duration": 26,
    "start_time": "2022-04-01T11:52:57.204Z"
   },
   {
    "duration": 23,
    "start_time": "2022-04-01T11:52:57.233Z"
   },
   {
    "duration": 42,
    "start_time": "2022-04-01T11:52:57.259Z"
   },
   {
    "duration": 28,
    "start_time": "2022-04-01T11:52:57.304Z"
   },
   {
    "duration": 20,
    "start_time": "2022-04-01T11:52:57.337Z"
   },
   {
    "duration": 6,
    "start_time": "2022-04-01T11:52:57.360Z"
   },
   {
    "duration": 57,
    "start_time": "2022-04-01T11:52:57.368Z"
   },
   {
    "duration": 20,
    "start_time": "2022-04-01T11:52:57.427Z"
   },
   {
    "duration": 21,
    "start_time": "2022-04-01T11:52:57.449Z"
   },
   {
    "duration": 43,
    "start_time": "2022-04-01T11:52:57.473Z"
   },
   {
    "duration": 16,
    "start_time": "2022-04-01T11:52:57.518Z"
   },
   {
    "duration": 6,
    "start_time": "2022-04-01T11:52:57.536Z"
   },
   {
    "duration": 8,
    "start_time": "2022-04-01T11:52:57.545Z"
   },
   {
    "duration": 6,
    "start_time": "2022-04-01T11:52:57.555Z"
   },
   {
    "duration": 5,
    "start_time": "2022-04-01T11:57:02.238Z"
   },
   {
    "duration": 3,
    "start_time": "2022-04-01T11:57:12.897Z"
   },
   {
    "duration": 256,
    "start_time": "2022-04-01T11:57:12.902Z"
   },
   {
    "duration": 16,
    "start_time": "2022-04-01T11:57:13.161Z"
   },
   {
    "duration": 42,
    "start_time": "2022-04-01T11:57:13.179Z"
   },
   {
    "duration": 5,
    "start_time": "2022-04-01T11:57:13.224Z"
   },
   {
    "duration": 8,
    "start_time": "2022-04-01T11:57:13.231Z"
   },
   {
    "duration": 5,
    "start_time": "2022-04-01T11:57:13.241Z"
   },
   {
    "duration": 54,
    "start_time": "2022-04-01T11:57:13.248Z"
   },
   {
    "duration": 20,
    "start_time": "2022-04-01T11:57:13.304Z"
   },
   {
    "duration": 27,
    "start_time": "2022-04-01T11:57:13.326Z"
   },
   {
    "duration": 88,
    "start_time": "2022-04-01T11:57:13.357Z"
   },
   {
    "duration": 73,
    "start_time": "2022-04-01T11:57:13.447Z"
   },
   {
    "duration": 59,
    "start_time": "2022-04-01T11:57:13.522Z"
   },
   {
    "duration": 64,
    "start_time": "2022-04-01T11:57:13.582Z"
   },
   {
    "duration": 4,
    "start_time": "2022-04-01T11:57:13.647Z"
   },
   {
    "duration": 24,
    "start_time": "2022-04-01T11:57:13.652Z"
   },
   {
    "duration": 88,
    "start_time": "2022-04-01T11:57:13.678Z"
   },
   {
    "duration": 34,
    "start_time": "2022-04-01T11:57:13.768Z"
   },
   {
    "duration": 22,
    "start_time": "2022-04-01T11:57:13.804Z"
   },
   {
    "duration": 5,
    "start_time": "2022-04-01T11:57:13.828Z"
   },
   {
    "duration": 30,
    "start_time": "2022-04-01T11:57:13.835Z"
   },
   {
    "duration": 49,
    "start_time": "2022-04-01T11:57:13.867Z"
   },
   {
    "duration": 25,
    "start_time": "2022-04-01T11:57:13.918Z"
   },
   {
    "duration": 23,
    "start_time": "2022-04-01T11:57:13.946Z"
   },
   {
    "duration": 49,
    "start_time": "2022-04-01T11:57:13.971Z"
   },
   {
    "duration": 19,
    "start_time": "2022-04-01T11:57:14.022Z"
   },
   {
    "duration": 8,
    "start_time": "2022-04-01T11:57:14.043Z"
   },
   {
    "duration": 20,
    "start_time": "2022-04-01T11:57:14.053Z"
   },
   {
    "duration": 14,
    "start_time": "2022-04-01T11:57:14.102Z"
   },
   {
    "duration": 5,
    "start_time": "2022-04-01T11:57:14.118Z"
   },
   {
    "duration": 24,
    "start_time": "2022-04-01T11:57:14.125Z"
   },
   {
    "duration": 11,
    "start_time": "2022-04-01T11:57:14.151Z"
   },
   {
    "duration": 0,
    "start_time": "2022-04-01T11:57:14.164Z"
   },
   {
    "duration": 0,
    "start_time": "2022-04-01T11:57:14.165Z"
   },
   {
    "duration": 0,
    "start_time": "2022-04-01T11:57:14.166Z"
   },
   {
    "duration": 0,
    "start_time": "2022-04-01T11:57:14.168Z"
   },
   {
    "duration": 0,
    "start_time": "2022-04-01T11:57:14.169Z"
   },
   {
    "duration": 0,
    "start_time": "2022-04-01T11:57:14.171Z"
   },
   {
    "duration": 10,
    "start_time": "2022-04-01T11:57:28.089Z"
   },
   {
    "duration": 4,
    "start_time": "2022-04-01T11:57:33.739Z"
   },
   {
    "duration": 176,
    "start_time": "2022-04-01T11:57:33.745Z"
   },
   {
    "duration": 11,
    "start_time": "2022-04-01T11:57:33.922Z"
   },
   {
    "duration": 61,
    "start_time": "2022-04-01T11:57:33.936Z"
   },
   {
    "duration": 4,
    "start_time": "2022-04-01T11:57:34.001Z"
   },
   {
    "duration": 26,
    "start_time": "2022-04-01T11:57:34.007Z"
   },
   {
    "duration": 28,
    "start_time": "2022-04-01T11:57:34.035Z"
   },
   {
    "duration": 62,
    "start_time": "2022-04-01T11:57:34.065Z"
   },
   {
    "duration": 36,
    "start_time": "2022-04-01T11:57:34.130Z"
   },
   {
    "duration": 48,
    "start_time": "2022-04-01T11:57:34.168Z"
   },
   {
    "duration": 60,
    "start_time": "2022-04-01T11:57:34.218Z"
   },
   {
    "duration": 81,
    "start_time": "2022-04-01T11:57:34.280Z"
   },
   {
    "duration": 62,
    "start_time": "2022-04-01T11:57:34.363Z"
   },
   {
    "duration": 46,
    "start_time": "2022-04-01T11:57:34.427Z"
   },
   {
    "duration": 3,
    "start_time": "2022-04-01T11:57:34.475Z"
   },
   {
    "duration": 32,
    "start_time": "2022-04-01T11:57:34.479Z"
   },
   {
    "duration": 41,
    "start_time": "2022-04-01T11:57:34.513Z"
   },
   {
    "duration": 16,
    "start_time": "2022-04-01T11:57:34.555Z"
   },
   {
    "duration": 40,
    "start_time": "2022-04-01T11:57:34.573Z"
   },
   {
    "duration": 11,
    "start_time": "2022-04-01T11:57:34.615Z"
   },
   {
    "duration": 36,
    "start_time": "2022-04-01T11:57:34.628Z"
   },
   {
    "duration": 36,
    "start_time": "2022-04-01T11:57:34.666Z"
   },
   {
    "duration": 23,
    "start_time": "2022-04-01T11:57:34.705Z"
   },
   {
    "duration": 28,
    "start_time": "2022-04-01T11:57:34.731Z"
   },
   {
    "duration": 26,
    "start_time": "2022-04-01T11:57:34.761Z"
   },
   {
    "duration": 31,
    "start_time": "2022-04-01T11:57:34.789Z"
   },
   {
    "duration": 11,
    "start_time": "2022-04-01T11:57:34.822Z"
   },
   {
    "duration": 20,
    "start_time": "2022-04-01T11:57:34.835Z"
   },
   {
    "duration": 17,
    "start_time": "2022-04-01T11:57:34.857Z"
   },
   {
    "duration": 29,
    "start_time": "2022-04-01T11:57:34.876Z"
   },
   {
    "duration": 30,
    "start_time": "2022-04-01T11:57:34.908Z"
   },
   {
    "duration": 9,
    "start_time": "2022-04-01T11:57:34.940Z"
   },
   {
    "duration": 25,
    "start_time": "2022-04-01T11:57:34.951Z"
   },
   {
    "duration": 38,
    "start_time": "2022-04-01T11:57:34.979Z"
   },
   {
    "duration": 18,
    "start_time": "2022-04-01T11:57:35.020Z"
   },
   {
    "duration": 7,
    "start_time": "2022-04-01T11:57:35.040Z"
   },
   {
    "duration": 11,
    "start_time": "2022-04-01T11:57:35.049Z"
   },
   {
    "duration": 6,
    "start_time": "2022-04-01T11:57:35.062Z"
   },
   {
    "duration": 3,
    "start_time": "2022-04-01T11:58:09.321Z"
   },
   {
    "duration": 189,
    "start_time": "2022-04-01T11:58:09.326Z"
   },
   {
    "duration": 12,
    "start_time": "2022-04-01T11:58:09.518Z"
   },
   {
    "duration": 32,
    "start_time": "2022-04-01T11:58:09.532Z"
   },
   {
    "duration": 5,
    "start_time": "2022-04-01T11:58:09.567Z"
   },
   {
    "duration": 30,
    "start_time": "2022-04-01T11:58:09.574Z"
   },
   {
    "duration": 5,
    "start_time": "2022-04-01T11:58:09.606Z"
   },
   {
    "duration": 53,
    "start_time": "2022-04-01T11:58:09.614Z"
   },
   {
    "duration": 59,
    "start_time": "2022-04-01T11:58:09.669Z"
   },
   {
    "duration": 48,
    "start_time": "2022-04-01T11:58:09.730Z"
   },
   {
    "duration": 143,
    "start_time": "2022-04-01T11:58:09.782Z"
   },
   {
    "duration": 143,
    "start_time": "2022-04-01T11:58:09.927Z"
   },
   {
    "duration": 123,
    "start_time": "2022-04-01T11:58:10.073Z"
   },
   {
    "duration": 87,
    "start_time": "2022-04-01T11:58:10.202Z"
   },
   {
    "duration": 5,
    "start_time": "2022-04-01T11:58:10.302Z"
   },
   {
    "duration": 20,
    "start_time": "2022-04-01T11:58:10.309Z"
   },
   {
    "duration": 91,
    "start_time": "2022-04-01T11:58:10.332Z"
   },
   {
    "duration": 24,
    "start_time": "2022-04-01T11:58:10.426Z"
   },
   {
    "duration": 24,
    "start_time": "2022-04-01T11:58:10.453Z"
   },
   {
    "duration": 5,
    "start_time": "2022-04-01T11:58:10.502Z"
   },
   {
    "duration": 33,
    "start_time": "2022-04-01T11:58:10.509Z"
   },
   {
    "duration": 21,
    "start_time": "2022-04-01T11:58:10.545Z"
   },
   {
    "duration": 46,
    "start_time": "2022-04-01T11:58:10.567Z"
   },
   {
    "duration": 17,
    "start_time": "2022-04-01T11:58:10.614Z"
   },
   {
    "duration": 29,
    "start_time": "2022-04-01T11:58:10.634Z"
   },
   {
    "duration": 53,
    "start_time": "2022-04-01T11:58:10.665Z"
   },
   {
    "duration": 12,
    "start_time": "2022-04-01T11:58:10.720Z"
   },
   {
    "duration": 27,
    "start_time": "2022-04-01T11:58:10.734Z"
   },
   {
    "duration": 46,
    "start_time": "2022-04-01T11:58:10.766Z"
   },
   {
    "duration": 6,
    "start_time": "2022-04-01T11:58:10.814Z"
   },
   {
    "duration": 35,
    "start_time": "2022-04-01T11:58:10.822Z"
   },
   {
    "duration": 11,
    "start_time": "2022-04-01T11:58:10.859Z"
   },
   {
    "duration": 57,
    "start_time": "2022-04-01T11:58:10.872Z"
   },
   {
    "duration": 13,
    "start_time": "2022-04-01T11:58:10.931Z"
   },
   {
    "duration": 13,
    "start_time": "2022-04-01T11:58:10.947Z"
   },
   {
    "duration": 5,
    "start_time": "2022-04-01T11:58:10.962Z"
   },
   {
    "duration": 39,
    "start_time": "2022-04-01T11:58:10.968Z"
   },
   {
    "duration": 21,
    "start_time": "2022-04-01T11:58:11.010Z"
   },
   {
    "duration": 3,
    "start_time": "2022-04-01T12:06:04.379Z"
   },
   {
    "duration": 174,
    "start_time": "2022-04-01T12:06:04.383Z"
   },
   {
    "duration": 10,
    "start_time": "2022-04-01T12:06:04.559Z"
   },
   {
    "duration": 40,
    "start_time": "2022-04-01T12:06:04.571Z"
   },
   {
    "duration": 5,
    "start_time": "2022-04-01T12:06:04.614Z"
   },
   {
    "duration": 10,
    "start_time": "2022-04-01T12:06:04.621Z"
   },
   {
    "duration": 4,
    "start_time": "2022-04-01T12:06:04.633Z"
   },
   {
    "duration": 28,
    "start_time": "2022-04-01T12:06:04.638Z"
   },
   {
    "duration": 48,
    "start_time": "2022-04-01T12:06:04.668Z"
   },
   {
    "duration": 26,
    "start_time": "2022-04-01T12:06:04.718Z"
   },
   {
    "duration": 97,
    "start_time": "2022-04-01T12:06:04.747Z"
   },
   {
    "duration": 87,
    "start_time": "2022-04-01T12:06:04.845Z"
   },
   {
    "duration": 57,
    "start_time": "2022-04-01T12:06:04.934Z"
   },
   {
    "duration": 58,
    "start_time": "2022-04-01T12:06:04.993Z"
   },
   {
    "duration": 3,
    "start_time": "2022-04-01T12:06:05.053Z"
   },
   {
    "duration": 18,
    "start_time": "2022-04-01T12:06:05.059Z"
   },
   {
    "duration": 64,
    "start_time": "2022-04-01T12:06:05.079Z"
   },
   {
    "duration": 15,
    "start_time": "2022-04-01T12:06:05.145Z"
   },
   {
    "duration": 16,
    "start_time": "2022-04-01T12:06:05.162Z"
   },
   {
    "duration": 35,
    "start_time": "2022-04-01T12:06:05.179Z"
   },
   {
    "duration": 22,
    "start_time": "2022-04-01T12:06:05.216Z"
   },
   {
    "duration": 17,
    "start_time": "2022-04-01T12:06:05.240Z"
   },
   {
    "duration": 16,
    "start_time": "2022-04-01T12:06:05.258Z"
   },
   {
    "duration": 44,
    "start_time": "2022-04-01T12:06:05.276Z"
   },
   {
    "duration": 20,
    "start_time": "2022-04-01T12:06:05.322Z"
   },
   {
    "duration": 17,
    "start_time": "2022-04-01T12:06:05.344Z"
   },
   {
    "duration": 9,
    "start_time": "2022-04-01T12:06:05.363Z"
   },
   {
    "duration": 26,
    "start_time": "2022-04-01T12:06:05.401Z"
   },
   {
    "duration": 13,
    "start_time": "2022-04-01T12:06:05.430Z"
   },
   {
    "duration": 4,
    "start_time": "2022-04-01T12:06:05.444Z"
   },
   {
    "duration": 24,
    "start_time": "2022-04-01T12:06:05.450Z"
   },
   {
    "duration": 34,
    "start_time": "2022-04-01T12:06:05.476Z"
   },
   {
    "duration": 19,
    "start_time": "2022-04-01T12:06:05.513Z"
   },
   {
    "duration": 7,
    "start_time": "2022-04-01T12:06:05.534Z"
   },
   {
    "duration": 14,
    "start_time": "2022-04-01T12:06:05.543Z"
   },
   {
    "duration": 4,
    "start_time": "2022-04-01T12:06:05.559Z"
   },
   {
    "duration": 10,
    "start_time": "2022-04-01T12:06:05.565Z"
   },
   {
    "duration": 7,
    "start_time": "2022-04-01T12:06:05.605Z"
   },
   {
    "duration": 212,
    "start_time": "2022-04-01T12:09:33.887Z"
   },
   {
    "duration": 194,
    "start_time": "2022-04-01T12:09:38.880Z"
   },
   {
    "duration": 415,
    "start_time": "2022-04-01T12:09:52.783Z"
   },
   {
    "duration": 204,
    "start_time": "2022-04-01T12:12:00.102Z"
   },
   {
    "duration": 288,
    "start_time": "2022-04-01T12:12:02.675Z"
   },
   {
    "duration": 192,
    "start_time": "2022-04-01T12:12:20.442Z"
   },
   {
    "duration": 249,
    "start_time": "2022-04-01T12:12:23.927Z"
   },
   {
    "duration": 4,
    "start_time": "2022-04-01T12:33:34.938Z"
   },
   {
    "duration": 233,
    "start_time": "2022-04-01T12:33:34.944Z"
   },
   {
    "duration": 13,
    "start_time": "2022-04-01T12:33:35.180Z"
   },
   {
    "duration": 50,
    "start_time": "2022-04-01T12:33:35.195Z"
   },
   {
    "duration": 4,
    "start_time": "2022-04-01T12:33:35.248Z"
   },
   {
    "duration": 14,
    "start_time": "2022-04-01T12:33:35.254Z"
   },
   {
    "duration": 5,
    "start_time": "2022-04-01T12:33:35.270Z"
   },
   {
    "duration": 47,
    "start_time": "2022-04-01T12:33:35.304Z"
   },
   {
    "duration": 30,
    "start_time": "2022-04-01T12:33:35.354Z"
   },
   {
    "duration": 56,
    "start_time": "2022-04-01T12:33:35.386Z"
   },
   {
    "duration": 86,
    "start_time": "2022-04-01T12:33:35.445Z"
   },
   {
    "duration": 126,
    "start_time": "2022-04-01T12:33:35.533Z"
   },
   {
    "duration": 70,
    "start_time": "2022-04-01T12:33:35.661Z"
   },
   {
    "duration": 51,
    "start_time": "2022-04-01T12:33:35.733Z"
   },
   {
    "duration": 15,
    "start_time": "2022-04-01T12:33:35.786Z"
   },
   {
    "duration": 19,
    "start_time": "2022-04-01T12:33:35.805Z"
   },
   {
    "duration": 88,
    "start_time": "2022-04-01T12:33:35.826Z"
   },
   {
    "duration": 22,
    "start_time": "2022-04-01T12:33:35.916Z"
   },
   {
    "duration": 17,
    "start_time": "2022-04-01T12:33:35.940Z"
   },
   {
    "duration": 4,
    "start_time": "2022-04-01T12:33:35.958Z"
   },
   {
    "duration": 69,
    "start_time": "2022-04-01T12:33:35.964Z"
   },
   {
    "duration": 17,
    "start_time": "2022-04-01T12:33:36.035Z"
   },
   {
    "duration": 17,
    "start_time": "2022-04-01T12:33:36.054Z"
   },
   {
    "duration": 39,
    "start_time": "2022-04-01T12:33:36.073Z"
   },
   {
    "duration": 27,
    "start_time": "2022-04-01T12:33:36.114Z"
   },
   {
    "duration": 22,
    "start_time": "2022-04-01T12:33:36.143Z"
   },
   {
    "duration": 42,
    "start_time": "2022-04-01T12:33:36.168Z"
   },
   {
    "duration": 26,
    "start_time": "2022-04-01T12:33:36.212Z"
   },
   {
    "duration": 18,
    "start_time": "2022-04-01T12:33:36.243Z"
   },
   {
    "duration": 5,
    "start_time": "2022-04-01T12:33:36.263Z"
   },
   {
    "duration": 48,
    "start_time": "2022-04-01T12:33:36.270Z"
   },
   {
    "duration": 10,
    "start_time": "2022-04-01T12:33:36.321Z"
   },
   {
    "duration": 22,
    "start_time": "2022-04-01T12:33:36.334Z"
   },
   {
    "duration": 7,
    "start_time": "2022-04-01T12:33:36.359Z"
   },
   {
    "duration": 38,
    "start_time": "2022-04-01T12:33:36.369Z"
   },
   {
    "duration": 7,
    "start_time": "2022-04-01T12:33:36.410Z"
   },
   {
    "duration": 8,
    "start_time": "2022-04-01T12:33:36.419Z"
   },
   {
    "duration": 4,
    "start_time": "2022-04-01T12:33:36.430Z"
   },
   {
    "duration": 3,
    "start_time": "2022-04-01T12:35:25.599Z"
   },
   {
    "duration": 188,
    "start_time": "2022-04-01T12:35:25.606Z"
   },
   {
    "duration": 14,
    "start_time": "2022-04-01T12:35:25.796Z"
   },
   {
    "duration": 45,
    "start_time": "2022-04-01T12:35:25.813Z"
   },
   {
    "duration": 4,
    "start_time": "2022-04-01T12:35:25.861Z"
   },
   {
    "duration": 9,
    "start_time": "2022-04-01T12:35:25.867Z"
   },
   {
    "duration": 34,
    "start_time": "2022-04-01T12:35:25.878Z"
   },
   {
    "duration": 42,
    "start_time": "2022-04-01T12:35:25.915Z"
   },
   {
    "duration": 42,
    "start_time": "2022-04-01T12:35:25.959Z"
   },
   {
    "duration": 50,
    "start_time": "2022-04-01T12:35:26.004Z"
   },
   {
    "duration": 132,
    "start_time": "2022-04-01T12:35:26.058Z"
   },
   {
    "duration": 124,
    "start_time": "2022-04-01T12:35:26.192Z"
   },
   {
    "duration": 101,
    "start_time": "2022-04-01T12:35:26.319Z"
   },
   {
    "duration": 57,
    "start_time": "2022-04-01T12:35:26.423Z"
   },
   {
    "duration": 20,
    "start_time": "2022-04-01T12:35:26.481Z"
   },
   {
    "duration": 22,
    "start_time": "2022-04-01T12:35:26.503Z"
   },
   {
    "duration": 46,
    "start_time": "2022-04-01T12:35:26.530Z"
   },
   {
    "duration": 29,
    "start_time": "2022-04-01T12:35:26.578Z"
   },
   {
    "duration": 21,
    "start_time": "2022-04-01T12:35:26.609Z"
   },
   {
    "duration": 5,
    "start_time": "2022-04-01T12:35:26.632Z"
   },
   {
    "duration": 30,
    "start_time": "2022-04-01T12:35:26.639Z"
   },
   {
    "duration": 49,
    "start_time": "2022-04-01T12:35:26.671Z"
   },
   {
    "duration": 30,
    "start_time": "2022-04-01T12:35:26.723Z"
   },
   {
    "duration": 14,
    "start_time": "2022-04-01T12:35:26.755Z"
   },
   {
    "duration": 54,
    "start_time": "2022-04-01T12:35:26.771Z"
   },
   {
    "duration": 21,
    "start_time": "2022-04-01T12:35:26.828Z"
   },
   {
    "duration": 11,
    "start_time": "2022-04-01T12:35:26.851Z"
   },
   {
    "duration": 41,
    "start_time": "2022-04-01T12:35:26.864Z"
   },
   {
    "duration": 21,
    "start_time": "2022-04-01T12:35:26.910Z"
   },
   {
    "duration": 6,
    "start_time": "2022-04-01T12:35:26.933Z"
   },
   {
    "duration": 45,
    "start_time": "2022-04-01T12:35:26.941Z"
   },
   {
    "duration": 28,
    "start_time": "2022-04-01T12:35:26.988Z"
   },
   {
    "duration": 21,
    "start_time": "2022-04-01T12:35:27.022Z"
   },
   {
    "duration": 16,
    "start_time": "2022-04-01T12:35:27.046Z"
   },
   {
    "duration": 45,
    "start_time": "2022-04-01T12:35:27.064Z"
   },
   {
    "duration": 11,
    "start_time": "2022-04-01T12:35:27.112Z"
   },
   {
    "duration": 21,
    "start_time": "2022-04-01T12:35:27.126Z"
   },
   {
    "duration": 8,
    "start_time": "2022-04-01T12:35:27.149Z"
   },
   {
    "duration": 3,
    "start_time": "2022-04-01T12:36:30.581Z"
   },
   {
    "duration": 191,
    "start_time": "2022-04-01T12:36:30.587Z"
   },
   {
    "duration": 12,
    "start_time": "2022-04-01T12:36:30.780Z"
   },
   {
    "duration": 41,
    "start_time": "2022-04-01T12:36:30.806Z"
   },
   {
    "duration": 5,
    "start_time": "2022-04-01T12:36:30.850Z"
   },
   {
    "duration": 17,
    "start_time": "2022-04-01T12:36:30.857Z"
   },
   {
    "duration": 31,
    "start_time": "2022-04-01T12:36:30.876Z"
   },
   {
    "duration": 35,
    "start_time": "2022-04-01T12:36:30.909Z"
   },
   {
    "duration": 18,
    "start_time": "2022-04-01T12:36:30.947Z"
   },
   {
    "duration": 57,
    "start_time": "2022-04-01T12:36:30.967Z"
   },
   {
    "duration": 131,
    "start_time": "2022-04-01T12:36:31.029Z"
   },
   {
    "duration": 132,
    "start_time": "2022-04-01T12:36:31.163Z"
   },
   {
    "duration": 106,
    "start_time": "2022-04-01T12:36:31.298Z"
   },
   {
    "duration": 102,
    "start_time": "2022-04-01T12:36:31.407Z"
   },
   {
    "duration": 13,
    "start_time": "2022-04-01T12:36:31.512Z"
   },
   {
    "duration": 21,
    "start_time": "2022-04-01T12:36:31.527Z"
   },
   {
    "duration": 71,
    "start_time": "2022-04-01T12:36:31.550Z"
   },
   {
    "duration": 16,
    "start_time": "2022-04-01T12:36:31.623Z"
   },
   {
    "duration": 15,
    "start_time": "2022-04-01T12:36:31.640Z"
   },
   {
    "duration": 4,
    "start_time": "2022-04-01T12:36:31.657Z"
   },
   {
    "duration": 59,
    "start_time": "2022-04-01T12:36:31.663Z"
   },
   {
    "duration": 22,
    "start_time": "2022-04-01T12:36:31.725Z"
   },
   {
    "duration": 24,
    "start_time": "2022-04-01T12:36:31.749Z"
   },
   {
    "duration": 46,
    "start_time": "2022-04-01T12:36:31.775Z"
   },
   {
    "duration": 26,
    "start_time": "2022-04-01T12:36:31.823Z"
   },
   {
    "duration": 19,
    "start_time": "2022-04-01T12:36:31.851Z"
   },
   {
    "duration": 12,
    "start_time": "2022-04-01T12:36:31.872Z"
   },
   {
    "duration": 22,
    "start_time": "2022-04-01T12:36:31.900Z"
   },
   {
    "duration": 19,
    "start_time": "2022-04-01T12:36:31.926Z"
   },
   {
    "duration": 6,
    "start_time": "2022-04-01T12:36:31.952Z"
   },
   {
    "duration": 62,
    "start_time": "2022-04-01T12:36:31.960Z"
   },
   {
    "duration": 14,
    "start_time": "2022-04-01T12:36:32.024Z"
   },
   {
    "duration": 19,
    "start_time": "2022-04-01T12:36:32.039Z"
   },
   {
    "duration": 15,
    "start_time": "2022-04-01T12:36:32.060Z"
   },
   {
    "duration": 35,
    "start_time": "2022-04-01T12:36:32.077Z"
   },
   {
    "duration": 6,
    "start_time": "2022-04-01T12:36:32.114Z"
   },
   {
    "duration": 13,
    "start_time": "2022-04-01T12:36:32.122Z"
   },
   {
    "duration": 8,
    "start_time": "2022-04-01T12:36:32.138Z"
   },
   {
    "duration": 46,
    "start_time": "2022-04-01T22:08:07.898Z"
   },
   {
    "duration": 6,
    "start_time": "2022-04-01T22:08:10.623Z"
   },
   {
    "duration": 397,
    "start_time": "2022-10-30T20:47:30.569Z"
   },
   {
    "duration": 237,
    "start_time": "2022-10-30T20:47:30.968Z"
   },
   {
    "duration": 20,
    "start_time": "2022-10-30T20:47:31.207Z"
   },
   {
    "duration": 35,
    "start_time": "2022-10-30T20:47:31.228Z"
   },
   {
    "duration": 5,
    "start_time": "2022-10-30T20:47:31.266Z"
   },
   {
    "duration": 15,
    "start_time": "2022-10-30T20:47:31.272Z"
   },
   {
    "duration": 12,
    "start_time": "2022-10-30T20:47:31.289Z"
   },
   {
    "duration": 36,
    "start_time": "2022-10-30T20:47:31.302Z"
   },
   {
    "duration": 18,
    "start_time": "2022-10-30T20:47:31.340Z"
   },
   {
    "duration": 25,
    "start_time": "2022-10-30T20:47:31.360Z"
   },
   {
    "duration": 82,
    "start_time": "2022-10-30T20:47:31.387Z"
   },
   {
    "duration": 87,
    "start_time": "2022-10-30T20:47:31.471Z"
   },
   {
    "duration": 56,
    "start_time": "2022-10-30T20:47:31.560Z"
   },
   {
    "duration": 48,
    "start_time": "2022-10-30T20:47:31.620Z"
   },
   {
    "duration": 3,
    "start_time": "2022-10-30T20:47:31.669Z"
   },
   {
    "duration": 18,
    "start_time": "2022-10-30T20:47:31.673Z"
   },
   {
    "duration": 66,
    "start_time": "2022-10-30T20:47:31.692Z"
   },
   {
    "duration": 14,
    "start_time": "2022-10-30T20:47:31.760Z"
   },
   {
    "duration": 14,
    "start_time": "2022-10-30T20:47:31.775Z"
   },
   {
    "duration": 3,
    "start_time": "2022-10-30T20:47:31.790Z"
   },
   {
    "duration": 44,
    "start_time": "2022-10-30T20:47:31.795Z"
   },
   {
    "duration": 15,
    "start_time": "2022-10-30T20:47:31.840Z"
   },
   {
    "duration": 14,
    "start_time": "2022-10-30T20:47:31.857Z"
   },
   {
    "duration": 13,
    "start_time": "2022-10-30T20:47:31.872Z"
   },
   {
    "duration": 16,
    "start_time": "2022-10-30T20:47:31.887Z"
   },
   {
    "duration": 43,
    "start_time": "2022-10-30T20:47:31.904Z"
   },
   {
    "duration": 10,
    "start_time": "2022-10-30T20:47:31.949Z"
   },
   {
    "duration": 13,
    "start_time": "2022-10-30T20:47:31.961Z"
   },
   {
    "duration": 9,
    "start_time": "2022-10-30T20:47:31.975Z"
   },
   {
    "duration": 5,
    "start_time": "2022-10-30T20:47:31.985Z"
   },
   {
    "duration": 51,
    "start_time": "2022-10-30T20:47:31.992Z"
   },
   {
    "duration": 14,
    "start_time": "2022-10-30T20:47:32.045Z"
   },
   {
    "duration": 16,
    "start_time": "2022-10-30T20:47:32.061Z"
   },
   {
    "duration": 10,
    "start_time": "2022-10-30T20:47:32.079Z"
   },
   {
    "duration": 10,
    "start_time": "2022-10-30T20:47:32.091Z"
   },
   {
    "duration": 35,
    "start_time": "2022-10-30T20:47:32.102Z"
   },
   {
    "duration": 10,
    "start_time": "2022-10-30T20:47:32.138Z"
   },
   {
    "duration": 10,
    "start_time": "2022-10-30T20:47:32.150Z"
   }
  ],
  "colab": {
   "collapsed_sections": [
    "E0vqbgi9ay0H",
    "VUC88oWjTJw2"
   ],
   "name": "yandex_music_project.ipynb",
   "provenance": []
  },
  "kernelspec": {
   "display_name": "Python 3 (ipykernel)",
   "language": "python",
   "name": "python3"
  },
  "language_info": {
   "codemirror_mode": {
    "name": "ipython",
    "version": 3
   },
   "file_extension": ".py",
   "mimetype": "text/x-python",
   "name": "python",
   "nbconvert_exporter": "python",
   "pygments_lexer": "ipython3",
   "version": "3.9.12"
  },
  "toc": {
   "base_numbering": 1,
   "nav_menu": {},
   "number_sections": true,
   "sideBar": true,
   "skip_h1_title": true,
   "title_cell": "Table of Contents",
   "title_sidebar": "Contents",
   "toc_cell": false,
   "toc_position": {
    "height": "calc(100% - 180px)",
    "left": "10px",
    "top": "150px",
    "width": "165px"
   },
   "toc_section_display": true,
   "toc_window_display": true
  }
 },
 "nbformat": 4,
 "nbformat_minor": 1
}
