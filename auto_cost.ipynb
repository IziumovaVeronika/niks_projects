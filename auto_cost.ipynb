{
 "cells": [
  {
   "cell_type": "markdown",
   "id": "c0972bd6",
   "metadata": {},
   "source": [
    "# <div align=\"center\"><b> ОПРЕДЕЛЕНИЕ СТОИМОСТИ АВТОМОБИЛЕЙ </b></div> "
   ]
  },
  {
   "cell_type": "markdown",
   "id": "5f43b0b0",
   "metadata": {},
   "source": [
    "**Цель:** создать модель предсказания рыночной стоимости автомобиля;\n",
    "\n",
    "**Заказчик:** сервис по продаже автомобилей с пробегом \"Не бит, не крашен\";\n",
    "\n",
    "**Исходные данные:** набор данных о технических характеристиках, комплектации и ценах других автомобилей;\n",
    "\n",
    "**Критерии:** качество предсказания (значение метрики RMSE), время обучения модели, время предсказания модели"
   ]
  },
  {
   "cell_type": "markdown",
   "id": "c3ec4a2e",
   "metadata": {},
   "source": [
    "# 1. Подготовка данных"
   ]
  },
  {
   "cell_type": "markdown",
   "id": "a8c7a2d8",
   "metadata": {},
   "source": [
    "## 1.1 Загрузка и обзор данных"
   ]
  },
  {
   "cell_type": "code",
   "execution_count": null,
   "id": "260d4bc2",
   "metadata": {},
   "outputs": [],
   "source": [
    "#установим библиотеку для автоматического EDA\n",
    "!pip install pandas_profiling"
   ]
  },
  {
   "cell_type": "code",
   "execution_count": null,
   "id": "36ebfaf6",
   "metadata": {},
   "outputs": [],
   "source": [
    "#установим библиотеку LightGBM\n",
    "!pip install lightgbm"
   ]
  },
  {
   "cell_type": "code",
   "execution_count": null,
   "id": "10308432",
   "metadata": {},
   "outputs": [],
   "source": [
    "#импортируем необходимые библиотеки\n",
    "import pandas as pd\n",
    "import numpy as np\n",
    "import matplotlib.pyplot as plt\n",
    "import sklearn\n",
    "from sklearn.linear_model import LinearRegression\n",
    "from sklearn.preprocessing import StandardScaler\n",
    "from sklearn.metrics import r2_score\n",
    "import pandas_profiling\n",
    "from sklearn.model_selection import train_test_split\n",
    "from lightgbm import LGBMRegressor\n",
    "from sklearn.metrics import mean_squared_error\n",
    "from sklearn.model_selection import GridSearchCV\n",
    "from sklearn.model_selection import cross_val_score\n",
    "from sklearn.neighbors import KNeighborsRegressor\n",
    "from sklearn.tree import DecisionTreeRegressor\n",
    "from sklearn.preprocessing import OrdinalEncoder"
   ]
  },
  {
   "cell_type": "code",
   "execution_count": null,
   "id": "53bf9901",
   "metadata": {},
   "outputs": [],
   "source": [
    "#снимем ограничение на количество столбцов датафрейма, выводимых на экран\n",
    "pd.options.display.max_columns = None"
   ]
  },
  {
   "cell_type": "code",
   "execution_count": null,
   "id": "89da77b9",
   "metadata": {},
   "outputs": [],
   "source": [
    "#сформируем датафрейм\n",
    "try:\n",
    "    #берем данные с локального компьютера\n",
    "    df = pd.read_csv(r'C:\\Users\\vizum\\Desktop\\yandex_practicum\\project_11\\datasets\\autos.csv')\n",
    "except:\n",
    "    #берем данные с хранилища Яндекс.Практикума\n",
    "    df=pd.read_csv('/datasets/autos.csv')\n",
    "df"
   ]
  },
  {
   "cell_type": "code",
   "execution_count": null,
   "id": "7765a41f",
   "metadata": {},
   "outputs": [],
   "source": [
    "#для быстрого анализа данных воспользуемся библиотекой pandas_profiling\n",
    "#pandas_profiling.ProfileReport(df)"
   ]
  },
  {
   "cell_type": "markdown",
   "id": "c5d5cf9a",
   "metadata": {},
   "source": [
    "Анализируя статистическую информацию о данных, можно сделать следующие выводы:\n",
    "- названия столбцов приведены в стиле CamelCase, перименовывать не будем;\n",
    "- в датафрейме 4 строки-дубликата - их удалим;\n",
    "- в столце Price 3% нулевых значений. Строки с этими значениями далее удалим, т.к. они бесполезны для обучения;\n",
    "- необходимо проверить столбцы 'VehicleType', 'Model', 'FuelType', 'Brand' на наличие неявных дубликатов, т.к. данных, предоставленных в отчете недостаточно;\n",
    "- в столбце с годом регистрации автомобиля присутствуют аномальные значения: год регистрации варьируется от 1000 до 9999, что невозможно;\n",
    "- мощность авто варьируется от 0 до 20000 л.с., что также невозможно, поскольку на текущий момент максимальная мощность авто составляет 5000 л.с, согласно [источнику](https://cars-rating.ru/legkovye/samye-moshhnye-avtomobili-v-mire?ysclid=l87umrf7dy554612692). Необходимо подробнее рассмотреть данный параметр;\n",
    "- в приведенных объявлениях полностью отсутствует информация о фотографиях авто - все значения нулевые;\n",
    "- максимальное количество пропусков (20%) наблюдается в столбце 'NotRepaired', содержащего информацию о факте проведения ремонтных работ с продаваемым автомобилем;\n",
    "- теоретически, по столбцу с почтовым индексом можно было бы определить страну продажи авто, однако данных для идентефикации страны недостаточно - один почтовый индекс может принадлежать городам в разных странах;\n",
    "- в столбце с месяцем регистрации должно быть 12 уникальных значений, однако присутствует 13 - от 0 до 12 включительно;\n",
    "- столбцы 'DateCrowled', 'DateCreated', 'NumberOfPictures', 'PostalCode', 'LastSeen' следует удалить, так как они не нужны для обучения модели."
   ]
  },
  {
   "cell_type": "markdown",
   "id": "2c86e3c9",
   "metadata": {},
   "source": [
    "## 1.2 Предобработка данных"
   ]
  },
  {
   "cell_type": "code",
   "execution_count": null,
   "id": "be7e8b11",
   "metadata": {},
   "outputs": [],
   "source": [
    "#сохраним начальную длину датафрейма\n",
    "df_length_start = df.shape[0]"
   ]
  },
  {
   "cell_type": "code",
   "execution_count": null,
   "id": "76d3f0e1",
   "metadata": {},
   "outputs": [],
   "source": [
    "#удалим строки с нулевой ценой\n",
    "df = df[df['Price']!=0]\n",
    "print(df.shape)\n",
    "print('Удалено от первоначального датафрейма, %:', (df_length_start/df.shape[0]-1)*100)"
   ]
  },
  {
   "cell_type": "code",
   "execution_count": null,
   "id": "40604d2a",
   "metadata": {},
   "outputs": [],
   "source": [
    "#построим гистограмму распределения цены\n",
    "df['Price'].plot(kind='hist', figsize=(19,10), bins=200, ylabel = 'Цена авто, евро', xlabel='Индекс строки', title='Точечный график стоимости автомобилей в датасете');\n",
    "plt.minorticks_on()\n",
    "plt.grid(which='major')\n",
    "plt.grid(which='minor', linestyle=':')"
   ]
  },
  {
   "cell_type": "code",
   "execution_count": null,
   "id": "f23c2d9f",
   "metadata": {},
   "outputs": [],
   "source": [
    "#построим точечный график распределения цены\n",
    "df['Price'].plot(style='o', figsize=(19,10), ylim=(0, 500), ylabel = 'Цена авто, евро', xlabel='Индекс строки', title='Точечный график стоимости автомобилей в датасете');\n",
    "plt.minorticks_on()\n",
    "plt.grid(which='major')\n",
    "plt.grid(which='minor', linestyle=':')"
   ]
  },
  {
   "cell_type": "code",
   "execution_count": null,
   "id": "4a817b7f",
   "metadata": {},
   "outputs": [],
   "source": [
    "#построим гистограмму распределения цены для цен до 500 евро\n",
    "df[df['Price']<500]['Price'].plot(kind='hist', figsize=(19,10), bins=200, ylabel = 'Цена авто, евро', xlabel='Индекс строки', title='Точечный график стоимости автомобилей в датасете');\n",
    "plt.minorticks_on()\n",
    "plt.grid(which='major')\n",
    "plt.grid(which='minor', linestyle=':')"
   ]
  },
  {
   "cell_type": "code",
   "execution_count": null,
   "id": "018bac7a",
   "metadata": {},
   "outputs": [],
   "source": [
    "#посмотрим на строки датасета с небольшими ценами\n",
    "df[df['Price']<10]"
   ]
  },
  {
   "cell_type": "code",
   "execution_count": null,
   "id": "c185a82e",
   "metadata": {},
   "outputs": [],
   "source": [
    "df = df[df['Price']>50]\n",
    "df['Price'].min()"
   ]
  },
  {
   "cell_type": "code",
   "execution_count": null,
   "id": "16277a6c",
   "metadata": {},
   "outputs": [],
   "source": [
    "#удалим строки с нулевой ценой\n",
    "print('Удалено от первоначального датафрейма, %:', (df_length_start/df.shape[0]-1)*100)"
   ]
  },
  {
   "cell_type": "code",
   "execution_count": null,
   "id": "140d23d0",
   "metadata": {},
   "outputs": [],
   "source": [
    "#удалим полные дубликаты\n",
    "df=df.drop_duplicates()\n",
    "df.duplicated().sum()"
   ]
  },
  {
   "cell_type": "code",
   "execution_count": null,
   "id": "d421fcea",
   "metadata": {},
   "outputs": [],
   "source": [
    "#проверим столбцы 'VehicleType', 'Model', 'FuelType', 'Brand' на наличие неявных дубликатов\n",
    "for column in ['VehicleType', 'Model', 'FuelType', 'Brand']:\n",
    "    print('='*30, column, '='*30)\n",
    "    print(df[column].sort_values().unique(), '\\n')"
   ]
  },
  {
   "cell_type": "markdown",
   "id": "bfbf4710",
   "metadata": {},
   "source": [
    "Найдены неявные дубликаты в столбце 'Model': rangerover и range_rover."
   ]
  },
  {
   "cell_type": "code",
   "execution_count": null,
   "id": "8b3f277d",
   "metadata": {},
   "outputs": [],
   "source": [
    "#избавимся от неявных дубликатов в столбце с моделью авто\n",
    "df['Model']=df['Model'].replace(['rangerover'], 'range_rover')\n",
    "df['Model'].sort_values().unique()"
   ]
  },
  {
   "cell_type": "markdown",
   "id": "f9ce819a",
   "metadata": {},
   "source": [
    "**Рассмотрим аномальные значения в столбце с годом регистрации автомобиля.**"
   ]
  },
  {
   "cell_type": "code",
   "execution_count": null,
   "id": "c7afe478",
   "metadata": {
    "scrolled": false
   },
   "outputs": [],
   "source": [
    "#для быстрого обзора ситуации построим точечный график\n",
    "df['RegistrationYear'].plot(style='o', figsize=(19, 10), ylabel = 'Год регистрации', xlabel='Индекс строки', title='Значения года регистрации автомобилей');\n",
    "plt.minorticks_on()\n",
    "plt.grid(which='major')\n",
    "plt.grid(which='minor', linestyle=':')"
   ]
  },
  {
   "cell_type": "markdown",
   "id": "dabe76ca",
   "metadata": {},
   "source": [
    "Анализируя график выше, можно сказать, что аномальных значений не очень много, основная часть значений сконцентрирована в районе 2000-х годов. Увеличим масштаб по оси Y:"
   ]
  },
  {
   "cell_type": "code",
   "execution_count": null,
   "id": "c44971be",
   "metadata": {},
   "outputs": [],
   "source": [
    "#построим точечный график значений года регистрации с увеличенным масштабом по оси Y\n",
    "df['RegistrationYear'].plot(style='o', figsize=(19, 10), ylim=(1000, 2022), ylabel = 'Год регистрации', xlabel='Индекс строки', title='Значения года регистрации автомобилей');\n",
    "plt.minorticks_on()\n",
    "plt.grid(which='major')\n",
    "plt.grid(which='minor', linestyle=':')"
   ]
  },
  {
   "cell_type": "markdown",
   "id": "0f5fe103",
   "metadata": {},
   "source": [
    "Явно аномальные значения года регистрации расположены до 1800 года включительно. Небольшая скученность значений наблюдается в пределах от 1900 до 1950 года. Посмотрим на строки датасета в этом промежутке."
   ]
  },
  {
   "cell_type": "code",
   "execution_count": null,
   "id": "64413fdf",
   "metadata": {},
   "outputs": [],
   "source": [
    "df[(df['RegistrationYear']<1950)&(df['RegistrationYear']>1900)].sort_values(by='RegistrationYear')"
   ]
  },
  {
   "cell_type": "markdown",
   "id": "57b7485d",
   "metadata": {},
   "source": [
    "Анализируя фрагмент датасета выше, можно выявить временные несостыковки:\n",
    "- первая машина марки trabant, согласно [Википедии](https://translated.turbopages.org/proxy_u/en-ru.ru.6b369785-6328b591-0a00d8ef-74722d776562/https/en.wikipedia.org/wiki/Trebant) была выпущена в 1957 году, в то время как в датасете указан год регистрации автомобиля 1910. \n",
    "- первая машина компании марки volkswagen была выпущена в [1938 году](https://rus.team/events/vypuschen-pervyy-avtomobil-folksvagen?ysclid=l893y3nr0451568959), однако в датасете присутствует автомобиль этой марки от 1910 года.\n",
    "\n",
    "В то же время наблюдаются совпадения для более поздних годов:\n",
    "- в 1949-1954 годах [выпускался](https://automotive-heritage.com/model/787?ysclid=l894j9jh5u58108009) автомобиль Chrysler Imperial Sedan - и в датасете под индексом 27525 присутствует автомобиль Chrysler Sedan с 1949 годом регистрации;\n",
    "- в 1947 году была [выпущена](https://automotive-heritage.com/model/829?ysclid=l894rytlp5884452730) модель Chrysler Town & Country Sedan (1947) - в датасете под индексом 326241 присутствует автомобиль Chrysler Sedan с 1947 годом регистрации\n",
    "\n",
    "Рассмотрим временной отрезок с 1900 по 1950 гг на графике в укрупненном масштабе."
   ]
  },
  {
   "cell_type": "code",
   "execution_count": null,
   "id": "df6b27b5",
   "metadata": {},
   "outputs": [],
   "source": [
    "#построим точечный график значений года регистрации в промежутке от 1900 до 1950 гг\n",
    "df['RegistrationYear'].plot(style='o', figsize=(19, 10), ylim=(1900, 1950), ylabel = 'Год регистрации', xlabel='Индекс строки', title='Значения года регистрации автомобилей');\n",
    "plt.minorticks_on()\n",
    "plt.grid(which='major')\n",
    "plt.grid(which='minor', linestyle=':')"
   ]
  },
  {
   "cell_type": "markdown",
   "id": "99fabbd7",
   "metadata": {},
   "source": [
    "Действительно, график значений года регистрации в промежутке от 1900 до 1950 гг имеет аномальную \"прямую\" Y=1910. Вероятнее всего, корректные значения находятся в промежутке от 1920 по 2022 гг. Рассчитаем процент строк, не входящих в этот промежуток."
   ]
  },
  {
   "cell_type": "code",
   "execution_count": null,
   "id": "0bb561f8",
   "metadata": {},
   "outputs": [],
   "source": [
    "df[(df['RegistrationYear']>2022)|(df['RegistrationYear']<1920)]['Price'].count()*100/df.shape[0]"
   ]
  },
  {
   "cell_type": "markdown",
   "id": "b23aac2f",
   "metadata": {},
   "source": [
    "Процент аномальных значений в 'RegistrationYear' довольно мал. Удалим строки с аномальными значениями."
   ]
  },
  {
   "cell_type": "code",
   "execution_count": null,
   "id": "07b35125",
   "metadata": {},
   "outputs": [],
   "source": [
    "print('Количество строк до удаления аномальных значений в registrationYear:', df.shape[0])\n",
    "df = df[(df['RegistrationYear']<=2016)&(df['RegistrationYear']>1920)]\n",
    "print('Количество строк после удаления аномальных значений в registrationYear:', df.shape[0])\n"
   ]
  },
  {
   "cell_type": "code",
   "execution_count": null,
   "id": "71db3a85",
   "metadata": {},
   "outputs": [],
   "source": [
    "print('Удалено от первоначального датафрейма, %:', (df_length_start/df.shape[0]-1)*100)"
   ]
  },
  {
   "cell_type": "markdown",
   "id": "0cd8e37d",
   "metadata": {},
   "source": [
    "**Рассмотрим аномальные значения в столбце с мощностью автомобиля.**"
   ]
  },
  {
   "cell_type": "code",
   "execution_count": null,
   "id": "d9a30c29",
   "metadata": {},
   "outputs": [],
   "source": [
    "#для быстрого обзора ситуации построим точечный график\n",
    "df['Power'].plot(style='o', figsize=(19, 10), ylabel = 'Мощность, л.с.', xlabel='Индекс строки', title='График значений мощности автомобилей');\n",
    "plt.minorticks_on()\n",
    "plt.grid(which='major')\n",
    "plt.grid(which='minor', linestyle=':')"
   ]
  },
  {
   "cell_type": "markdown",
   "id": "3c6442c6",
   "metadata": {},
   "source": [
    "Согласно графику выше, основная часть значений мощности все-таки находится в пределах от 0 до 2500 л.с. Рассмотрим аномально большие и аномально маленькие значения."
   ]
  },
  {
   "cell_type": "code",
   "execution_count": null,
   "id": "8a60b31c",
   "metadata": {
    "scrolled": false
   },
   "outputs": [],
   "source": [
    "df[df['Power']>2700].sort_values(by='Power', ascending=False)"
   ]
  },
  {
   "cell_type": "markdown",
   "id": "11306d62",
   "metadata": {},
   "source": [
    "Мощность mercedes_benz clk 1999 года, согласно датасету, составляет 20000 л.с. Максимальная мощность автомобиля CLK 320 AT Elegance, выпускавшегося с 1998 по 2000 гг, составляет [218 л.с.](https://www.drom.ru/catalog/mercedes-benz/clk-class/231415/?ysclid=l8a7c3j30481566423). Можно предположить, что аномальные значения больше реальных в 10 или 100 раз - в таком случае мощность автомобиля bmw 1er sedan 2006 г (114106 строка датасета) должна составлять 192.1 л.с. Однако автомобили такой модели с таким типом кузова с мощностью 192.1 л.с. [отсутствуют](https://www.drom.ru/catalog/bmw/1-series/2006/?ysclid=l8a7uwnhfa196023455). Определим процент значений выше 1000 л.с.\n"
   ]
  },
  {
   "cell_type": "code",
   "execution_count": null,
   "id": "4532fce1",
   "metadata": {},
   "outputs": [],
   "source": [
    "df[df['Power']>1000]['Price'].count()/df.shape[0]*100"
   ]
  },
  {
   "cell_type": "markdown",
   "id": "bad9dbb7",
   "metadata": {},
   "source": [
    "Процент значений свыше 1000 л.с. очень мал. Удалим эти значения."
   ]
  },
  {
   "cell_type": "code",
   "execution_count": null,
   "id": "8416f922",
   "metadata": {},
   "outputs": [],
   "source": [
    "df = df[df['Power']<=1000]\n",
    "df['Power'].max()"
   ]
  },
  {
   "cell_type": "code",
   "execution_count": null,
   "id": "69f56bd6",
   "metadata": {},
   "outputs": [],
   "source": [
    "print('Удалено от первоначального датафрейма, %:', (df_length_start/df.shape[0]-1)*100)"
   ]
  },
  {
   "cell_type": "markdown",
   "id": "bf3074c9",
   "metadata": {},
   "source": [
    "Построим гистограмму распределения значений мощности на 100 корзин."
   ]
  },
  {
   "cell_type": "code",
   "execution_count": null,
   "id": "87c5a6f5",
   "metadata": {
    "scrolled": false
   },
   "outputs": [],
   "source": [
    "df['Power'].plot(kind='hist', figsize=(19,10), bins=200, ylabel = 'Количество случаев', xlabel='Мощность л.с.', title='Гистограмма распределения значений мощности автомобилей')\n",
    "plt.minorticks_on()\n",
    "plt.grid(which='major')\n",
    "plt.grid(which='minor', linestyle=':')"
   ]
  },
  {
   "cell_type": "markdown",
   "id": "67ff743c",
   "metadata": {},
   "source": [
    "На гистограмме распределения значений мощности автомобиля видим локальный аномальный пик возле 0 (более 36 тысяч объявлений). Удалим \"хвост\" со значениями можности более 400 и нулевые значения, снова построим гистограмму распределения."
   ]
  },
  {
   "cell_type": "code",
   "execution_count": null,
   "id": "2fc2ef0d",
   "metadata": {},
   "outputs": [],
   "source": [
    "#рассчитаем долю нулевых значений мощности\n",
    "df[df['Power']==0]['Price'].count()/df.shape[0]"
   ]
  },
  {
   "cell_type": "markdown",
   "id": "fe2ca73f",
   "metadata": {},
   "source": [
    "Доля нулевых значений очень большая - 10%, тысячи строк. Эти данные не восстановить, точно удаляем :("
   ]
  },
  {
   "cell_type": "code",
   "execution_count": null,
   "id": "3a189bce",
   "metadata": {},
   "outputs": [],
   "source": [
    "df = df[(df['Power']<=400)&(df['Power']!=0)]\n",
    "print(df['Power'].max())\n",
    "print(df['Power'].min())"
   ]
  },
  {
   "cell_type": "code",
   "execution_count": null,
   "id": "3a3661f8",
   "metadata": {},
   "outputs": [],
   "source": [
    "print('Удалено от первоначального датафрейма, %:', (df_length_start/df.shape[0]-1)*100)"
   ]
  },
  {
   "cell_type": "code",
   "execution_count": null,
   "id": "0875c648",
   "metadata": {
    "scrolled": true
   },
   "outputs": [],
   "source": [
    "df['Power'].plot(kind='hist', figsize=(19,10), bins=200, ylabel = 'Количество случаев', xlabel='Мощность л.с.', title='Гистограмма распределения значений мощности автомобилей')\n",
    "plt.minorticks_on()\n",
    "plt.grid(which='major')\n",
    "plt.grid(which='minor', linestyle=':')"
   ]
  },
  {
   "cell_type": "code",
   "execution_count": null,
   "id": "7422c70d",
   "metadata": {},
   "outputs": [],
   "source": [
    "#посмотрим на модели с мощностью 40 л.с. и выше\n",
    "df[df['Power']>=40].sort_values(by='Power').head(30)"
   ]
  },
  {
   "cell_type": "markdown",
   "id": "6062f1e0",
   "metadata": {},
   "source": [
    "Для некоторых моделей (opel corsa, smart fortwo) значения соответствуют указанным. Удалим строки со значениями мощности меньше 40."
   ]
  },
  {
   "cell_type": "code",
   "execution_count": null,
   "id": "c1af6e04",
   "metadata": {
    "scrolled": true
   },
   "outputs": [],
   "source": [
    "df = df[df['Power']>=40]\n",
    "df['Power'].describe()"
   ]
  },
  {
   "cell_type": "code",
   "execution_count": null,
   "id": "6482542a",
   "metadata": {},
   "outputs": [],
   "source": [
    "print('Удалено от первоначального датафрейма, %:', (df_length_start/df.shape[0]-1)*100)"
   ]
  },
  {
   "cell_type": "markdown",
   "id": "9d52d086",
   "metadata": {},
   "source": [
    "**Рассмотрим аномальные значения в столбце c месяцем регистрации**"
   ]
  },
  {
   "cell_type": "code",
   "execution_count": null,
   "id": "a1f55191",
   "metadata": {},
   "outputs": [],
   "source": [
    "df['RegistrationMonth'].value_counts().reset_index().plot(kind='bar', ylabel = 'Количество случаев', xlabel='Значение месяца регистрации', title='Количество объявлений на каждый месяц регистрации авто', figsize=(19, 10));\n",
    "plt.minorticks_on()\n",
    "plt.grid(which='major')\n",
    "plt.grid(which='minor', linestyle=':')"
   ]
  },
  {
   "cell_type": "markdown",
   "id": "a648cac7",
   "metadata": {},
   "source": [
    "Без дополнительной информации аномальное количество месяцев не исправить. Столбец удалим далее."
   ]
  },
  {
   "cell_type": "markdown",
   "id": "5d2f109a",
   "metadata": {},
   "source": [
    "**Заполнение пропусков**"
   ]
  },
  {
   "cell_type": "code",
   "execution_count": null,
   "id": "ee5ac012",
   "metadata": {},
   "outputs": [],
   "source": [
    "#получим общую информацию о пропусках в df\n",
    "df.info()"
   ]
  },
  {
   "cell_type": "markdown",
   "id": "6ffec353",
   "metadata": {},
   "source": [
    "Пропуски присутствуют только в столбцах с категориальными данными. Заполним все пропуски значением 'unknown'."
   ]
  },
  {
   "cell_type": "code",
   "execution_count": null,
   "id": "2469e2f4",
   "metadata": {},
   "outputs": [],
   "source": [
    "df=df.fillna('unknown')"
   ]
  },
  {
   "cell_type": "code",
   "execution_count": null,
   "id": "67fb3db7",
   "metadata": {
    "scrolled": false
   },
   "outputs": [],
   "source": [
    "#проверим результат\n",
    "df.info()"
   ]
  },
  {
   "cell_type": "markdown",
   "id": "9666b122",
   "metadata": {},
   "source": [
    "Пропусков нет."
   ]
  },
  {
   "cell_type": "markdown",
   "id": "04a8f00a",
   "metadata": {},
   "source": [
    "**Удаление неинформативных столбцов**"
   ]
  },
  {
   "cell_type": "markdown",
   "id": "9da93dc1",
   "metadata": {},
   "source": [
    "Удалим столбцы 'DateCrawled', 'DateCreated', 'NumberOfPictures', 'PostalCode', 'LastSeen' как не информативные для обучения, а также столбец 'RegistrationMonth', содержащий недостоверные данные."
   ]
  },
  {
   "cell_type": "code",
   "execution_count": null,
   "id": "13967c21",
   "metadata": {},
   "outputs": [],
   "source": [
    "#удалим лишние столбцы\n",
    "df = df.drop(columns=['DateCrawled', 'DateCreated', 'NumberOfPictures', 'PostalCode', 'LastSeen', 'RegistrationMonth'])"
   ]
  },
  {
   "cell_type": "code",
   "execution_count": null,
   "id": "a9696fbf",
   "metadata": {},
   "outputs": [],
   "source": [
    "#проверим результат\n",
    "df.columns"
   ]
  },
  {
   "cell_type": "markdown",
   "id": "1471dd55",
   "metadata": {},
   "source": [
    "## 1.3 Подготовка выборок для обучения"
   ]
  },
  {
   "cell_type": "markdown",
   "id": "0cb3930c",
   "metadata": {},
   "source": [
    "- выделим основные и целевые признаки в обучающей и тестовой выборках;\n",
    "- выполним прямое кодирование категориальных признаков;\n",
    "- разделим выборки на обучающую и тестовую в соотношении 3:1. Валидационную выборку отдельно выделять не будем, так как будем использовать кроссвалидацию."
   ]
  },
  {
   "cell_type": "code",
   "execution_count": null,
   "id": "4148ae71",
   "metadata": {},
   "outputs": [],
   "source": [
    "#разделим закодированный датасет на признаки и целевой признак\n",
    "features = df.drop(columns=['Price']).reset_index(drop=True)\n",
    "target = df[['Price']].reset_index(drop=True)\n",
    "\n",
    "print(features.columns)\n",
    "print(target.columns)"
   ]
  },
  {
   "cell_type": "code",
   "execution_count": null,
   "id": "ee283fc4",
   "metadata": {},
   "outputs": [],
   "source": [
    "features_ohe = features\n",
    "features_ohe"
   ]
  },
  {
   "cell_type": "code",
   "execution_count": null,
   "id": "8ff914ba",
   "metadata": {},
   "outputs": [],
   "source": [
    "#выполним прямое кодирование категориальных признаков для модели линейной регрессии\n",
    "features_ohe = pd.get_dummies(features_ohe, columns=['VehicleType', 'Gearbox', 'Model', 'FuelType', 'Brand', 'NotRepaired'], drop_first=True)\n",
    "features_ohe"
   ]
  },
  {
   "cell_type": "code",
   "execution_count": null,
   "id": "9a35ca8e",
   "metadata": {
    "scrolled": true
   },
   "outputs": [],
   "source": [
    "#выполним порядковое кодирование категориальных признаков для градиентного бустинга и дерева решений\n",
    "categorical = ['VehicleType', 'Gearbox', 'Model', 'FuelType', 'Brand', 'NotRepaired']\n",
    "encoder = OrdinalEncoder()\n",
    "features[categorical] = pd.DataFrame(encoder.fit_transform(features[categorical]), columns=categorical)\n",
    "features"
   ]
  },
  {
   "cell_type": "code",
   "execution_count": null,
   "id": "52a174c6",
   "metadata": {},
   "outputs": [],
   "source": [
    "#разделим выборки \n",
    "features_train, features_test, target_train, target_test = train_test_split(features, target, test_size=0.25, random_state=12345)\n",
    "features_train_ohe, features_test_ohe, target_train_ohe, target_test_ohe = train_test_split(features_ohe, target, test_size=0.25, random_state=12345)"
   ]
  },
  {
   "cell_type": "code",
   "execution_count": null,
   "id": "26275fef",
   "metadata": {
    "scrolled": true
   },
   "outputs": [],
   "source": [
    "#проверим размерности выборок для бустинга и ДР\n",
    "print('features_train:', features_train.shape)\n",
    "print('features_test:', features_test.shape)\n",
    "print('target_train:', target_train.shape)\n",
    "print('target_test:', target_test.shape)"
   ]
  },
  {
   "cell_type": "code",
   "execution_count": null,
   "id": "14413e34",
   "metadata": {},
   "outputs": [],
   "source": [
    "#проверим размерности выборок для бустинга и ДР\n",
    "print('features_train_ohe:', features_train_ohe.shape)\n",
    "print('features_test_ohe:', features_test_ohe.shape)\n",
    "print('target_train_ohe:', target_train_ohe.shape)\n",
    "print('target_test_ohe:', target_test_ohe.shape)"
   ]
  },
  {
   "cell_type": "markdown",
   "id": "4dcfd378",
   "metadata": {},
   "source": [
    "Выполним стандартизацию данных."
   ]
  },
  {
   "cell_type": "code",
   "execution_count": null,
   "id": "f7efc65a",
   "metadata": {},
   "outputs": [],
   "source": [
    "numeric = ['RegistrationYear', 'Power', 'Kilometer']"
   ]
  },
  {
   "cell_type": "code",
   "execution_count": null,
   "id": "47fe5d4a",
   "metadata": {},
   "outputs": [],
   "source": [
    "#создадим и настроим StandardScaler\n",
    "scaler = StandardScaler()\n",
    "scaler.fit(features_train[numeric])\n",
    "\n",
    "#стандартизируем признаки в features_train и features_valid\n",
    "features_train[numeric] = scaler.transform(features_train[numeric])\n",
    "features_test[numeric] = scaler.transform(features_test[numeric])\n",
    "features_train_ohe[numeric] = scaler.transform(features_train_ohe[numeric])\n",
    "features_test_ohe[numeric] = scaler.transform(features_test_ohe[numeric])"
   ]
  },
  {
   "cell_type": "markdown",
   "id": "cd856ebf",
   "metadata": {},
   "source": [
    "# 2. Обучение моделей"
   ]
  },
  {
   "cell_type": "markdown",
   "id": "e1be4121",
   "metadata": {},
   "source": [
    "## 2.1 Обучение модели с помощью градиентного бустинга (библиотека LightGBM)"
   ]
  },
  {
   "cell_type": "code",
   "execution_count": null,
   "id": "1e953af4",
   "metadata": {},
   "outputs": [],
   "source": [
    "#сформируем список с набором гиперпараметров\n",
    "parameters = {'n_estimators':[50, 100, 200, 300, 400], 'max_depth':[1, 2, 3, 4, 5, 6, 7], 'reg_lambda':[0, 0.3, 0.7]}"
   ]
  },
  {
   "cell_type": "code",
   "execution_count": null,
   "id": "5df13661",
   "metadata": {},
   "outputs": [],
   "source": [
    "%%time\n",
    "#подберем наилучшие гиперпараметры модели с помощью градиентного бустинга\n",
    "model_lgbm= GridSearchCV(LGBMRegressor(random_state=12345), param_grid=parameters, scoring = 'neg_root_mean_squared_error', cv=5, verbose=1)\n",
    "model_lgbm.fit(features_train, target_train)"
   ]
  },
  {
   "cell_type": "code",
   "execution_count": null,
   "id": "1010bbe2",
   "metadata": {},
   "outputs": [],
   "source": [
    "print('Наилучшие параметры модели:', model_lgbm.best_params_)\n",
    "\n",
    "#сохраним оценку модели, полученную с помощью кроссвалидации\n",
    "best_score_lgbm = model_lgbm.best_score_\n",
    "print('Оценка модели решений:', best_score_lgbm)"
   ]
  },
  {
   "cell_type": "code",
   "execution_count": null,
   "id": "b994499d",
   "metadata": {},
   "outputs": [],
   "source": [
    "%%time\n",
    "#оценим время обучения модели\n",
    "model_lgbm_best = LGBMRegressor(random_state=12345, **model_lgbm.best_params_)\n",
    "model_lgbm_best.fit(features_train, target_train)"
   ]
  },
  {
   "cell_type": "code",
   "execution_count": null,
   "id": "bcb70e02",
   "metadata": {},
   "outputs": [],
   "source": [
    "%%time\n",
    "#оценим время предсказания и выполним предсказание модели по тестовым данным\n",
    "predict = model_lgbm_best.predict(features_train)"
   ]
  },
  {
   "cell_type": "code",
   "execution_count": null,
   "id": "d855e875",
   "metadata": {},
   "outputs": [],
   "source": [
    "%%time\n",
    "#оценим время предсказания и выполним предсказание модели по тестовым данным\n",
    "#predict = model_lgbm_best.predict(features_test)"
   ]
  },
  {
   "cell_type": "code",
   "execution_count": null,
   "id": "12e11059",
   "metadata": {},
   "outputs": [],
   "source": [
    "#рассчитаем точность предсказания\n",
    "#rmse_lgbm = (mean_squared_error(predict, target_test))**0.5\n",
    "#rmse_lgbm"
   ]
  },
  {
   "cell_type": "markdown",
   "id": "7c777aa6",
   "metadata": {},
   "source": [
    "Сохраним результаты в словарь:"
   ]
  },
  {
   "cell_type": "code",
   "execution_count": null,
   "id": "0921e64e",
   "metadata": {},
   "outputs": [],
   "source": [
    "results = {'Model':['model_lgbm_best', 'model_lr', 'model_dt_best'], 'validation_time, m':[], 'training_time, s':[], 'pred_time, s':[], 'val_rmse':[], 'best_params':[]}\n",
    "results"
   ]
  },
  {
   "cell_type": "code",
   "execution_count": null,
   "id": "0ca28ecc",
   "metadata": {},
   "outputs": [],
   "source": [
    "results['validation_time, m'].append(round(8+6/60, 2))\n",
    "results['training_time, s'].append(1.7)\n",
    "results['pred_time, s'].append(0.99)\n",
    "results['val_rmse'].append(round(-best_score_lgbm, 2))\n",
    "results['best_params'].append(model_lgbm.best_params_)\n",
    "\n",
    "results"
   ]
  },
  {
   "cell_type": "markdown",
   "id": "0d240551",
   "metadata": {},
   "source": [
    "## 2.2 Обучение модели с помощью линейной регрессии"
   ]
  },
  {
   "cell_type": "code",
   "execution_count": null,
   "id": "8905d393",
   "metadata": {},
   "outputs": [],
   "source": [
    "#зададим алгоритм модели\n",
    "model_lr = LinearRegression()"
   ]
  },
  {
   "cell_type": "code",
   "execution_count": null,
   "id": "40567fec",
   "metadata": {},
   "outputs": [],
   "source": [
    "%%time\n",
    "#получим вектор оценок качества модели по результатам кросс-валидации\n",
    "scores_lr = cross_val_score(model_lr, features_train_ohe, target_train_ohe, cv=5, scoring='neg_root_mean_squared_error')\n",
    "print(scores_lr)"
   ]
  },
  {
   "cell_type": "code",
   "execution_count": null,
   "id": "b2caa130",
   "metadata": {},
   "outputs": [],
   "source": [
    "print('Средняя оценка:', pd.Series(scores_lr).mean())"
   ]
  },
  {
   "cell_type": "code",
   "execution_count": null,
   "id": "3dd9ba46",
   "metadata": {},
   "outputs": [],
   "source": [
    "%%time\n",
    "#обучим модель на тренировочных данных\n",
    "model_lr.fit(features_train, target_train)"
   ]
  },
  {
   "cell_type": "code",
   "execution_count": null,
   "id": "1b6f8c0a",
   "metadata": {},
   "outputs": [],
   "source": [
    "%%time\n",
    "#рассчитаем время предсказания\n",
    "#predict_lr = model_lr.predict(features_test)"
   ]
  },
  {
   "cell_type": "code",
   "execution_count": null,
   "id": "5b7446c3",
   "metadata": {},
   "outputs": [],
   "source": [
    "%%time\n",
    "#рассчитаем время предсказания\n",
    "predict_lr = model_lr.predict(features_train)"
   ]
  },
  {
   "cell_type": "code",
   "execution_count": null,
   "id": "76279238",
   "metadata": {},
   "outputs": [],
   "source": [
    "#оценим качество предсказания\n",
    "#rmse_lr = (mean_squared_error(predict_lr, target_test))**0.5\n",
    "#rmse_lr"
   ]
  },
  {
   "cell_type": "code",
   "execution_count": null,
   "id": "a54cd978",
   "metadata": {},
   "outputs": [],
   "source": [
    "#сохраним результаты\n",
    "results['validation_time, m'].append(round(15/60, 2))\n",
    "results['training_time, s'].append(0.05)\n",
    "results['pred_time, s'].append(0.007)\n",
    "results['val_rmse'].append(round(-pd.Series(scores_lr).mean(), 2))\n",
    "results['best_params'].append('default')\n",
    "\n",
    "results"
   ]
  },
  {
   "cell_type": "markdown",
   "id": "2fc4e716",
   "metadata": {},
   "source": [
    "## 2.3 Обучение модели с помощью дерева решений"
   ]
  },
  {
   "cell_type": "code",
   "execution_count": null,
   "id": "848ba985",
   "metadata": {},
   "outputs": [],
   "source": [
    "#сформируем список с набором гиперпараметров\n",
    "parameters_dt = {'min_samples_split':[2, 3, 4, 5, 6, 7, 8, 9, 10], 'max_depth':[3, 4, 5, 6, 7, 8, 9, 10]}"
   ]
  },
  {
   "cell_type": "code",
   "execution_count": null,
   "id": "5fbae7ca",
   "metadata": {},
   "outputs": [],
   "source": [
    "%%time\n",
    "model_dt= GridSearchCV(DecisionTreeRegressor(random_state=12345), param_grid=parameters_dt, scoring = 'neg_root_mean_squared_error', cv=5, verbose=1)\n",
    "model_dt.fit(features_train, target_train)"
   ]
  },
  {
   "cell_type": "code",
   "execution_count": null,
   "id": "466b2605",
   "metadata": {},
   "outputs": [],
   "source": [
    "print('Наилучшие параметры модели:', model_dt.best_params_)\n",
    "\n",
    "#сохраним оценку модели, полученную с помощью кроссвалидации\n",
    "best_score_dt = model_dt.best_score_\n",
    "print('Оценка модели на основе дерева решений:', best_score_dt)"
   ]
  },
  {
   "cell_type": "code",
   "execution_count": null,
   "id": "c56a6916",
   "metadata": {},
   "outputs": [],
   "source": [
    "%%time\n",
    "#оценим время обучения модели\n",
    "model_dt_best = DecisionTreeRegressor(random_state=12345, **model_dt.best_params_)\n",
    "model_dt_best.fit(features_train, target_train)"
   ]
  },
  {
   "cell_type": "code",
   "execution_count": null,
   "id": "97a2df58",
   "metadata": {},
   "outputs": [],
   "source": [
    "%%time\n",
    "#рассчитаем время предсказания\n",
    "#predict_dt = model_dt_best.predict(features_test)"
   ]
  },
  {
   "cell_type": "code",
   "execution_count": null,
   "id": "d66ce0d0",
   "metadata": {},
   "outputs": [],
   "source": [
    "%%time\n",
    "#рассчитаем время предсказания\n",
    "predict_dt = model_dt_best.predict(features_train)"
   ]
  },
  {
   "cell_type": "code",
   "execution_count": null,
   "id": "67d00af0",
   "metadata": {},
   "outputs": [],
   "source": [
    "#оценим качество предсказания\n",
    "#rmse_dt = (mean_squared_error(predict_dt, target_test))**0.5\n",
    "#rmse_dt"
   ]
  },
  {
   "cell_type": "code",
   "execution_count": null,
   "id": "5bb4b64b",
   "metadata": {},
   "outputs": [],
   "source": [
    "#сохраним результаты\n",
    "results['validation_time, m'].append(round(1+27/60, 2))\n",
    "results['training_time, s'].append(0.42)\n",
    "results['pred_time, s'].append(0.03)\n",
    "results['val_rmse'].append(round(-best_score_dt, 2))\n",
    "results['best_params'].append(model_dt.best_params_)\n",
    "\n",
    "results"
   ]
  },
  {
   "cell_type": "markdown",
   "id": "70f4586c",
   "metadata": {},
   "source": [
    "# 3. Анализ построенных моделей"
   ]
  },
  {
   "cell_type": "markdown",
   "id": "ba9ff53a",
   "metadata": {},
   "source": [
    "Сформируем табличку с характеристиками построенных моделей."
   ]
  },
  {
   "cell_type": "code",
   "execution_count": null,
   "id": "be7e9ee9",
   "metadata": {},
   "outputs": [],
   "source": [
    "pd.DataFrame(results)"
   ]
  },
  {
   "cell_type": "markdown",
   "id": "ffa967e3",
   "metadata": {},
   "source": [
    "- **Model** - имя модели предсказания стоимости автомобиля;\n",
    "    - ***model_lgbm_best*** - модель на базе случайного леса, обученная градиентным бустингом;\n",
    "    - ***model_lr*** - модель на базе алгоритма линейной регрессии;\n",
    "    - ***model_dt_best*** - модель на базе алгоритма дерева решений;\n",
    "- **validation_time** - время подбора гиперпараметров модели с помощью кроссвалидации при разбиении обучающей выборки на 5 частей. Для линейной регрессии подбор гиперпараметров не осуществлялся;\n",
    "- **training_time** - время обучения модели с наилучшими гиперпараметрами;\n",
    "- **pred_time** - время предсказания модели;\n",
    "- **val_rmse** - качество модели на кроссвалидации;\n",
    "- **test_rmse** - качество предсказания;\n",
    "- **best_params** - наилучшие гиперпараметры."
   ]
  },
  {
   "cell_type": "markdown",
   "id": "b55e3366",
   "metadata": {},
   "source": [
    "Анализируя сводную таблицу характеристик моделей прогноза стоимости автомобиля, можно сказать следующее: \n",
    "- требованиям точности к модели отвечают две модели: model_lgbm_best и model_dt_best - значения RMSE этих моделей на валидации лучше порогового (2500). Однако наилучшее качество модели, по метрике RMSE, наблюдается для модели model_lgbm_best и составляет 1568. Полученное значение лучше RMSE моделей случайного леса и линейной регрессии в 1.2 и 1.8 раз соответственно. Модель model_lr не проходит по требованиям точности: RMSE линейной регрессии на валидации составила 2х10^12, что много больше допустимого значения 2500. Далее модель model_lr рассматривать не будем;\n",
    "- по времени обучения модель model_dt_best быстрее модели model_lgbm_best в 4 раза, по времени предсказания - в 33 раза. Однако с учетом объема тренировочной выборки в 220.5 тысяч строк время предсказания обеих моделей можно признать небольшим.\n",
    "\n",
    "Модель model_dt_best опережает модель model_lgbm_best по двум критериям, связанным со скоростью работы, однако проигрывает по точности предсказания. Так как точность - единственный регламентируемый параметр, примем его более важным, чем скорость работы.\n",
    "\n",
    "С учетом вышесказанного, в качестве **итоговой** можно принять модель model_lgbm_best.\n",
    "\n",
    "В качестве **запасной** модели можно принять model_dt_best - для случая, когда скорость предсказания будет более критична, чем точность."
   ]
  },
  {
   "cell_type": "markdown",
   "id": "56876dba",
   "metadata": {},
   "source": [
    "**Проверим точность итоговой и запасной моделей на тестовой выборке**"
   ]
  },
  {
   "cell_type": "code",
   "execution_count": null,
   "id": "884a4056",
   "metadata": {},
   "outputs": [],
   "source": [
    "#предсказание для итоговой модели\n",
    "test_predict_lgbm = model_lgbm_best.predict(features_test)\n",
    "rmse_lgbm = (mean_squared_error(test_predict_lgbm, target_test))**0.5\n",
    "rmse_lgbm"
   ]
  },
  {
   "cell_type": "code",
   "execution_count": null,
   "id": "766cb368",
   "metadata": {},
   "outputs": [],
   "source": [
    "#предсказание для запасной модели\n",
    "test_predict_dt = model_dt_best.predict(features_test)\n",
    "rmse_dt = (mean_squared_error(test_predict_dt, target_test))**0.5\n",
    "rmse_dt"
   ]
  },
  {
   "cell_type": "markdown",
   "id": "e1656c70",
   "metadata": {},
   "source": [
    "**Сравним выбранные модели с константной**"
   ]
  },
  {
   "cell_type": "code",
   "execution_count": null,
   "id": "1a518ed1",
   "metadata": {},
   "outputs": [],
   "source": [
    "#создадим предсказание константной модели\n",
    "const_model = np.array([target_train.median()]*target_test.shape[0])\n",
    "const_model"
   ]
  },
  {
   "cell_type": "code",
   "execution_count": null,
   "id": "d6ad09bf",
   "metadata": {},
   "outputs": [],
   "source": [
    "#сравним итоговую модель с константной\n",
    "rmse_const_f = (mean_squared_error(test_predict_lgbm, const_model))**0.5\n",
    "rmse_const_f"
   ]
  },
  {
   "cell_type": "code",
   "execution_count": null,
   "id": "83f226e6",
   "metadata": {},
   "outputs": [],
   "source": [
    "#сравним итоговую модель с константной\n",
    "rmse_const_z = (mean_squared_error(test_predict_dt, const_model))**0.5\n",
    "rmse_const_z"
   ]
  },
  {
   "cell_type": "markdown",
   "id": "ca166e80",
   "metadata": {},
   "source": [
    "Точность константной модели хуже итоговой и запасной моделей в три и два раза соответственно. Выбранные модели вменяемы."
   ]
  },
  {
   "cell_type": "markdown",
   "id": "66611328",
   "metadata": {},
   "source": [
    "# 4. Общий вывод"
   ]
  },
  {
   "cell_type": "markdown",
   "id": "8e232a3e",
   "metadata": {},
   "source": [
    "В рамках создания модели предсказания рыночной стоимости автомобиля для компании \"Не бит, не крашен\" выполнено следующее:\n",
    "- выполнена предобработка данных, в результате которой было удалено 16% значений. Такой процент удаленных данных вызван большим количеством аномальных (нулевых) значений в параметре 'Power', которые было невозможно восстановить;\n",
    "- выполнено обучение трех моделей:\n",
    "    - на основе случайного леса способом градиентного бустинга LightGBM (model_lgbm_best);\n",
    "    - на основе линейной регрессии (model_lr);\n",
    "    - на основе дерева решений (model_dt_best).\n",
    "\n",
    "- наилучшую точность на валидации показала модель model_lgbm_best: RMSE=1568;\n",
    "- наиболее быстрая модель, отвечающая требованиям к точности: model_lgbm_best, RMSE на валидации 1947.\n",
    "- модель model_lr не удовлетворяет требованиям точности. RMSE на валидации составляет 2567, что превышает допустимое значение, равное 2500;\n",
    "\n",
    "Из предположения, что точность предсказания является приоритетным критерием, в качестве итоговой была выбрана модель **model_lgbm_best** с параметрами {'max_depth': 7, 'n_estimators': 400, 'reg_lambda': 0.3}. Точность этой модели на тестовых данных составила RMSE = 1562.\n",
    "В случае, когда скорость предсказания более критична, чем точность, можно использовать модель **model_dt_best** с параметрами {'max_depth': 10, 'min_samples_split': 10}. Точность этой модели на тестовых данных составила RMSE = 1930."
   ]
  },
  {
   "cell_type": "code",
   "execution_count": null,
   "id": "803b4a08",
   "metadata": {},
   "outputs": [],
   "source": [
    "model_lgbm_best = LGBMRegressor(random_state=12345)\n",
    "model_lgbm_best.fit(features_train, target_train)"
   ]
  },
  {
   "cell_type": "code",
   "execution_count": null,
   "id": "8da5a6f3",
   "metadata": {},
   "outputs": [],
   "source": [
    "pd.Series(model_lgbm_best.feature_importances_, index=features_train.columns).sort_values().plot(kind='bar', ylabel = 'Важность признака', xlabel='Признак', title='Важность признаков для модели LightGBM', figsize=(19, 10));\n",
    "plt.minorticks_on()\n",
    "plt.grid(which='major')\n",
    "plt.grid(which='minor', linestyle=':')"
   ]
  },
  {
   "cell_type": "markdown",
   "id": "c76fc1a0",
   "metadata": {},
   "source": [
    "Для итоговой модели наиболее важные признаки: возраст машины и мощность двигателя. На втором месте находятся модель и марка автомобиля, на третьем - тип кузова и пробег. \n",
    "Наименьшую роль в ценообразовании играет тип коропки передач, наличие факта ремонта и тип топлива."
   ]
  }
 ],
 "metadata": {
  "ExecuteTimeLog": [
   {
    "duration": 16400,
    "start_time": "2022-09-21T16:12:00.675Z"
   },
   {
    "duration": 2593,
    "start_time": "2022-09-21T16:12:17.080Z"
   },
   {
    "duration": 62,
    "start_time": "2022-09-21T16:12:19.675Z"
   },
   {
    "duration": 0,
    "start_time": "2022-09-21T16:12:19.739Z"
   },
   {
    "duration": 0,
    "start_time": "2022-09-21T16:12:19.740Z"
   },
   {
    "duration": 0,
    "start_time": "2022-09-21T16:12:19.741Z"
   },
   {
    "duration": 0,
    "start_time": "2022-09-21T16:12:19.742Z"
   },
   {
    "duration": 0,
    "start_time": "2022-09-21T16:12:19.742Z"
   },
   {
    "duration": 0,
    "start_time": "2022-09-21T16:12:19.743Z"
   },
   {
    "duration": 2560,
    "start_time": "2022-09-21T16:12:46.180Z"
   },
   {
    "duration": 2366,
    "start_time": "2022-09-21T16:12:48.743Z"
   },
   {
    "duration": 4598,
    "start_time": "2022-09-21T16:12:51.111Z"
   },
   {
    "duration": 2,
    "start_time": "2022-09-21T16:12:55.712Z"
   },
   {
    "duration": 1376,
    "start_time": "2022-09-21T16:12:55.717Z"
   },
   {
    "duration": 46013,
    "start_time": "2022-09-21T16:12:57.095Z"
   },
   {
    "duration": 4,
    "start_time": "2022-09-21T16:13:43.110Z"
   },
   {
    "duration": 123,
    "start_time": "2022-09-21T16:13:43.117Z"
   },
   {
    "duration": 1030,
    "start_time": "2022-09-21T16:13:43.242Z"
   },
   {
    "duration": 1049,
    "start_time": "2022-09-21T16:14:40.714Z"
   },
   {
    "duration": 1122,
    "start_time": "2022-09-21T16:15:37.036Z"
   },
   {
    "duration": 399,
    "start_time": "2022-09-21T16:16:57.074Z"
   },
   {
    "duration": 1068,
    "start_time": "2022-09-21T16:17:02.015Z"
   },
   {
    "duration": 558,
    "start_time": "2022-09-21T16:17:16.321Z"
   },
   {
    "duration": 511,
    "start_time": "2022-09-21T16:17:28.341Z"
   },
   {
    "duration": 3294,
    "start_time": "2022-09-21T16:19:10.036Z"
   },
   {
    "duration": 790,
    "start_time": "2022-09-21T16:19:48.804Z"
   },
   {
    "duration": 41,
    "start_time": "2022-09-21T16:20:36.845Z"
   },
   {
    "duration": 12,
    "start_time": "2022-09-21T16:22:08.374Z"
   },
   {
    "duration": 10,
    "start_time": "2022-09-21T16:22:20.663Z"
   },
   {
    "duration": 12,
    "start_time": "2022-09-21T16:22:34.676Z"
   },
   {
    "duration": 15,
    "start_time": "2022-09-21T16:22:59.247Z"
   },
   {
    "duration": 12,
    "start_time": "2022-09-21T16:23:08.015Z"
   },
   {
    "duration": 11,
    "start_time": "2022-09-21T16:23:14.375Z"
   },
   {
    "duration": 21,
    "start_time": "2022-09-21T16:23:59.044Z"
   },
   {
    "duration": 29,
    "start_time": "2022-09-21T16:24:12.995Z"
   },
   {
    "duration": 27,
    "start_time": "2022-09-21T16:24:59.476Z"
   },
   {
    "duration": 58,
    "start_time": "2022-09-21T16:28:46.266Z"
   },
   {
    "duration": 45,
    "start_time": "2022-09-21T16:28:50.070Z"
   },
   {
    "duration": 2570,
    "start_time": "2022-09-21T16:29:05.867Z"
   },
   {
    "duration": 2468,
    "start_time": "2022-09-21T16:29:08.439Z"
   },
   {
    "duration": 5,
    "start_time": "2022-09-21T16:29:10.910Z"
   },
   {
    "duration": 27,
    "start_time": "2022-09-21T16:29:10.916Z"
   },
   {
    "duration": 964,
    "start_time": "2022-09-21T16:29:10.946Z"
   },
   {
    "duration": 47861,
    "start_time": "2022-09-21T16:29:11.912Z"
   },
   {
    "duration": 4,
    "start_time": "2022-09-21T16:29:59.775Z"
   },
   {
    "duration": 84,
    "start_time": "2022-09-21T16:29:59.781Z"
   },
   {
    "duration": 837,
    "start_time": "2022-09-21T16:29:59.868Z"
   },
   {
    "duration": 529,
    "start_time": "2022-09-21T16:30:00.707Z"
   },
   {
    "duration": 664,
    "start_time": "2022-09-21T16:30:01.240Z"
   },
   {
    "duration": 42,
    "start_time": "2022-09-21T16:30:01.906Z"
   },
   {
    "duration": 84,
    "start_time": "2022-09-21T16:30:01.950Z"
   },
   {
    "duration": 4,
    "start_time": "2022-09-21T16:30:02.041Z"
   },
   {
    "duration": 2657,
    "start_time": "2022-09-21T16:31:06.218Z"
   },
   {
    "duration": 2436,
    "start_time": "2022-09-21T16:31:08.878Z"
   },
   {
    "duration": 8,
    "start_time": "2022-09-21T16:31:11.316Z"
   },
   {
    "duration": 15,
    "start_time": "2022-09-21T16:31:11.330Z"
   },
   {
    "duration": 940,
    "start_time": "2022-09-21T16:31:11.347Z"
   },
   {
    "duration": 47268,
    "start_time": "2022-09-21T16:31:12.289Z"
   },
   {
    "duration": 3,
    "start_time": "2022-09-21T16:31:59.560Z"
   },
   {
    "duration": 78,
    "start_time": "2022-09-21T16:31:59.565Z"
   },
   {
    "duration": 887,
    "start_time": "2022-09-21T16:31:59.645Z"
   },
   {
    "duration": 516,
    "start_time": "2022-09-21T16:32:00.534Z"
   },
   {
    "duration": 1157,
    "start_time": "2022-09-21T16:32:01.052Z"
   },
   {
    "duration": 38,
    "start_time": "2022-09-21T16:32:02.212Z"
   },
   {
    "duration": 56,
    "start_time": "2022-09-21T16:32:02.252Z"
   },
   {
    "duration": 14,
    "start_time": "2022-09-21T16:32:02.310Z"
   },
   {
    "duration": 918,
    "start_time": "2022-09-21T16:32:02.333Z"
   },
   {
    "duration": 1082,
    "start_time": "2022-09-21T16:32:03.253Z"
   },
   {
    "duration": 327,
    "start_time": "2022-09-21T16:32:04.339Z"
   },
   {
    "duration": 936,
    "start_time": "2022-09-21T16:32:04.668Z"
   },
   {
    "duration": 968,
    "start_time": "2022-09-21T16:32:05.607Z"
   },
   {
    "duration": 27,
    "start_time": "2022-09-21T16:32:06.576Z"
   },
   {
    "duration": 480,
    "start_time": "2022-09-21T16:32:06.624Z"
   },
   {
    "duration": 8,
    "start_time": "2022-09-21T16:32:33.087Z"
   },
   {
    "duration": 5,
    "start_time": "2022-09-21T16:32:49.979Z"
   },
   {
    "duration": 63,
    "start_time": "2022-09-21T16:33:03.478Z"
   },
   {
    "duration": 5,
    "start_time": "2022-09-21T16:33:22.199Z"
   },
   {
    "duration": 60,
    "start_time": "2022-09-21T16:33:31.597Z"
   },
   {
    "duration": 46,
    "start_time": "2022-09-21T16:34:03.946Z"
   },
   {
    "duration": 4,
    "start_time": "2022-09-21T16:34:13.966Z"
   },
   {
    "duration": 958,
    "start_time": "2022-09-21T16:34:30.836Z"
   },
   {
    "duration": 34,
    "start_time": "2022-09-21T16:34:34.499Z"
   },
   {
    "duration": 7,
    "start_time": "2022-09-21T16:34:37.507Z"
   },
   {
    "duration": 53,
    "start_time": "2022-09-21T16:34:39.507Z"
   },
   {
    "duration": 4,
    "start_time": "2022-09-21T16:34:41.151Z"
   },
   {
    "duration": 707,
    "start_time": "2022-09-21T16:34:42.447Z"
   },
   {
    "duration": 19,
    "start_time": "2022-09-21T16:34:45.791Z"
   },
   {
    "duration": 53,
    "start_time": "2022-09-21T16:34:46.959Z"
   },
   {
    "duration": 4,
    "start_time": "2022-09-21T16:34:48.757Z"
   },
   {
    "duration": 860,
    "start_time": "2022-09-21T16:34:50.599Z"
   },
   {
    "duration": 167,
    "start_time": "2022-09-21T16:34:54.199Z"
   },
   {
    "duration": 69,
    "start_time": "2022-09-21T16:34:57.880Z"
   },
   {
    "duration": 4,
    "start_time": "2022-09-21T16:34:59.750Z"
   },
   {
    "duration": 550,
    "start_time": "2022-09-21T16:35:05.600Z"
   },
   {
    "duration": 107,
    "start_time": "2022-09-21T16:39:04.079Z"
   },
   {
    "duration": 149,
    "start_time": "2022-09-21T16:39:07.560Z"
   },
   {
    "duration": 102,
    "start_time": "2022-09-21T16:39:10.637Z"
   },
   {
    "duration": 68,
    "start_time": "2022-09-21T16:39:16.571Z"
   },
   {
    "duration": 4,
    "start_time": "2022-09-21T16:39:21.159Z"
   },
   {
    "duration": 18,
    "start_time": "2022-09-21T16:39:24.399Z"
   },
   {
    "duration": 768,
    "start_time": "2022-09-21T16:39:26.751Z"
   },
   {
    "duration": 5,
    "start_time": "2022-09-21T16:53:50.776Z"
   },
   {
    "duration": 5647,
    "start_time": "2022-09-21T16:57:56.120Z"
   },
   {
    "duration": 2487,
    "start_time": "2022-09-21T16:58:29.748Z"
   },
   {
    "duration": 2406,
    "start_time": "2022-09-21T16:58:32.238Z"
   },
   {
    "duration": 4,
    "start_time": "2022-09-21T16:58:34.646Z"
   },
   {
    "duration": 13,
    "start_time": "2022-09-21T16:58:34.652Z"
   },
   {
    "duration": 884,
    "start_time": "2022-09-21T16:58:34.667Z"
   },
   {
    "duration": 2,
    "start_time": "2022-09-21T16:58:35.553Z"
   },
   {
    "duration": 24,
    "start_time": "2022-09-21T16:58:35.557Z"
   },
   {
    "duration": 76,
    "start_time": "2022-09-21T16:58:35.583Z"
   },
   {
    "duration": 720,
    "start_time": "2022-09-21T16:58:35.661Z"
   },
   {
    "duration": 524,
    "start_time": "2022-09-21T16:58:36.383Z"
   },
   {
    "duration": 883,
    "start_time": "2022-09-21T16:58:36.909Z"
   },
   {
    "duration": 46,
    "start_time": "2022-09-21T16:58:37.794Z"
   },
   {
    "duration": 49,
    "start_time": "2022-09-21T16:58:37.842Z"
   },
   {
    "duration": 4,
    "start_time": "2022-09-21T16:58:37.894Z"
   },
   {
    "duration": 964,
    "start_time": "2022-09-21T16:58:37.899Z"
   },
   {
    "duration": 1182,
    "start_time": "2022-09-21T16:58:38.865Z"
   },
   {
    "duration": 327,
    "start_time": "2022-09-21T16:58:40.050Z"
   },
   {
    "duration": 910,
    "start_time": "2022-09-21T16:58:40.378Z"
   },
   {
    "duration": 971,
    "start_time": "2022-09-21T16:58:41.291Z"
   },
   {
    "duration": 28,
    "start_time": "2022-09-21T16:58:42.264Z"
   },
   {
    "duration": 446,
    "start_time": "2022-09-21T16:58:42.293Z"
   },
   {
    "duration": 10,
    "start_time": "2022-09-21T16:58:42.742Z"
   },
   {
    "duration": 84,
    "start_time": "2022-09-21T16:58:42.755Z"
   },
   {
    "duration": 3,
    "start_time": "2022-09-21T16:58:42.842Z"
   },
   {
    "duration": 1038,
    "start_time": "2022-09-21T16:58:42.847Z"
   },
   {
    "duration": 43,
    "start_time": "2022-09-21T16:58:43.887Z"
   },
   {
    "duration": 22,
    "start_time": "2022-09-21T16:58:43.932Z"
   },
   {
    "duration": 80,
    "start_time": "2022-09-21T16:58:43.956Z"
   },
   {
    "duration": 4,
    "start_time": "2022-09-21T16:58:44.038Z"
   },
   {
    "duration": 686,
    "start_time": "2022-09-21T16:58:44.044Z"
   },
   {
    "duration": 20,
    "start_time": "2022-09-21T16:58:44.736Z"
   },
   {
    "duration": 51,
    "start_time": "2022-09-21T16:58:44.758Z"
   },
   {
    "duration": 13,
    "start_time": "2022-09-21T16:58:44.811Z"
   },
   {
    "duration": 906,
    "start_time": "2022-09-21T16:58:44.834Z"
   },
   {
    "duration": 174,
    "start_time": "2022-09-21T16:58:45.742Z"
   },
   {
    "duration": 61,
    "start_time": "2022-09-21T16:58:45.921Z"
   },
   {
    "duration": 4,
    "start_time": "2022-09-21T16:58:45.983Z"
   },
   {
    "duration": 606,
    "start_time": "2022-09-21T16:58:45.988Z"
   },
   {
    "duration": 128,
    "start_time": "2022-09-21T16:58:46.596Z"
   },
   {
    "duration": 154,
    "start_time": "2022-09-21T16:58:46.727Z"
   },
   {
    "duration": 113,
    "start_time": "2022-09-21T16:58:46.885Z"
   },
   {
    "duration": 93,
    "start_time": "2022-09-21T16:58:47.000Z"
   },
   {
    "duration": 4,
    "start_time": "2022-09-21T16:58:47.095Z"
   },
   {
    "duration": 33,
    "start_time": "2022-09-21T16:58:47.101Z"
   },
   {
    "duration": 3,
    "start_time": "2022-09-21T16:58:47.136Z"
   },
   {
    "duration": 558,
    "start_time": "2022-09-21T16:58:53.102Z"
   },
   {
    "duration": 2631,
    "start_time": "2022-09-21T16:59:17.574Z"
   },
   {
    "duration": 2313,
    "start_time": "2022-09-21T16:59:20.208Z"
   },
   {
    "duration": 10,
    "start_time": "2022-09-21T16:59:22.523Z"
   },
   {
    "duration": 19,
    "start_time": "2022-09-21T16:59:22.536Z"
   },
   {
    "duration": 884,
    "start_time": "2022-09-21T16:59:22.557Z"
   },
   {
    "duration": 3,
    "start_time": "2022-09-21T16:59:23.443Z"
   },
   {
    "duration": 9,
    "start_time": "2022-09-21T16:59:23.448Z"
   },
   {
    "duration": 50,
    "start_time": "2022-09-21T16:59:23.459Z"
   },
   {
    "duration": 765,
    "start_time": "2022-09-21T16:59:23.511Z"
   },
   {
    "duration": 516,
    "start_time": "2022-09-21T16:59:24.278Z"
   },
   {
    "duration": 669,
    "start_time": "2022-09-21T16:59:24.796Z"
   },
   {
    "duration": 25,
    "start_time": "2022-09-21T16:59:25.467Z"
   },
   {
    "duration": 78,
    "start_time": "2022-09-21T16:59:25.494Z"
   },
   {
    "duration": 3,
    "start_time": "2022-09-21T16:59:25.575Z"
   },
   {
    "duration": 1125,
    "start_time": "2022-09-21T16:59:25.580Z"
   },
   {
    "duration": 1165,
    "start_time": "2022-09-21T16:59:26.706Z"
   },
   {
    "duration": 330,
    "start_time": "2022-09-21T16:59:27.873Z"
   },
   {
    "duration": 1004,
    "start_time": "2022-09-21T16:59:28.205Z"
   },
   {
    "duration": 982,
    "start_time": "2022-09-21T16:59:29.212Z"
   },
   {
    "duration": 43,
    "start_time": "2022-09-21T16:59:30.197Z"
   },
   {
    "duration": 435,
    "start_time": "2022-09-21T16:59:30.243Z"
   },
   {
    "duration": 9,
    "start_time": "2022-09-21T16:59:30.680Z"
   },
   {
    "duration": 93,
    "start_time": "2022-09-21T16:59:30.691Z"
   },
   {
    "duration": 4,
    "start_time": "2022-09-21T16:59:30.786Z"
   },
   {
    "duration": 998,
    "start_time": "2022-09-21T16:59:30.792Z"
   },
   {
    "duration": 54,
    "start_time": "2022-09-21T16:59:31.792Z"
   },
   {
    "duration": 19,
    "start_time": "2022-09-21T16:59:31.848Z"
   },
   {
    "duration": 57,
    "start_time": "2022-09-21T16:59:31.869Z"
   },
   {
    "duration": 8,
    "start_time": "2022-09-21T16:59:31.928Z"
   },
   {
    "duration": 708,
    "start_time": "2022-09-21T16:59:31.939Z"
   },
   {
    "duration": 21,
    "start_time": "2022-09-21T16:59:32.650Z"
   },
   {
    "duration": 71,
    "start_time": "2022-09-21T16:59:32.673Z"
   },
   {
    "duration": 3,
    "start_time": "2022-09-21T16:59:32.748Z"
   },
   {
    "duration": 686,
    "start_time": "2022-09-21T16:59:32.753Z"
   },
   {
    "duration": 193,
    "start_time": "2022-09-21T16:59:33.441Z"
   },
   {
    "duration": 52,
    "start_time": "2022-09-21T16:59:33.639Z"
   },
   {
    "duration": 5,
    "start_time": "2022-09-21T16:59:33.692Z"
   },
   {
    "duration": 784,
    "start_time": "2022-09-21T16:59:33.699Z"
   },
   {
    "duration": 125,
    "start_time": "2022-09-21T16:59:34.485Z"
   },
   {
    "duration": 131,
    "start_time": "2022-09-21T16:59:34.612Z"
   },
   {
    "duration": 116,
    "start_time": "2022-09-21T16:59:34.747Z"
   },
   {
    "duration": 69,
    "start_time": "2022-09-21T16:59:34.865Z"
   },
   {
    "duration": 6,
    "start_time": "2022-09-21T16:59:34.936Z"
   },
   {
    "duration": 27,
    "start_time": "2022-09-21T16:59:34.945Z"
   },
   {
    "duration": 4,
    "start_time": "2022-09-21T16:59:34.975Z"
   },
   {
    "duration": 14,
    "start_time": "2022-09-21T16:59:59.995Z"
   },
   {
    "duration": 4,
    "start_time": "2022-09-21T17:00:03.140Z"
   },
   {
    "duration": 10,
    "start_time": "2022-09-21T17:00:15.402Z"
   },
   {
    "duration": 567,
    "start_time": "2022-09-21T17:01:32.482Z"
   },
   {
    "duration": 23,
    "start_time": "2022-09-21T17:02:05.013Z"
   },
   {
    "duration": 2606,
    "start_time": "2022-09-21T17:02:22.085Z"
   },
   {
    "duration": 2377,
    "start_time": "2022-09-21T17:02:24.693Z"
   },
   {
    "duration": 6,
    "start_time": "2022-09-21T17:02:27.072Z"
   },
   {
    "duration": 7,
    "start_time": "2022-09-21T17:02:27.079Z"
   },
   {
    "duration": 881,
    "start_time": "2022-09-21T17:02:27.089Z"
   },
   {
    "duration": 3,
    "start_time": "2022-09-21T17:02:27.972Z"
   },
   {
    "duration": 29,
    "start_time": "2022-09-21T17:02:27.977Z"
   },
   {
    "duration": 86,
    "start_time": "2022-09-21T17:02:28.008Z"
   },
   {
    "duration": 773,
    "start_time": "2022-09-21T17:02:28.096Z"
   },
   {
    "duration": 598,
    "start_time": "2022-09-21T17:02:28.872Z"
   },
   {
    "duration": 756,
    "start_time": "2022-09-21T17:02:29.472Z"
   },
   {
    "duration": 29,
    "start_time": "2022-09-21T17:02:30.231Z"
   },
   {
    "duration": 75,
    "start_time": "2022-09-21T17:02:30.262Z"
   },
   {
    "duration": 4,
    "start_time": "2022-09-21T17:02:30.341Z"
   },
   {
    "duration": 1000,
    "start_time": "2022-09-21T17:02:30.347Z"
   },
   {
    "duration": 1050,
    "start_time": "2022-09-21T17:02:31.348Z"
   },
   {
    "duration": 349,
    "start_time": "2022-09-21T17:02:32.400Z"
   },
   {
    "duration": 933,
    "start_time": "2022-09-21T17:02:32.751Z"
   },
   {
    "duration": 1194,
    "start_time": "2022-09-21T17:02:33.686Z"
   },
   {
    "duration": 44,
    "start_time": "2022-09-21T17:02:34.882Z"
   },
   {
    "duration": 533,
    "start_time": "2022-09-21T17:02:34.933Z"
   },
   {
    "duration": 10,
    "start_time": "2022-09-21T17:02:35.468Z"
   },
   {
    "duration": 73,
    "start_time": "2022-09-21T17:02:35.480Z"
   },
   {
    "duration": 7,
    "start_time": "2022-09-21T17:02:35.555Z"
   },
   {
    "duration": 1092,
    "start_time": "2022-09-21T17:02:35.564Z"
   },
   {
    "duration": 25,
    "start_time": "2022-09-21T17:02:36.657Z"
   },
   {
    "duration": 7,
    "start_time": "2022-09-21T17:02:36.684Z"
   },
   {
    "duration": 78,
    "start_time": "2022-09-21T17:02:36.693Z"
   },
   {
    "duration": 3,
    "start_time": "2022-09-21T17:02:36.774Z"
   },
   {
    "duration": 698,
    "start_time": "2022-09-21T17:02:36.779Z"
   },
   {
    "duration": 18,
    "start_time": "2022-09-21T17:02:37.479Z"
   },
   {
    "duration": 68,
    "start_time": "2022-09-21T17:02:37.499Z"
   },
   {
    "duration": 4,
    "start_time": "2022-09-21T17:02:37.570Z"
   },
   {
    "duration": 726,
    "start_time": "2022-09-21T17:02:37.576Z"
   },
   {
    "duration": 187,
    "start_time": "2022-09-21T17:02:38.304Z"
   },
   {
    "duration": 66,
    "start_time": "2022-09-21T17:02:38.493Z"
   },
   {
    "duration": 4,
    "start_time": "2022-09-21T17:02:38.561Z"
   },
   {
    "duration": 843,
    "start_time": "2022-09-21T17:02:38.567Z"
   },
   {
    "duration": 123,
    "start_time": "2022-09-21T17:02:39.412Z"
   },
   {
    "duration": 145,
    "start_time": "2022-09-21T17:02:39.537Z"
   },
   {
    "duration": 107,
    "start_time": "2022-09-21T17:02:39.686Z"
   },
   {
    "duration": 78,
    "start_time": "2022-09-21T17:02:39.795Z"
   },
   {
    "duration": 5,
    "start_time": "2022-09-21T17:02:39.875Z"
   },
   {
    "duration": 22,
    "start_time": "2022-09-21T17:02:39.882Z"
   },
   {
    "duration": 17,
    "start_time": "2022-09-21T17:02:39.905Z"
   },
   {
    "duration": 28,
    "start_time": "2022-09-21T17:02:39.924Z"
   },
   {
    "duration": 18,
    "start_time": "2022-09-21T17:02:39.955Z"
   },
   {
    "duration": 77,
    "start_time": "2022-09-21T17:02:52.383Z"
   },
   {
    "duration": 12,
    "start_time": "2022-09-21T17:04:45.891Z"
   },
   {
    "duration": 684,
    "start_time": "2022-09-21T17:04:58.783Z"
   },
   {
    "duration": 37,
    "start_time": "2022-09-21T17:07:54.635Z"
   },
   {
    "duration": 25,
    "start_time": "2022-09-21T17:08:10.271Z"
   },
   {
    "duration": 2922,
    "start_time": "2022-09-21T17:08:17.011Z"
   },
   {
    "duration": 2427,
    "start_time": "2022-09-21T17:08:19.937Z"
   },
   {
    "duration": 5,
    "start_time": "2022-09-21T17:08:22.367Z"
   },
   {
    "duration": 11,
    "start_time": "2022-09-21T17:08:22.374Z"
   },
   {
    "duration": 949,
    "start_time": "2022-09-21T17:08:22.387Z"
   },
   {
    "duration": 3,
    "start_time": "2022-09-21T17:08:23.338Z"
   },
   {
    "duration": 14,
    "start_time": "2022-09-21T17:08:23.343Z"
   },
   {
    "duration": 65,
    "start_time": "2022-09-21T17:08:23.359Z"
   },
   {
    "duration": 740,
    "start_time": "2022-09-21T17:08:23.426Z"
   },
   {
    "duration": 513,
    "start_time": "2022-09-21T17:08:24.168Z"
   },
   {
    "duration": 672,
    "start_time": "2022-09-21T17:08:24.683Z"
   },
   {
    "duration": 27,
    "start_time": "2022-09-21T17:08:25.356Z"
   },
   {
    "duration": 77,
    "start_time": "2022-09-21T17:08:25.384Z"
   },
   {
    "duration": 4,
    "start_time": "2022-09-21T17:08:25.464Z"
   },
   {
    "duration": 911,
    "start_time": "2022-09-21T17:08:25.469Z"
   },
   {
    "duration": 1134,
    "start_time": "2022-09-21T17:08:26.382Z"
   },
   {
    "duration": 338,
    "start_time": "2022-09-21T17:08:27.523Z"
   },
   {
    "duration": 936,
    "start_time": "2022-09-21T17:08:27.864Z"
   },
   {
    "duration": 1047,
    "start_time": "2022-09-21T17:08:28.802Z"
   },
   {
    "duration": 29,
    "start_time": "2022-09-21T17:08:29.851Z"
   },
   {
    "duration": 686,
    "start_time": "2022-09-21T17:08:29.882Z"
   },
   {
    "duration": 8,
    "start_time": "2022-09-21T17:08:30.569Z"
   },
   {
    "duration": 76,
    "start_time": "2022-09-21T17:08:30.579Z"
   },
   {
    "duration": 7,
    "start_time": "2022-09-21T17:08:30.657Z"
   },
   {
    "duration": 1050,
    "start_time": "2022-09-21T17:08:30.665Z"
   },
   {
    "duration": 31,
    "start_time": "2022-09-21T17:08:31.717Z"
   },
   {
    "duration": 53,
    "start_time": "2022-09-21T17:08:31.750Z"
   },
   {
    "duration": 100,
    "start_time": "2022-09-21T17:08:31.805Z"
   },
   {
    "duration": 4,
    "start_time": "2022-09-21T17:08:31.907Z"
   },
   {
    "duration": 677,
    "start_time": "2022-09-21T17:08:31.913Z"
   },
   {
    "duration": 36,
    "start_time": "2022-09-21T17:08:32.592Z"
   },
   {
    "duration": 46,
    "start_time": "2022-09-21T17:08:32.633Z"
   },
   {
    "duration": 12,
    "start_time": "2022-09-21T17:08:32.680Z"
   },
   {
    "duration": 704,
    "start_time": "2022-09-21T17:08:32.694Z"
   },
   {
    "duration": 184,
    "start_time": "2022-09-21T17:08:33.400Z"
   },
   {
    "duration": 59,
    "start_time": "2022-09-21T17:08:33.586Z"
   },
   {
    "duration": 3,
    "start_time": "2022-09-21T17:08:33.647Z"
   },
   {
    "duration": 601,
    "start_time": "2022-09-21T17:08:33.652Z"
   },
   {
    "duration": 116,
    "start_time": "2022-09-21T17:08:34.254Z"
   },
   {
    "duration": 155,
    "start_time": "2022-09-21T17:08:34.371Z"
   },
   {
    "duration": 113,
    "start_time": "2022-09-21T17:08:34.532Z"
   },
   {
    "duration": 98,
    "start_time": "2022-09-21T17:08:34.646Z"
   },
   {
    "duration": 4,
    "start_time": "2022-09-21T17:08:34.746Z"
   },
   {
    "duration": 22,
    "start_time": "2022-09-21T17:08:34.752Z"
   },
   {
    "duration": 2,
    "start_time": "2022-09-21T17:08:34.776Z"
   },
   {
    "duration": 7,
    "start_time": "2022-09-21T17:08:34.780Z"
   },
   {
    "duration": 49,
    "start_time": "2022-09-21T17:08:34.789Z"
   },
   {
    "duration": 17,
    "start_time": "2022-09-21T17:08:34.840Z"
   },
   {
    "duration": 79,
    "start_time": "2022-09-21T17:08:34.859Z"
   },
   {
    "duration": 593,
    "start_time": "2022-09-21T17:11:12.472Z"
   },
   {
    "duration": 2669,
    "start_time": "2022-09-21T17:11:38.144Z"
   },
   {
    "duration": 2538,
    "start_time": "2022-09-21T17:11:40.815Z"
   },
   {
    "duration": 6,
    "start_time": "2022-09-21T17:11:43.355Z"
   },
   {
    "duration": 10,
    "start_time": "2022-09-21T17:11:43.363Z"
   },
   {
    "duration": 887,
    "start_time": "2022-09-21T17:11:43.376Z"
   },
   {
    "duration": 3,
    "start_time": "2022-09-21T17:11:44.265Z"
   },
   {
    "duration": 8,
    "start_time": "2022-09-21T17:11:44.269Z"
   },
   {
    "duration": 60,
    "start_time": "2022-09-21T17:11:44.279Z"
   },
   {
    "duration": 929,
    "start_time": "2022-09-21T17:11:44.341Z"
   },
   {
    "duration": 505,
    "start_time": "2022-09-21T17:11:45.272Z"
   },
   {
    "duration": 659,
    "start_time": "2022-09-21T17:11:45.778Z"
   },
   {
    "duration": 24,
    "start_time": "2022-09-21T17:11:46.439Z"
   },
   {
    "duration": 71,
    "start_time": "2022-09-21T17:11:46.465Z"
   },
   {
    "duration": 4,
    "start_time": "2022-09-21T17:11:46.540Z"
   },
   {
    "duration": 915,
    "start_time": "2022-09-21T17:11:46.545Z"
   },
   {
    "duration": 1037,
    "start_time": "2022-09-21T17:11:47.462Z"
   },
   {
    "duration": 315,
    "start_time": "2022-09-21T17:11:48.500Z"
   },
   {
    "duration": 1021,
    "start_time": "2022-09-21T17:11:48.820Z"
   },
   {
    "duration": 954,
    "start_time": "2022-09-21T17:11:49.847Z"
   },
   {
    "duration": 39,
    "start_time": "2022-09-21T17:11:50.803Z"
   },
   {
    "duration": 416,
    "start_time": "2022-09-21T17:11:50.843Z"
   },
   {
    "duration": 8,
    "start_time": "2022-09-21T17:11:51.261Z"
   },
   {
    "duration": 66,
    "start_time": "2022-09-21T17:11:51.270Z"
   },
   {
    "duration": 4,
    "start_time": "2022-09-21T17:11:51.338Z"
   },
   {
    "duration": 1170,
    "start_time": "2022-09-21T17:11:51.344Z"
   },
   {
    "duration": 30,
    "start_time": "2022-09-21T17:11:52.521Z"
   },
   {
    "duration": 11,
    "start_time": "2022-09-21T17:11:52.552Z"
   },
   {
    "duration": 59,
    "start_time": "2022-09-21T17:11:52.565Z"
   },
   {
    "duration": 4,
    "start_time": "2022-09-21T17:11:52.629Z"
   },
   {
    "duration": 688,
    "start_time": "2022-09-21T17:11:52.636Z"
   },
   {
    "duration": 21,
    "start_time": "2022-09-21T17:11:53.331Z"
   },
   {
    "duration": 49,
    "start_time": "2022-09-21T17:11:53.354Z"
   },
   {
    "duration": 25,
    "start_time": "2022-09-21T17:11:53.405Z"
   },
   {
    "duration": 691,
    "start_time": "2022-09-21T17:11:53.436Z"
   },
   {
    "duration": 205,
    "start_time": "2022-09-21T17:11:54.134Z"
   },
   {
    "duration": 58,
    "start_time": "2022-09-21T17:11:54.341Z"
   },
   {
    "duration": 4,
    "start_time": "2022-09-21T17:11:54.401Z"
   },
   {
    "duration": 572,
    "start_time": "2022-09-21T17:11:54.408Z"
   },
   {
    "duration": 112,
    "start_time": "2022-09-21T17:11:54.982Z"
   },
   {
    "duration": 159,
    "start_time": "2022-09-21T17:11:55.097Z"
   },
   {
    "duration": 166,
    "start_time": "2022-09-21T17:11:55.262Z"
   },
   {
    "duration": 69,
    "start_time": "2022-09-21T17:11:55.434Z"
   },
   {
    "duration": 4,
    "start_time": "2022-09-21T17:11:55.505Z"
   },
   {
    "duration": 19,
    "start_time": "2022-09-21T17:11:55.526Z"
   },
   {
    "duration": 5,
    "start_time": "2022-09-21T17:11:55.547Z"
   },
   {
    "duration": 8,
    "start_time": "2022-09-21T17:11:55.554Z"
   },
   {
    "duration": 17,
    "start_time": "2022-09-21T17:11:55.564Z"
   },
   {
    "duration": 17,
    "start_time": "2022-09-21T17:11:55.583Z"
   },
   {
    "duration": 84,
    "start_time": "2022-09-21T17:11:55.602Z"
   },
   {
    "duration": 28,
    "start_time": "2022-09-21T17:12:50.671Z"
   },
   {
    "duration": 25,
    "start_time": "2022-09-21T17:13:39.764Z"
   },
   {
    "duration": 497,
    "start_time": "2022-09-21T17:14:19.718Z"
   },
   {
    "duration": 49,
    "start_time": "2022-09-21T17:14:43.812Z"
   },
   {
    "duration": 29,
    "start_time": "2022-09-21T17:15:21.036Z"
   },
   {
    "duration": 491,
    "start_time": "2022-09-21T17:18:21.763Z"
   },
   {
    "duration": 533,
    "start_time": "2022-09-21T17:18:34.612Z"
   },
   {
    "duration": 571,
    "start_time": "2022-09-21T17:19:05.205Z"
   },
   {
    "duration": 9,
    "start_time": "2022-09-21T17:19:18.536Z"
   },
   {
    "duration": 2941,
    "start_time": "2022-09-21T17:20:26.844Z"
   },
   {
    "duration": 2492,
    "start_time": "2022-09-21T17:20:29.788Z"
   },
   {
    "duration": 7,
    "start_time": "2022-09-21T17:20:32.283Z"
   },
   {
    "duration": 10,
    "start_time": "2022-09-21T17:20:32.292Z"
   },
   {
    "duration": 901,
    "start_time": "2022-09-21T17:20:32.306Z"
   },
   {
    "duration": 3,
    "start_time": "2022-09-21T17:20:33.209Z"
   },
   {
    "duration": 16,
    "start_time": "2022-09-21T17:20:33.220Z"
   },
   {
    "duration": 50,
    "start_time": "2022-09-21T17:20:33.243Z"
   },
   {
    "duration": 1007,
    "start_time": "2022-09-21T17:20:33.295Z"
   },
   {
    "duration": 554,
    "start_time": "2022-09-21T17:20:34.304Z"
   },
   {
    "duration": 719,
    "start_time": "2022-09-21T17:20:34.860Z"
   },
   {
    "duration": 42,
    "start_time": "2022-09-21T17:20:35.582Z"
   },
   {
    "duration": 58,
    "start_time": "2022-09-21T17:20:35.625Z"
   },
   {
    "duration": 4,
    "start_time": "2022-09-21T17:20:35.686Z"
   },
   {
    "duration": 1014,
    "start_time": "2022-09-21T17:20:35.692Z"
   },
   {
    "duration": 1097,
    "start_time": "2022-09-21T17:20:36.708Z"
   },
   {
    "duration": 360,
    "start_time": "2022-09-21T17:20:37.808Z"
   },
   {
    "duration": 1016,
    "start_time": "2022-09-21T17:20:38.170Z"
   },
   {
    "duration": 1058,
    "start_time": "2022-09-21T17:20:39.189Z"
   },
   {
    "duration": 36,
    "start_time": "2022-09-21T17:20:40.249Z"
   },
   {
    "duration": 481,
    "start_time": "2022-09-21T17:20:40.287Z"
   },
   {
    "duration": 12,
    "start_time": "2022-09-21T17:20:40.770Z"
   },
   {
    "duration": 88,
    "start_time": "2022-09-21T17:20:40.784Z"
   },
   {
    "duration": 24,
    "start_time": "2022-09-21T17:20:40.874Z"
   },
   {
    "duration": 1341,
    "start_time": "2022-09-21T17:20:40.900Z"
   },
   {
    "duration": 29,
    "start_time": "2022-09-21T17:20:42.243Z"
   },
   {
    "duration": 10,
    "start_time": "2022-09-21T17:20:42.274Z"
   },
   {
    "duration": 78,
    "start_time": "2022-09-21T17:20:42.287Z"
   },
   {
    "duration": 4,
    "start_time": "2022-09-21T17:20:42.367Z"
   },
   {
    "duration": 712,
    "start_time": "2022-09-21T17:20:42.373Z"
   },
   {
    "duration": 19,
    "start_time": "2022-09-21T17:20:43.087Z"
   },
   {
    "duration": 236,
    "start_time": "2022-09-21T17:20:43.123Z"
   },
   {
    "duration": 4,
    "start_time": "2022-09-21T17:20:43.361Z"
   },
   {
    "duration": 766,
    "start_time": "2022-09-21T17:20:43.367Z"
   },
   {
    "duration": 198,
    "start_time": "2022-09-21T17:20:44.140Z"
   },
   {
    "duration": 55,
    "start_time": "2022-09-21T17:20:44.340Z"
   },
   {
    "duration": 4,
    "start_time": "2022-09-21T17:20:44.397Z"
   },
   {
    "duration": 587,
    "start_time": "2022-09-21T17:20:44.403Z"
   },
   {
    "duration": 115,
    "start_time": "2022-09-21T17:20:44.992Z"
   },
   {
    "duration": 162,
    "start_time": "2022-09-21T17:20:45.109Z"
   },
   {
    "duration": 134,
    "start_time": "2022-09-21T17:20:45.276Z"
   },
   {
    "duration": 80,
    "start_time": "2022-09-21T17:20:45.412Z"
   },
   {
    "duration": 4,
    "start_time": "2022-09-21T17:20:45.494Z"
   },
   {
    "duration": 35,
    "start_time": "2022-09-21T17:20:45.500Z"
   },
   {
    "duration": 14,
    "start_time": "2022-09-21T17:20:45.539Z"
   },
   {
    "duration": 7,
    "start_time": "2022-09-21T17:20:45.555Z"
   },
   {
    "duration": 18,
    "start_time": "2022-09-21T17:20:45.564Z"
   },
   {
    "duration": 22,
    "start_time": "2022-09-21T17:20:45.584Z"
   },
   {
    "duration": 132,
    "start_time": "2022-09-21T17:20:45.608Z"
   },
   {
    "duration": 600,
    "start_time": "2022-09-21T17:20:45.742Z"
   },
   {
    "duration": 36,
    "start_time": "2022-09-21T17:20:52.965Z"
   },
   {
    "duration": 2730,
    "start_time": "2022-09-21T17:21:11.238Z"
   },
   {
    "duration": 2543,
    "start_time": "2022-09-21T17:21:13.972Z"
   },
   {
    "duration": 8,
    "start_time": "2022-09-21T17:21:16.518Z"
   },
   {
    "duration": 17,
    "start_time": "2022-09-21T17:21:16.528Z"
   },
   {
    "duration": 866,
    "start_time": "2022-09-21T17:21:16.548Z"
   },
   {
    "duration": 11,
    "start_time": "2022-09-21T17:21:17.416Z"
   },
   {
    "duration": 10,
    "start_time": "2022-09-21T17:21:17.440Z"
   },
   {
    "duration": 51,
    "start_time": "2022-09-21T17:21:17.453Z"
   },
   {
    "duration": 965,
    "start_time": "2022-09-21T17:21:17.506Z"
   },
   {
    "duration": 586,
    "start_time": "2022-09-21T17:21:18.473Z"
   },
   {
    "duration": 833,
    "start_time": "2022-09-21T17:21:19.062Z"
   },
   {
    "duration": 45,
    "start_time": "2022-09-21T17:21:19.897Z"
   },
   {
    "duration": 88,
    "start_time": "2022-09-21T17:21:19.944Z"
   },
   {
    "duration": 4,
    "start_time": "2022-09-21T17:21:20.043Z"
   },
   {
    "duration": 899,
    "start_time": "2022-09-21T17:21:20.049Z"
   },
   {
    "duration": 1159,
    "start_time": "2022-09-21T17:21:20.950Z"
   },
   {
    "duration": 347,
    "start_time": "2022-09-21T17:21:22.111Z"
   },
   {
    "duration": 977,
    "start_time": "2022-09-21T17:21:22.460Z"
   },
   {
    "duration": 960,
    "start_time": "2022-09-21T17:21:23.439Z"
   },
   {
    "duration": 38,
    "start_time": "2022-09-21T17:21:24.402Z"
   },
   {
    "duration": 442,
    "start_time": "2022-09-21T17:21:24.442Z"
   },
   {
    "duration": 8,
    "start_time": "2022-09-21T17:21:24.886Z"
   },
   {
    "duration": 67,
    "start_time": "2022-09-21T17:21:24.896Z"
   },
   {
    "duration": 5,
    "start_time": "2022-09-21T17:21:24.964Z"
   },
   {
    "duration": 1042,
    "start_time": "2022-09-21T17:21:24.970Z"
   },
   {
    "duration": 30,
    "start_time": "2022-09-21T17:21:26.014Z"
   },
   {
    "duration": 11,
    "start_time": "2022-09-21T17:21:26.046Z"
   },
   {
    "duration": 78,
    "start_time": "2022-09-21T17:21:26.059Z"
   },
   {
    "duration": 5,
    "start_time": "2022-09-21T17:21:26.139Z"
   },
   {
    "duration": 944,
    "start_time": "2022-09-21T17:21:26.146Z"
   },
   {
    "duration": 35,
    "start_time": "2022-09-21T17:21:27.092Z"
   },
   {
    "duration": 47,
    "start_time": "2022-09-21T17:21:27.129Z"
   },
   {
    "duration": 4,
    "start_time": "2022-09-21T17:21:27.178Z"
   },
   {
    "duration": 758,
    "start_time": "2022-09-21T17:21:27.183Z"
   },
   {
    "duration": 199,
    "start_time": "2022-09-21T17:21:27.943Z"
   },
   {
    "duration": 56,
    "start_time": "2022-09-21T17:21:28.143Z"
   },
   {
    "duration": 4,
    "start_time": "2022-09-21T17:21:28.201Z"
   },
   {
    "duration": 610,
    "start_time": "2022-09-21T17:21:28.225Z"
   },
   {
    "duration": 160,
    "start_time": "2022-09-21T17:21:28.837Z"
   },
   {
    "duration": 231,
    "start_time": "2022-09-21T17:21:29.000Z"
   },
   {
    "duration": 121,
    "start_time": "2022-09-21T17:21:29.241Z"
   },
   {
    "duration": 100,
    "start_time": "2022-09-21T17:21:29.365Z"
   },
   {
    "duration": 5,
    "start_time": "2022-09-21T17:21:29.468Z"
   },
   {
    "duration": 22,
    "start_time": "2022-09-21T17:21:29.475Z"
   },
   {
    "duration": 3,
    "start_time": "2022-09-21T17:21:29.499Z"
   },
   {
    "duration": 38,
    "start_time": "2022-09-21T17:21:29.504Z"
   },
   {
    "duration": 19,
    "start_time": "2022-09-21T17:21:29.544Z"
   },
   {
    "duration": 15,
    "start_time": "2022-09-21T17:21:29.565Z"
   },
   {
    "duration": 104,
    "start_time": "2022-09-21T17:21:29.582Z"
   },
   {
    "duration": 582,
    "start_time": "2022-09-21T17:22:03.844Z"
   },
   {
    "duration": 3171,
    "start_time": "2022-09-21T17:22:18.661Z"
   },
   {
    "duration": 2688,
    "start_time": "2022-09-21T17:22:21.835Z"
   },
   {
    "duration": 8,
    "start_time": "2022-09-21T17:22:24.526Z"
   },
   {
    "duration": 38,
    "start_time": "2022-09-21T17:22:24.536Z"
   },
   {
    "duration": 904,
    "start_time": "2022-09-21T17:22:24.577Z"
   },
   {
    "duration": 2,
    "start_time": "2022-09-21T17:22:25.483Z"
   },
   {
    "duration": 7,
    "start_time": "2022-09-21T17:22:25.487Z"
   },
   {
    "duration": 69,
    "start_time": "2022-09-21T17:22:25.496Z"
   },
   {
    "duration": 1104,
    "start_time": "2022-09-21T17:22:25.567Z"
   },
   {
    "duration": 537,
    "start_time": "2022-09-21T17:22:26.673Z"
   },
   {
    "duration": 684,
    "start_time": "2022-09-21T17:22:27.212Z"
   },
   {
    "duration": 51,
    "start_time": "2022-09-21T17:22:27.898Z"
   },
   {
    "duration": 90,
    "start_time": "2022-09-21T17:22:27.952Z"
   },
   {
    "duration": 4,
    "start_time": "2022-09-21T17:22:28.047Z"
   },
   {
    "duration": 990,
    "start_time": "2022-09-21T17:22:28.052Z"
   },
   {
    "duration": 1216,
    "start_time": "2022-09-21T17:22:29.044Z"
   },
   {
    "duration": 351,
    "start_time": "2022-09-21T17:22:30.263Z"
   },
   {
    "duration": 1031,
    "start_time": "2022-09-21T17:22:30.620Z"
   },
   {
    "duration": 1006,
    "start_time": "2022-09-21T17:22:31.652Z"
   },
   {
    "duration": 39,
    "start_time": "2022-09-21T17:22:32.660Z"
   },
   {
    "duration": 504,
    "start_time": "2022-09-21T17:22:32.701Z"
   },
   {
    "duration": 21,
    "start_time": "2022-09-21T17:22:33.207Z"
   },
   {
    "duration": 109,
    "start_time": "2022-09-21T17:22:33.230Z"
   },
   {
    "duration": 4,
    "start_time": "2022-09-21T17:22:33.341Z"
   },
   {
    "duration": 1100,
    "start_time": "2022-09-21T17:22:33.347Z"
   },
   {
    "duration": 28,
    "start_time": "2022-09-21T17:22:34.449Z"
   },
   {
    "duration": 10,
    "start_time": "2022-09-21T17:22:34.479Z"
   },
   {
    "duration": 98,
    "start_time": "2022-09-21T17:22:34.491Z"
   },
   {
    "duration": 6,
    "start_time": "2022-09-21T17:22:34.591Z"
   },
   {
    "duration": 749,
    "start_time": "2022-09-21T17:22:34.599Z"
   },
   {
    "duration": 25,
    "start_time": "2022-09-21T17:22:35.350Z"
   },
   {
    "duration": 86,
    "start_time": "2022-09-21T17:22:35.377Z"
   },
   {
    "duration": 5,
    "start_time": "2022-09-21T17:22:35.465Z"
   },
   {
    "duration": 1035,
    "start_time": "2022-09-21T17:22:35.472Z"
   },
   {
    "duration": 185,
    "start_time": "2022-09-21T17:22:36.509Z"
   },
   {
    "duration": 65,
    "start_time": "2022-09-21T17:22:36.695Z"
   },
   {
    "duration": 3,
    "start_time": "2022-09-21T17:22:36.762Z"
   },
   {
    "duration": 606,
    "start_time": "2022-09-21T17:22:36.767Z"
   },
   {
    "duration": 119,
    "start_time": "2022-09-21T17:22:37.375Z"
   },
   {
    "duration": 146,
    "start_time": "2022-09-21T17:22:37.496Z"
   },
   {
    "duration": 124,
    "start_time": "2022-09-21T17:22:37.647Z"
   },
   {
    "duration": 88,
    "start_time": "2022-09-21T17:22:37.773Z"
   },
   {
    "duration": 5,
    "start_time": "2022-09-21T17:22:37.864Z"
   },
   {
    "duration": 35,
    "start_time": "2022-09-21T17:22:37.872Z"
   },
   {
    "duration": 3,
    "start_time": "2022-09-21T17:22:37.910Z"
   },
   {
    "duration": 26,
    "start_time": "2022-09-21T17:22:37.920Z"
   },
   {
    "duration": 17,
    "start_time": "2022-09-21T17:22:37.948Z"
   },
   {
    "duration": 20,
    "start_time": "2022-09-21T17:22:37.967Z"
   },
   {
    "duration": 80,
    "start_time": "2022-09-21T17:22:37.989Z"
   },
   {
    "duration": 615,
    "start_time": "2022-09-21T17:22:48.417Z"
   },
   {
    "duration": 30,
    "start_time": "2022-09-21T17:24:23.538Z"
   },
   {
    "duration": 2647,
    "start_time": "2022-09-21T17:24:32.939Z"
   },
   {
    "duration": 2485,
    "start_time": "2022-09-21T17:24:35.589Z"
   },
   {
    "duration": 8,
    "start_time": "2022-09-21T17:24:38.077Z"
   },
   {
    "duration": 8,
    "start_time": "2022-09-21T17:24:38.087Z"
   },
   {
    "duration": 986,
    "start_time": "2022-09-21T17:24:38.098Z"
   },
   {
    "duration": 3,
    "start_time": "2022-09-21T17:24:39.086Z"
   },
   {
    "duration": 26,
    "start_time": "2022-09-21T17:24:39.092Z"
   },
   {
    "duration": 92,
    "start_time": "2022-09-21T17:24:39.120Z"
   },
   {
    "duration": 775,
    "start_time": "2022-09-21T17:24:39.214Z"
   },
   {
    "duration": 542,
    "start_time": "2022-09-21T17:24:39.991Z"
   },
   {
    "duration": 879,
    "start_time": "2022-09-21T17:24:40.535Z"
   },
   {
    "duration": 33,
    "start_time": "2022-09-21T17:24:41.416Z"
   },
   {
    "duration": 81,
    "start_time": "2022-09-21T17:24:41.451Z"
   },
   {
    "duration": 4,
    "start_time": "2022-09-21T17:24:41.537Z"
   },
   {
    "duration": 944,
    "start_time": "2022-09-21T17:24:41.542Z"
   },
   {
    "duration": 1087,
    "start_time": "2022-09-21T17:24:42.488Z"
   },
   {
    "duration": 338,
    "start_time": "2022-09-21T17:24:43.578Z"
   },
   {
    "duration": 950,
    "start_time": "2022-09-21T17:24:43.920Z"
   },
   {
    "duration": 953,
    "start_time": "2022-09-21T17:24:44.872Z"
   },
   {
    "duration": 34,
    "start_time": "2022-09-21T17:24:45.834Z"
   },
   {
    "duration": 442,
    "start_time": "2022-09-21T17:24:45.870Z"
   },
   {
    "duration": 11,
    "start_time": "2022-09-21T17:24:46.327Z"
   },
   {
    "duration": 51,
    "start_time": "2022-09-21T17:24:46.340Z"
   },
   {
    "duration": 4,
    "start_time": "2022-09-21T17:24:46.393Z"
   },
   {
    "duration": 1053,
    "start_time": "2022-09-21T17:24:46.400Z"
   },
   {
    "duration": 23,
    "start_time": "2022-09-21T17:24:47.455Z"
   },
   {
    "duration": 10,
    "start_time": "2022-09-21T17:24:47.480Z"
   },
   {
    "duration": 2833,
    "start_time": "2022-09-21T17:26:26.168Z"
   },
   {
    "duration": 2331,
    "start_time": "2022-09-21T17:26:29.004Z"
   },
   {
    "duration": 5039,
    "start_time": "2022-09-21T17:26:31.338Z"
   },
   {
    "duration": 3,
    "start_time": "2022-09-21T17:26:36.379Z"
   },
   {
    "duration": 1672,
    "start_time": "2022-09-21T17:26:36.384Z"
   },
   {
    "duration": 4,
    "start_time": "2022-09-21T17:26:38.058Z"
   },
   {
    "duration": 6,
    "start_time": "2022-09-21T17:26:38.064Z"
   },
   {
    "duration": 73,
    "start_time": "2022-09-21T17:26:38.072Z"
   },
   {
    "duration": 1005,
    "start_time": "2022-09-21T17:26:38.146Z"
   },
   {
    "duration": 604,
    "start_time": "2022-09-21T17:26:39.154Z"
   },
   {
    "duration": 737,
    "start_time": "2022-09-21T17:26:39.760Z"
   },
   {
    "duration": 42,
    "start_time": "2022-09-21T17:26:40.499Z"
   },
   {
    "duration": 81,
    "start_time": "2022-09-21T17:26:40.543Z"
   },
   {
    "duration": 10,
    "start_time": "2022-09-21T17:26:40.628Z"
   },
   {
    "duration": 1155,
    "start_time": "2022-09-21T17:26:40.642Z"
   },
   {
    "duration": 1198,
    "start_time": "2022-09-21T17:26:41.799Z"
   },
   {
    "duration": 316,
    "start_time": "2022-09-21T17:26:42.999Z"
   },
   {
    "duration": 940,
    "start_time": "2022-09-21T17:26:43.317Z"
   },
   {
    "duration": 1088,
    "start_time": "2022-09-21T17:26:44.259Z"
   },
   {
    "duration": 27,
    "start_time": "2022-09-21T17:26:45.349Z"
   },
   {
    "duration": 428,
    "start_time": "2022-09-21T17:26:45.378Z"
   },
   {
    "duration": 30,
    "start_time": "2022-09-21T17:26:45.809Z"
   },
   {
    "duration": 60,
    "start_time": "2022-09-21T17:26:45.841Z"
   },
   {
    "duration": 4,
    "start_time": "2022-09-21T17:26:45.903Z"
   },
   {
    "duration": 977,
    "start_time": "2022-09-21T17:26:45.908Z"
   },
   {
    "duration": 39,
    "start_time": "2022-09-21T17:26:46.887Z"
   },
   {
    "duration": 21,
    "start_time": "2022-09-21T17:26:46.927Z"
   },
   {
    "duration": 57,
    "start_time": "2022-09-21T17:26:46.950Z"
   },
   {
    "duration": 4,
    "start_time": "2022-09-21T17:26:47.009Z"
   },
   {
    "duration": 652,
    "start_time": "2022-09-21T17:26:47.024Z"
   },
   {
    "duration": 18,
    "start_time": "2022-09-21T17:26:47.678Z"
   },
   {
    "duration": 73,
    "start_time": "2022-09-21T17:26:47.698Z"
   },
   {
    "duration": 3,
    "start_time": "2022-09-21T17:26:47.773Z"
   },
   {
    "duration": 880,
    "start_time": "2022-09-21T17:26:47.778Z"
   },
   {
    "duration": 183,
    "start_time": "2022-09-21T17:26:48.660Z"
   },
   {
    "duration": 81,
    "start_time": "2022-09-21T17:26:48.845Z"
   },
   {
    "duration": 11,
    "start_time": "2022-09-21T17:26:48.931Z"
   },
   {
    "duration": 646,
    "start_time": "2022-09-21T17:26:48.944Z"
   },
   {
    "duration": 104,
    "start_time": "2022-09-21T17:26:49.592Z"
   },
   {
    "duration": 173,
    "start_time": "2022-09-21T17:26:49.698Z"
   },
   {
    "duration": 120,
    "start_time": "2022-09-21T17:26:49.875Z"
   },
   {
    "duration": 106,
    "start_time": "2022-09-21T17:26:49.997Z"
   },
   {
    "duration": 4,
    "start_time": "2022-09-21T17:26:50.105Z"
   },
   {
    "duration": 18,
    "start_time": "2022-09-21T17:26:50.121Z"
   },
   {
    "duration": 5,
    "start_time": "2022-09-21T17:26:50.141Z"
   },
   {
    "duration": 7,
    "start_time": "2022-09-21T17:26:50.148Z"
   },
   {
    "duration": 14,
    "start_time": "2022-09-21T17:26:50.156Z"
   },
   {
    "duration": 11,
    "start_time": "2022-09-21T17:26:50.172Z"
   },
   {
    "duration": 67,
    "start_time": "2022-09-21T17:26:55.067Z"
   },
   {
    "duration": 36,
    "start_time": "2022-09-21T17:26:58.648Z"
   },
   {
    "duration": 471,
    "start_time": "2022-09-21T17:27:24.507Z"
   },
   {
    "duration": 53,
    "start_time": "2022-09-21T17:28:50.498Z"
   },
   {
    "duration": 2611,
    "start_time": "2022-09-21T17:30:02.817Z"
   },
   {
    "duration": 2366,
    "start_time": "2022-09-21T17:30:05.430Z"
   },
   {
    "duration": 5,
    "start_time": "2022-09-21T17:30:07.799Z"
   },
   {
    "duration": 16,
    "start_time": "2022-09-21T17:30:07.806Z"
   },
   {
    "duration": 1029,
    "start_time": "2022-09-21T17:30:07.827Z"
   },
   {
    "duration": 4,
    "start_time": "2022-09-21T17:30:08.859Z"
   },
   {
    "duration": 25,
    "start_time": "2022-09-21T17:30:08.865Z"
   },
   {
    "duration": 73,
    "start_time": "2022-09-21T17:30:08.892Z"
   },
   {
    "duration": 844,
    "start_time": "2022-09-21T17:30:08.968Z"
   },
   {
    "duration": 512,
    "start_time": "2022-09-21T17:30:09.831Z"
   },
   {
    "duration": 809,
    "start_time": "2022-09-21T17:30:10.345Z"
   },
   {
    "duration": 28,
    "start_time": "2022-09-21T17:30:11.156Z"
   },
   {
    "duration": 80,
    "start_time": "2022-09-21T17:30:11.186Z"
   },
   {
    "duration": 4,
    "start_time": "2022-09-21T17:30:11.270Z"
   },
   {
    "duration": 1011,
    "start_time": "2022-09-21T17:30:11.276Z"
   },
   {
    "duration": 1114,
    "start_time": "2022-09-21T17:30:12.289Z"
   },
   {
    "duration": 388,
    "start_time": "2022-09-21T17:30:13.404Z"
   },
   {
    "duration": 939,
    "start_time": "2022-09-21T17:30:13.794Z"
   },
   {
    "duration": 918,
    "start_time": "2022-09-21T17:30:14.735Z"
   },
   {
    "duration": 24,
    "start_time": "2022-09-21T17:30:15.655Z"
   },
   {
    "duration": 476,
    "start_time": "2022-09-21T17:30:15.681Z"
   },
   {
    "duration": 8,
    "start_time": "2022-09-21T17:30:16.159Z"
   },
   {
    "duration": 81,
    "start_time": "2022-09-21T17:30:16.168Z"
   },
   {
    "duration": 5,
    "start_time": "2022-09-21T17:30:16.251Z"
   },
   {
    "duration": 1128,
    "start_time": "2022-09-21T17:30:16.258Z"
   },
   {
    "duration": 58,
    "start_time": "2022-09-21T17:30:17.388Z"
   },
   {
    "duration": 7,
    "start_time": "2022-09-21T17:30:17.448Z"
   },
   {
    "duration": 62,
    "start_time": "2022-09-21T17:30:17.457Z"
   },
   {
    "duration": 3,
    "start_time": "2022-09-21T17:30:17.521Z"
   },
   {
    "duration": 685,
    "start_time": "2022-09-21T17:30:17.526Z"
   },
   {
    "duration": 31,
    "start_time": "2022-09-21T17:30:18.213Z"
   },
   {
    "duration": 81,
    "start_time": "2022-09-21T17:30:18.246Z"
   },
   {
    "duration": 11,
    "start_time": "2022-09-21T17:30:18.330Z"
   },
   {
    "duration": 805,
    "start_time": "2022-09-21T17:30:18.343Z"
   },
   {
    "duration": 222,
    "start_time": "2022-09-21T17:30:19.152Z"
   },
   {
    "duration": 74,
    "start_time": "2022-09-21T17:30:19.376Z"
   },
   {
    "duration": 5,
    "start_time": "2022-09-21T17:30:19.452Z"
   },
   {
    "duration": 610,
    "start_time": "2022-09-21T17:30:19.458Z"
   },
   {
    "duration": 112,
    "start_time": "2022-09-21T17:30:20.069Z"
   },
   {
    "duration": 172,
    "start_time": "2022-09-21T17:30:20.182Z"
   },
   {
    "duration": 113,
    "start_time": "2022-09-21T17:30:20.358Z"
   },
   {
    "duration": 110,
    "start_time": "2022-09-21T17:30:20.472Z"
   },
   {
    "duration": 4,
    "start_time": "2022-09-21T17:30:20.585Z"
   },
   {
    "duration": 36,
    "start_time": "2022-09-21T17:30:20.591Z"
   },
   {
    "duration": 44,
    "start_time": "2022-09-21T17:30:20.628Z"
   },
   {
    "duration": 23,
    "start_time": "2022-09-21T17:30:20.673Z"
   },
   {
    "duration": 29,
    "start_time": "2022-09-21T17:30:20.698Z"
   },
   {
    "duration": 53,
    "start_time": "2022-09-21T17:30:20.729Z"
   },
   {
    "duration": 92,
    "start_time": "2022-09-21T17:30:20.783Z"
   },
   {
    "duration": 232,
    "start_time": "2022-09-21T17:31:46.938Z"
   },
   {
    "duration": 20,
    "start_time": "2022-09-21T17:32:16.195Z"
   },
   {
    "duration": 8,
    "start_time": "2022-09-21T17:32:34.473Z"
   },
   {
    "duration": 72,
    "start_time": "2022-09-21T17:35:50.176Z"
   },
   {
    "duration": 834,
    "start_time": "2022-09-21T17:36:41.792Z"
   },
   {
    "duration": 20,
    "start_time": "2022-09-21T17:36:51.539Z"
   },
   {
    "duration": 96,
    "start_time": "2022-09-21T17:37:20.234Z"
   },
   {
    "duration": 407,
    "start_time": "2022-09-21T17:37:30.044Z"
   },
   {
    "duration": 404,
    "start_time": "2022-09-21T17:37:38.496Z"
   },
   {
    "duration": 410,
    "start_time": "2022-09-21T17:38:59.643Z"
   },
   {
    "duration": 410,
    "start_time": "2022-09-21T17:39:23.240Z"
   },
   {
    "duration": 3,
    "start_time": "2022-09-21T17:39:42.442Z"
   },
   {
    "duration": 521,
    "start_time": "2022-09-21T17:40:09.475Z"
   },
   {
    "duration": 2700,
    "start_time": "2022-09-21T17:42:04.715Z"
   },
   {
    "duration": 2726,
    "start_time": "2022-09-21T17:42:07.418Z"
   },
   {
    "duration": 10,
    "start_time": "2022-09-21T17:42:10.150Z"
   },
   {
    "duration": 19,
    "start_time": "2022-09-21T17:42:10.167Z"
   },
   {
    "duration": 1256,
    "start_time": "2022-09-21T17:42:10.189Z"
   },
   {
    "duration": 3,
    "start_time": "2022-09-21T17:42:11.447Z"
   },
   {
    "duration": 6,
    "start_time": "2022-09-21T17:42:11.452Z"
   },
   {
    "duration": 65,
    "start_time": "2022-09-21T17:42:11.460Z"
   },
   {
    "duration": 806,
    "start_time": "2022-09-21T17:42:11.528Z"
   },
   {
    "duration": 550,
    "start_time": "2022-09-21T17:42:12.343Z"
   },
   {
    "duration": 668,
    "start_time": "2022-09-21T17:42:12.894Z"
   },
   {
    "duration": 25,
    "start_time": "2022-09-21T17:42:13.564Z"
   },
   {
    "duration": 77,
    "start_time": "2022-09-21T17:42:13.591Z"
   },
   {
    "duration": 4,
    "start_time": "2022-09-21T17:42:13.669Z"
   },
   {
    "duration": 932,
    "start_time": "2022-09-21T17:42:13.675Z"
   },
   {
    "duration": 1033,
    "start_time": "2022-09-21T17:42:14.608Z"
   },
   {
    "duration": 330,
    "start_time": "2022-09-21T17:42:15.643Z"
   },
   {
    "duration": 930,
    "start_time": "2022-09-21T17:42:15.975Z"
   },
   {
    "duration": 1064,
    "start_time": "2022-09-21T17:42:16.906Z"
   },
   {
    "duration": 25,
    "start_time": "2022-09-21T17:42:17.972Z"
   },
   {
    "duration": 441,
    "start_time": "2022-09-21T17:42:17.999Z"
   },
   {
    "duration": 9,
    "start_time": "2022-09-21T17:42:18.444Z"
   },
   {
    "duration": 50,
    "start_time": "2022-09-21T17:42:18.455Z"
   },
   {
    "duration": 16,
    "start_time": "2022-09-21T17:42:18.507Z"
   },
   {
    "duration": 1123,
    "start_time": "2022-09-21T17:42:18.531Z"
   },
   {
    "duration": 82,
    "start_time": "2022-09-21T17:42:19.655Z"
   },
   {
    "duration": 13,
    "start_time": "2022-09-21T17:42:19.739Z"
   },
   {
    "duration": 67,
    "start_time": "2022-09-21T17:42:19.756Z"
   },
   {
    "duration": 8,
    "start_time": "2022-09-21T17:42:19.825Z"
   },
   {
    "duration": 651,
    "start_time": "2022-09-21T17:42:19.835Z"
   },
   {
    "duration": 23,
    "start_time": "2022-09-21T17:42:20.488Z"
   },
   {
    "duration": 69,
    "start_time": "2022-09-21T17:42:20.521Z"
   },
   {
    "duration": 4,
    "start_time": "2022-09-21T17:42:20.593Z"
   },
   {
    "duration": 868,
    "start_time": "2022-09-21T17:42:20.599Z"
   },
   {
    "duration": 181,
    "start_time": "2022-09-21T17:42:21.468Z"
   },
   {
    "duration": 58,
    "start_time": "2022-09-21T17:42:21.651Z"
   },
   {
    "duration": 15,
    "start_time": "2022-09-21T17:42:21.722Z"
   },
   {
    "duration": 599,
    "start_time": "2022-09-21T17:42:21.739Z"
   },
   {
    "duration": 127,
    "start_time": "2022-09-21T17:42:22.340Z"
   },
   {
    "duration": 175,
    "start_time": "2022-09-21T17:42:22.469Z"
   },
   {
    "duration": 134,
    "start_time": "2022-09-21T17:42:22.647Z"
   },
   {
    "duration": 97,
    "start_time": "2022-09-21T17:42:22.783Z"
   },
   {
    "duration": 5,
    "start_time": "2022-09-21T17:42:22.883Z"
   },
   {
    "duration": 62,
    "start_time": "2022-09-21T17:42:22.890Z"
   },
   {
    "duration": 3,
    "start_time": "2022-09-21T17:42:22.953Z"
   },
   {
    "duration": 37,
    "start_time": "2022-09-21T17:42:22.958Z"
   },
   {
    "duration": 58,
    "start_time": "2022-09-21T17:42:22.997Z"
   },
   {
    "duration": 18,
    "start_time": "2022-09-21T17:42:23.057Z"
   },
   {
    "duration": 90,
    "start_time": "2022-09-21T17:42:23.077Z"
   },
   {
    "duration": 82,
    "start_time": "2022-09-21T17:42:31.536Z"
   },
   {
    "duration": 396,
    "start_time": "2022-09-21T17:42:35.842Z"
   },
   {
    "duration": 19,
    "start_time": "2022-09-21T17:42:41.250Z"
   },
   {
    "duration": 2618,
    "start_time": "2022-09-21T17:43:53.345Z"
   },
   {
    "duration": 2412,
    "start_time": "2022-09-21T17:43:55.966Z"
   },
   {
    "duration": 6,
    "start_time": "2022-09-21T17:43:58.380Z"
   },
   {
    "duration": 8,
    "start_time": "2022-09-21T17:43:58.388Z"
   },
   {
    "duration": 951,
    "start_time": "2022-09-21T17:43:58.398Z"
   },
   {
    "duration": 3,
    "start_time": "2022-09-21T17:43:59.351Z"
   },
   {
    "duration": 13,
    "start_time": "2022-09-21T17:43:59.356Z"
   },
   {
    "duration": 64,
    "start_time": "2022-09-21T17:43:59.371Z"
   },
   {
    "duration": 739,
    "start_time": "2022-09-21T17:43:59.437Z"
   },
   {
    "duration": 536,
    "start_time": "2022-09-21T17:44:00.178Z"
   },
   {
    "duration": 830,
    "start_time": "2022-09-21T17:44:00.716Z"
   },
   {
    "duration": 25,
    "start_time": "2022-09-21T17:44:01.548Z"
   },
   {
    "duration": 83,
    "start_time": "2022-09-21T17:44:01.574Z"
   },
   {
    "duration": 5,
    "start_time": "2022-09-21T17:44:01.663Z"
   },
   {
    "duration": 895,
    "start_time": "2022-09-21T17:44:01.669Z"
   },
   {
    "duration": 1070,
    "start_time": "2022-09-21T17:44:02.566Z"
   },
   {
    "duration": 317,
    "start_time": "2022-09-21T17:44:03.638Z"
   },
   {
    "duration": 937,
    "start_time": "2022-09-21T17:44:03.957Z"
   },
   {
    "duration": 956,
    "start_time": "2022-09-21T17:44:04.896Z"
   },
   {
    "duration": 28,
    "start_time": "2022-09-21T17:44:05.855Z"
   },
   {
    "duration": 443,
    "start_time": "2022-09-21T17:44:05.884Z"
   },
   {
    "duration": 12,
    "start_time": "2022-09-21T17:44:06.328Z"
   },
   {
    "duration": 63,
    "start_time": "2022-09-21T17:44:06.342Z"
   },
   {
    "duration": 4,
    "start_time": "2022-09-21T17:44:06.407Z"
   },
   {
    "duration": 1154,
    "start_time": "2022-09-21T17:44:06.426Z"
   },
   {
    "duration": 25,
    "start_time": "2022-09-21T17:44:07.582Z"
   },
   {
    "duration": 11,
    "start_time": "2022-09-21T17:44:07.623Z"
   },
   {
    "duration": 52,
    "start_time": "2022-09-21T17:44:07.635Z"
   },
   {
    "duration": 5,
    "start_time": "2022-09-21T17:44:07.689Z"
   },
   {
    "duration": 663,
    "start_time": "2022-09-21T17:44:07.696Z"
   },
   {
    "duration": 20,
    "start_time": "2022-09-21T17:44:08.361Z"
   },
   {
    "duration": 68,
    "start_time": "2022-09-21T17:44:08.383Z"
   },
   {
    "duration": 4,
    "start_time": "2022-09-21T17:44:08.453Z"
   },
   {
    "duration": 809,
    "start_time": "2022-09-21T17:44:08.459Z"
   },
   {
    "duration": 220,
    "start_time": "2022-09-21T17:44:09.271Z"
   },
   {
    "duration": 67,
    "start_time": "2022-09-21T17:44:09.493Z"
   },
   {
    "duration": 4,
    "start_time": "2022-09-21T17:44:09.562Z"
   },
   {
    "duration": 620,
    "start_time": "2022-09-21T17:44:09.568Z"
   },
   {
    "duration": 123,
    "start_time": "2022-09-21T17:44:10.190Z"
   },
   {
    "duration": 175,
    "start_time": "2022-09-21T17:44:10.321Z"
   },
   {
    "duration": 112,
    "start_time": "2022-09-21T17:44:10.501Z"
   },
   {
    "duration": 65,
    "start_time": "2022-09-21T17:44:10.615Z"
   },
   {
    "duration": 4,
    "start_time": "2022-09-21T17:44:10.682Z"
   },
   {
    "duration": 79,
    "start_time": "2022-09-21T17:44:10.688Z"
   },
   {
    "duration": 5,
    "start_time": "2022-09-21T17:45:25.203Z"
   },
   {
    "duration": 12,
    "start_time": "2022-09-21T17:45:27.436Z"
   },
   {
    "duration": 11,
    "start_time": "2022-09-21T17:45:30.134Z"
   },
   {
    "duration": 72,
    "start_time": "2022-09-21T17:45:33.002Z"
   },
   {
    "duration": 550,
    "start_time": "2022-09-21T17:46:38.436Z"
   },
   {
    "duration": 26,
    "start_time": "2022-09-21T17:47:10.283Z"
   },
   {
    "duration": 53,
    "start_time": "2022-09-21T17:48:14.323Z"
   },
   {
    "duration": 6,
    "start_time": "2022-09-21T17:48:16.254Z"
   },
   {
    "duration": 3,
    "start_time": "2022-09-21T17:48:20.114Z"
   },
   {
    "duration": 156,
    "start_time": "2022-09-21T17:48:23.802Z"
   },
   {
    "duration": 3,
    "start_time": "2022-09-21T17:48:33.562Z"
   },
   {
    "duration": 15113,
    "start_time": "2022-09-22T08:51:25.339Z"
   },
   {
    "duration": 2515,
    "start_time": "2022-09-22T08:51:40.454Z"
   },
   {
    "duration": 6617,
    "start_time": "2022-09-22T08:51:42.970Z"
   },
   {
    "duration": 3,
    "start_time": "2022-09-22T08:51:49.589Z"
   },
   {
    "duration": 877,
    "start_time": "2022-09-22T08:51:49.594Z"
   },
   {
    "duration": 41881,
    "start_time": "2022-09-22T08:51:50.472Z"
   },
   {
    "duration": 2,
    "start_time": "2022-09-22T08:52:32.355Z"
   },
   {
    "duration": 62,
    "start_time": "2022-09-22T08:52:32.359Z"
   },
   {
    "duration": 679,
    "start_time": "2022-09-22T08:52:32.422Z"
   },
   {
    "duration": 475,
    "start_time": "2022-09-22T08:52:33.103Z"
   },
   {
    "duration": 543,
    "start_time": "2022-09-22T08:52:33.580Z"
   },
   {
    "duration": 28,
    "start_time": "2022-09-22T08:52:34.131Z"
   },
   {
    "duration": 74,
    "start_time": "2022-09-22T08:52:34.161Z"
   },
   {
    "duration": 4,
    "start_time": "2022-09-22T08:52:34.238Z"
   },
   {
    "duration": 891,
    "start_time": "2022-09-22T08:52:34.244Z"
   },
   {
    "duration": 1180,
    "start_time": "2022-09-22T08:52:35.136Z"
   },
   {
    "duration": 336,
    "start_time": "2022-09-22T08:52:36.323Z"
   },
   {
    "duration": 887,
    "start_time": "2022-09-22T08:52:36.660Z"
   },
   {
    "duration": 897,
    "start_time": "2022-09-22T08:52:37.549Z"
   },
   {
    "duration": 22,
    "start_time": "2022-09-22T08:52:38.448Z"
   },
   {
    "duration": 396,
    "start_time": "2022-09-22T08:52:38.472Z"
   },
   {
    "duration": 6,
    "start_time": "2022-09-22T08:52:38.870Z"
   },
   {
    "duration": 67,
    "start_time": "2022-09-22T08:52:38.878Z"
   },
   {
    "duration": 4,
    "start_time": "2022-09-22T08:52:38.947Z"
   },
   {
    "duration": 1013,
    "start_time": "2022-09-22T08:52:38.953Z"
   },
   {
    "duration": 23,
    "start_time": "2022-09-22T08:52:39.967Z"
   },
   {
    "duration": 35,
    "start_time": "2022-09-22T08:52:39.992Z"
   },
   {
    "duration": 56,
    "start_time": "2022-09-22T08:52:40.028Z"
   },
   {
    "duration": 4,
    "start_time": "2022-09-22T08:52:40.086Z"
   },
   {
    "duration": 580,
    "start_time": "2022-09-22T08:52:40.092Z"
   },
   {
    "duration": 14,
    "start_time": "2022-09-22T08:52:40.674Z"
   },
   {
    "duration": 75,
    "start_time": "2022-09-22T08:52:40.690Z"
   },
   {
    "duration": 4,
    "start_time": "2022-09-22T08:52:40.766Z"
   },
   {
    "duration": 1147,
    "start_time": "2022-09-22T08:52:40.772Z"
   },
   {
    "duration": 134,
    "start_time": "2022-09-22T08:52:41.921Z"
   },
   {
    "duration": 70,
    "start_time": "2022-09-22T08:52:42.057Z"
   },
   {
    "duration": 10,
    "start_time": "2022-09-22T08:52:42.131Z"
   },
   {
    "duration": 514,
    "start_time": "2022-09-22T08:52:42.146Z"
   },
   {
    "duration": 125,
    "start_time": "2022-09-22T08:52:42.662Z"
   },
   {
    "duration": 146,
    "start_time": "2022-09-22T08:52:42.789Z"
   },
   {
    "duration": 118,
    "start_time": "2022-09-22T08:52:42.938Z"
   },
   {
    "duration": 83,
    "start_time": "2022-09-22T08:52:43.060Z"
   },
   {
    "duration": 9,
    "start_time": "2022-09-22T08:52:43.144Z"
   },
   {
    "duration": 32,
    "start_time": "2022-09-22T08:52:43.154Z"
   },
   {
    "duration": 2,
    "start_time": "2022-09-22T08:52:43.187Z"
   },
   {
    "duration": 554,
    "start_time": "2022-09-22T08:52:43.190Z"
   },
   {
    "duration": 34,
    "start_time": "2022-09-22T08:52:43.748Z"
   },
   {
    "duration": 4,
    "start_time": "2022-09-22T08:52:43.784Z"
   },
   {
    "duration": 7,
    "start_time": "2022-09-22T08:52:43.789Z"
   },
   {
    "duration": 155,
    "start_time": "2022-09-22T08:52:43.798Z"
   },
   {
    "duration": 16,
    "start_time": "2022-09-22T08:52:43.955Z"
   },
   {
    "duration": 17,
    "start_time": "2022-09-22T09:08:34.742Z"
   },
   {
    "duration": 16,
    "start_time": "2022-09-22T09:10:21.472Z"
   },
   {
    "duration": 195,
    "start_time": "2022-09-22T09:10:49.562Z"
   },
   {
    "duration": 169147,
    "start_time": "2022-09-22T09:10:58.472Z"
   },
   {
    "duration": 376,
    "start_time": "2022-09-22T09:14:20.654Z"
   },
   {
    "duration": 4,
    "start_time": "2022-09-22T09:14:32.303Z"
   },
   {
    "duration": 274,
    "start_time": "2022-09-22T09:15:09.664Z"
   },
   {
    "duration": 3542,
    "start_time": "2022-09-22T13:57:10.964Z"
   },
   {
    "duration": 2283,
    "start_time": "2022-09-22T13:57:14.509Z"
   },
   {
    "duration": 4,
    "start_time": "2022-09-22T13:57:16.794Z"
   },
   {
    "duration": 7,
    "start_time": "2022-09-22T13:57:16.800Z"
   },
   {
    "duration": 863,
    "start_time": "2022-09-22T13:57:16.808Z"
   },
   {
    "duration": 3,
    "start_time": "2022-09-22T13:57:17.672Z"
   },
   {
    "duration": 7,
    "start_time": "2022-09-22T13:57:17.676Z"
   },
   {
    "duration": 57,
    "start_time": "2022-09-22T13:57:17.685Z"
   },
   {
    "duration": 606,
    "start_time": "2022-09-22T13:57:17.743Z"
   },
   {
    "duration": 646,
    "start_time": "2022-09-22T13:57:18.353Z"
   },
   {
    "duration": 574,
    "start_time": "2022-09-22T13:57:19.000Z"
   },
   {
    "duration": 47,
    "start_time": "2022-09-22T13:57:19.576Z"
   },
   {
    "duration": 56,
    "start_time": "2022-09-22T13:57:19.625Z"
   },
   {
    "duration": 3,
    "start_time": "2022-09-22T13:57:19.682Z"
   },
   {
    "duration": 817,
    "start_time": "2022-09-22T13:57:19.687Z"
   },
   {
    "duration": 1158,
    "start_time": "2022-09-22T13:57:20.505Z"
   },
   {
    "duration": 336,
    "start_time": "2022-09-22T13:57:21.665Z"
   },
   {
    "duration": 906,
    "start_time": "2022-09-22T13:57:22.002Z"
   },
   {
    "duration": 933,
    "start_time": "2022-09-22T13:57:22.918Z"
   },
   {
    "duration": 20,
    "start_time": "2022-09-22T13:57:23.853Z"
   },
   {
    "duration": 387,
    "start_time": "2022-09-22T13:57:23.874Z"
   },
   {
    "duration": 6,
    "start_time": "2022-09-22T13:57:24.263Z"
   },
   {
    "duration": 76,
    "start_time": "2022-09-22T13:57:24.270Z"
   },
   {
    "duration": 3,
    "start_time": "2022-09-22T13:57:24.352Z"
   },
   {
    "duration": 1012,
    "start_time": "2022-09-22T13:57:24.357Z"
   },
   {
    "duration": 22,
    "start_time": "2022-09-22T13:57:25.370Z"
   },
   {
    "duration": 5,
    "start_time": "2022-09-22T13:57:25.393Z"
   },
   {
    "duration": 57,
    "start_time": "2022-09-22T13:57:25.402Z"
   },
   {
    "duration": 3,
    "start_time": "2022-09-22T13:57:25.461Z"
   },
   {
    "duration": 749,
    "start_time": "2022-09-22T13:57:25.465Z"
   },
   {
    "duration": 26,
    "start_time": "2022-09-22T13:57:26.227Z"
   },
   {
    "duration": 43,
    "start_time": "2022-09-22T13:57:26.255Z"
   },
   {
    "duration": 3,
    "start_time": "2022-09-22T13:57:26.300Z"
   },
   {
    "duration": 674,
    "start_time": "2022-09-22T13:57:26.304Z"
   },
   {
    "duration": 158,
    "start_time": "2022-09-22T13:57:26.979Z"
   },
   {
    "duration": 58,
    "start_time": "2022-09-22T13:57:27.139Z"
   },
   {
    "duration": 3,
    "start_time": "2022-09-22T13:57:27.199Z"
   },
   {
    "duration": 660,
    "start_time": "2022-09-22T13:57:27.204Z"
   },
   {
    "duration": 129,
    "start_time": "2022-09-22T13:57:27.868Z"
   },
   {
    "duration": 140,
    "start_time": "2022-09-22T13:57:27.999Z"
   },
   {
    "duration": 123,
    "start_time": "2022-09-22T13:57:28.140Z"
   },
   {
    "duration": 75,
    "start_time": "2022-09-22T13:57:28.264Z"
   },
   {
    "duration": 7,
    "start_time": "2022-09-22T13:57:28.340Z"
   },
   {
    "duration": 28,
    "start_time": "2022-09-22T13:57:28.349Z"
   },
   {
    "duration": 15,
    "start_time": "2022-09-22T13:57:28.379Z"
   },
   {
    "duration": 605,
    "start_time": "2022-09-22T13:57:28.395Z"
   },
   {
    "duration": 561,
    "start_time": "2022-09-22T13:57:29.001Z"
   },
   {
    "duration": 309,
    "start_time": "2022-09-22T13:57:29.563Z"
   },
   {
    "duration": 5,
    "start_time": "2022-09-22T13:57:29.873Z"
   },
   {
    "duration": 6,
    "start_time": "2022-09-22T13:57:29.879Z"
   },
   {
    "duration": 19,
    "start_time": "2022-09-22T13:57:29.886Z"
   },
   {
    "duration": 347,
    "start_time": "2022-09-22T13:57:29.911Z"
   },
   {
    "duration": 3,
    "start_time": "2022-09-22T13:57:30.261Z"
   },
   {
    "duration": 67206,
    "start_time": "2022-09-22T13:57:30.266Z"
   },
   {
    "duration": 10,
    "start_time": "2022-09-22T13:58:37.474Z"
   },
   {
    "duration": 0,
    "start_time": "2022-09-22T13:58:37.485Z"
   },
   {
    "duration": 0,
    "start_time": "2022-09-22T13:58:37.486Z"
   },
   {
    "duration": 0,
    "start_time": "2022-09-22T13:58:37.487Z"
   },
   {
    "duration": 1,
    "start_time": "2022-09-22T13:58:37.488Z"
   },
   {
    "duration": 0,
    "start_time": "2022-09-22T13:58:37.489Z"
   },
   {
    "duration": 0,
    "start_time": "2022-09-22T13:58:37.491Z"
   },
   {
    "duration": 0,
    "start_time": "2022-09-22T13:58:37.492Z"
   },
   {
    "duration": 0,
    "start_time": "2022-09-22T13:58:37.493Z"
   },
   {
    "duration": 0,
    "start_time": "2022-09-22T13:58:37.494Z"
   },
   {
    "duration": 0,
    "start_time": "2022-09-22T13:58:37.495Z"
   },
   {
    "duration": 0,
    "start_time": "2022-09-22T13:58:37.496Z"
   },
   {
    "duration": 0,
    "start_time": "2022-09-22T13:58:37.496Z"
   },
   {
    "duration": 0,
    "start_time": "2022-09-22T13:58:37.497Z"
   },
   {
    "duration": 0,
    "start_time": "2022-09-22T13:58:37.498Z"
   },
   {
    "duration": 0,
    "start_time": "2022-09-22T13:58:37.499Z"
   },
   {
    "duration": 0,
    "start_time": "2022-09-22T13:58:37.500Z"
   },
   {
    "duration": 0,
    "start_time": "2022-09-22T13:58:37.500Z"
   },
   {
    "duration": 0,
    "start_time": "2022-09-22T13:58:37.501Z"
   },
   {
    "duration": 0,
    "start_time": "2022-09-22T13:58:37.502Z"
   },
   {
    "duration": 0,
    "start_time": "2022-09-22T13:58:37.503Z"
   },
   {
    "duration": 0,
    "start_time": "2022-09-22T13:58:37.505Z"
   },
   {
    "duration": 0,
    "start_time": "2022-09-22T13:58:37.505Z"
   },
   {
    "duration": 0,
    "start_time": "2022-09-22T13:58:37.506Z"
   },
   {
    "duration": 0,
    "start_time": "2022-09-22T13:58:37.507Z"
   },
   {
    "duration": 0,
    "start_time": "2022-09-22T13:58:37.511Z"
   },
   {
    "duration": 0,
    "start_time": "2022-09-22T13:58:37.512Z"
   },
   {
    "duration": 0,
    "start_time": "2022-09-22T13:58:37.512Z"
   },
   {
    "duration": 0,
    "start_time": "2022-09-22T13:58:37.513Z"
   },
   {
    "duration": 0,
    "start_time": "2022-09-22T13:58:37.513Z"
   },
   {
    "duration": 0,
    "start_time": "2022-09-22T13:58:37.514Z"
   },
   {
    "duration": 2435,
    "start_time": "2022-09-22T13:58:48.366Z"
   },
   {
    "duration": 2332,
    "start_time": "2022-09-22T13:58:50.804Z"
   },
   {
    "duration": 9,
    "start_time": "2022-09-22T13:58:53.138Z"
   },
   {
    "duration": 10,
    "start_time": "2022-09-22T13:58:53.150Z"
   },
   {
    "duration": 895,
    "start_time": "2022-09-22T13:58:53.162Z"
   },
   {
    "duration": 2,
    "start_time": "2022-09-22T13:58:54.059Z"
   },
   {
    "duration": 10,
    "start_time": "2022-09-22T13:58:54.062Z"
   },
   {
    "duration": 60,
    "start_time": "2022-09-22T13:58:54.073Z"
   },
   {
    "duration": 726,
    "start_time": "2022-09-22T13:58:54.134Z"
   },
   {
    "duration": 629,
    "start_time": "2022-09-22T13:58:54.862Z"
   },
   {
    "duration": 852,
    "start_time": "2022-09-22T13:58:55.493Z"
   },
   {
    "duration": 20,
    "start_time": "2022-09-22T13:58:56.347Z"
   },
   {
    "duration": 74,
    "start_time": "2022-09-22T13:58:56.369Z"
   },
   {
    "duration": 4,
    "start_time": "2022-09-22T13:58:56.447Z"
   },
   {
    "duration": 821,
    "start_time": "2022-09-22T13:58:56.452Z"
   },
   {
    "duration": 1185,
    "start_time": "2022-09-22T13:58:57.274Z"
   },
   {
    "duration": 345,
    "start_time": "2022-09-22T13:58:58.460Z"
   },
   {
    "duration": 926,
    "start_time": "2022-09-22T13:58:58.817Z"
   },
   {
    "duration": 896,
    "start_time": "2022-09-22T13:58:59.744Z"
   },
   {
    "duration": 24,
    "start_time": "2022-09-22T13:59:00.642Z"
   },
   {
    "duration": 408,
    "start_time": "2022-09-22T13:59:00.667Z"
   },
   {
    "duration": 8,
    "start_time": "2022-09-22T13:59:01.077Z"
   },
   {
    "duration": 69,
    "start_time": "2022-09-22T13:59:01.087Z"
   },
   {
    "duration": 4,
    "start_time": "2022-09-22T13:59:01.158Z"
   },
   {
    "duration": 1007,
    "start_time": "2022-09-22T13:59:01.163Z"
   },
   {
    "duration": 24,
    "start_time": "2022-09-22T13:59:02.172Z"
   },
   {
    "duration": 49,
    "start_time": "2022-09-22T13:59:02.198Z"
   },
   {
    "duration": 87,
    "start_time": "2022-09-22T13:59:02.249Z"
   },
   {
    "duration": 8,
    "start_time": "2022-09-22T13:59:02.344Z"
   },
   {
    "duration": 618,
    "start_time": "2022-09-22T13:59:02.353Z"
   },
   {
    "duration": 14,
    "start_time": "2022-09-22T13:59:02.973Z"
   },
   {
    "duration": 79,
    "start_time": "2022-09-22T13:59:02.988Z"
   },
   {
    "duration": 4,
    "start_time": "2022-09-22T13:59:03.068Z"
   },
   {
    "duration": 790,
    "start_time": "2022-09-22T13:59:03.074Z"
   },
   {
    "duration": 126,
    "start_time": "2022-09-22T13:59:03.865Z"
   },
   {
    "duration": 60,
    "start_time": "2022-09-22T13:59:03.992Z"
   },
   {
    "duration": 3,
    "start_time": "2022-09-22T13:59:04.054Z"
   },
   {
    "duration": 521,
    "start_time": "2022-09-22T13:59:04.059Z"
   },
   {
    "duration": 149,
    "start_time": "2022-09-22T13:59:04.582Z"
   },
   {
    "duration": 166,
    "start_time": "2022-09-22T13:59:04.742Z"
   },
   {
    "duration": 150,
    "start_time": "2022-09-22T13:59:04.927Z"
   },
   {
    "duration": 89,
    "start_time": "2022-09-22T13:59:05.079Z"
   },
   {
    "duration": 9,
    "start_time": "2022-09-22T13:59:05.170Z"
   },
   {
    "duration": 40,
    "start_time": "2022-09-22T13:59:05.180Z"
   },
   {
    "duration": 50,
    "start_time": "2022-09-22T13:59:05.222Z"
   },
   {
    "duration": 590,
    "start_time": "2022-09-22T13:59:05.274Z"
   },
   {
    "duration": 594,
    "start_time": "2022-09-22T13:59:05.866Z"
   },
   {
    "duration": 312,
    "start_time": "2022-09-22T13:59:06.462Z"
   },
   {
    "duration": 5,
    "start_time": "2022-09-22T13:59:06.775Z"
   },
   {
    "duration": 64,
    "start_time": "2022-09-22T13:59:06.781Z"
   },
   {
    "duration": 16,
    "start_time": "2022-09-22T13:59:06.846Z"
   },
   {
    "duration": 323,
    "start_time": "2022-09-22T13:59:06.863Z"
   },
   {
    "duration": 29,
    "start_time": "2022-09-22T13:59:36.302Z"
   },
   {
    "duration": 133,
    "start_time": "2022-09-22T13:59:46.461Z"
   },
   {
    "duration": 205,
    "start_time": "2022-09-22T13:59:50.863Z"
   },
   {
    "duration": 2,
    "start_time": "2022-09-22T13:59:53.277Z"
   },
   {
    "duration": 330815,
    "start_time": "2022-09-22T13:59:53.576Z"
   },
   {
    "duration": 3,
    "start_time": "2022-09-22T14:05:24.395Z"
   },
   {
    "duration": 4,
    "start_time": "2022-09-22T14:05:39.538Z"
   },
   {
    "duration": 50,
    "start_time": "2022-09-22T14:05:47.943Z"
   },
   {
    "duration": 2983,
    "start_time": "2022-09-22T14:06:04.700Z"
   },
   {
    "duration": 2255,
    "start_time": "2022-09-22T14:06:07.685Z"
   },
   {
    "duration": 5060,
    "start_time": "2022-09-22T14:06:09.942Z"
   },
   {
    "duration": 2,
    "start_time": "2022-09-22T14:06:15.004Z"
   },
   {
    "duration": 1485,
    "start_time": "2022-09-22T14:06:15.008Z"
   },
   {
    "duration": 3,
    "start_time": "2022-09-22T14:06:16.495Z"
   },
   {
    "duration": 5,
    "start_time": "2022-09-22T14:06:16.500Z"
   },
   {
    "duration": 76,
    "start_time": "2022-09-22T14:06:16.506Z"
   },
   {
    "duration": 767,
    "start_time": "2022-09-22T14:06:16.584Z"
   },
   {
    "duration": 497,
    "start_time": "2022-09-22T14:06:17.353Z"
   },
   {
    "duration": 550,
    "start_time": "2022-09-22T14:06:17.852Z"
   },
   {
    "duration": 43,
    "start_time": "2022-09-22T14:06:18.404Z"
   },
   {
    "duration": 54,
    "start_time": "2022-09-22T14:06:18.451Z"
   },
   {
    "duration": 31,
    "start_time": "2022-09-22T14:06:18.508Z"
   },
   {
    "duration": 915,
    "start_time": "2022-09-22T14:06:18.545Z"
   },
   {
    "duration": 1139,
    "start_time": "2022-09-22T14:06:19.462Z"
   },
   {
    "duration": 350,
    "start_time": "2022-09-22T14:06:20.602Z"
   },
   {
    "duration": 899,
    "start_time": "2022-09-22T14:06:20.954Z"
   },
   {
    "duration": 999,
    "start_time": "2022-09-22T14:06:21.855Z"
   },
   {
    "duration": 22,
    "start_time": "2022-09-22T14:06:22.856Z"
   },
   {
    "duration": 391,
    "start_time": "2022-09-22T14:06:22.879Z"
   },
   {
    "duration": 11,
    "start_time": "2022-09-22T14:06:23.272Z"
   },
   {
    "duration": 73,
    "start_time": "2022-09-22T14:06:23.285Z"
   },
   {
    "duration": 6,
    "start_time": "2022-09-22T14:06:23.359Z"
   },
   {
    "duration": 980,
    "start_time": "2022-09-22T14:06:23.367Z"
   },
   {
    "duration": 21,
    "start_time": "2022-09-22T14:06:24.350Z"
   },
   {
    "duration": 4,
    "start_time": "2022-09-22T14:06:24.373Z"
   },
   {
    "duration": 82,
    "start_time": "2022-09-22T14:06:24.378Z"
   },
   {
    "duration": 5,
    "start_time": "2022-09-22T14:06:24.462Z"
   },
   {
    "duration": 622,
    "start_time": "2022-09-22T14:06:24.470Z"
   },
   {
    "duration": 39,
    "start_time": "2022-09-22T14:06:25.094Z"
   },
   {
    "duration": 49,
    "start_time": "2022-09-22T14:06:25.137Z"
   },
   {
    "duration": 3,
    "start_time": "2022-09-22T14:06:25.188Z"
   },
   {
    "duration": 762,
    "start_time": "2022-09-22T14:06:25.192Z"
   },
   {
    "duration": 131,
    "start_time": "2022-09-22T14:06:25.955Z"
   },
   {
    "duration": 64,
    "start_time": "2022-09-22T14:06:26.087Z"
   },
   {
    "duration": 3,
    "start_time": "2022-09-22T14:06:26.153Z"
   },
   {
    "duration": 541,
    "start_time": "2022-09-22T14:06:26.157Z"
   },
   {
    "duration": 126,
    "start_time": "2022-09-22T14:06:26.699Z"
   },
   {
    "duration": 152,
    "start_time": "2022-09-22T14:06:26.835Z"
   },
   {
    "duration": 111,
    "start_time": "2022-09-22T14:06:26.991Z"
   },
   {
    "duration": 115,
    "start_time": "2022-09-22T14:06:27.103Z"
   },
   {
    "duration": 6,
    "start_time": "2022-09-22T14:06:27.221Z"
   },
   {
    "duration": 67,
    "start_time": "2022-09-22T14:06:27.228Z"
   },
   {
    "duration": 52,
    "start_time": "2022-09-22T14:06:27.297Z"
   },
   {
    "duration": 592,
    "start_time": "2022-09-22T14:06:27.351Z"
   },
   {
    "duration": 515,
    "start_time": "2022-09-22T14:06:27.945Z"
   },
   {
    "duration": 313,
    "start_time": "2022-09-22T14:06:28.461Z"
   },
   {
    "duration": 4,
    "start_time": "2022-09-22T14:06:28.775Z"
   },
   {
    "duration": 6,
    "start_time": "2022-09-22T14:06:28.780Z"
   },
   {
    "duration": 4,
    "start_time": "2022-09-22T14:06:28.788Z"
   },
   {
    "duration": 38,
    "start_time": "2022-09-22T14:06:28.793Z"
   },
   {
    "duration": 328180,
    "start_time": "2022-09-22T14:06:28.843Z"
   },
   {
    "duration": 277,
    "start_time": "2022-09-22T14:12:02.291Z"
   },
   {
    "duration": 10,
    "start_time": "2022-09-22T14:12:13.636Z"
   },
   {
    "duration": 336012,
    "start_time": "2022-09-22T14:12:14.200Z"
   },
   {
    "duration": 4,
    "start_time": "2022-09-22T14:29:00.869Z"
   },
   {
    "duration": 161,
    "start_time": "2022-09-22T14:29:05.278Z"
   },
   {
    "duration": 14,
    "start_time": "2022-09-22T14:29:08.055Z"
   },
   {
    "duration": 28,
    "start_time": "2022-09-22T14:29:10.299Z"
   },
   {
    "duration": 10,
    "start_time": "2022-09-22T14:29:12.381Z"
   },
   {
    "duration": 13,
    "start_time": "2022-09-22T14:29:13.769Z"
   },
   {
    "duration": 28,
    "start_time": "2022-09-22T14:32:55.003Z"
   },
   {
    "duration": 12,
    "start_time": "2022-09-22T14:32:58.903Z"
   },
   {
    "duration": 58,
    "start_time": "2022-09-22T14:33:03.873Z"
   },
   {
    "duration": 52,
    "start_time": "2022-09-22T14:33:09.641Z"
   },
   {
    "duration": 63,
    "start_time": "2022-09-22T14:33:11.334Z"
   },
   {
    "duration": 256,
    "start_time": "2022-09-22T14:33:21.803Z"
   },
   {
    "duration": 115,
    "start_time": "2022-09-22T14:34:31.745Z"
   },
   {
    "duration": 5,
    "start_time": "2022-09-22T14:34:42.563Z"
   },
   {
    "duration": 12,
    "start_time": "2022-09-22T14:35:09.674Z"
   },
   {
    "duration": 13,
    "start_time": "2022-09-22T14:35:24.560Z"
   },
   {
    "duration": 65,
    "start_time": "2022-09-22T14:35:39.841Z"
   },
   {
    "duration": 124,
    "start_time": "2022-09-22T14:35:54.930Z"
   },
   {
    "duration": 397,
    "start_time": "2022-09-22T14:36:00.883Z"
   },
   {
    "duration": 346,
    "start_time": "2022-09-22T14:36:06.719Z"
   }
  ],
  "kernelspec": {
   "display_name": "Python 3 (ipykernel)",
   "language": "python",
   "name": "python3"
  },
  "language_info": {
   "codemirror_mode": {
    "name": "ipython",
    "version": 3
   },
   "file_extension": ".py",
   "mimetype": "text/x-python",
   "name": "python",
   "nbconvert_exporter": "python",
   "pygments_lexer": "ipython3",
   "version": "3.9.12"
  },
  "toc": {
   "base_numbering": 1,
   "nav_menu": {},
   "number_sections": true,
   "sideBar": true,
   "skip_h1_title": true,
   "title_cell": "Table of Contents",
   "title_sidebar": "Contents",
   "toc_cell": false,
   "toc_position": {
    "height": "calc(100% - 180px)",
    "left": "10px",
    "top": "150px",
    "width": "287.188px"
   },
   "toc_section_display": true,
   "toc_window_display": true
  }
 },
 "nbformat": 4,
 "nbformat_minor": 5
}
