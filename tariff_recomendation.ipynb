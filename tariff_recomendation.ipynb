{
 "cells": [
  {
   "cell_type": "markdown",
   "id": "5425ce03",
   "metadata": {},
   "source": [
    "# <div align=\"center\"><b> ПРОЕКТ №6. РЕКОМЕНДАЦИЯ ТАРИФОВ </b></div> "
   ]
  },
  {
   "cell_type": "markdown",
   "id": "30c5486a",
   "metadata": {},
   "source": [
    "**Цель**: проект выполняется для оператора мобильной связи \"Мегалайн\". Целью проекта является построение модели, предлагающей абонентам один из актуальных тарифов: \"Смарт\" или \"Ультра\". Предложение должно формироваться автоматически после анализа моделью данных о пользовательской активности (продолжительности звонков, количества отправленных sms-сообщений, объема израсходованного интернет-траффика). Модель должна обеспечивать не менее 75% правильных ответов.\n",
    "\n",
    "**Задачи**: \n",
    "- исследовать качество различных моделей в результате изменения гиперпараметров;\n",
    "- проверить модели на вменяемость."
   ]
  },
  {
   "cell_type": "markdown",
   "id": "741bafe0",
   "metadata": {},
   "source": [
    "# 1. Подготовительный этап"
   ]
  },
  {
   "cell_type": "markdown",
   "id": "e5303aa4",
   "metadata": {},
   "source": [
    "Согласно заданию на проект, предобработка данных не требуется. В рамках подготовительного этапа будет выполнено следующее:\n",
    "- импортированы библиотеки;\n",
    "- сформирован датасет с данными о поведении пользователей;\n",
    "- исходные данные разделены на обучающую, валидационную и тестовую выборки."
   ]
  },
  {
   "cell_type": "markdown",
   "id": "9e05ed46",
   "metadata": {},
   "source": [
    "## 1.1 Импорт библиотек и исходных данных"
   ]
  },
  {
   "cell_type": "code",
   "execution_count": 1,
   "id": "0504a03f",
   "metadata": {},
   "outputs": [],
   "source": [
    "#импортируем библиотеки\n",
    "import pandas as pd\n",
    "import numpy as np\n",
    "import sklearn\n",
    "from sklearn.model_selection import train_test_split\n",
    "from sklearn.tree import DecisionTreeClassifier\n",
    "from sklearn.metrics import accuracy_score\n",
    "from sklearn.ensemble import RandomForestClassifier\n",
    "from sklearn.linear_model import LogisticRegression"
   ]
  },
  {
   "cell_type": "code",
   "execution_count": 2,
   "id": "c7d7799e",
   "metadata": {},
   "outputs": [],
   "source": [
    "#снимем ограничение на количество столбцов датафрейма, выводимых на экран\n",
    "pd.options.display.max_columns = None"
   ]
  },
  {
   "cell_type": "code",
   "execution_count": 3,
   "id": "c90b1f91",
   "metadata": {},
   "outputs": [
    {
     "data": {
      "text/html": [
       "<div>\n",
       "<style scoped>\n",
       "    .dataframe tbody tr th:only-of-type {\n",
       "        vertical-align: middle;\n",
       "    }\n",
       "\n",
       "    .dataframe tbody tr th {\n",
       "        vertical-align: top;\n",
       "    }\n",
       "\n",
       "    .dataframe thead th {\n",
       "        text-align: right;\n",
       "    }\n",
       "</style>\n",
       "<table border=\"1\" class=\"dataframe\">\n",
       "  <thead>\n",
       "    <tr style=\"text-align: right;\">\n",
       "      <th></th>\n",
       "      <th>calls</th>\n",
       "      <th>minutes</th>\n",
       "      <th>messages</th>\n",
       "      <th>mb_used</th>\n",
       "      <th>is_ultra</th>\n",
       "    </tr>\n",
       "  </thead>\n",
       "  <tbody>\n",
       "    <tr>\n",
       "      <th>0</th>\n",
       "      <td>40.0</td>\n",
       "      <td>311.90</td>\n",
       "      <td>83.0</td>\n",
       "      <td>19915.42</td>\n",
       "      <td>0</td>\n",
       "    </tr>\n",
       "    <tr>\n",
       "      <th>1</th>\n",
       "      <td>85.0</td>\n",
       "      <td>516.75</td>\n",
       "      <td>56.0</td>\n",
       "      <td>22696.96</td>\n",
       "      <td>0</td>\n",
       "    </tr>\n",
       "    <tr>\n",
       "      <th>2</th>\n",
       "      <td>77.0</td>\n",
       "      <td>467.66</td>\n",
       "      <td>86.0</td>\n",
       "      <td>21060.45</td>\n",
       "      <td>0</td>\n",
       "    </tr>\n",
       "    <tr>\n",
       "      <th>3</th>\n",
       "      <td>106.0</td>\n",
       "      <td>745.53</td>\n",
       "      <td>81.0</td>\n",
       "      <td>8437.39</td>\n",
       "      <td>1</td>\n",
       "    </tr>\n",
       "    <tr>\n",
       "      <th>4</th>\n",
       "      <td>66.0</td>\n",
       "      <td>418.74</td>\n",
       "      <td>1.0</td>\n",
       "      <td>14502.75</td>\n",
       "      <td>0</td>\n",
       "    </tr>\n",
       "  </tbody>\n",
       "</table>\n",
       "</div>"
      ],
      "text/plain": [
       "   calls  minutes  messages   mb_used  is_ultra\n",
       "0   40.0   311.90      83.0  19915.42         0\n",
       "1   85.0   516.75      56.0  22696.96         0\n",
       "2   77.0   467.66      86.0  21060.45         0\n",
       "3  106.0   745.53      81.0   8437.39         1\n",
       "4   66.0   418.74       1.0  14502.75         0"
      ]
     },
     "execution_count": 3,
     "metadata": {},
     "output_type": "execute_result"
    }
   ],
   "source": [
    "#прочитаем файл с исходными данными, сохраним в переменную df\n",
    "try:\n",
    "    # local machine\n",
    "    df = pd.read_csv(r'C:\\Users\\vizum\\Desktop\\yandex_practicum\\project_6\\dataset\\users_behavior.csv')\n",
    "except:\n",
    "    #yandex practicum server\n",
    "#     код ревьюера\n",
    "    df = pd.read_csv('/datasets/users_behavior.csv')\n",
    "#     df_users = pd.read_csv('/datasets/users_behavior.csv')\n",
    "    \n",
    "#выведем на экран первые 5 строк датафрейма\n",
    "df.head()"
   ]
  },
  {
   "cell_type": "code",
   "execution_count": 4,
   "id": "a6ec5340",
   "metadata": {
    "scrolled": true
   },
   "outputs": [
    {
     "name": "stdout",
     "output_type": "stream",
     "text": [
      "<class 'pandas.core.frame.DataFrame'>\n",
      "RangeIndex: 3214 entries, 0 to 3213\n",
      "Data columns (total 5 columns):\n",
      " #   Column    Non-Null Count  Dtype  \n",
      "---  ------    --------------  -----  \n",
      " 0   calls     3214 non-null   float64\n",
      " 1   minutes   3214 non-null   float64\n",
      " 2   messages  3214 non-null   float64\n",
      " 3   mb_used   3214 non-null   float64\n",
      " 4   is_ultra  3214 non-null   int64  \n",
      "dtypes: float64(4), int64(1)\n",
      "memory usage: 125.7 KB\n"
     ]
    }
   ],
   "source": [
    "#получим общую информацию о df\n",
    "df.info()"
   ]
  },
  {
   "cell_type": "markdown",
   "id": "f14898c6",
   "metadata": {},
   "source": [
    "## 1.2 Разбиение исходных данных на обучающую, валидационную и тестовую выборки"
   ]
  },
  {
   "cell_type": "markdown",
   "id": "6da30f54",
   "metadata": {},
   "source": [
    "Разделим исходные данные на обучающую, валидационную и тестовую выборки в соотношении 3:1:1. Выполним это в два этапа:\n",
    "- выделим обучающую выборку и совместную выборку для валидации и тестирования;\n",
    "- разделим совместную выборку для валидации и тестирования на валидационную и тестовую.\n",
    "\n",
    "После завершения разбивки для каждой выборки выделим набор признаков, а также целевой признак."
   ]
  },
  {
   "cell_type": "markdown",
   "id": "9675e7cf",
   "metadata": {},
   "source": [
    "Перед разделением выборки определим, сколько пользователей приходится на каждый тариф в исходных данных:"
   ]
  },
  {
   "cell_type": "code",
   "execution_count": 5,
   "id": "cf523fc6",
   "metadata": {
    "scrolled": true
   },
   "outputs": [
    {
     "data": {
      "text/html": [
       "<div>\n",
       "<style scoped>\n",
       "    .dataframe tbody tr th:only-of-type {\n",
       "        vertical-align: middle;\n",
       "    }\n",
       "\n",
       "    .dataframe tbody tr th {\n",
       "        vertical-align: top;\n",
       "    }\n",
       "\n",
       "    .dataframe thead th {\n",
       "        text-align: right;\n",
       "    }\n",
       "</style>\n",
       "<table border=\"1\" class=\"dataframe\">\n",
       "  <thead>\n",
       "    <tr style=\"text-align: right;\">\n",
       "      <th></th>\n",
       "      <th>is_ultra</th>\n",
       "      <th>calls</th>\n",
       "    </tr>\n",
       "  </thead>\n",
       "  <tbody>\n",
       "    <tr>\n",
       "      <th>0</th>\n",
       "      <td>0</td>\n",
       "      <td>2229</td>\n",
       "    </tr>\n",
       "    <tr>\n",
       "      <th>1</th>\n",
       "      <td>1</td>\n",
       "      <td>985</td>\n",
       "    </tr>\n",
       "  </tbody>\n",
       "</table>\n",
       "</div>"
      ],
      "text/plain": [
       "   is_ultra  calls\n",
       "0         0   2229\n",
       "1         1    985"
      ]
     },
     "execution_count": 5,
     "metadata": {},
     "output_type": "execute_result"
    }
   ],
   "source": [
    "df.groupby(by='is_ultra')['calls'].count().reset_index()"
   ]
  },
  {
   "cell_type": "markdown",
   "id": "9c83ca62",
   "metadata": {},
   "source": [
    "Для тарифа Ультра пользователей в 2.26 раз меньше, чем для тарифа Смарт.\n",
    "\n",
    "**Разделим исходные данные на обучающую и совместную выборку для валидации и тестирования:**"
   ]
  },
  {
   "cell_type": "code",
   "execution_count": 6,
   "id": "99ec8b09",
   "metadata": {},
   "outputs": [],
   "source": [
    "df_train, df_valid_and_test = train_test_split(df, test_size=0.4, random_state=12345, stratify=df['is_ultra'])"
   ]
  },
  {
   "cell_type": "code",
   "execution_count": 7,
   "id": "14902a0e",
   "metadata": {
    "scrolled": true
   },
   "outputs": [
    {
     "name": "stdout",
     "output_type": "stream",
     "text": [
      "Сooтношение классов в выборке df_train (Смарт/Ультра): 2.26\n",
      "Сooтношение классов в выборке df_valid_and_test (Смарт/Ультра): 2.26\n"
     ]
    }
   ],
   "source": [
    "#определим соотношение классов в выборке df_train\n",
    "print('Сooтношение классов в выборке df_train (Смарт/Ультра):', round((df_train['is_ultra'].count()/df_train['is_ultra'].sum()-1), 2))\n",
    "#определим соотношение классов в выборке df_valid_and_test\n",
    "print('Сooтношение классов в выборке df_valid_and_test (Смарт/Ультра):', round((df_valid_and_test['is_ultra'].count()/df_valid_and_test['is_ultra'].sum()-1), 2))"
   ]
  },
  {
   "cell_type": "markdown",
   "id": "e317ad35",
   "metadata": {},
   "source": [
    "**Разделим совместную выборку для валидации и тестирования на валидационную и тестовую:** <a id='SU'></a>"
   ]
  },
  {
   "cell_type": "code",
   "execution_count": 8,
   "id": "68c9f2bc",
   "metadata": {},
   "outputs": [],
   "source": [
    "df_valid, df_test = train_test_split(df_valid_and_test, test_size=0.5, random_state=12345, stratify=df_valid_and_test['is_ultra'])"
   ]
  },
  {
   "cell_type": "code",
   "execution_count": 9,
   "id": "8a0c0b99",
   "metadata": {
    "scrolled": true
   },
   "outputs": [
    {
     "name": "stdout",
     "output_type": "stream",
     "text": [
      "Сooтношение классов в выборке df_valid (Смарт/Ультра): 2.26\n",
      "Сooтношение классов в выборке df_test (Смарт/Ультра): 2.26\n"
     ]
    }
   ],
   "source": [
    "#определим соотношение классов в выборке df_valid\n",
    "print('Сooтношение классов в выборке df_valid (Смарт/Ультра):', round((df_valid['is_ultra'].count()/df_valid['is_ultra'].sum()-1), 2))\n",
    "#определим соотношение классов в выборке df_valid_and_test\n",
    "print('Сooтношение классов в выборке df_test (Смарт/Ультра):', round((df_test['is_ultra'].count()/df_test['is_ultra'].sum()-1), 2))"
   ]
  },
  {
   "cell_type": "code",
   "execution_count": 10,
   "id": "9b8cfbc1",
   "metadata": {},
   "outputs": [
    {
     "data": {
      "text/plain": [
       "0    446\n",
       "1    197\n",
       "Name: is_ultra, dtype: int64"
      ]
     },
     "execution_count": 10,
     "metadata": {},
     "output_type": "execute_result"
    }
   ],
   "source": [
    "df_test['is_ultra'].value_counts()"
   ]
  },
  {
   "cell_type": "markdown",
   "id": "e7a11cff",
   "metadata": {},
   "source": [
    "Соотношение классов в обучающей, валидационной и тестовой выборках такое же, как и в исходной выборке.\n",
    "\n",
    "**Выделим признаки и целевой признак:**"
   ]
  },
  {
   "cell_type": "code",
   "execution_count": 11,
   "id": "9272f737",
   "metadata": {},
   "outputs": [
    {
     "data": {
      "text/html": [
       "<div>\n",
       "<style scoped>\n",
       "    .dataframe tbody tr th:only-of-type {\n",
       "        vertical-align: middle;\n",
       "    }\n",
       "\n",
       "    .dataframe tbody tr th {\n",
       "        vertical-align: top;\n",
       "    }\n",
       "\n",
       "    .dataframe thead th {\n",
       "        text-align: right;\n",
       "    }\n",
       "</style>\n",
       "<table border=\"1\" class=\"dataframe\">\n",
       "  <thead>\n",
       "    <tr style=\"text-align: right;\">\n",
       "      <th></th>\n",
       "      <th>calls</th>\n",
       "      <th>minutes</th>\n",
       "      <th>messages</th>\n",
       "      <th>mb_used</th>\n",
       "      <th>is_ultra</th>\n",
       "    </tr>\n",
       "  </thead>\n",
       "  <tbody>\n",
       "    <tr>\n",
       "      <th>2294</th>\n",
       "      <td>76.0</td>\n",
       "      <td>484.49</td>\n",
       "      <td>11.0</td>\n",
       "      <td>22454.35</td>\n",
       "      <td>0</td>\n",
       "    </tr>\n",
       "    <tr>\n",
       "      <th>1759</th>\n",
       "      <td>51.0</td>\n",
       "      <td>328.88</td>\n",
       "      <td>24.0</td>\n",
       "      <td>20511.93</td>\n",
       "      <td>0</td>\n",
       "    </tr>\n",
       "    <tr>\n",
       "      <th>529</th>\n",
       "      <td>105.0</td>\n",
       "      <td>705.05</td>\n",
       "      <td>18.0</td>\n",
       "      <td>22130.74</td>\n",
       "      <td>1</td>\n",
       "    </tr>\n",
       "    <tr>\n",
       "      <th>1599</th>\n",
       "      <td>19.0</td>\n",
       "      <td>135.52</td>\n",
       "      <td>48.0</td>\n",
       "      <td>13152.50</td>\n",
       "      <td>0</td>\n",
       "    </tr>\n",
       "    <tr>\n",
       "      <th>1868</th>\n",
       "      <td>28.0</td>\n",
       "      <td>159.55</td>\n",
       "      <td>0.0</td>\n",
       "      <td>14780.00</td>\n",
       "      <td>0</td>\n",
       "    </tr>\n",
       "  </tbody>\n",
       "</table>\n",
       "</div>"
      ],
      "text/plain": [
       "      calls  minutes  messages   mb_used  is_ultra\n",
       "2294   76.0   484.49      11.0  22454.35         0\n",
       "1759   51.0   328.88      24.0  20511.93         0\n",
       "529   105.0   705.05      18.0  22130.74         1\n",
       "1599   19.0   135.52      48.0  13152.50         0\n",
       "1868   28.0   159.55       0.0  14780.00         0"
      ]
     },
     "metadata": {},
     "output_type": "display_data"
    },
    {
     "data": {
      "text/html": [
       "<div>\n",
       "<style scoped>\n",
       "    .dataframe tbody tr th:only-of-type {\n",
       "        vertical-align: middle;\n",
       "    }\n",
       "\n",
       "    .dataframe tbody tr th {\n",
       "        vertical-align: top;\n",
       "    }\n",
       "\n",
       "    .dataframe thead th {\n",
       "        text-align: right;\n",
       "    }\n",
       "</style>\n",
       "<table border=\"1\" class=\"dataframe\">\n",
       "  <thead>\n",
       "    <tr style=\"text-align: right;\">\n",
       "      <th></th>\n",
       "      <th>calls</th>\n",
       "      <th>minutes</th>\n",
       "      <th>messages</th>\n",
       "      <th>mb_used</th>\n",
       "    </tr>\n",
       "  </thead>\n",
       "  <tbody>\n",
       "    <tr>\n",
       "      <th>2294</th>\n",
       "      <td>76.0</td>\n",
       "      <td>484.49</td>\n",
       "      <td>11.0</td>\n",
       "      <td>22454.35</td>\n",
       "    </tr>\n",
       "    <tr>\n",
       "      <th>1759</th>\n",
       "      <td>51.0</td>\n",
       "      <td>328.88</td>\n",
       "      <td>24.0</td>\n",
       "      <td>20511.93</td>\n",
       "    </tr>\n",
       "    <tr>\n",
       "      <th>529</th>\n",
       "      <td>105.0</td>\n",
       "      <td>705.05</td>\n",
       "      <td>18.0</td>\n",
       "      <td>22130.74</td>\n",
       "    </tr>\n",
       "    <tr>\n",
       "      <th>1599</th>\n",
       "      <td>19.0</td>\n",
       "      <td>135.52</td>\n",
       "      <td>48.0</td>\n",
       "      <td>13152.50</td>\n",
       "    </tr>\n",
       "    <tr>\n",
       "      <th>1868</th>\n",
       "      <td>28.0</td>\n",
       "      <td>159.55</td>\n",
       "      <td>0.0</td>\n",
       "      <td>14780.00</td>\n",
       "    </tr>\n",
       "  </tbody>\n",
       "</table>\n",
       "</div>"
      ],
      "text/plain": [
       "      calls  minutes  messages   mb_used\n",
       "2294   76.0   484.49      11.0  22454.35\n",
       "1759   51.0   328.88      24.0  20511.93\n",
       "529   105.0   705.05      18.0  22130.74\n",
       "1599   19.0   135.52      48.0  13152.50\n",
       "1868   28.0   159.55       0.0  14780.00"
      ]
     },
     "metadata": {},
     "output_type": "display_data"
    },
    {
     "data": {
      "text/plain": [
       "2294    0\n",
       "1759    0\n",
       "529     1\n",
       "1599    0\n",
       "1868    0\n",
       "Name: is_ultra, dtype: int64"
      ]
     },
     "execution_count": 11,
     "metadata": {},
     "output_type": "execute_result"
    }
   ],
   "source": [
    "#разделим обучающую выборку на features и target\n",
    "features_train = df_train.drop('is_ultra', axis=1)\n",
    "target_train = df_train['is_ultra']\n",
    "\n",
    "#проверим результат\n",
    "display(df_train.head())\n",
    "display(features_train.head())\n",
    "target_train.head()"
   ]
  },
  {
   "cell_type": "code",
   "execution_count": 12,
   "id": "b24d1738",
   "metadata": {},
   "outputs": [
    {
     "data": {
      "text/html": [
       "<div>\n",
       "<style scoped>\n",
       "    .dataframe tbody tr th:only-of-type {\n",
       "        vertical-align: middle;\n",
       "    }\n",
       "\n",
       "    .dataframe tbody tr th {\n",
       "        vertical-align: top;\n",
       "    }\n",
       "\n",
       "    .dataframe thead th {\n",
       "        text-align: right;\n",
       "    }\n",
       "</style>\n",
       "<table border=\"1\" class=\"dataframe\">\n",
       "  <thead>\n",
       "    <tr style=\"text-align: right;\">\n",
       "      <th></th>\n",
       "      <th>calls</th>\n",
       "      <th>minutes</th>\n",
       "      <th>messages</th>\n",
       "      <th>mb_used</th>\n",
       "      <th>is_ultra</th>\n",
       "    </tr>\n",
       "  </thead>\n",
       "  <tbody>\n",
       "    <tr>\n",
       "      <th>78</th>\n",
       "      <td>73.0</td>\n",
       "      <td>562.27</td>\n",
       "      <td>11.0</td>\n",
       "      <td>17589.08</td>\n",
       "      <td>0</td>\n",
       "    </tr>\n",
       "    <tr>\n",
       "      <th>2024</th>\n",
       "      <td>27.0</td>\n",
       "      <td>147.66</td>\n",
       "      <td>39.0</td>\n",
       "      <td>7545.04</td>\n",
       "      <td>0</td>\n",
       "    </tr>\n",
       "    <tr>\n",
       "      <th>2907</th>\n",
       "      <td>164.0</td>\n",
       "      <td>1132.94</td>\n",
       "      <td>16.0</td>\n",
       "      <td>5998.50</td>\n",
       "      <td>1</td>\n",
       "    </tr>\n",
       "    <tr>\n",
       "      <th>680</th>\n",
       "      <td>126.0</td>\n",
       "      <td>848.92</td>\n",
       "      <td>57.0</td>\n",
       "      <td>19967.05</td>\n",
       "      <td>0</td>\n",
       "    </tr>\n",
       "    <tr>\n",
       "      <th>3078</th>\n",
       "      <td>13.0</td>\n",
       "      <td>60.13</td>\n",
       "      <td>22.0</td>\n",
       "      <td>29289.67</td>\n",
       "      <td>1</td>\n",
       "    </tr>\n",
       "  </tbody>\n",
       "</table>\n",
       "</div>"
      ],
      "text/plain": [
       "      calls  minutes  messages   mb_used  is_ultra\n",
       "78     73.0   562.27      11.0  17589.08         0\n",
       "2024   27.0   147.66      39.0   7545.04         0\n",
       "2907  164.0  1132.94      16.0   5998.50         1\n",
       "680   126.0   848.92      57.0  19967.05         0\n",
       "3078   13.0    60.13      22.0  29289.67         1"
      ]
     },
     "metadata": {},
     "output_type": "display_data"
    },
    {
     "data": {
      "text/html": [
       "<div>\n",
       "<style scoped>\n",
       "    .dataframe tbody tr th:only-of-type {\n",
       "        vertical-align: middle;\n",
       "    }\n",
       "\n",
       "    .dataframe tbody tr th {\n",
       "        vertical-align: top;\n",
       "    }\n",
       "\n",
       "    .dataframe thead th {\n",
       "        text-align: right;\n",
       "    }\n",
       "</style>\n",
       "<table border=\"1\" class=\"dataframe\">\n",
       "  <thead>\n",
       "    <tr style=\"text-align: right;\">\n",
       "      <th></th>\n",
       "      <th>calls</th>\n",
       "      <th>minutes</th>\n",
       "      <th>messages</th>\n",
       "      <th>mb_used</th>\n",
       "    </tr>\n",
       "  </thead>\n",
       "  <tbody>\n",
       "    <tr>\n",
       "      <th>78</th>\n",
       "      <td>73.0</td>\n",
       "      <td>562.27</td>\n",
       "      <td>11.0</td>\n",
       "      <td>17589.08</td>\n",
       "    </tr>\n",
       "    <tr>\n",
       "      <th>2024</th>\n",
       "      <td>27.0</td>\n",
       "      <td>147.66</td>\n",
       "      <td>39.0</td>\n",
       "      <td>7545.04</td>\n",
       "    </tr>\n",
       "    <tr>\n",
       "      <th>2907</th>\n",
       "      <td>164.0</td>\n",
       "      <td>1132.94</td>\n",
       "      <td>16.0</td>\n",
       "      <td>5998.50</td>\n",
       "    </tr>\n",
       "    <tr>\n",
       "      <th>680</th>\n",
       "      <td>126.0</td>\n",
       "      <td>848.92</td>\n",
       "      <td>57.0</td>\n",
       "      <td>19967.05</td>\n",
       "    </tr>\n",
       "    <tr>\n",
       "      <th>3078</th>\n",
       "      <td>13.0</td>\n",
       "      <td>60.13</td>\n",
       "      <td>22.0</td>\n",
       "      <td>29289.67</td>\n",
       "    </tr>\n",
       "  </tbody>\n",
       "</table>\n",
       "</div>"
      ],
      "text/plain": [
       "      calls  minutes  messages   mb_used\n",
       "78     73.0   562.27      11.0  17589.08\n",
       "2024   27.0   147.66      39.0   7545.04\n",
       "2907  164.0  1132.94      16.0   5998.50\n",
       "680   126.0   848.92      57.0  19967.05\n",
       "3078   13.0    60.13      22.0  29289.67"
      ]
     },
     "metadata": {},
     "output_type": "display_data"
    },
    {
     "data": {
      "text/plain": [
       "78      0\n",
       "2024    0\n",
       "2907    1\n",
       "680     0\n",
       "3078    1\n",
       "Name: is_ultra, dtype: int64"
      ]
     },
     "execution_count": 12,
     "metadata": {},
     "output_type": "execute_result"
    }
   ],
   "source": [
    "#разделим валидационную выборку на features и target\n",
    "features_valid = df_valid.drop('is_ultra', axis=1)\n",
    "target_valid = df_valid['is_ultra']\n",
    "\n",
    "#проверим результат\n",
    "display(df_valid.head())\n",
    "display(features_valid.head())\n",
    "target_valid.head()"
   ]
  },
  {
   "cell_type": "code",
   "execution_count": 13,
   "id": "c07a6e90",
   "metadata": {},
   "outputs": [
    {
     "data": {
      "text/html": [
       "<div>\n",
       "<style scoped>\n",
       "    .dataframe tbody tr th:only-of-type {\n",
       "        vertical-align: middle;\n",
       "    }\n",
       "\n",
       "    .dataframe tbody tr th {\n",
       "        vertical-align: top;\n",
       "    }\n",
       "\n",
       "    .dataframe thead th {\n",
       "        text-align: right;\n",
       "    }\n",
       "</style>\n",
       "<table border=\"1\" class=\"dataframe\">\n",
       "  <thead>\n",
       "    <tr style=\"text-align: right;\">\n",
       "      <th></th>\n",
       "      <th>calls</th>\n",
       "      <th>minutes</th>\n",
       "      <th>messages</th>\n",
       "      <th>mb_used</th>\n",
       "      <th>is_ultra</th>\n",
       "    </tr>\n",
       "  </thead>\n",
       "  <tbody>\n",
       "    <tr>\n",
       "      <th>3113</th>\n",
       "      <td>66.0</td>\n",
       "      <td>460.33</td>\n",
       "      <td>0.0</td>\n",
       "      <td>15402.88</td>\n",
       "      <td>0</td>\n",
       "    </tr>\n",
       "    <tr>\n",
       "      <th>1459</th>\n",
       "      <td>38.0</td>\n",
       "      <td>312.02</td>\n",
       "      <td>66.0</td>\n",
       "      <td>21645.98</td>\n",
       "      <td>0</td>\n",
       "    </tr>\n",
       "    <tr>\n",
       "      <th>2791</th>\n",
       "      <td>60.0</td>\n",
       "      <td>445.03</td>\n",
       "      <td>117.0</td>\n",
       "      <td>10231.26</td>\n",
       "      <td>1</td>\n",
       "    </tr>\n",
       "    <tr>\n",
       "      <th>3141</th>\n",
       "      <td>6.0</td>\n",
       "      <td>32.49</td>\n",
       "      <td>12.0</td>\n",
       "      <td>1444.15</td>\n",
       "      <td>1</td>\n",
       "    </tr>\n",
       "    <tr>\n",
       "      <th>2380</th>\n",
       "      <td>63.0</td>\n",
       "      <td>472.74</td>\n",
       "      <td>40.0</td>\n",
       "      <td>23709.86</td>\n",
       "      <td>0</td>\n",
       "    </tr>\n",
       "  </tbody>\n",
       "</table>\n",
       "</div>"
      ],
      "text/plain": [
       "      calls  minutes  messages   mb_used  is_ultra\n",
       "3113   66.0   460.33       0.0  15402.88         0\n",
       "1459   38.0   312.02      66.0  21645.98         0\n",
       "2791   60.0   445.03     117.0  10231.26         1\n",
       "3141    6.0    32.49      12.0   1444.15         1\n",
       "2380   63.0   472.74      40.0  23709.86         0"
      ]
     },
     "metadata": {},
     "output_type": "display_data"
    },
    {
     "data": {
      "text/html": [
       "<div>\n",
       "<style scoped>\n",
       "    .dataframe tbody tr th:only-of-type {\n",
       "        vertical-align: middle;\n",
       "    }\n",
       "\n",
       "    .dataframe tbody tr th {\n",
       "        vertical-align: top;\n",
       "    }\n",
       "\n",
       "    .dataframe thead th {\n",
       "        text-align: right;\n",
       "    }\n",
       "</style>\n",
       "<table border=\"1\" class=\"dataframe\">\n",
       "  <thead>\n",
       "    <tr style=\"text-align: right;\">\n",
       "      <th></th>\n",
       "      <th>calls</th>\n",
       "      <th>minutes</th>\n",
       "      <th>messages</th>\n",
       "      <th>mb_used</th>\n",
       "    </tr>\n",
       "  </thead>\n",
       "  <tbody>\n",
       "    <tr>\n",
       "      <th>3113</th>\n",
       "      <td>66.0</td>\n",
       "      <td>460.33</td>\n",
       "      <td>0.0</td>\n",
       "      <td>15402.88</td>\n",
       "    </tr>\n",
       "    <tr>\n",
       "      <th>1459</th>\n",
       "      <td>38.0</td>\n",
       "      <td>312.02</td>\n",
       "      <td>66.0</td>\n",
       "      <td>21645.98</td>\n",
       "    </tr>\n",
       "    <tr>\n",
       "      <th>2791</th>\n",
       "      <td>60.0</td>\n",
       "      <td>445.03</td>\n",
       "      <td>117.0</td>\n",
       "      <td>10231.26</td>\n",
       "    </tr>\n",
       "    <tr>\n",
       "      <th>3141</th>\n",
       "      <td>6.0</td>\n",
       "      <td>32.49</td>\n",
       "      <td>12.0</td>\n",
       "      <td>1444.15</td>\n",
       "    </tr>\n",
       "    <tr>\n",
       "      <th>2380</th>\n",
       "      <td>63.0</td>\n",
       "      <td>472.74</td>\n",
       "      <td>40.0</td>\n",
       "      <td>23709.86</td>\n",
       "    </tr>\n",
       "  </tbody>\n",
       "</table>\n",
       "</div>"
      ],
      "text/plain": [
       "      calls  minutes  messages   mb_used\n",
       "3113   66.0   460.33       0.0  15402.88\n",
       "1459   38.0   312.02      66.0  21645.98\n",
       "2791   60.0   445.03     117.0  10231.26\n",
       "3141    6.0    32.49      12.0   1444.15\n",
       "2380   63.0   472.74      40.0  23709.86"
      ]
     },
     "metadata": {},
     "output_type": "display_data"
    },
    {
     "data": {
      "text/plain": [
       "3113    0\n",
       "1459    0\n",
       "2791    1\n",
       "3141    1\n",
       "2380    0\n",
       "Name: is_ultra, dtype: int64"
      ]
     },
     "execution_count": 13,
     "metadata": {},
     "output_type": "execute_result"
    }
   ],
   "source": [
    "#разделим тестовую выборку на features и target\n",
    "features_test = df_test.drop('is_ultra', axis=1)\n",
    "target_test = df_test['is_ultra']\n",
    "\n",
    "#проверим результат\n",
    "display(df_test.head())\n",
    "display(features_test.head())\n",
    "target_test.head()"
   ]
  },
  {
   "cell_type": "markdown",
   "id": "d38704ce",
   "metadata": {},
   "source": [
    "Разделение выборок на признаки и целевой признак выполнено корректно."
   ]
  },
  {
   "cell_type": "markdown",
   "id": "893163a6",
   "metadata": {},
   "source": [
    "# 2. Создание модели рекомендации тарифов"
   ]
  },
  {
   "cell_type": "markdown",
   "id": "e48f28ef",
   "metadata": {},
   "source": [
    "В текущем разделе создадим модель рекомендации тарифов пользователям компании \"Мегалайн\" с использованием каждого из трех алгоритмов:\n",
    "- дерева решений;\n",
    "- случайного леса;\n",
    "- логистической регрессии.\n",
    "\n",
    "Для каждого из алгоритмов осуществим поиск наилучшей модели путем изменения гиперпараметров."
   ]
  },
  {
   "cell_type": "markdown",
   "id": "93d34a62",
   "metadata": {},
   "source": [
    "## 2.1 Создание модели на основе дерева решений. Исследование качества модели при различных гиперпараметрах"
   ]
  },
  {
   "cell_type": "markdown",
   "id": "9374e3aa",
   "metadata": {},
   "source": [
    "Построим модель рекомендации тарифа на основе дерева решений.\n",
    "Рассмотрим результат работы модели:\n",
    "- при различных критериях разделения (gini, entropy);\n",
    "- при различной глубине дерева (от 1 до 10 включительно);\n",
    "- при различных минимальных объемах выборки для разделения узла (от 2 до 10 включительно)\n",
    "- при различных сочетаниях критерия, глубины дерева и минимального объемах выборки для разделения узла."
   ]
  },
  {
   "cell_type": "markdown",
   "id": "79c6b50e",
   "metadata": {},
   "source": [
    "### 2.1.1 Построение модели на основе дерева решений со значениями по умолчанию <a id='2.1.1'></a>"
   ]
  },
  {
   "cell_type": "code",
   "execution_count": 14,
   "id": "685a8949",
   "metadata": {},
   "outputs": [
    {
     "name": "stdout",
     "output_type": "stream",
     "text": [
      "Доля правильных прогнозов: 0.7013996889580093\n"
     ]
    }
   ],
   "source": [
    "#создадим и обучим модель\n",
    "default_dt_model = DecisionTreeClassifier(random_state=12345)\n",
    "default_dt_model.fit(features_train, target_train)\n",
    "\n",
    "#сделаем прогноз целевого признака по валидационной выборке и рассчитаем его точность\n",
    "predictions = default_dt_model.predict(features_valid)\n",
    "result = accuracy_score(target_valid, predictions) \n",
    "print('Доля правильных прогнозов:', result)"
   ]
  },
  {
   "cell_type": "markdown",
   "id": "ba2b2db5",
   "metadata": {},
   "source": [
    "Точность модели со значениями по умолчанию не удовлетворяет требованиям задания."
   ]
  },
  {
   "cell_type": "markdown",
   "id": "22989007",
   "metadata": {},
   "source": [
    "### 2.1.2 Поиск оптимального критерия разделения"
   ]
  },
  {
   "cell_type": "code",
   "execution_count": 15,
   "id": "587ddb3a",
   "metadata": {
    "scrolled": true
   },
   "outputs": [
    {
     "name": "stdout",
     "output_type": "stream",
     "text": [
      "gini 0.7013996889580093\n",
      "entropy 0.7387247278382582\n",
      "\n",
      "Accuracy лучшей модели: 0.7387247278382582\n",
      "Наилучший критерий: entropy\n"
     ]
    }
   ],
   "source": [
    "#создадим для перебора список с названиями критериев разделения\n",
    "criterions = ['gini', 'entropy']\n",
    "\n",
    "#зададим начальные значения искомых параметров модели\n",
    "best_model_crit = None\n",
    "best_result_crit = 0\n",
    "best_criterion = None\n",
    "\n",
    "#выполним поиск наилучшего критерия\n",
    "for criterion in criterions:\n",
    "    model = DecisionTreeClassifier(criterion=criterion, random_state=12345)\n",
    "    model.fit(features_train, target_train)\n",
    "    \n",
    "    #выполним предсказание и рассчитаем его точность\n",
    "    predictions = model.predict(features_valid)\n",
    "    result = accuracy_score(target_valid, predictions) \n",
    "    \n",
    "    #выведем точность текущей модели\n",
    "    print(criterion, result)\n",
    "    \n",
    "    #сравним точность текущей модели с предыдущим значением. При успехе примем модель за наилучшую\n",
    "    if result>best_result_crit:\n",
    "        best_result_crit = result\n",
    "        best_criterion = criterion\n",
    "        best_model_crit = model\n",
    "    \n",
    "#выведем результат на экран    \n",
    "print('\\nAccuracy лучшей модели:', best_result_crit)\n",
    "print('Наилучший критерий:', best_criterion)"
   ]
  },
  {
   "cell_type": "markdown",
   "id": "5983d519",
   "metadata": {},
   "source": [
    "Точность модели составляет 0.74, что не удовлетворяет требованиям задания."
   ]
  },
  {
   "cell_type": "markdown",
   "id": "64ca074e",
   "metadata": {},
   "source": [
    "### 2.1.3 Поиск наилучшей максимальной глубины дерева решений"
   ]
  },
  {
   "cell_type": "code",
   "execution_count": 16,
   "id": "f5b9df58",
   "metadata": {
    "scrolled": false
   },
   "outputs": [
    {
     "name": "stdout",
     "output_type": "stream",
     "text": [
      "глубина = 1 ; точность = 0.7402799377916018\n",
      "глубина = 2 ; точность = 0.7729393468118196\n",
      "глубина = 3 ; точность = 0.7776049766718507\n",
      "глубина = 4 ; точность = 0.7542768273716952\n",
      "глубина = 5 ; точность = 0.7853810264385692\n",
      "глубина = 6 ; точность = 0.7744945567651633\n",
      "глубина = 7 ; точность = 0.7869362363919129\n",
      "глубина = 8 ; точность = 0.80248833592535\n",
      "глубина = 9 ; точность = 0.7822706065318819\n",
      "глубина = 10 ; точность = 0.7729393468118196\n",
      "\n",
      "Максимальная глубина дерева: 8\n",
      "Accuracy лучшей модели: 0.80248833592535\n"
     ]
    }
   ],
   "source": [
    "#зададим начальные значения искомых параметров модели\n",
    "best_model_depth = None\n",
    "best_result_depth = 0\n",
    "best_depth = 0\n",
    "\n",
    "#выполним поиск наилучшей глубины\n",
    "for depth in range(1, 11):\n",
    "    \n",
    "    #создадим и обучим модель\n",
    "    model = DecisionTreeClassifier(random_state=12345, max_depth=depth) \n",
    "    model.fit(features_train, target_train)\n",
    "    \n",
    "    #выполним предсказание и рассчитаем его точность\n",
    "    predictions = model.predict(features_valid) \n",
    "    result = accuracy_score(target_valid, predictions)\n",
    "    \n",
    "    #сравним точность текущей модели с предыдущим значением. При успехе примем модель за наилучшую\n",
    "    if result > best_result_depth:\n",
    "        best_model_depth = model\n",
    "        best_result_depth = result\n",
    "        best_depth = depth\n",
    "        \n",
    "    #выведем точность текущей модели\n",
    "    print('глубина =', depth, '; точность =', result)\n",
    "\n",
    "#выведем результат на экран \n",
    "print(\"\\nМаксимальная глубина дерева:\", best_depth)\n",
    "print(\"Accuracy лучшей модели:\", best_result_depth)"
   ]
  },
  {
   "cell_type": "markdown",
   "id": "eb4b8702",
   "metadata": {},
   "source": [
    "При глубине дерева 8 и критерии разделения Джини (установлен по умолчанию) точность модели 0.80, что на текущем этапе удовлетворяет требованиям задания. Однако при глубине дерева 8 возможно переобучение. Проверим:"
   ]
  },
  {
   "cell_type": "code",
   "execution_count": 17,
   "id": "daef7af2",
   "metadata": {},
   "outputs": [
    {
     "name": "stdout",
     "output_type": "stream",
     "text": [
      "Точность модели с глубиной дерева 8 на обучающей выборке:\n"
     ]
    },
    {
     "data": {
      "text/plain": [
       "0.8558091286307054"
      ]
     },
     "execution_count": 17,
     "metadata": {},
     "output_type": "execute_result"
    }
   ],
   "source": [
    "print('Точность модели с глубиной дерева 8 на обучающей выборке:')\n",
    "accuracy_score(target_train, best_model_depth.predict(features_train))"
   ]
  },
  {
   "cell_type": "markdown",
   "id": "1d1a5596",
   "metadata": {},
   "source": [
    "Действительно, модель переобучилась, при этом для всех рассматриваемых значений глубины дерева точность предсказания на валидационной выборке ниже, чем на тренировочной."
   ]
  },
  {
   "cell_type": "markdown",
   "id": "4943efc0",
   "metadata": {},
   "source": [
    "### 2.1.3 Поиск наилучшего минимального объема узлов"
   ]
  },
  {
   "cell_type": "code",
   "execution_count": 18,
   "id": "76cdbfdf",
   "metadata": {
    "scrolled": true
   },
   "outputs": [
    {
     "name": "stdout",
     "output_type": "stream",
     "text": [
      "объем выборки = 2 ; точность = 0.7013996889580093\n",
      "объем выборки = 3 ; точность = 0.7169517884914464\n",
      "объем выборки = 4 ; точность = 0.7216174183514774\n",
      "объем выборки = 5 ; точность = 0.7262830482115086\n",
      "объем выборки = 6 ; точность = 0.7247278382581649\n",
      "объем выборки = 7 ; точность = 0.7231726283048211\n",
      "объем выборки = 8 ; точность = 0.7278382581648523\n",
      "объем выборки = 9 ; точность = 0.7262830482115086\n",
      "объем выборки = 10 ; точность = 0.7262830482115086\n",
      "\n",
      "Accuracy лучшей модели: 0.7278382581648523\n",
      "Минимальный объем выборки для разделения узла: 8\n"
     ]
    }
   ],
   "source": [
    "#зададим начальные значения искомых параметров модели\n",
    "best_model_knot = None\n",
    "best_result_knot = 0\n",
    "best_knot = 0\n",
    "\n",
    "#выполним поиск наилучшего минимального объема узлов\n",
    "for knot in range(2, 11):\n",
    "    model = DecisionTreeClassifier(random_state=12345, min_samples_split=knot) \n",
    "    model.fit(features_train, target_train)\n",
    "    predictions = model.predict(features_valid) \n",
    "    result = accuracy_score(target_valid, predictions)\n",
    "    \n",
    "    #выведем точность текущей модели\n",
    "    print('объем выборки =', knot, '; точность =', result)\n",
    "    \n",
    "    #сравним точность текущей модели с предыдущим значением. При успехе примем модель за наилучшую\n",
    "    if result > best_result_knot:\n",
    "        best_model_knot = model\n",
    "        best_result_knot = result\n",
    "        best_knot = knot\n",
    "\n",
    "#выведем результат на экран \n",
    "print(\"\\nAccuracy лучшей модели:\", best_result_knot)\n",
    "print(\"Минимальный объем выборки для разделения узла:\", best_knot)"
   ]
  },
  {
   "cell_type": "markdown",
   "id": "f6b86090",
   "metadata": {},
   "source": [
    "Точность модели при изменении минимального объема выборки в узлах меняется незначительно. Максимальная достигнутая точность модели составляет 0.73, что не удовлетворяет требованиям задания."
   ]
  },
  {
   "cell_type": "markdown",
   "id": "4a9e172e",
   "metadata": {},
   "source": [
    "### 2.1.4 Поиск оптимального сочетания критерия разделения, глубины дерева и объема выборки для разделения"
   ]
  },
  {
   "cell_type": "code",
   "execution_count": 19,
   "id": "ccb6df32",
   "metadata": {
    "scrolled": false
   },
   "outputs": [
    {
     "name": "stdout",
     "output_type": "stream",
     "text": [
      "Accuracy лучшей модели: 0.80248833592535\n",
      "Наилучший критерий: gini\n",
      "Максимальная глубина дерева: 8\n",
      "Минимальный объем выборки для разделения узла: 2\n"
     ]
    }
   ],
   "source": [
    "#зададим начальные значения искомых параметров модели\n",
    "best_model = None\n",
    "best_result = 0\n",
    "best_criterion = None\n",
    "best_depth = 0\n",
    "best_knot = 0\n",
    "\n",
    "#поиск наилучшего оптимального соотношения гиперпараметров\n",
    "for criterion in criterions:\n",
    "    for depth in range(1, 10):\n",
    "        for knot in range(2, 11):\n",
    "            \n",
    "            #создадим и обучим модель\n",
    "            model = DecisionTreeClassifier(criterion=criterion, random_state=12345, max_depth=depth, min_samples_split=knot)\n",
    "            model.fit(features_train, target_train)\n",
    "            \n",
    "            #сделаем предсказание и оценим его точность\n",
    "            predictions = model.predict(features_valid)\n",
    "            result = accuracy_score(target_valid, predictions) \n",
    "    \n",
    "            #определим гиперпараметры, соответствующие наилучшему результату\n",
    "            if result > best_result:\n",
    "                best_model = model\n",
    "                best_result = result\n",
    "                best_criterion = criterion\n",
    "                best_depth = depth\n",
    "                best_knot = knot\n",
    "\n",
    "#вывод на экран оптимальных гиперпараметров\n",
    "print(\"Accuracy лучшей модели:\", best_result)\n",
    "print('Наилучший критерий:', best_criterion)\n",
    "print(\"Максимальная глубина дерева:\", best_depth)\n",
    "print(\"Минимальный объем выборки для разделения узла:\", best_knot)"
   ]
  },
  {
   "cell_type": "markdown",
   "id": "9d08b610",
   "metadata": {},
   "source": [
    "На текущем этапе модель удовлетворяет требованиям задания и полностью соответствует модели, полученной в п. 2.1.3, так как полученные значения наилучшего критерия и минимального объема выборки для разделения узла совпадают со значениями по умолчанию."
   ]
  },
  {
   "cell_type": "markdown",
   "id": "5261cd4e",
   "metadata": {},
   "source": [
    "**Вывод:**\n",
    "\n",
    "Модель, для которой не осуществлялась настройка ни одного гиперпараметра, обладает точностью ниже требуемой.\n",
    "Наилучшей моделью с использованием дерева решений является модель с критерием разделения Джини, максимальной глубине дерева 8, минимальным объемом выборки для разделения узла - 2. Однако, скорее всего, такая модель переобучена."
   ]
  },
  {
   "cell_type": "markdown",
   "id": "e4e0358d",
   "metadata": {},
   "source": [
    "## 2.2 Создание модели на основе случайного леса. Исследование качества модели при различных гиперпараметрах"
   ]
  },
  {
   "cell_type": "markdown",
   "id": "5a3005d8",
   "metadata": {},
   "source": [
    "Построим модель рекомендации тарифа на основе случайного леса.\n",
    "Рассмотрим результат работы модели:\n",
    "\n",
    "- при различном количестве деревьев (от 10 до 50 включительно с шагом 10)\n",
    "- при различной глубине дерева (от 1 до 10 включительно);"
   ]
  },
  {
   "cell_type": "markdown",
   "id": "0a87812a",
   "metadata": {},
   "source": [
    "### 2.2.1 Построение модели на основе алгоритма случайного леса со значениями по умолчанию"
   ]
  },
  {
   "cell_type": "code",
   "execution_count": 20,
   "id": "0b036e5e",
   "metadata": {},
   "outputs": [
    {
     "name": "stdout",
     "output_type": "stream",
     "text": [
      "Доля правильных ответов: 0.7013996889580093\n"
     ]
    }
   ],
   "source": [
    "#создадим и обучим модель\n",
    "default_rf_model = DecisionTreeClassifier(random_state=12345)\n",
    "default_rf_model.fit(features_train, target_train)\n",
    "\n",
    "#сделаем прогноз целевого признака по валидационной выборке и рассчитаем его точность\n",
    "predictions = default_rf_model.predict(features_valid)\n",
    "result = accuracy_score(target_valid, predictions) \n",
    "print('Доля правильных ответов:', result)"
   ]
  },
  {
   "cell_type": "markdown",
   "id": "e18bc614",
   "metadata": {},
   "source": [
    "Точность модели со значениями по умолчанию ниже заявленной и соответствует модели на основе дерева решений со значениями по умолчанию ([п. 2.1.1](#2.1.1)."
   ]
  },
  {
   "cell_type": "markdown",
   "id": "d31db469",
   "metadata": {},
   "source": [
    "### 2.2.2 Поиск наилучшего количества деревьев"
   ]
  },
  {
   "cell_type": "code",
   "execution_count": 21,
   "id": "54d8d05e",
   "metadata": {
    "scrolled": true
   },
   "outputs": [
    {
     "name": "stdout",
     "output_type": "stream",
     "text": [
      "деревьев = 10 ; точность = 0.7869362363919129\n",
      "деревьев = 20 ; точность = 0.7916018662519441\n",
      "деревьев = 30 ; точность = 0.7931570762052877\n",
      "деревьев = 40 ; точность = 0.7931570762052877\n",
      "деревьев = 50 ; точность = 0.8055987558320373\n",
      "\n",
      "Accuracy лучшей модели: 0.8055987558320373\n",
      "Наилучшее количество деревьев 50\n"
     ]
    }
   ],
   "source": [
    "#зададим начальные значения искомых параметров модели\n",
    "best_model_trees = None\n",
    "best_result_trees = 0\n",
    "best_trees = 0\n",
    "\n",
    "#определим наилучшее количество деревьев\n",
    "for n_trees in range(10, 51, 10):\n",
    "    \n",
    "    #создадим и обучим модель\n",
    "    model = RandomForestClassifier(random_state=12345, n_estimators=n_trees) \n",
    "    model.fit(features_train, target_train)\n",
    "    \n",
    "    #сделаем предсказание и оценим его точность\n",
    "    predictions = model.predict(features_valid) \n",
    "    result = accuracy_score(target_valid, predictions)\n",
    "    \n",
    "    #выведем точность текущей модели\n",
    "    print('деревьев =', n_trees, '; точность =', result)\n",
    "    \n",
    "    #сравним точность текущей модели с предыдущим значением. При успехе примем модель за наилучшую\n",
    "    if result > best_result_trees:\n",
    "        best_model_trees = model\n",
    "        best_result_trees = result\n",
    "        best_trees = n_trees\n",
    "\n",
    "#выведем результат на экран \n",
    "print('\\nAccuracy лучшей модели:', best_result_trees)\n",
    "print('Наилучшее количество деревьев', best_trees)"
   ]
  },
  {
   "cell_type": "markdown",
   "id": "e97b8166",
   "metadata": {},
   "source": [
    "На текущем этапе полученная модель удовлетворяет требованиям задания (при любом рассмотренном количестве деревьев)."
   ]
  },
  {
   "cell_type": "markdown",
   "id": "4902b05b",
   "metadata": {},
   "source": [
    "### 2.2.3 Поиск наилучшей максимальной глубины деревьев"
   ]
  },
  {
   "cell_type": "code",
   "execution_count": 22,
   "id": "531263e5",
   "metadata": {},
   "outputs": [
    {
     "name": "stdout",
     "output_type": "stream",
     "text": [
      "глубина = 1 ; точность = 0.7325038880248833\n",
      "глубина = 2 ; точность = 0.7869362363919129\n",
      "глубина = 3 ; точность = 0.7962674961119751\n",
      "глубина = 4 ; точность = 0.7947122861586314\n",
      "глубина = 5 ; точность = 0.7993779160186625\n",
      "глубина = 6 ; точность = 0.8040435458786936\n",
      "глубина = 7 ; точность = 0.8133748055987559\n",
      "глубина = 8 ; точность = 0.8149300155520995\n",
      "глубина = 9 ; точность = 0.8133748055987559\n",
      "глубина = 10 ; точность = 0.8149300155520995\n",
      "\n",
      "Accuracy лучшей модели: 0.8149300155520995\n",
      "Наилучшая максимальная глубина дерева: 10\n"
     ]
    }
   ],
   "source": [
    "#зададим начальные значения искомых параметров модели\n",
    "best_model_forest_depth = None\n",
    "best_result_forest_depth = 0\n",
    "best_forest_dept = 0\n",
    "\n",
    "#выполним поиск наилучшей максимальной глубины\n",
    "for depth in range(1, 11):\n",
    "    \n",
    "    #создадим и обучим модель\n",
    "    model = RandomForestClassifier(random_state=12345, max_depth=depth) \n",
    "    model.fit(features_train, target_train)\n",
    "    \n",
    "    #сделаем предсказание и оценим его точность    \n",
    "    predictions = model.predict(features_valid) \n",
    "    result = accuracy_score(target_valid, predictions)\n",
    "\n",
    "    #выведем точность текущей модели\n",
    "    print('глубина =', depth, '; точность =', result)    \n",
    "    \n",
    "    #сравним точность текущей модели с предыдущим значением. При успехе примем модель за наилучшую\n",
    "    if result > best_result_forest_depth:\n",
    "        best_model_forest_depth = model\n",
    "        best_result_forest_dept = result\n",
    "        best_forest_dept = depth\n",
    "\n",
    "#выведем результат на экран \n",
    "print('\\nAccuracy лучшей модели:', best_result_forest_dept)\n",
    "print('Наилучшая максимальная глубина дерева:', best_forest_dept)"
   ]
  },
  {
   "cell_type": "markdown",
   "id": "d1977c5e",
   "metadata": {},
   "source": [
    "На текущем этапе полученная модель удовлетворяет требованиям задания, однако тоже может быть переучена."
   ]
  },
  {
   "cell_type": "markdown",
   "id": "d6e9910f",
   "metadata": {},
   "source": [
    "### 2.2.4 Поиск наилучшего сочетания количества деревьев и их максимальной глубины"
   ]
  },
  {
   "cell_type": "code",
   "execution_count": 23,
   "id": "2a1d021c",
   "metadata": {
    "scrolled": true
   },
   "outputs": [
    {
     "name": "stdout",
     "output_type": "stream",
     "text": [
      "Accuracy лучшей модели: 0.8055987558320373\n",
      "Наилучшее количество деревьев 40\n",
      "Наилучшая максимальная глубина дерева: 10\n"
     ]
    }
   ],
   "source": [
    "#зададим начальные значения искомых параметров модели\n",
    "best_model_trees_and_depth = None\n",
    "best_result_trees_and_depth = 0\n",
    "best_trees = 0\n",
    "best_depth = 0\n",
    "\n",
    "#выполним поиск оптимальных параметров\n",
    "for n_trees in range(10, 51, 10):\n",
    "    for depth in range(1, 11):\n",
    "        \n",
    "        #создадим и обучим модель\n",
    "        model = RandomForestClassifier(random_state=12345, n_estimators=n_trees, max_depth=depth) \n",
    "        model.fit(features_train, target_train)\n",
    "        \n",
    "        #сделаем предсказание и оценим его точность\n",
    "        predictions = model.predict(features_valid) \n",
    "        result = accuracy_score(target_valid, predictions)\n",
    "    \n",
    "        #сравним точность текущей модели с предыдущим значением. При успехе примем модель за наилучшую\n",
    "        if result > best_result_trees_and_depth:\n",
    "            best_model_trees_and_depth = model\n",
    "            best_result_trees_and_depth = result\n",
    "            best_trees = n_trees\n",
    "            best_depth = depth\n",
    "\n",
    "#выведем результат на экран \n",
    "print('Accuracy лучшей модели:', best_result_trees)\n",
    "print('Наилучшее количество деревьев', best_trees)\n",
    "print('Наилучшая максимальная глубина дерева:', best_forest_dept)"
   ]
  },
  {
   "cell_type": "markdown",
   "id": "dc59ade0",
   "metadata": {},
   "source": [
    "**Вывод:**\n",
    "\n",
    "Все модели, кроме модели со всеми гиперпараметрами по умолчанию, удовлетворяют требованию задания. Наилучшей моделью с использованием случайного леса является модель с максимальной глубиной деревьев 10 и остальными гиперпараметрами, заданными по умолчанию. При этом наилучшая модель на основе случайного леса превосходит по точности все модели, созданные с использованием дерева решений. Как и в случае с деревом решений, наилучшая модель может быть переучена. "
   ]
  },
  {
   "cell_type": "markdown",
   "id": "72cf3e71",
   "metadata": {},
   "source": [
    "## 2.3 Создание модели на основе логистической регрессии. Исследование качества модели при различных гиперпараметрах"
   ]
  },
  {
   "cell_type": "markdown",
   "id": "f45db261",
   "metadata": {},
   "source": [
    "Построим модель рекомендации тарифа на основе логистической регрессии.\n",
    "Рассмотрим результат работы модели при различных значениях параметра solver."
   ]
  },
  {
   "cell_type": "markdown",
   "id": "2c0d7ddb",
   "metadata": {},
   "source": [
    "### 2.3.1 Построение модели рекомендации тарифов на основе логистической регрессии. Все гиперпараметры заданы значениями по умолчанию"
   ]
  },
  {
   "cell_type": "code",
   "execution_count": 24,
   "id": "eaebfa30",
   "metadata": {
    "scrolled": true
   },
   "outputs": [
    {
     "name": "stdout",
     "output_type": "stream",
     "text": [
      "Доля правильных ответов: 0.7387247278382582\n"
     ]
    }
   ],
   "source": [
    "#создадим и обучим модель\n",
    "default_lr_model = LogisticRegression(random_state=12345)\n",
    "default_lr_model.fit(features_train, target_train)\n",
    "\n",
    "#сделаем предсказание и оценим его точность\n",
    "predictions = default_lr_model.predict(features_valid)\n",
    "result = accuracy_score(target_valid, predictions) \n",
    "print('Доля правильных ответов:', result)"
   ]
  },
  {
   "cell_type": "markdown",
   "id": "93535114",
   "metadata": {},
   "source": [
    "Точность \"дефолтной\" модели на основе логистической регрессии ниже требуемой."
   ]
  },
  {
   "cell_type": "markdown",
   "id": "9c682826",
   "metadata": {},
   "source": [
    "### 2.3.2 Поиск наилучшего алгоритма"
   ]
  },
  {
   "cell_type": "code",
   "execution_count": 25,
   "id": "9444438f",
   "metadata": {},
   "outputs": [
    {
     "name": "stdout",
     "output_type": "stream",
     "text": [
      "алгоритм = newton-cg ; точность = 0.7387247278382582\n",
      "алгоритм = lbfgs ; точность = 0.7387247278382582\n",
      "алгоритм = liblinear ; точность = 0.71850699844479\n",
      "алгоритм = sag ; точность = 0.6936236391912908\n",
      "алгоритм = saga ; точность = 0.6936236391912908\n",
      "\n",
      "Accuracy лучшей модели: 0.7387247278382582\n",
      "Наилучший алгоритм: newton-cg\n"
     ]
    },
    {
     "name": "stderr",
     "output_type": "stream",
     "text": [
      "/opt/conda/lib/python3.9/site-packages/sklearn/linear_model/_sag.py:328: ConvergenceWarning: The max_iter was reached which means the coef_ did not converge\n",
      "  warnings.warn(\"The max_iter was reached which means \"\n",
      "/opt/conda/lib/python3.9/site-packages/sklearn/linear_model/_sag.py:328: ConvergenceWarning: The max_iter was reached which means the coef_ did not converge\n",
      "  warnings.warn(\"The max_iter was reached which means \"\n"
     ]
    }
   ],
   "source": [
    "#создадим для перебора список с названиями алгоритмов\n",
    "algorythms = ['newton-cg', 'lbfgs', 'liblinear', 'sag', 'saga']\n",
    "\n",
    "#зададим начальные значения искомых параметров модели\n",
    "best_model_alg = None\n",
    "best_result_alg = 0\n",
    "best_alg = None\n",
    "\n",
    "#выполним поиск наилучшего алгоритма\n",
    "for algorythm in algorythms:\n",
    "    \n",
    "    #создадим и обучим модель\n",
    "    model = LogisticRegression(solver=algorythm, random_state=12345)\n",
    "    model.fit(features_train, target_train)\n",
    "    \n",
    "    #сделаем предсказания и оценим их точность\n",
    "    predictions = model.predict(features_valid)\n",
    "    result = accuracy_score(target_valid, predictions) \n",
    "    \n",
    "    #выведем точность текущей модели\n",
    "    print('алгоритм =', algorythm, '; точность =', result)   \n",
    "    \n",
    "    #сравним точность текущей модели с предыдущим значением. При успехе примем модель за наилучшую\n",
    "    if result>best_result_alg:\n",
    "        best_result_alg = result\n",
    "        best_alg = algorythm\n",
    "        best_model_alg = model\n",
    "    \n",
    "#выведем результат на экран    \n",
    "print(\"\\nAccuracy лучшей модели:\", best_result_alg)\n",
    "print('Наилучший алгоритм:', best_alg)"
   ]
  },
  {
   "cell_type": "markdown",
   "id": "df5c0ecf",
   "metadata": {},
   "source": [
    "Наилучшей точностью для решения задачи рекомендации тарифов на основе пользовательской активности с помощью логистической регрессии обладают алгоритмы *newton-cg* и *lbfgs*, показывающие одинаковую точность, наихудшей - алгоритмы *sag* и *saga* (также равноточные в рамках текущей задачи)."
   ]
  },
  {
   "cell_type": "markdown",
   "id": "093210b2",
   "metadata": {},
   "source": [
    "**Вывод:**\n",
    "\n",
    "Ни одна из рассмотренных моделей на основе логистической регрессии не удовлетворяет требованиям точности."
   ]
  },
  {
   "cell_type": "markdown",
   "id": "27f056dc",
   "metadata": {},
   "source": [
    "**ОБЩИЙ ВЫВОД ПО РАЗДЕЛУ 2:**\n",
    "Наилучшую точность на валидационной выборке (81% правильных ответов) показала модель best_result_forest_depth, созданная на основе случайного леса с максимальной глубиной дерева 10.Далее проверим качество этой модели на тестовой выборке."
   ]
  },
  {
   "cell_type": "markdown",
   "id": "beb25396",
   "metadata": {},
   "source": [
    "# 3. Проверка качества модели на тестовой выборке"
   ]
  },
  {
   "cell_type": "markdown",
   "id": "48b2bcf6",
   "metadata": {},
   "source": [
    "В текущем разделе проверим на тестовой выборке качество наилучшей модели best_model_forest_depth, полученной на основе случайного леса  с максимальной глубиной дерева 10. Остальные параметры заданы по умолчанию."
   ]
  },
  {
   "cell_type": "code",
   "execution_count": 26,
   "id": "af712d11",
   "metadata": {
    "scrolled": true
   },
   "outputs": [
    {
     "name": "stdout",
     "output_type": "stream",
     "text": [
      "Доля правильных ответов: 0.8118195956454122\n"
     ]
    }
   ],
   "source": [
    "#сделаем прогноз\n",
    "predictions = best_model_forest_depth.predict(features_test)\n",
    "\n",
    "#рассчитаем долю верных ответов\n",
    "result = accuracy_score(target_test, predictions)\n",
    "print('Доля правильных ответов:', result)"
   ]
  },
  {
   "cell_type": "markdown",
   "id": "090afc8e",
   "metadata": {},
   "source": [
    "**Вывод:** точность лучшей модели на основе случайного леса на тестовых данных практически не отличается от проверки на валидационной выборке и удовлетворяет требованиям задания."
   ]
  },
  {
   "cell_type": "markdown",
   "id": "66e719ed",
   "metadata": {},
   "source": [
    "# 4. Проверка моделей на вменяемость"
   ]
  },
  {
   "cell_type": "markdown",
   "id": "2f3c2fa0",
   "metadata": {},
   "source": [
    "Для оценки адекватности полученных моделей сравним их точность с наилучшей константной моделью. Так как для обучающей, валидационной и тестовой выборок объектов с тарифом Смарт в 2.26 раз больше, чем объектов с тарифом Ультра ([раздел 1.2](#SU)), то предсказание наилучшей константной модели будет состоять из нулей. Рассчитаем долю правильных ответов для такой модели на тестовой выборке:"
   ]
  },
  {
   "cell_type": "code",
   "execution_count": 27,
   "id": "17895faf",
   "metadata": {
    "scrolled": true
   },
   "outputs": [
    {
     "name": "stdout",
     "output_type": "stream",
     "text": [
      "Точность константной модели: 0.6936236391912909\n"
     ]
    }
   ],
   "source": [
    "print('Точность константной модели:', 1-target_test.mean())"
   ]
  },
  {
   "cell_type": "markdown",
   "id": "ae5f9a21",
   "metadata": {},
   "source": [
    "Точность наилучших моделей, реализованных с помощью дерева решений и с помощью случайного леса превышает точность наилучшей константной модели в 1.13 и и в 1.17 раз соответственно (на тестовых данных). Точность лучшей модели, реализованной с помощью логистической регрессии, превышает точность случайной модели (на тестовых данных) всего в 1.08 раз."
   ]
  },
  {
   "cell_type": "markdown",
   "id": "921164dd",
   "metadata": {},
   "source": [
    "# 5. Общий вывод"
   ]
  },
  {
   "cell_type": "markdown",
   "id": "3c8f3e86",
   "metadata": {},
   "source": [
    "В качестве итоговой модели для рекомендации тарифов можно принять модель *best_model_forest_depth*, реализованную с помощью метода случайного леса и обеспечивающую 81% правильных ответов на тестовых данных. Полученная точность удовлетворяет требуемой точности модели (не менее 75% верных ответов) и превышает точность наилучшей константной модели, что говорит о вменяемости модели."
   ]
  }
 ],
 "metadata": {
  "ExecuteTimeLog": [
   {
    "duration": 1291,
    "start_time": "2022-06-22T11:38:44.434Z"
   },
   {
    "duration": 4,
    "start_time": "2022-06-22T11:38:45.727Z"
   },
   {
    "duration": 212,
    "start_time": "2022-06-22T11:38:45.733Z"
   },
   {
    "duration": 0,
    "start_time": "2022-06-22T11:38:45.947Z"
   },
   {
    "duration": 0,
    "start_time": "2022-06-22T11:38:45.948Z"
   },
   {
    "duration": 0,
    "start_time": "2022-06-22T11:38:45.949Z"
   },
   {
    "duration": 0,
    "start_time": "2022-06-22T11:38:45.950Z"
   },
   {
    "duration": 0,
    "start_time": "2022-06-22T11:38:45.951Z"
   },
   {
    "duration": 0,
    "start_time": "2022-06-22T11:38:45.952Z"
   },
   {
    "duration": 0,
    "start_time": "2022-06-22T11:38:45.953Z"
   },
   {
    "duration": 0,
    "start_time": "2022-06-22T11:38:45.955Z"
   },
   {
    "duration": 0,
    "start_time": "2022-06-22T11:38:45.956Z"
   },
   {
    "duration": 0,
    "start_time": "2022-06-22T11:38:45.957Z"
   },
   {
    "duration": 0,
    "start_time": "2022-06-22T11:38:45.959Z"
   },
   {
    "duration": 0,
    "start_time": "2022-06-22T11:38:45.960Z"
   },
   {
    "duration": 0,
    "start_time": "2022-06-22T11:38:45.961Z"
   },
   {
    "duration": 0,
    "start_time": "2022-06-22T11:38:45.962Z"
   },
   {
    "duration": 0,
    "start_time": "2022-06-22T11:38:45.963Z"
   },
   {
    "duration": 0,
    "start_time": "2022-06-22T11:38:45.964Z"
   },
   {
    "duration": 0,
    "start_time": "2022-06-22T11:38:45.966Z"
   },
   {
    "duration": 0,
    "start_time": "2022-06-22T11:38:45.967Z"
   },
   {
    "duration": 0,
    "start_time": "2022-06-22T11:38:45.968Z"
   },
   {
    "duration": 0,
    "start_time": "2022-06-22T11:38:45.969Z"
   },
   {
    "duration": 0,
    "start_time": "2022-06-22T11:38:45.969Z"
   },
   {
    "duration": 0,
    "start_time": "2022-06-22T11:38:45.970Z"
   },
   {
    "duration": 0,
    "start_time": "2022-06-22T11:38:45.971Z"
   },
   {
    "duration": 0,
    "start_time": "2022-06-22T11:38:45.972Z"
   },
   {
    "duration": 0,
    "start_time": "2022-06-22T11:38:45.973Z"
   },
   {
    "duration": 0,
    "start_time": "2022-06-22T11:38:45.974Z"
   },
   {
    "duration": 98,
    "start_time": "2022-06-22T11:41:38.124Z"
   },
   {
    "duration": 1268,
    "start_time": "2022-06-22T11:41:43.080Z"
   },
   {
    "duration": 2,
    "start_time": "2022-06-22T11:41:44.350Z"
   },
   {
    "duration": 103,
    "start_time": "2022-06-22T11:41:44.354Z"
   },
   {
    "duration": 11,
    "start_time": "2022-06-22T11:41:44.459Z"
   },
   {
    "duration": 9,
    "start_time": "2022-06-22T11:41:44.472Z"
   },
   {
    "duration": 10,
    "start_time": "2022-06-22T11:41:44.482Z"
   },
   {
    "duration": 7,
    "start_time": "2022-06-22T11:41:44.494Z"
   },
   {
    "duration": 11,
    "start_time": "2022-06-22T11:41:44.502Z"
   },
   {
    "duration": 29,
    "start_time": "2022-06-22T11:41:44.515Z"
   },
   {
    "duration": 10,
    "start_time": "2022-06-22T11:41:44.545Z"
   },
   {
    "duration": 22,
    "start_time": "2022-06-22T11:41:44.556Z"
   },
   {
    "duration": 17,
    "start_time": "2022-06-22T11:41:44.580Z"
   },
   {
    "duration": 43,
    "start_time": "2022-06-22T11:41:44.599Z"
   },
   {
    "duration": 16,
    "start_time": "2022-06-22T11:41:44.645Z"
   },
   {
    "duration": 31,
    "start_time": "2022-06-22T11:41:44.663Z"
   },
   {
    "duration": 103,
    "start_time": "2022-06-22T11:41:44.696Z"
   },
   {
    "duration": 8,
    "start_time": "2022-06-22T11:41:44.801Z"
   },
   {
    "duration": 133,
    "start_time": "2022-06-22T11:41:44.810Z"
   },
   {
    "duration": 979,
    "start_time": "2022-06-22T11:41:44.944Z"
   },
   {
    "duration": 20,
    "start_time": "2022-06-22T11:41:45.925Z"
   },
   {
    "duration": 610,
    "start_time": "2022-06-22T11:41:45.947Z"
   },
   {
    "duration": 2484,
    "start_time": "2022-06-22T11:41:46.559Z"
   },
   {
    "duration": 3618,
    "start_time": "2022-06-22T11:41:49.046Z"
   },
   {
    "duration": 46,
    "start_time": "2022-06-22T11:41:52.666Z"
   },
   {
    "duration": 237,
    "start_time": "2022-06-22T11:41:52.714Z"
   },
   {
    "duration": 6,
    "start_time": "2022-06-22T11:41:52.953Z"
   },
   {
    "duration": 29,
    "start_time": "2022-06-22T11:41:52.961Z"
   },
   {
    "duration": 7,
    "start_time": "2022-06-22T11:41:52.992Z"
   },
   {
    "duration": 11,
    "start_time": "2022-06-22T11:41:53.001Z"
   },
   {
    "duration": 1682,
    "start_time": "2022-06-22T15:35:33.947Z"
   },
   {
    "duration": 4,
    "start_time": "2022-06-22T15:35:35.631Z"
   },
   {
    "duration": 306,
    "start_time": "2022-06-22T15:35:35.637Z"
   },
   {
    "duration": 11,
    "start_time": "2022-06-22T15:35:35.945Z"
   },
   {
    "duration": 10,
    "start_time": "2022-06-22T15:35:35.957Z"
   },
   {
    "duration": 6,
    "start_time": "2022-06-22T15:35:35.969Z"
   },
   {
    "duration": 4,
    "start_time": "2022-06-22T15:35:35.977Z"
   },
   {
    "duration": 6,
    "start_time": "2022-06-22T15:35:35.983Z"
   },
   {
    "duration": 8,
    "start_time": "2022-06-22T15:35:35.990Z"
   },
   {
    "duration": 29,
    "start_time": "2022-06-22T15:35:36.000Z"
   },
   {
    "duration": 20,
    "start_time": "2022-06-22T15:35:36.030Z"
   },
   {
    "duration": 18,
    "start_time": "2022-06-22T15:35:36.052Z"
   },
   {
    "duration": 19,
    "start_time": "2022-06-22T15:35:36.072Z"
   },
   {
    "duration": 16,
    "start_time": "2022-06-22T15:35:36.126Z"
   },
   {
    "duration": 31,
    "start_time": "2022-06-22T15:35:36.144Z"
   },
   {
    "duration": 93,
    "start_time": "2022-06-22T15:35:36.177Z"
   },
   {
    "duration": 8,
    "start_time": "2022-06-22T15:35:36.272Z"
   },
   {
    "duration": 127,
    "start_time": "2022-06-22T15:35:36.281Z"
   },
   {
    "duration": 1053,
    "start_time": "2022-06-22T15:35:36.410Z"
   },
   {
    "duration": 16,
    "start_time": "2022-06-22T15:35:37.465Z"
   },
   {
    "duration": 594,
    "start_time": "2022-06-22T15:35:37.483Z"
   },
   {
    "duration": 2408,
    "start_time": "2022-06-22T15:35:38.079Z"
   },
   {
    "duration": 3652,
    "start_time": "2022-06-22T15:35:40.488Z"
   },
   {
    "duration": 36,
    "start_time": "2022-06-22T15:35:44.142Z"
   },
   {
    "duration": 208,
    "start_time": "2022-06-22T15:35:44.179Z"
   },
   {
    "duration": 42,
    "start_time": "2022-06-22T15:35:44.388Z"
   },
   {
    "duration": 4,
    "start_time": "2022-06-22T15:35:44.432Z"
   }
  ],
  "kernelspec": {
   "display_name": "Python 3 (ipykernel)",
   "language": "python",
   "name": "python3"
  },
  "language_info": {
   "codemirror_mode": {
    "name": "ipython",
    "version": 3
   },
   "file_extension": ".py",
   "mimetype": "text/x-python",
   "name": "python",
   "nbconvert_exporter": "python",
   "pygments_lexer": "ipython3",
   "version": "3.9.12"
  },
  "toc": {
   "base_numbering": 1,
   "nav_menu": {},
   "number_sections": true,
   "sideBar": true,
   "skip_h1_title": true,
   "title_cell": "Table of Contents",
   "title_sidebar": "Contents",
   "toc_cell": false,
   "toc_position": {},
   "toc_section_display": true,
   "toc_window_display": false
  }
 },
 "nbformat": 4,
 "nbformat_minor": 5
}
