{
 "cells": [
  {
   "cell_type": "markdown",
   "id": "f104b0f3",
   "metadata": {},
   "source": [
    "# <div align=\"center\"><b> ПРОЕКТ №8. ВЫБОР ЛОКАЦИИ ДЛЯ СКВАЖИНЫ </b></div> "
   ]
  },
  {
   "cell_type": "markdown",
   "id": "862a09cd",
   "metadata": {},
   "source": [
    "**Цель:** целью проекта является выбор места для бурения новых скважин компанией \"ГлавРосГосНефть\". В рамках выполнения проекта требуется решить следующие **задачи**: \n",
    "- на основании исторических данных о запасах нефти в трех регионах обучить модель, по ключевым характеристикам предсказывающую потенциальные запасы сырья в скважине;\n",
    "- определить минимально достаточный объем сырья, окупающий разработку скважин;\n",
    "- рассчитать прибыль для двухсот наилучших скважин;\n",
    "- определить среднюю прибыль, 95%-й доверительный интервал для средней прибыли, а также риск убытков (отрицательной прибыли)."
   ]
  },
  {
   "cell_type": "markdown",
   "id": "d5b62bda",
   "metadata": {},
   "source": [
    "# 1. Предобработка данных"
   ]
  },
  {
   "cell_type": "markdown",
   "id": "68d92597",
   "metadata": {},
   "source": [
    "С целью получения корректных результатов на этапе предобработки должно быть выполнено следующее:\n",
    "- получение общей информации о данных, выявление возможных проблем;\n",
    "- поиск и устранение аномальных значений (при необходимости);\n",
    "- поиск и устранение пропусков (при необходимости);\n",
    "- поиск и устранение явных и неявных дубликатов;\n",
    "- корректировка типов данных (при необходимости)."
   ]
  },
  {
   "cell_type": "code",
   "execution_count": 1,
   "id": "d286394e",
   "metadata": {},
   "outputs": [],
   "source": [
    "#импортируем библиотеки\n",
    "import pandas as pd\n",
    "import numpy as np\n",
    "import matplotlib.pyplot as plt\n",
    "import sklearn\n",
    "from sklearn.model_selection import train_test_split\n",
    "from sklearn.linear_model import LinearRegression\n",
    "from sklearn.preprocessing import StandardScaler\n",
    "from sklearn.metrics import mean_squared_error"
   ]
  },
  {
   "cell_type": "code",
   "execution_count": 2,
   "id": "b6471fd3",
   "metadata": {},
   "outputs": [],
   "source": [
    "#снимем ограничение на количество столбцов датафрейма, выводимых на экран\n",
    "pd.options.display.max_columns = None"
   ]
  },
  {
   "cell_type": "markdown",
   "id": "e268d15c",
   "metadata": {},
   "source": [
    "## 1.1 Обзор данных"
   ]
  },
  {
   "cell_type": "markdown",
   "id": "8021a983",
   "metadata": {},
   "source": [
    "Так как в рамках обзора данных для каждого датасета предусмотрены одни и те же опрации, напишем функцию, которая принимает на вход относительный путь к датасету, возвращает сам датасет, а также печатает следующую информацию о данных:\n",
    "- первые пять строк датасета;\n",
    "- общую информацию;\n",
    "- статистическую информацию о числовых данных;\n",
    "- статистическую информацию о текстовых данных."
   ]
  },
  {
   "cell_type": "code",
   "execution_count": 3,
   "id": "47cd5589",
   "metadata": {},
   "outputs": [],
   "source": [
    "#напишем функцию, импортирующую указанный датасет и отображающую основную информацию о данных\n",
    "def data_info(relative_path):  #в формате '\\имя_файла.csv'\n",
    "    \n",
    "    #импортируем данные в датафрейм\n",
    "    try:\n",
    "    # local machine\n",
    "        path=r'C:\\Users\\vizum\\Desktop\\yandex_practicum\\project_8\\datasets'+relative_path\n",
    "        df = pd.read_csv(path)\n",
    "    except:\n",
    "        #yandex practicum server\n",
    "        df = pd.read_csv('/datasets'+relative_path)\n",
    "            \n",
    "            \n",
    "    #выведем на экран первые пять строк датафрейма\n",
    "    display('ПЕРВЫЕ ПЯТЬ СТРОК')\n",
    "    display(df.head())\n",
    "              \n",
    "    #получим общую информацию о датафрейме\n",
    "    display('ОБЩАЯ ИНФОРМАЦИЯ')\n",
    "    display(df.info())\n",
    "              \n",
    "    #получим статистическую информацию о числовых данных\n",
    "    display('СТАТИСТИКА О ЧИСЛОВЫХ ДАННЫХ')\n",
    "    display(df.describe())\n",
    "              \n",
    "    #получим статистическую информацию о текстовых данных\n",
    "    display('СТАТИСТИКА О ТЕКСТОВЫХ ДАННЫХ')\n",
    "    display(df.describe(include = 'object'))  \n",
    "              \n",
    "    return df"
   ]
  },
  {
   "cell_type": "markdown",
   "id": "e0576a6b",
   "metadata": {},
   "source": [
    "### 1.1.1 Обзор данных по региону 0"
   ]
  },
  {
   "cell_type": "code",
   "execution_count": 4,
   "id": "933bcdcd",
   "metadata": {
    "scrolled": true
   },
   "outputs": [
    {
     "data": {
      "text/plain": [
       "'ПЕРВЫЕ ПЯТЬ СТРОК'"
      ]
     },
     "metadata": {},
     "output_type": "display_data"
    },
    {
     "data": {
      "text/html": [
       "<div>\n",
       "<style scoped>\n",
       "    .dataframe tbody tr th:only-of-type {\n",
       "        vertical-align: middle;\n",
       "    }\n",
       "\n",
       "    .dataframe tbody tr th {\n",
       "        vertical-align: top;\n",
       "    }\n",
       "\n",
       "    .dataframe thead th {\n",
       "        text-align: right;\n",
       "    }\n",
       "</style>\n",
       "<table border=\"1\" class=\"dataframe\">\n",
       "  <thead>\n",
       "    <tr style=\"text-align: right;\">\n",
       "      <th></th>\n",
       "      <th>id</th>\n",
       "      <th>f0</th>\n",
       "      <th>f1</th>\n",
       "      <th>f2</th>\n",
       "      <th>product</th>\n",
       "    </tr>\n",
       "  </thead>\n",
       "  <tbody>\n",
       "    <tr>\n",
       "      <th>0</th>\n",
       "      <td>txEyH</td>\n",
       "      <td>0.705745</td>\n",
       "      <td>-0.497823</td>\n",
       "      <td>1.221170</td>\n",
       "      <td>105.280062</td>\n",
       "    </tr>\n",
       "    <tr>\n",
       "      <th>1</th>\n",
       "      <td>2acmU</td>\n",
       "      <td>1.334711</td>\n",
       "      <td>-0.340164</td>\n",
       "      <td>4.365080</td>\n",
       "      <td>73.037750</td>\n",
       "    </tr>\n",
       "    <tr>\n",
       "      <th>2</th>\n",
       "      <td>409Wp</td>\n",
       "      <td>1.022732</td>\n",
       "      <td>0.151990</td>\n",
       "      <td>1.419926</td>\n",
       "      <td>85.265647</td>\n",
       "    </tr>\n",
       "    <tr>\n",
       "      <th>3</th>\n",
       "      <td>iJLyR</td>\n",
       "      <td>-0.032172</td>\n",
       "      <td>0.139033</td>\n",
       "      <td>2.978566</td>\n",
       "      <td>168.620776</td>\n",
       "    </tr>\n",
       "    <tr>\n",
       "      <th>4</th>\n",
       "      <td>Xdl7t</td>\n",
       "      <td>1.988431</td>\n",
       "      <td>0.155413</td>\n",
       "      <td>4.751769</td>\n",
       "      <td>154.036647</td>\n",
       "    </tr>\n",
       "  </tbody>\n",
       "</table>\n",
       "</div>"
      ],
      "text/plain": [
       "      id        f0        f1        f2     product\n",
       "0  txEyH  0.705745 -0.497823  1.221170  105.280062\n",
       "1  2acmU  1.334711 -0.340164  4.365080   73.037750\n",
       "2  409Wp  1.022732  0.151990  1.419926   85.265647\n",
       "3  iJLyR -0.032172  0.139033  2.978566  168.620776\n",
       "4  Xdl7t  1.988431  0.155413  4.751769  154.036647"
      ]
     },
     "metadata": {},
     "output_type": "display_data"
    },
    {
     "data": {
      "text/plain": [
       "'ОБЩАЯ ИНФОРМАЦИЯ'"
      ]
     },
     "metadata": {},
     "output_type": "display_data"
    },
    {
     "name": "stdout",
     "output_type": "stream",
     "text": [
      "<class 'pandas.core.frame.DataFrame'>\n",
      "RangeIndex: 100000 entries, 0 to 99999\n",
      "Data columns (total 5 columns):\n",
      " #   Column   Non-Null Count   Dtype  \n",
      "---  ------   --------------   -----  \n",
      " 0   id       100000 non-null  object \n",
      " 1   f0       100000 non-null  float64\n",
      " 2   f1       100000 non-null  float64\n",
      " 3   f2       100000 non-null  float64\n",
      " 4   product  100000 non-null  float64\n",
      "dtypes: float64(4), object(1)\n",
      "memory usage: 3.8+ MB\n"
     ]
    },
    {
     "data": {
      "text/plain": [
       "None"
      ]
     },
     "metadata": {},
     "output_type": "display_data"
    },
    {
     "data": {
      "text/plain": [
       "'СТАТИСТИКА О ЧИСЛОВЫХ ДАННЫХ'"
      ]
     },
     "metadata": {},
     "output_type": "display_data"
    },
    {
     "data": {
      "text/html": [
       "<div>\n",
       "<style scoped>\n",
       "    .dataframe tbody tr th:only-of-type {\n",
       "        vertical-align: middle;\n",
       "    }\n",
       "\n",
       "    .dataframe tbody tr th {\n",
       "        vertical-align: top;\n",
       "    }\n",
       "\n",
       "    .dataframe thead th {\n",
       "        text-align: right;\n",
       "    }\n",
       "</style>\n",
       "<table border=\"1\" class=\"dataframe\">\n",
       "  <thead>\n",
       "    <tr style=\"text-align: right;\">\n",
       "      <th></th>\n",
       "      <th>f0</th>\n",
       "      <th>f1</th>\n",
       "      <th>f2</th>\n",
       "      <th>product</th>\n",
       "    </tr>\n",
       "  </thead>\n",
       "  <tbody>\n",
       "    <tr>\n",
       "      <th>count</th>\n",
       "      <td>100000.000000</td>\n",
       "      <td>100000.000000</td>\n",
       "      <td>100000.000000</td>\n",
       "      <td>100000.000000</td>\n",
       "    </tr>\n",
       "    <tr>\n",
       "      <th>mean</th>\n",
       "      <td>0.500419</td>\n",
       "      <td>0.250143</td>\n",
       "      <td>2.502647</td>\n",
       "      <td>92.500000</td>\n",
       "    </tr>\n",
       "    <tr>\n",
       "      <th>std</th>\n",
       "      <td>0.871832</td>\n",
       "      <td>0.504433</td>\n",
       "      <td>3.248248</td>\n",
       "      <td>44.288691</td>\n",
       "    </tr>\n",
       "    <tr>\n",
       "      <th>min</th>\n",
       "      <td>-1.408605</td>\n",
       "      <td>-0.848218</td>\n",
       "      <td>-12.088328</td>\n",
       "      <td>0.000000</td>\n",
       "    </tr>\n",
       "    <tr>\n",
       "      <th>25%</th>\n",
       "      <td>-0.072580</td>\n",
       "      <td>-0.200881</td>\n",
       "      <td>0.287748</td>\n",
       "      <td>56.497507</td>\n",
       "    </tr>\n",
       "    <tr>\n",
       "      <th>50%</th>\n",
       "      <td>0.502360</td>\n",
       "      <td>0.250252</td>\n",
       "      <td>2.515969</td>\n",
       "      <td>91.849972</td>\n",
       "    </tr>\n",
       "    <tr>\n",
       "      <th>75%</th>\n",
       "      <td>1.073581</td>\n",
       "      <td>0.700646</td>\n",
       "      <td>4.715088</td>\n",
       "      <td>128.564089</td>\n",
       "    </tr>\n",
       "    <tr>\n",
       "      <th>max</th>\n",
       "      <td>2.362331</td>\n",
       "      <td>1.343769</td>\n",
       "      <td>16.003790</td>\n",
       "      <td>185.364347</td>\n",
       "    </tr>\n",
       "  </tbody>\n",
       "</table>\n",
       "</div>"
      ],
      "text/plain": [
       "                  f0             f1             f2        product\n",
       "count  100000.000000  100000.000000  100000.000000  100000.000000\n",
       "mean        0.500419       0.250143       2.502647      92.500000\n",
       "std         0.871832       0.504433       3.248248      44.288691\n",
       "min        -1.408605      -0.848218     -12.088328       0.000000\n",
       "25%        -0.072580      -0.200881       0.287748      56.497507\n",
       "50%         0.502360       0.250252       2.515969      91.849972\n",
       "75%         1.073581       0.700646       4.715088     128.564089\n",
       "max         2.362331       1.343769      16.003790     185.364347"
      ]
     },
     "metadata": {},
     "output_type": "display_data"
    },
    {
     "data": {
      "text/plain": [
       "'СТАТИСТИКА О ТЕКСТОВЫХ ДАННЫХ'"
      ]
     },
     "metadata": {},
     "output_type": "display_data"
    },
    {
     "data": {
      "text/html": [
       "<div>\n",
       "<style scoped>\n",
       "    .dataframe tbody tr th:only-of-type {\n",
       "        vertical-align: middle;\n",
       "    }\n",
       "\n",
       "    .dataframe tbody tr th {\n",
       "        vertical-align: top;\n",
       "    }\n",
       "\n",
       "    .dataframe thead th {\n",
       "        text-align: right;\n",
       "    }\n",
       "</style>\n",
       "<table border=\"1\" class=\"dataframe\">\n",
       "  <thead>\n",
       "    <tr style=\"text-align: right;\">\n",
       "      <th></th>\n",
       "      <th>id</th>\n",
       "    </tr>\n",
       "  </thead>\n",
       "  <tbody>\n",
       "    <tr>\n",
       "      <th>count</th>\n",
       "      <td>100000</td>\n",
       "    </tr>\n",
       "    <tr>\n",
       "      <th>unique</th>\n",
       "      <td>99990</td>\n",
       "    </tr>\n",
       "    <tr>\n",
       "      <th>top</th>\n",
       "      <td>HZww2</td>\n",
       "    </tr>\n",
       "    <tr>\n",
       "      <th>freq</th>\n",
       "      <td>2</td>\n",
       "    </tr>\n",
       "  </tbody>\n",
       "</table>\n",
       "</div>"
      ],
      "text/plain": [
       "            id\n",
       "count   100000\n",
       "unique   99990\n",
       "top      HZww2\n",
       "freq         2"
      ]
     },
     "metadata": {},
     "output_type": "display_data"
    }
   ],
   "source": [
    "geo_0 = data_info('/geo_data_0.csv')"
   ]
  },
  {
   "cell_type": "markdown",
   "id": "68c279e1",
   "metadata": {},
   "source": [
    "***Выводы по датасету geo_0:***\n",
    "- пропуски отсутствуют;\n",
    "- типы данных соответствуют данным;\n",
    "- в столбце `product` аномальные данные отсутствуют (нет скважин с отрицательной величиной добычи);\n",
    "- в столбце с уникальным идентификатором скважины - `id` - присутствует 10 дубликатов (0.01% от объема датасета);\n",
    "\n",
    "Для дальнейшей работы с датасетом geo_0 требуется:\n",
    "- провести проверку на полные дубликаты и выполнить их обработку (при необходимости), в том числе выполнить обработку дубликатов в столбце `id`;\n",
    "- выполнить анализ данных на наличие выбросов. Анализ столбцов `id`, `f0`, `f1`, `f2` на аномальные значения невозможно, так как значение id может быть любым, а физическое значение параметров f0-f2 из условий задания не известно;\n",
    "- после обработки дубликатов и поиска выбросов столбец c `id` необходимо удалить, так как для обучения он не нужен."
   ]
  },
  {
   "cell_type": "markdown",
   "id": "6b07f12e",
   "metadata": {},
   "source": [
    "### 1.1.2 Обзор данных по региону 1"
   ]
  },
  {
   "cell_type": "code",
   "execution_count": 307,
   "id": "2495336e",
   "metadata": {
    "scrolled": true
   },
   "outputs": [
    {
     "data": {
      "text/plain": [
       "'ПЕРВЫЕ ПЯТЬ СТРОК'"
      ]
     },
     "metadata": {},
     "output_type": "display_data"
    },
    {
     "data": {
      "text/html": [
       "<div>\n",
       "<style scoped>\n",
       "    .dataframe tbody tr th:only-of-type {\n",
       "        vertical-align: middle;\n",
       "    }\n",
       "\n",
       "    .dataframe tbody tr th {\n",
       "        vertical-align: top;\n",
       "    }\n",
       "\n",
       "    .dataframe thead th {\n",
       "        text-align: right;\n",
       "    }\n",
       "</style>\n",
       "<table border=\"1\" class=\"dataframe\">\n",
       "  <thead>\n",
       "    <tr style=\"text-align: right;\">\n",
       "      <th></th>\n",
       "      <th>id</th>\n",
       "      <th>f0</th>\n",
       "      <th>f1</th>\n",
       "      <th>f2</th>\n",
       "      <th>product</th>\n",
       "    </tr>\n",
       "  </thead>\n",
       "  <tbody>\n",
       "    <tr>\n",
       "      <th>0</th>\n",
       "      <td>kBEdx</td>\n",
       "      <td>-15.001348</td>\n",
       "      <td>-8.276000</td>\n",
       "      <td>-0.005876</td>\n",
       "      <td>3.179103</td>\n",
       "    </tr>\n",
       "    <tr>\n",
       "      <th>1</th>\n",
       "      <td>62mP7</td>\n",
       "      <td>14.272088</td>\n",
       "      <td>-3.475083</td>\n",
       "      <td>0.999183</td>\n",
       "      <td>26.953261</td>\n",
       "    </tr>\n",
       "    <tr>\n",
       "      <th>2</th>\n",
       "      <td>vyE1P</td>\n",
       "      <td>6.263187</td>\n",
       "      <td>-5.948386</td>\n",
       "      <td>5.001160</td>\n",
       "      <td>134.766305</td>\n",
       "    </tr>\n",
       "    <tr>\n",
       "      <th>3</th>\n",
       "      <td>KcrkZ</td>\n",
       "      <td>-13.081196</td>\n",
       "      <td>-11.506057</td>\n",
       "      <td>4.999415</td>\n",
       "      <td>137.945408</td>\n",
       "    </tr>\n",
       "    <tr>\n",
       "      <th>4</th>\n",
       "      <td>AHL4O</td>\n",
       "      <td>12.702195</td>\n",
       "      <td>-8.147433</td>\n",
       "      <td>5.004363</td>\n",
       "      <td>134.766305</td>\n",
       "    </tr>\n",
       "  </tbody>\n",
       "</table>\n",
       "</div>"
      ],
      "text/plain": [
       "      id         f0         f1        f2     product\n",
       "0  kBEdx -15.001348  -8.276000 -0.005876    3.179103\n",
       "1  62mP7  14.272088  -3.475083  0.999183   26.953261\n",
       "2  vyE1P   6.263187  -5.948386  5.001160  134.766305\n",
       "3  KcrkZ -13.081196 -11.506057  4.999415  137.945408\n",
       "4  AHL4O  12.702195  -8.147433  5.004363  134.766305"
      ]
     },
     "metadata": {},
     "output_type": "display_data"
    },
    {
     "data": {
      "text/plain": [
       "'ОБЩАЯ ИНФОРМАЦИЯ'"
      ]
     },
     "metadata": {},
     "output_type": "display_data"
    },
    {
     "name": "stdout",
     "output_type": "stream",
     "text": [
      "<class 'pandas.core.frame.DataFrame'>\n",
      "RangeIndex: 100000 entries, 0 to 99999\n",
      "Data columns (total 5 columns):\n",
      " #   Column   Non-Null Count   Dtype  \n",
      "---  ------   --------------   -----  \n",
      " 0   id       100000 non-null  object \n",
      " 1   f0       100000 non-null  float64\n",
      " 2   f1       100000 non-null  float64\n",
      " 3   f2       100000 non-null  float64\n",
      " 4   product  100000 non-null  float64\n",
      "dtypes: float64(4), object(1)\n",
      "memory usage: 3.8+ MB\n"
     ]
    },
    {
     "data": {
      "text/plain": [
       "None"
      ]
     },
     "metadata": {},
     "output_type": "display_data"
    },
    {
     "data": {
      "text/plain": [
       "'СТАТИСТИКА О ЧИСЛОВЫХ ДАННЫХ'"
      ]
     },
     "metadata": {},
     "output_type": "display_data"
    },
    {
     "data": {
      "text/html": [
       "<div>\n",
       "<style scoped>\n",
       "    .dataframe tbody tr th:only-of-type {\n",
       "        vertical-align: middle;\n",
       "    }\n",
       "\n",
       "    .dataframe tbody tr th {\n",
       "        vertical-align: top;\n",
       "    }\n",
       "\n",
       "    .dataframe thead th {\n",
       "        text-align: right;\n",
       "    }\n",
       "</style>\n",
       "<table border=\"1\" class=\"dataframe\">\n",
       "  <thead>\n",
       "    <tr style=\"text-align: right;\">\n",
       "      <th></th>\n",
       "      <th>f0</th>\n",
       "      <th>f1</th>\n",
       "      <th>f2</th>\n",
       "      <th>product</th>\n",
       "    </tr>\n",
       "  </thead>\n",
       "  <tbody>\n",
       "    <tr>\n",
       "      <th>count</th>\n",
       "      <td>100000.000000</td>\n",
       "      <td>100000.000000</td>\n",
       "      <td>100000.000000</td>\n",
       "      <td>100000.000000</td>\n",
       "    </tr>\n",
       "    <tr>\n",
       "      <th>mean</th>\n",
       "      <td>1.141296</td>\n",
       "      <td>-4.796579</td>\n",
       "      <td>2.494541</td>\n",
       "      <td>68.825000</td>\n",
       "    </tr>\n",
       "    <tr>\n",
       "      <th>std</th>\n",
       "      <td>8.965932</td>\n",
       "      <td>5.119872</td>\n",
       "      <td>1.703572</td>\n",
       "      <td>45.944423</td>\n",
       "    </tr>\n",
       "    <tr>\n",
       "      <th>min</th>\n",
       "      <td>-31.609576</td>\n",
       "      <td>-26.358598</td>\n",
       "      <td>-0.018144</td>\n",
       "      <td>0.000000</td>\n",
       "    </tr>\n",
       "    <tr>\n",
       "      <th>25%</th>\n",
       "      <td>-6.298551</td>\n",
       "      <td>-8.267985</td>\n",
       "      <td>1.000021</td>\n",
       "      <td>26.953261</td>\n",
       "    </tr>\n",
       "    <tr>\n",
       "      <th>50%</th>\n",
       "      <td>1.153055</td>\n",
       "      <td>-4.813172</td>\n",
       "      <td>2.011479</td>\n",
       "      <td>57.085625</td>\n",
       "    </tr>\n",
       "    <tr>\n",
       "      <th>75%</th>\n",
       "      <td>8.621015</td>\n",
       "      <td>-1.332816</td>\n",
       "      <td>3.999904</td>\n",
       "      <td>107.813044</td>\n",
       "    </tr>\n",
       "    <tr>\n",
       "      <th>max</th>\n",
       "      <td>29.421755</td>\n",
       "      <td>18.734063</td>\n",
       "      <td>5.019721</td>\n",
       "      <td>137.945408</td>\n",
       "    </tr>\n",
       "  </tbody>\n",
       "</table>\n",
       "</div>"
      ],
      "text/plain": [
       "                  f0             f1             f2        product\n",
       "count  100000.000000  100000.000000  100000.000000  100000.000000\n",
       "mean        1.141296      -4.796579       2.494541      68.825000\n",
       "std         8.965932       5.119872       1.703572      45.944423\n",
       "min       -31.609576     -26.358598      -0.018144       0.000000\n",
       "25%        -6.298551      -8.267985       1.000021      26.953261\n",
       "50%         1.153055      -4.813172       2.011479      57.085625\n",
       "75%         8.621015      -1.332816       3.999904     107.813044\n",
       "max        29.421755      18.734063       5.019721     137.945408"
      ]
     },
     "metadata": {},
     "output_type": "display_data"
    },
    {
     "data": {
      "text/plain": [
       "'СТАТИСТИКА О ТЕКСТОВЫХ ДАННЫХ'"
      ]
     },
     "metadata": {},
     "output_type": "display_data"
    },
    {
     "data": {
      "text/html": [
       "<div>\n",
       "<style scoped>\n",
       "    .dataframe tbody tr th:only-of-type {\n",
       "        vertical-align: middle;\n",
       "    }\n",
       "\n",
       "    .dataframe tbody tr th {\n",
       "        vertical-align: top;\n",
       "    }\n",
       "\n",
       "    .dataframe thead th {\n",
       "        text-align: right;\n",
       "    }\n",
       "</style>\n",
       "<table border=\"1\" class=\"dataframe\">\n",
       "  <thead>\n",
       "    <tr style=\"text-align: right;\">\n",
       "      <th></th>\n",
       "      <th>id</th>\n",
       "    </tr>\n",
       "  </thead>\n",
       "  <tbody>\n",
       "    <tr>\n",
       "      <th>count</th>\n",
       "      <td>100000</td>\n",
       "    </tr>\n",
       "    <tr>\n",
       "      <th>unique</th>\n",
       "      <td>99996</td>\n",
       "    </tr>\n",
       "    <tr>\n",
       "      <th>top</th>\n",
       "      <td>bfPNe</td>\n",
       "    </tr>\n",
       "    <tr>\n",
       "      <th>freq</th>\n",
       "      <td>2</td>\n",
       "    </tr>\n",
       "  </tbody>\n",
       "</table>\n",
       "</div>"
      ],
      "text/plain": [
       "            id\n",
       "count   100000\n",
       "unique   99996\n",
       "top      bfPNe\n",
       "freq         2"
      ]
     },
     "metadata": {},
     "output_type": "display_data"
    }
   ],
   "source": [
    "geo_1 = data_info('/geo_data_1.csv')"
   ]
  },
  {
   "cell_type": "markdown",
   "id": "eefb5c58",
   "metadata": {},
   "source": [
    "***Выводы по датасету geo_1:***\n",
    "- пропуски отсутствуют;\n",
    "- типы данных соответствуют данным;\n",
    "- в столбце `product` аномальные данные отсутствуют (нет скважин с отрицательной величиной добычи);\n",
    "- в столбце с уникальным идентификатором скважины - `id` - присутствует 4 дубликата (0.004% от объема датасета);\n",
    "\n",
    "Для дальнейшей работы с датасетом geo_1 требуется:\n",
    "- провести проверку на полные дубликаты и выполнить их обработку (при необходимости), в том числе выполнить обработку дубликатов в столбце `id`;\n",
    "- выполнить анализ данных на наличие выбросов. Анализ столбцов `id`, `f0`, `f1`, `f2` на аномальные значения невозможно в силу вышеобозначенных причин;\n",
    "- после обработки дубликатов и поиска выбросов столбец c `id` необходимо удалить, так как для обучения он не нужен."
   ]
  },
  {
   "cell_type": "markdown",
   "id": "29beaaab",
   "metadata": {},
   "source": [
    "### 1.1.3 Обзор данных по региону 2"
   ]
  },
  {
   "cell_type": "code",
   "execution_count": 308,
   "id": "7dc1e028",
   "metadata": {
    "scrolled": true
   },
   "outputs": [
    {
     "data": {
      "text/plain": [
       "'ПЕРВЫЕ ПЯТЬ СТРОК'"
      ]
     },
     "metadata": {},
     "output_type": "display_data"
    },
    {
     "data": {
      "text/html": [
       "<div>\n",
       "<style scoped>\n",
       "    .dataframe tbody tr th:only-of-type {\n",
       "        vertical-align: middle;\n",
       "    }\n",
       "\n",
       "    .dataframe tbody tr th {\n",
       "        vertical-align: top;\n",
       "    }\n",
       "\n",
       "    .dataframe thead th {\n",
       "        text-align: right;\n",
       "    }\n",
       "</style>\n",
       "<table border=\"1\" class=\"dataframe\">\n",
       "  <thead>\n",
       "    <tr style=\"text-align: right;\">\n",
       "      <th></th>\n",
       "      <th>id</th>\n",
       "      <th>f0</th>\n",
       "      <th>f1</th>\n",
       "      <th>f2</th>\n",
       "      <th>product</th>\n",
       "    </tr>\n",
       "  </thead>\n",
       "  <tbody>\n",
       "    <tr>\n",
       "      <th>0</th>\n",
       "      <td>fwXo0</td>\n",
       "      <td>-1.146987</td>\n",
       "      <td>0.963328</td>\n",
       "      <td>-0.828965</td>\n",
       "      <td>27.758673</td>\n",
       "    </tr>\n",
       "    <tr>\n",
       "      <th>1</th>\n",
       "      <td>WJtFt</td>\n",
       "      <td>0.262778</td>\n",
       "      <td>0.269839</td>\n",
       "      <td>-2.530187</td>\n",
       "      <td>56.069697</td>\n",
       "    </tr>\n",
       "    <tr>\n",
       "      <th>2</th>\n",
       "      <td>ovLUW</td>\n",
       "      <td>0.194587</td>\n",
       "      <td>0.289035</td>\n",
       "      <td>-5.586433</td>\n",
       "      <td>62.871910</td>\n",
       "    </tr>\n",
       "    <tr>\n",
       "      <th>3</th>\n",
       "      <td>q6cA6</td>\n",
       "      <td>2.236060</td>\n",
       "      <td>-0.553760</td>\n",
       "      <td>0.930038</td>\n",
       "      <td>114.572842</td>\n",
       "    </tr>\n",
       "    <tr>\n",
       "      <th>4</th>\n",
       "      <td>WPMUX</td>\n",
       "      <td>-0.515993</td>\n",
       "      <td>1.716266</td>\n",
       "      <td>5.899011</td>\n",
       "      <td>149.600746</td>\n",
       "    </tr>\n",
       "  </tbody>\n",
       "</table>\n",
       "</div>"
      ],
      "text/plain": [
       "      id        f0        f1        f2     product\n",
       "0  fwXo0 -1.146987  0.963328 -0.828965   27.758673\n",
       "1  WJtFt  0.262778  0.269839 -2.530187   56.069697\n",
       "2  ovLUW  0.194587  0.289035 -5.586433   62.871910\n",
       "3  q6cA6  2.236060 -0.553760  0.930038  114.572842\n",
       "4  WPMUX -0.515993  1.716266  5.899011  149.600746"
      ]
     },
     "metadata": {},
     "output_type": "display_data"
    },
    {
     "data": {
      "text/plain": [
       "'ОБЩАЯ ИНФОРМАЦИЯ'"
      ]
     },
     "metadata": {},
     "output_type": "display_data"
    },
    {
     "name": "stdout",
     "output_type": "stream",
     "text": [
      "<class 'pandas.core.frame.DataFrame'>\n",
      "RangeIndex: 100000 entries, 0 to 99999\n",
      "Data columns (total 5 columns):\n",
      " #   Column   Non-Null Count   Dtype  \n",
      "---  ------   --------------   -----  \n",
      " 0   id       100000 non-null  object \n",
      " 1   f0       100000 non-null  float64\n",
      " 2   f1       100000 non-null  float64\n",
      " 3   f2       100000 non-null  float64\n",
      " 4   product  100000 non-null  float64\n",
      "dtypes: float64(4), object(1)\n",
      "memory usage: 3.8+ MB\n"
     ]
    },
    {
     "data": {
      "text/plain": [
       "None"
      ]
     },
     "metadata": {},
     "output_type": "display_data"
    },
    {
     "data": {
      "text/plain": [
       "'СТАТИСТИКА О ЧИСЛОВЫХ ДАННЫХ'"
      ]
     },
     "metadata": {},
     "output_type": "display_data"
    },
    {
     "data": {
      "text/html": [
       "<div>\n",
       "<style scoped>\n",
       "    .dataframe tbody tr th:only-of-type {\n",
       "        vertical-align: middle;\n",
       "    }\n",
       "\n",
       "    .dataframe tbody tr th {\n",
       "        vertical-align: top;\n",
       "    }\n",
       "\n",
       "    .dataframe thead th {\n",
       "        text-align: right;\n",
       "    }\n",
       "</style>\n",
       "<table border=\"1\" class=\"dataframe\">\n",
       "  <thead>\n",
       "    <tr style=\"text-align: right;\">\n",
       "      <th></th>\n",
       "      <th>f0</th>\n",
       "      <th>f1</th>\n",
       "      <th>f2</th>\n",
       "      <th>product</th>\n",
       "    </tr>\n",
       "  </thead>\n",
       "  <tbody>\n",
       "    <tr>\n",
       "      <th>count</th>\n",
       "      <td>100000.000000</td>\n",
       "      <td>100000.000000</td>\n",
       "      <td>100000.000000</td>\n",
       "      <td>100000.000000</td>\n",
       "    </tr>\n",
       "    <tr>\n",
       "      <th>mean</th>\n",
       "      <td>0.002023</td>\n",
       "      <td>-0.002081</td>\n",
       "      <td>2.495128</td>\n",
       "      <td>95.000000</td>\n",
       "    </tr>\n",
       "    <tr>\n",
       "      <th>std</th>\n",
       "      <td>1.732045</td>\n",
       "      <td>1.730417</td>\n",
       "      <td>3.473445</td>\n",
       "      <td>44.749921</td>\n",
       "    </tr>\n",
       "    <tr>\n",
       "      <th>min</th>\n",
       "      <td>-8.760004</td>\n",
       "      <td>-7.084020</td>\n",
       "      <td>-11.970335</td>\n",
       "      <td>0.000000</td>\n",
       "    </tr>\n",
       "    <tr>\n",
       "      <th>25%</th>\n",
       "      <td>-1.162288</td>\n",
       "      <td>-1.174820</td>\n",
       "      <td>0.130359</td>\n",
       "      <td>59.450441</td>\n",
       "    </tr>\n",
       "    <tr>\n",
       "      <th>50%</th>\n",
       "      <td>0.009424</td>\n",
       "      <td>-0.009482</td>\n",
       "      <td>2.484236</td>\n",
       "      <td>94.925613</td>\n",
       "    </tr>\n",
       "    <tr>\n",
       "      <th>75%</th>\n",
       "      <td>1.158535</td>\n",
       "      <td>1.163678</td>\n",
       "      <td>4.858794</td>\n",
       "      <td>130.595027</td>\n",
       "    </tr>\n",
       "    <tr>\n",
       "      <th>max</th>\n",
       "      <td>7.238262</td>\n",
       "      <td>7.844801</td>\n",
       "      <td>16.739402</td>\n",
       "      <td>190.029838</td>\n",
       "    </tr>\n",
       "  </tbody>\n",
       "</table>\n",
       "</div>"
      ],
      "text/plain": [
       "                  f0             f1             f2        product\n",
       "count  100000.000000  100000.000000  100000.000000  100000.000000\n",
       "mean        0.002023      -0.002081       2.495128      95.000000\n",
       "std         1.732045       1.730417       3.473445      44.749921\n",
       "min        -8.760004      -7.084020     -11.970335       0.000000\n",
       "25%        -1.162288      -1.174820       0.130359      59.450441\n",
       "50%         0.009424      -0.009482       2.484236      94.925613\n",
       "75%         1.158535       1.163678       4.858794     130.595027\n",
       "max         7.238262       7.844801      16.739402     190.029838"
      ]
     },
     "metadata": {},
     "output_type": "display_data"
    },
    {
     "data": {
      "text/plain": [
       "'СТАТИСТИКА О ТЕКСТОВЫХ ДАННЫХ'"
      ]
     },
     "metadata": {},
     "output_type": "display_data"
    },
    {
     "data": {
      "text/html": [
       "<div>\n",
       "<style scoped>\n",
       "    .dataframe tbody tr th:only-of-type {\n",
       "        vertical-align: middle;\n",
       "    }\n",
       "\n",
       "    .dataframe tbody tr th {\n",
       "        vertical-align: top;\n",
       "    }\n",
       "\n",
       "    .dataframe thead th {\n",
       "        text-align: right;\n",
       "    }\n",
       "</style>\n",
       "<table border=\"1\" class=\"dataframe\">\n",
       "  <thead>\n",
       "    <tr style=\"text-align: right;\">\n",
       "      <th></th>\n",
       "      <th>id</th>\n",
       "    </tr>\n",
       "  </thead>\n",
       "  <tbody>\n",
       "    <tr>\n",
       "      <th>count</th>\n",
       "      <td>100000</td>\n",
       "    </tr>\n",
       "    <tr>\n",
       "      <th>unique</th>\n",
       "      <td>99996</td>\n",
       "    </tr>\n",
       "    <tr>\n",
       "      <th>top</th>\n",
       "      <td>xCHr8</td>\n",
       "    </tr>\n",
       "    <tr>\n",
       "      <th>freq</th>\n",
       "      <td>2</td>\n",
       "    </tr>\n",
       "  </tbody>\n",
       "</table>\n",
       "</div>"
      ],
      "text/plain": [
       "            id\n",
       "count   100000\n",
       "unique   99996\n",
       "top      xCHr8\n",
       "freq         2"
      ]
     },
     "metadata": {},
     "output_type": "display_data"
    }
   ],
   "source": [
    "geo_2 = data_info('/geo_data_2.csv')"
   ]
  },
  {
   "cell_type": "markdown",
   "id": "51ac95e7",
   "metadata": {},
   "source": [
    "***Выводы по датасету geo_2:***\n",
    "- пропуски отсутствуют;\n",
    "- типы данных соответствуют данным;\n",
    "- в столбце `product` аномальные данные отсутствуют (нет скважин с отрицательной величиной добычи);\n",
    "- в столбце с уникальным идентификатором скважины - `id` - присутствует 4 дубликата (0.004% от объема датасета);\n",
    "\n",
    "Для дальнейшей работы с датасетом geo_2 требуется:\n",
    "- провести проверку на полные дубликаты и выполнить их обработку (при необходимости), в том числе выполнить обработку дубликатов в столбце `id`;\n",
    "- выполнить анализ данных на наличие выбросов. Анализ столбцов `id`, `f0`, `f1`, `f2` на аномальные значения невозможно;\n",
    "- после обработки дубликатов и поиска выбросов столбец c `id` необходимо удалить, так как для обучения он не нужен."
   ]
  },
  {
   "cell_type": "markdown",
   "id": "df4d4158",
   "metadata": {},
   "source": [
    "## 1.2 Поиск дубликатов"
   ]
  },
  {
   "cell_type": "markdown",
   "id": "c100193d",
   "metadata": {},
   "source": [
    "Проверим все датафреймы на наличие полных дубликатов. Строки с id-дубликатами удалим, так как они занимают менее 1% каждого датафрейма."
   ]
  },
  {
   "cell_type": "code",
   "execution_count": 309,
   "id": "074f3083",
   "metadata": {},
   "outputs": [
    {
     "name": "stdout",
     "output_type": "stream",
     "text": [
      "0\n",
      "0\n",
      "0\n"
     ]
    }
   ],
   "source": [
    "#проверим датафреймы на наличие полных дубликатов\n",
    "for df in [geo_0, geo_1, geo_2]:\n",
    "    print(df.duplicated().sum())"
   ]
  },
  {
   "cell_type": "markdown",
   "id": "7702d0e0",
   "metadata": {},
   "source": [
    "Полные дубликаты отсутствуют. Удалим строки с id-дубликатами."
   ]
  },
  {
   "cell_type": "code",
   "execution_count": 310,
   "id": "35aa7110",
   "metadata": {
    "scrolled": false
   },
   "outputs": [
    {
     "data": {
      "text/html": [
       "<div>\n",
       "<style scoped>\n",
       "    .dataframe tbody tr th:only-of-type {\n",
       "        vertical-align: middle;\n",
       "    }\n",
       "\n",
       "    .dataframe tbody tr th {\n",
       "        vertical-align: top;\n",
       "    }\n",
       "\n",
       "    .dataframe thead th {\n",
       "        text-align: right;\n",
       "    }\n",
       "</style>\n",
       "<table border=\"1\" class=\"dataframe\">\n",
       "  <thead>\n",
       "    <tr style=\"text-align: right;\">\n",
       "      <th></th>\n",
       "      <th>id</th>\n",
       "    </tr>\n",
       "  </thead>\n",
       "  <tbody>\n",
       "    <tr>\n",
       "      <th>count</th>\n",
       "      <td>99990</td>\n",
       "    </tr>\n",
       "    <tr>\n",
       "      <th>unique</th>\n",
       "      <td>99990</td>\n",
       "    </tr>\n",
       "    <tr>\n",
       "      <th>top</th>\n",
       "      <td>nBT1R</td>\n",
       "    </tr>\n",
       "    <tr>\n",
       "      <th>freq</th>\n",
       "      <td>1</td>\n",
       "    </tr>\n",
       "  </tbody>\n",
       "</table>\n",
       "</div>"
      ],
      "text/plain": [
       "           id\n",
       "count   99990\n",
       "unique  99990\n",
       "top     nBT1R\n",
       "freq        1"
      ]
     },
     "metadata": {},
     "output_type": "display_data"
    },
    {
     "data": {
      "text/plain": [
       "'******************************'"
      ]
     },
     "metadata": {},
     "output_type": "display_data"
    },
    {
     "data": {
      "text/html": [
       "<div>\n",
       "<style scoped>\n",
       "    .dataframe tbody tr th:only-of-type {\n",
       "        vertical-align: middle;\n",
       "    }\n",
       "\n",
       "    .dataframe tbody tr th {\n",
       "        vertical-align: top;\n",
       "    }\n",
       "\n",
       "    .dataframe thead th {\n",
       "        text-align: right;\n",
       "    }\n",
       "</style>\n",
       "<table border=\"1\" class=\"dataframe\">\n",
       "  <thead>\n",
       "    <tr style=\"text-align: right;\">\n",
       "      <th></th>\n",
       "      <th>id</th>\n",
       "    </tr>\n",
       "  </thead>\n",
       "  <tbody>\n",
       "    <tr>\n",
       "      <th>count</th>\n",
       "      <td>99996</td>\n",
       "    </tr>\n",
       "    <tr>\n",
       "      <th>unique</th>\n",
       "      <td>99996</td>\n",
       "    </tr>\n",
       "    <tr>\n",
       "      <th>top</th>\n",
       "      <td>DanHR</td>\n",
       "    </tr>\n",
       "    <tr>\n",
       "      <th>freq</th>\n",
       "      <td>1</td>\n",
       "    </tr>\n",
       "  </tbody>\n",
       "</table>\n",
       "</div>"
      ],
      "text/plain": [
       "           id\n",
       "count   99996\n",
       "unique  99996\n",
       "top     DanHR\n",
       "freq        1"
      ]
     },
     "metadata": {},
     "output_type": "display_data"
    },
    {
     "data": {
      "text/plain": [
       "'******************************'"
      ]
     },
     "metadata": {},
     "output_type": "display_data"
    },
    {
     "data": {
      "text/html": [
       "<div>\n",
       "<style scoped>\n",
       "    .dataframe tbody tr th:only-of-type {\n",
       "        vertical-align: middle;\n",
       "    }\n",
       "\n",
       "    .dataframe tbody tr th {\n",
       "        vertical-align: top;\n",
       "    }\n",
       "\n",
       "    .dataframe thead th {\n",
       "        text-align: right;\n",
       "    }\n",
       "</style>\n",
       "<table border=\"1\" class=\"dataframe\">\n",
       "  <thead>\n",
       "    <tr style=\"text-align: right;\">\n",
       "      <th></th>\n",
       "      <th>id</th>\n",
       "    </tr>\n",
       "  </thead>\n",
       "  <tbody>\n",
       "    <tr>\n",
       "      <th>count</th>\n",
       "      <td>99996</td>\n",
       "    </tr>\n",
       "    <tr>\n",
       "      <th>unique</th>\n",
       "      <td>99996</td>\n",
       "    </tr>\n",
       "    <tr>\n",
       "      <th>top</th>\n",
       "      <td>63UOE</td>\n",
       "    </tr>\n",
       "    <tr>\n",
       "      <th>freq</th>\n",
       "      <td>1</td>\n",
       "    </tr>\n",
       "  </tbody>\n",
       "</table>\n",
       "</div>"
      ],
      "text/plain": [
       "           id\n",
       "count   99996\n",
       "unique  99996\n",
       "top     63UOE\n",
       "freq        1"
      ]
     },
     "metadata": {},
     "output_type": "display_data"
    },
    {
     "data": {
      "text/plain": [
       "'******************************'"
      ]
     },
     "metadata": {},
     "output_type": "display_data"
    }
   ],
   "source": [
    "for df in ['geo_0', 'geo_1', 'geo_2']:\n",
    "    #удалим дубликаты\n",
    "    locals()[df]=locals()[df].drop_duplicates(subset='id')\n",
    "    \n",
    "    #отобразим статистическую информацию \n",
    "    display(locals()[df].describe(include='object'))\n",
    "    \n",
    "    #добавим разделитель\n",
    "    display(30*'*')"
   ]
  },
  {
   "cell_type": "markdown",
   "id": "ea372f10",
   "metadata": {},
   "source": [
    "Удалим из датасетов столбец с идентификаторами скважин."
   ]
  },
  {
   "cell_type": "code",
   "execution_count": 311,
   "id": "034364d2",
   "metadata": {},
   "outputs": [
    {
     "data": {
      "text/plain": [
       "Index(['f0', 'f1', 'f2', 'product'], dtype='object')"
      ]
     },
     "metadata": {},
     "output_type": "display_data"
    },
    {
     "data": {
      "text/plain": [
       "Index(['f0', 'f1', 'f2', 'product'], dtype='object')"
      ]
     },
     "metadata": {},
     "output_type": "display_data"
    },
    {
     "data": {
      "text/plain": [
       "Index(['f0', 'f1', 'f2', 'product'], dtype='object')"
      ]
     },
     "metadata": {},
     "output_type": "display_data"
    }
   ],
   "source": [
    "for df in ['geo_0', 'geo_1', 'geo_2']:\n",
    "    \n",
    "    #удалим столбец с id\n",
    "    locals()[df] = locals()[df].drop(columns='id').reset_index(drop=True)\n",
    "    \n",
    "    #выведем новые названия столбцов\n",
    "    display(locals()[df].columns)"
   ]
  },
  {
   "cell_type": "code",
   "execution_count": 312,
   "id": "174c1ebc",
   "metadata": {
    "scrolled": false
   },
   "outputs": [
    {
     "name": "stdout",
     "output_type": "stream",
     "text": [
      "<class 'pandas.core.frame.DataFrame'>\n",
      "RangeIndex: 99990 entries, 0 to 99989\n",
      "Data columns (total 4 columns):\n",
      " #   Column   Non-Null Count  Dtype  \n",
      "---  ------   --------------  -----  \n",
      " 0   f0       99990 non-null  float64\n",
      " 1   f1       99990 non-null  float64\n",
      " 2   f2       99990 non-null  float64\n",
      " 3   product  99990 non-null  float64\n",
      "dtypes: float64(4)\n",
      "memory usage: 3.1 MB\n"
     ]
    },
    {
     "data": {
      "text/plain": [
       "'******************************'"
      ]
     },
     "metadata": {},
     "output_type": "display_data"
    },
    {
     "name": "stdout",
     "output_type": "stream",
     "text": [
      "<class 'pandas.core.frame.DataFrame'>\n",
      "RangeIndex: 99996 entries, 0 to 99995\n",
      "Data columns (total 4 columns):\n",
      " #   Column   Non-Null Count  Dtype  \n",
      "---  ------   --------------  -----  \n",
      " 0   f0       99996 non-null  float64\n",
      " 1   f1       99996 non-null  float64\n",
      " 2   f2       99996 non-null  float64\n",
      " 3   product  99996 non-null  float64\n",
      "dtypes: float64(4)\n",
      "memory usage: 3.1 MB\n"
     ]
    },
    {
     "data": {
      "text/plain": [
       "'******************************'"
      ]
     },
     "metadata": {},
     "output_type": "display_data"
    },
    {
     "name": "stdout",
     "output_type": "stream",
     "text": [
      "<class 'pandas.core.frame.DataFrame'>\n",
      "RangeIndex: 99996 entries, 0 to 99995\n",
      "Data columns (total 4 columns):\n",
      " #   Column   Non-Null Count  Dtype  \n",
      "---  ------   --------------  -----  \n",
      " 0   f0       99996 non-null  float64\n",
      " 1   f1       99996 non-null  float64\n",
      " 2   f2       99996 non-null  float64\n",
      " 3   product  99996 non-null  float64\n",
      "dtypes: float64(4)\n",
      "memory usage: 3.1 MB\n"
     ]
    },
    {
     "data": {
      "text/plain": [
       "'******************************'"
      ]
     },
     "metadata": {},
     "output_type": "display_data"
    }
   ],
   "source": [
    "#дополнительно проверим результаты предыдущих операций\n",
    "for df in [geo_0, geo_1, geo_2]:\n",
    "    df.info()\n",
    "    #добавим разделитель\n",
    "    display(30*'*')"
   ]
  },
  {
   "cell_type": "markdown",
   "id": "c79b661f",
   "metadata": {},
   "source": [
    "Удаление дубликатов и удаление столбца выполнено корректно."
   ]
  },
  {
   "cell_type": "markdown",
   "id": "f4a73cbe",
   "metadata": {},
   "source": [
    "## 1.3 Проверка данных на выбросы"
   ]
  },
  {
   "cell_type": "markdown",
   "id": "9e3a65a6",
   "metadata": {},
   "source": [
    "Для анализа наличия выбросов для каждого датафрейма построим диаграммы размаха и точечные графики по каждому параметру. Воспользуемся циклом. "
   ]
  },
  {
   "cell_type": "code",
   "execution_count": 313,
   "id": "8503a539",
   "metadata": {
    "scrolled": false
   },
   "outputs": [
    {
     "data": {
      "image/png": "[encoded data removed]",
      "text/plain": [
       "<Figure size 1368x720 with 1 Axes>"
      ]
     },
     "metadata": {
      "needs_background": "light"
     },
     "output_type": "display_data"
    },
    {
     "data": {
      "image/png": "[encoded data removed]",
      "text/plain": [
       "<Figure size 1080x936 with 4 Axes>"
      ]
     },
     "metadata": {
      "needs_background": "light"
     },
     "output_type": "display_data"
    },
    {
     "data": {
      "image/png": "[encoded data removed]",
      "text/plain": [
       "<Figure size 1368x720 with 1 Axes>"
      ]
     },
     "metadata": {
      "needs_background": "light"
     },
     "output_type": "display_data"
    },
    {
     "data": {
      "image/png": "[encoded data removed]",
      "text/plain": [
       "<Figure size 1080x936 with 4 Axes>"
      ]
     },
     "metadata": {
      "needs_background": "light"
     },
     "output_type": "display_data"
    },
    {
     "data": {
      "image/png": "[encoded data removed]",
      "text/plain": [
       "<Figure size 1368x720 with 1 Axes>"
      ]
     },
     "metadata": {
      "needs_background": "light"
     },
     "output_type": "display_data"
    },
    {
     "data": {
      "image/png": "[encoded data removed]",
      "text/plain": [
       "<Figure size 1080x936 with 4 Axes>"
      ]
     },
     "metadata": {
      "needs_background": "light"
     },
     "output_type": "display_data"
    }
   ],
   "source": [
    "#зададим вспомогательные начальные значения\n",
    "sbplot_number=[221, 222, 223, 224]\n",
    "\n",
    "#запустим цикл построения графиков\n",
    "for reg, region in enumerate([geo_0, geo_1, geo_2]):\n",
    "        \n",
    "    #построим диаграмму размаха\n",
    "    region.boxplot(figsize=(19, 10))\n",
    "\n",
    "    #добавим элементы оформления к диаграмме размаха\n",
    "    plt.title('Диаграмма размаха для данных по региону '+str(reg));\n",
    "    plt.xlabel('Признак');\n",
    "    plt.ylabel('Значение признака');\n",
    "    plt.show()\n",
    "    \n",
    "    #создадим полотно для точечных графиков\n",
    "    fig = plt.figure(figsize=(15,13))\n",
    "\n",
    "    #добавим на полото точечный график для кажтого признака\n",
    "    for i, prizn in enumerate(list(geo_0.columns)):\n",
    "        ax = fig.add_subplot(sbplot_number[i])\n",
    "        region[prizn].plot(style='o', xlabel = prizn, ylabel = 'Значение признака', title = 'Точечный график '+prizn+', регион '+str(reg))\n",
    "    \n",
    "    plt.show()  \n"
   ]
  },
  {
   "cell_type": "markdown",
   "id": "68e03d47",
   "metadata": {},
   "source": [
    "Анализируя приведенные выше графические материалы, можно сделать вывод о том, что выбросы присутствуют, однако их очень мало и они не приводят к выбросам в значениях целевого признака. Оставим данные без изменения."
   ]
  },
  {
   "cell_type": "markdown",
   "id": "8c27e86d",
   "metadata": {},
   "source": [
    "# 2. Обучение модели прогноза объема добычи"
   ]
  },
  {
   "cell_type": "markdown",
   "id": "7055d05a",
   "metadata": {},
   "source": [
    "## 2.1 Подготовка данных к обучению модели"
   ]
  },
  {
   "cell_type": "markdown",
   "id": "4ea26c2c",
   "metadata": {},
   "source": [
    "В рамках подготовки данных к обучению модели выполним следующие шаги:\n",
    "- в соотношении 3:1 разобъем выборки для каждого региона на обучающую и валидационную (соотношение указано в задании на проект);\n",
    "- выделим features и target для каждого региона."
   ]
  },
  {
   "cell_type": "markdown",
   "id": "ae4096c9",
   "metadata": {},
   "source": [
    "### 2.1.1 Разбиение выборок на обучающую и валидационную"
   ]
  },
  {
   "cell_type": "code",
   "execution_count": 314,
   "id": "6287370a",
   "metadata": {},
   "outputs": [],
   "source": [
    "#зафиксируем показатель псевдослучайной выборки\n",
    "STATE = 12345"
   ]
  },
  {
   "cell_type": "code",
   "execution_count": 315,
   "id": "3dd648eb",
   "metadata": {},
   "outputs": [],
   "source": [
    "#сформируем обучающую и валидационную выборки для региона 0\n",
    "train_0, valid_0 = train_test_split(geo_0, test_size=0.25, random_state=STATE) "
   ]
  },
  {
   "cell_type": "code",
   "execution_count": 316,
   "id": "3bf10f26",
   "metadata": {},
   "outputs": [],
   "source": [
    "#сформируем обучающую и валидационную выборки для регионов 1 и 2\n",
    "train_1, valid_1, train_2, valid_2 = train_test_split(geo_1, geo_2, test_size=0.25, random_state=STATE) "
   ]
  },
  {
   "cell_type": "code",
   "execution_count": 317,
   "id": "58bd4b56",
   "metadata": {},
   "outputs": [
    {
     "name": "stdout",
     "output_type": "stream",
     "text": [
      "(74992, 4)\n",
      "(24998, 4)\n"
     ]
    }
   ],
   "source": [
    "#проверим результаты для региона 0\n",
    "print(train_0.shape)\n",
    "print(valid_0.shape)"
   ]
  },
  {
   "cell_type": "code",
   "execution_count": 318,
   "id": "461d9531",
   "metadata": {},
   "outputs": [
    {
     "name": "stdout",
     "output_type": "stream",
     "text": [
      "(74997, 4)\n",
      "(24999, 4)\n"
     ]
    }
   ],
   "source": [
    "#проверим результаты для региона 1\n",
    "print(train_1.shape)\n",
    "print(valid_1.shape)"
   ]
  },
  {
   "cell_type": "code",
   "execution_count": 319,
   "id": "1523c9ec",
   "metadata": {},
   "outputs": [
    {
     "name": "stdout",
     "output_type": "stream",
     "text": [
      "(74997, 4)\n",
      "(24999, 4)\n"
     ]
    }
   ],
   "source": [
    "#проверим результаты для региона 2\n",
    "print(train_2.shape)\n",
    "print(valid_2.shape)"
   ]
  },
  {
   "cell_type": "markdown",
   "id": "59227b34",
   "metadata": {},
   "source": [
    "Обучающая и валидационная выборки сформированы в правильном соотношении размерностей."
   ]
  },
  {
   "cell_type": "markdown",
   "id": "1b0b253f",
   "metadata": {},
   "source": [
    "### 2.1.2 Выделение признаков и целевого признака для каждого региона"
   ]
  },
  {
   "cell_type": "code",
   "execution_count": 320,
   "id": "d0b913d7",
   "metadata": {},
   "outputs": [],
   "source": [
    "def features_and_target(data_train, data_valid, target_name):\n",
    "    \n",
    "    #разделим выборки на features и target\n",
    "    features_train = data_train.drop(columns=target_name).reset_index(drop=True)\n",
    "    features_valid = data_valid.drop(columns=target_name).reset_index(drop=True)\n",
    "    target_train = data_train[target_name].reset_index(drop=True)\n",
    "    target_valid = data_valid[target_name].reset_index(drop=True)\n",
    "    \n",
    "    #проверим результат\n",
    "    display('Размер обучающих выборок')\n",
    "    display(features_train.shape)\n",
    "    display(target_train.shape)\n",
    "\n",
    "    display('Размер валидационных выборок')\n",
    "    display(features_valid.shape)\n",
    "    display(target_valid.shape)\n",
    "    \n",
    "    return features_train, target_train, features_valid, target_valid"
   ]
  },
  {
   "cell_type": "code",
   "execution_count": 321,
   "id": "37df09c2",
   "metadata": {},
   "outputs": [
    {
     "data": {
      "text/plain": [
       "'Размер обучающих выборок'"
      ]
     },
     "metadata": {},
     "output_type": "display_data"
    },
    {
     "data": {
      "text/plain": [
       "(74992, 3)"
      ]
     },
     "metadata": {},
     "output_type": "display_data"
    },
    {
     "data": {
      "text/plain": [
       "(74992,)"
      ]
     },
     "metadata": {},
     "output_type": "display_data"
    },
    {
     "data": {
      "text/plain": [
       "'Размер валидационных выборок'"
      ]
     },
     "metadata": {},
     "output_type": "display_data"
    },
    {
     "data": {
      "text/plain": [
       "(24998, 3)"
      ]
     },
     "metadata": {},
     "output_type": "display_data"
    },
    {
     "data": {
      "text/plain": [
       "(24998,)"
      ]
     },
     "metadata": {},
     "output_type": "display_data"
    }
   ],
   "source": [
    "#выделим features и target для региона 0\n",
    "features_train_0, target_train_0, features_valid_0, target_valid_0 = features_and_target(train_0, valid_0, 'product')"
   ]
  },
  {
   "cell_type": "code",
   "execution_count": 322,
   "id": "22792c49",
   "metadata": {},
   "outputs": [
    {
     "data": {
      "text/plain": [
       "'Размер обучающих выборок'"
      ]
     },
     "metadata": {},
     "output_type": "display_data"
    },
    {
     "data": {
      "text/plain": [
       "(74997, 3)"
      ]
     },
     "metadata": {},
     "output_type": "display_data"
    },
    {
     "data": {
      "text/plain": [
       "(74997,)"
      ]
     },
     "metadata": {},
     "output_type": "display_data"
    },
    {
     "data": {
      "text/plain": [
       "'Размер валидационных выборок'"
      ]
     },
     "metadata": {},
     "output_type": "display_data"
    },
    {
     "data": {
      "text/plain": [
       "(24999, 3)"
      ]
     },
     "metadata": {},
     "output_type": "display_data"
    },
    {
     "data": {
      "text/plain": [
       "(24999,)"
      ]
     },
     "metadata": {},
     "output_type": "display_data"
    }
   ],
   "source": [
    "#выделим features и target для региона 1\n",
    "features_train_1, target_train_1, features_valid_1, target_valid_1 = features_and_target(train_1, valid_1, 'product')"
   ]
  },
  {
   "cell_type": "code",
   "execution_count": 323,
   "id": "f80f8dad",
   "metadata": {},
   "outputs": [
    {
     "data": {
      "text/plain": [
       "'Размер обучающих выборок'"
      ]
     },
     "metadata": {},
     "output_type": "display_data"
    },
    {
     "data": {
      "text/plain": [
       "(74997, 3)"
      ]
     },
     "metadata": {},
     "output_type": "display_data"
    },
    {
     "data": {
      "text/plain": [
       "(74997,)"
      ]
     },
     "metadata": {},
     "output_type": "display_data"
    },
    {
     "data": {
      "text/plain": [
       "'Размер валидационных выборок'"
      ]
     },
     "metadata": {},
     "output_type": "display_data"
    },
    {
     "data": {
      "text/plain": [
       "(24999, 3)"
      ]
     },
     "metadata": {},
     "output_type": "display_data"
    },
    {
     "data": {
      "text/plain": [
       "(24999,)"
      ]
     },
     "metadata": {},
     "output_type": "display_data"
    }
   ],
   "source": [
    "#выделим features и target для региона 2\n",
    "features_train_2, target_train_2, features_valid_2, target_valid_2 = features_and_target(train_2, valid_2, 'product')"
   ]
  },
  {
   "cell_type": "markdown",
   "id": "91afe919",
   "metadata": {},
   "source": [
    "## 2.2 Cоздание модели и прогноз"
   ]
  },
  {
   "cell_type": "markdown",
   "id": "206d50c9",
   "metadata": {},
   "source": [
    "На текущем этапе для каждого региона необходимо обучить модель, предсказывающую объем добытого сырья, и сделать предсказание на валидационной выборке.\n",
    "\n",
    "Напишем функцию, принимающую на вход обучающие выборки features и target и валидационные выборки features и target.\n",
    "В результате работы функция возвращает модель, предсказание и значение RMSE."
   ]
  },
  {
   "cell_type": "code",
   "execution_count": 324,
   "id": "a079be15",
   "metadata": {},
   "outputs": [],
   "source": [
    "def training(features_train, target_train, features_valid, target_valid):\n",
    "    \n",
    "    #1. Выполним стандартизацию признаков\n",
    "    #создадим и настроим StandardScaler\n",
    "    scaler = StandardScaler()\n",
    "    scaler.fit(features_train)\n",
    "\n",
    "    #стандартизируем признаки в features_train и features_valid\n",
    "    features_train = scaler.transform(features_train)\n",
    "    features_valid = scaler.transform(features_valid)\n",
    "    \n",
    "    #2. Создадим и обучим модель\n",
    "    model = LinearRegression()\n",
    "    model.fit(features_train, target_train)\n",
    "    \n",
    "    predictions_valid = model.predict(features_valid)\n",
    "    predictions_valid = pd.Series(predictions_valid)\n",
    "    \n",
    "    #3. Рассчитаем значения rmse\n",
    "    rmse = (mean_squared_error(target_valid, predictions_valid))**0.5\n",
    "\n",
    "    return model, predictions_valid, rmse"
   ]
  },
  {
   "cell_type": "markdown",
   "id": "cce771dc",
   "metadata": {},
   "source": [
    "Создадим модель для каждого региона, выполним прогноз объема добычи и рассчитаем величину RMSE."
   ]
  },
  {
   "cell_type": "code",
   "execution_count": 325,
   "id": "9cc041dd",
   "metadata": {},
   "outputs": [
    {
     "name": "stdout",
     "output_type": "stream",
     "text": [
      "RMSE предсказаний для региона 0: 37.853527328872964\n",
      "CPU times: total: 15.6 ms\n",
      "Wall time: 18 ms\n"
     ]
    }
   ],
   "source": [
    "%%time\n",
    "\n",
    "#нулевой регион\n",
    "model_0, predictions_0, rmse_0 = training(features_train_0, target_train_0, features_valid_0, target_valid_0)\n",
    "print('RMSE предсказаний для региона 0:', rmse_0)"
   ]
  },
  {
   "cell_type": "code",
   "execution_count": 326,
   "id": "6264c7f1",
   "metadata": {},
   "outputs": [
    {
     "name": "stdout",
     "output_type": "stream",
     "text": [
      "RMSE предсказаний для региона 1: 0.8920592647717037\n",
      "CPU times: total: 31.2 ms\n",
      "Wall time: 18 ms\n"
     ]
    }
   ],
   "source": [
    "%%time\n",
    "\n",
    "#первый регион\n",
    "model_1, predictions_1, rmse_1 = training(features_train_1, target_train_1, features_valid_1, target_valid_1)\n",
    "print('RMSE предсказаний для региона 1:', rmse_1)"
   ]
  },
  {
   "cell_type": "code",
   "execution_count": 327,
   "id": "204c987b",
   "metadata": {},
   "outputs": [
    {
     "name": "stdout",
     "output_type": "stream",
     "text": [
      "RMSE предсказаний для региона 2: 40.07585073246016\n",
      "CPU times: total: 15.6 ms\n",
      "Wall time: 17.9 ms\n"
     ]
    }
   ],
   "source": [
    "%%time\n",
    "\n",
    "#второй регион\n",
    "model_2, predictions_2, rmse_2 = training(features_train_2, target_train_2, features_valid_2, target_valid_2)\n",
    "print('RMSE предсказаний для региона 2:', rmse_2)"
   ]
  },
  {
   "cell_type": "markdown",
   "id": "cda2e7ee",
   "metadata": {},
   "source": [
    "Величина RMSE для нулевого и второго регионов составляет 37.9 и 40.1 тысяч баррелей соответственно. Величина RMSE для первого региона намного лучше и составляет 0.9 тыс. баррелей, что, вероятно, вызвано особенностями данных. Посмотрим на матрицу корреляции для каждого региона."
   ]
  },
  {
   "cell_type": "code",
   "execution_count": 354,
   "id": "f48ca792",
   "metadata": {},
   "outputs": [
    {
     "name": "stdout",
     "output_type": "stream",
     "text": [
      "*** Матрица корреляции для региона 0 ***\n"
     ]
    },
    {
     "data": {
      "text/html": [
       "<div>\n",
       "<style scoped>\n",
       "    .dataframe tbody tr th:only-of-type {\n",
       "        vertical-align: middle;\n",
       "    }\n",
       "\n",
       "    .dataframe tbody tr th {\n",
       "        vertical-align: top;\n",
       "    }\n",
       "\n",
       "    .dataframe thead th {\n",
       "        text-align: right;\n",
       "    }\n",
       "</style>\n",
       "<table border=\"1\" class=\"dataframe\">\n",
       "  <thead>\n",
       "    <tr style=\"text-align: right;\">\n",
       "      <th></th>\n",
       "      <th>f0</th>\n",
       "      <th>f1</th>\n",
       "      <th>f2</th>\n",
       "      <th>product</th>\n",
       "    </tr>\n",
       "  </thead>\n",
       "  <tbody>\n",
       "    <tr>\n",
       "      <th>f0</th>\n",
       "      <td>1.000000</td>\n",
       "      <td>-0.440717</td>\n",
       "      <td>-0.003211</td>\n",
       "      <td>0.143504</td>\n",
       "    </tr>\n",
       "    <tr>\n",
       "      <th>f1</th>\n",
       "      <td>-0.440717</td>\n",
       "      <td>1.000000</td>\n",
       "      <td>0.001764</td>\n",
       "      <td>-0.192351</td>\n",
       "    </tr>\n",
       "    <tr>\n",
       "      <th>f2</th>\n",
       "      <td>-0.003211</td>\n",
       "      <td>0.001764</td>\n",
       "      <td>1.000000</td>\n",
       "      <td>0.483631</td>\n",
       "    </tr>\n",
       "    <tr>\n",
       "      <th>product</th>\n",
       "      <td>0.143504</td>\n",
       "      <td>-0.192351</td>\n",
       "      <td>0.483631</td>\n",
       "      <td>1.000000</td>\n",
       "    </tr>\n",
       "  </tbody>\n",
       "</table>\n",
       "</div>"
      ],
      "text/plain": [
       "               f0        f1        f2   product\n",
       "f0       1.000000 -0.440717 -0.003211  0.143504\n",
       "f1      -0.440717  1.000000  0.001764 -0.192351\n",
       "f2      -0.003211  0.001764  1.000000  0.483631\n",
       "product  0.143504 -0.192351  0.483631  1.000000"
      ]
     },
     "metadata": {},
     "output_type": "display_data"
    },
    {
     "name": "stdout",
     "output_type": "stream",
     "text": [
      "*** Матрица корреляции для региона 1 ***\n"
     ]
    },
    {
     "data": {
      "text/html": [
       "<div>\n",
       "<style scoped>\n",
       "    .dataframe tbody tr th:only-of-type {\n",
       "        vertical-align: middle;\n",
       "    }\n",
       "\n",
       "    .dataframe tbody tr th {\n",
       "        vertical-align: top;\n",
       "    }\n",
       "\n",
       "    .dataframe thead th {\n",
       "        text-align: right;\n",
       "    }\n",
       "</style>\n",
       "<table border=\"1\" class=\"dataframe\">\n",
       "  <thead>\n",
       "    <tr style=\"text-align: right;\">\n",
       "      <th></th>\n",
       "      <th>f0</th>\n",
       "      <th>f1</th>\n",
       "      <th>f2</th>\n",
       "      <th>product</th>\n",
       "    </tr>\n",
       "  </thead>\n",
       "  <tbody>\n",
       "    <tr>\n",
       "      <th>f0</th>\n",
       "      <td>1.000000</td>\n",
       "      <td>0.182279</td>\n",
       "      <td>-0.001810</td>\n",
       "      <td>-0.030523</td>\n",
       "    </tr>\n",
       "    <tr>\n",
       "      <th>f1</th>\n",
       "      <td>0.182279</td>\n",
       "      <td>1.000000</td>\n",
       "      <td>-0.002594</td>\n",
       "      <td>-0.010154</td>\n",
       "    </tr>\n",
       "    <tr>\n",
       "      <th>f2</th>\n",
       "      <td>-0.001810</td>\n",
       "      <td>-0.002594</td>\n",
       "      <td>1.000000</td>\n",
       "      <td>0.999397</td>\n",
       "    </tr>\n",
       "    <tr>\n",
       "      <th>product</th>\n",
       "      <td>-0.030523</td>\n",
       "      <td>-0.010154</td>\n",
       "      <td>0.999397</td>\n",
       "      <td>1.000000</td>\n",
       "    </tr>\n",
       "  </tbody>\n",
       "</table>\n",
       "</div>"
      ],
      "text/plain": [
       "               f0        f1        f2   product\n",
       "f0       1.000000  0.182279 -0.001810 -0.030523\n",
       "f1       0.182279  1.000000 -0.002594 -0.010154\n",
       "f2      -0.001810 -0.002594  1.000000  0.999397\n",
       "product -0.030523 -0.010154  0.999397  1.000000"
      ]
     },
     "metadata": {},
     "output_type": "display_data"
    },
    {
     "name": "stdout",
     "output_type": "stream",
     "text": [
      "*** Матрица корреляции для региона 2 ***\n"
     ]
    },
    {
     "data": {
      "text/html": [
       "<div>\n",
       "<style scoped>\n",
       "    .dataframe tbody tr th:only-of-type {\n",
       "        vertical-align: middle;\n",
       "    }\n",
       "\n",
       "    .dataframe tbody tr th {\n",
       "        vertical-align: top;\n",
       "    }\n",
       "\n",
       "    .dataframe thead th {\n",
       "        text-align: right;\n",
       "    }\n",
       "</style>\n",
       "<table border=\"1\" class=\"dataframe\">\n",
       "  <thead>\n",
       "    <tr style=\"text-align: right;\">\n",
       "      <th></th>\n",
       "      <th>f0</th>\n",
       "      <th>f1</th>\n",
       "      <th>f2</th>\n",
       "      <th>product</th>\n",
       "    </tr>\n",
       "  </thead>\n",
       "  <tbody>\n",
       "    <tr>\n",
       "      <th>f0</th>\n",
       "      <td>1.000000</td>\n",
       "      <td>0.000506</td>\n",
       "      <td>-0.000452</td>\n",
       "      <td>-0.001978</td>\n",
       "    </tr>\n",
       "    <tr>\n",
       "      <th>f1</th>\n",
       "      <td>0.000506</td>\n",
       "      <td>1.000000</td>\n",
       "      <td>0.000753</td>\n",
       "      <td>-0.001055</td>\n",
       "    </tr>\n",
       "    <tr>\n",
       "      <th>f2</th>\n",
       "      <td>-0.000452</td>\n",
       "      <td>0.000753</td>\n",
       "      <td>1.000000</td>\n",
       "      <td>0.445867</td>\n",
       "    </tr>\n",
       "    <tr>\n",
       "      <th>product</th>\n",
       "      <td>-0.001978</td>\n",
       "      <td>-0.001055</td>\n",
       "      <td>0.445867</td>\n",
       "      <td>1.000000</td>\n",
       "    </tr>\n",
       "  </tbody>\n",
       "</table>\n",
       "</div>"
      ],
      "text/plain": [
       "               f0        f1        f2   product\n",
       "f0       1.000000  0.000506 -0.000452 -0.001978\n",
       "f1       0.000506  1.000000  0.000753 -0.001055\n",
       "f2      -0.000452  0.000753  1.000000  0.445867\n",
       "product -0.001978 -0.001055  0.445867  1.000000"
      ]
     },
     "metadata": {},
     "output_type": "display_data"
    }
   ],
   "source": [
    "for i, region in enumerate([geo_0, geo_1, geo_2]):\n",
    "    print('*** Матрица корреляции для региона', i, '***')\n",
    "    display(region.corr())"
   ]
  },
  {
   "cell_type": "markdown",
   "id": "9e374a42",
   "metadata": {},
   "source": [
    "Анализируя матрицы корреляций, можно заметить, что для региона 1 наблюдается чрезвычайно высокий коэффициент корреляции между f2 и product. Вероятно, этим и обусловлена точность предсказания."
   ]
  },
  {
   "cell_type": "markdown",
   "id": "e00ac426",
   "metadata": {},
   "source": [
    "Объединим результаты предсказаний для каждого региона в таблицу и рассчитаем общий и средний объемы предсказанных и реальных запасов  нефти в каждом регионе."
   ]
  },
  {
   "cell_type": "code",
   "execution_count": 328,
   "id": "845726c2",
   "metadata": {},
   "outputs": [
    {
     "data": {
      "text/html": [
       "<div>\n",
       "<style scoped>\n",
       "    .dataframe tbody tr th:only-of-type {\n",
       "        vertical-align: middle;\n",
       "    }\n",
       "\n",
       "    .dataframe tbody tr th {\n",
       "        vertical-align: top;\n",
       "    }\n",
       "\n",
       "    .dataframe thead th {\n",
       "        text-align: right;\n",
       "    }\n",
       "</style>\n",
       "<table border=\"1\" class=\"dataframe\">\n",
       "  <thead>\n",
       "    <tr style=\"text-align: right;\">\n",
       "      <th></th>\n",
       "      <th>region</th>\n",
       "      <th>real_total_volume</th>\n",
       "      <th>real_mean_volume</th>\n",
       "      <th>predicted_total_volume</th>\n",
       "      <th>predicted_mean_volume</th>\n",
       "      <th>RMSE</th>\n",
       "    </tr>\n",
       "  </thead>\n",
       "  <tbody>\n",
       "    <tr>\n",
       "      <th>0</th>\n",
       "      <td>0</td>\n",
       "      <td>2.303771e+06</td>\n",
       "      <td>92.158205</td>\n",
       "      <td>2.319543e+06</td>\n",
       "      <td>92.789156</td>\n",
       "      <td>37.853527</td>\n",
       "    </tr>\n",
       "    <tr>\n",
       "      <th>1</th>\n",
       "      <td>1</td>\n",
       "      <td>1.729582e+06</td>\n",
       "      <td>69.186044</td>\n",
       "      <td>1.729389e+06</td>\n",
       "      <td>69.178320</td>\n",
       "      <td>0.892059</td>\n",
       "    </tr>\n",
       "    <tr>\n",
       "      <th>2</th>\n",
       "      <td>2</td>\n",
       "      <td>2.369533e+06</td>\n",
       "      <td>94.785109</td>\n",
       "      <td>2.371548e+06</td>\n",
       "      <td>94.865725</td>\n",
       "      <td>40.075851</td>\n",
       "    </tr>\n",
       "  </tbody>\n",
       "</table>\n",
       "</div>"
      ],
      "text/plain": [
       "   region  real_total_volume  real_mean_volume  predicted_total_volume  \\\n",
       "0       0       2.303771e+06         92.158205            2.319543e+06   \n",
       "1       1       1.729582e+06         69.186044            1.729389e+06   \n",
       "2       2       2.369533e+06         94.785109            2.371548e+06   \n",
       "\n",
       "   predicted_mean_volume       RMSE  \n",
       "0              92.789156  37.853527  \n",
       "1              69.178320   0.892059  \n",
       "2              94.865725  40.075851  "
      ]
     },
     "execution_count": 328,
     "metadata": {},
     "output_type": "execute_result"
    }
   ],
   "source": [
    "predict_result  = {'region': [0, 1, 2], \n",
    "                   'real_total_volume': [target_valid_0.sum(), target_valid_1.sum(), target_valid_2.sum()],\n",
    "                   'real_mean_volume': [target_valid_0.mean(), target_valid_1.mean(), target_valid_2.mean()],\n",
    "                   'predicted_total_volume': [predictions_0.sum(), predictions_1.sum(), predictions_2.sum()],\n",
    "                   'predicted_mean_volume': [predictions_0.mean(), predictions_1.mean(), predictions_2.mean()],\n",
    "                   'RMSE': [rmse_0, rmse_1, rmse_2]}\n",
    "                    \n",
    "predict_result = pd.DataFrame(predict_result)\n",
    "predict_result"
   ]
  },
  {
   "cell_type": "markdown",
   "id": "68c994b6",
   "metadata": {},
   "source": [
    "Рассчитаем разницу между реальными и предсказанными объемами."
   ]
  },
  {
   "cell_type": "code",
   "execution_count": 329,
   "id": "48b4995b",
   "metadata": {
    "scrolled": true
   },
   "outputs": [
    {
     "data": {
      "text/html": [
       "<div>\n",
       "<style scoped>\n",
       "    .dataframe tbody tr th:only-of-type {\n",
       "        vertical-align: middle;\n",
       "    }\n",
       "\n",
       "    .dataframe tbody tr th {\n",
       "        vertical-align: top;\n",
       "    }\n",
       "\n",
       "    .dataframe thead th {\n",
       "        text-align: right;\n",
       "    }\n",
       "</style>\n",
       "<table border=\"1\" class=\"dataframe\">\n",
       "  <thead>\n",
       "    <tr style=\"text-align: right;\">\n",
       "      <th></th>\n",
       "      <th>region</th>\n",
       "      <th>real_total_volume</th>\n",
       "      <th>real_mean_volume</th>\n",
       "      <th>predicted_total_volume</th>\n",
       "      <th>predicted_mean_volume</th>\n",
       "      <th>RMSE</th>\n",
       "      <th>delta_total_volume</th>\n",
       "      <th>delta_mean_volume</th>\n",
       "    </tr>\n",
       "  </thead>\n",
       "  <tbody>\n",
       "    <tr>\n",
       "      <th>0</th>\n",
       "      <td>0</td>\n",
       "      <td>2.303771e+06</td>\n",
       "      <td>92.158205</td>\n",
       "      <td>2.319543e+06</td>\n",
       "      <td>92.789156</td>\n",
       "      <td>37.853527</td>\n",
       "      <td>15772.524932</td>\n",
       "      <td>0.630951</td>\n",
       "    </tr>\n",
       "    <tr>\n",
       "      <th>1</th>\n",
       "      <td>1</td>\n",
       "      <td>1.729582e+06</td>\n",
       "      <td>69.186044</td>\n",
       "      <td>1.729389e+06</td>\n",
       "      <td>69.178320</td>\n",
       "      <td>0.892059</td>\n",
       "      <td>-193.103257</td>\n",
       "      <td>-0.007724</td>\n",
       "    </tr>\n",
       "    <tr>\n",
       "      <th>2</th>\n",
       "      <td>2</td>\n",
       "      <td>2.369533e+06</td>\n",
       "      <td>94.785109</td>\n",
       "      <td>2.371548e+06</td>\n",
       "      <td>94.865725</td>\n",
       "      <td>40.075851</td>\n",
       "      <td>2015.305683</td>\n",
       "      <td>0.080615</td>\n",
       "    </tr>\n",
       "  </tbody>\n",
       "</table>\n",
       "</div>"
      ],
      "text/plain": [
       "   region  real_total_volume  real_mean_volume  predicted_total_volume  \\\n",
       "0       0       2.303771e+06         92.158205            2.319543e+06   \n",
       "1       1       1.729582e+06         69.186044            1.729389e+06   \n",
       "2       2       2.369533e+06         94.785109            2.371548e+06   \n",
       "\n",
       "   predicted_mean_volume       RMSE  delta_total_volume  delta_mean_volume  \n",
       "0              92.789156  37.853527        15772.524932           0.630951  \n",
       "1              69.178320   0.892059         -193.103257          -0.007724  \n",
       "2              94.865725  40.075851         2015.305683           0.080615  "
      ]
     },
     "execution_count": 329,
     "metadata": {},
     "output_type": "execute_result"
    }
   ],
   "source": [
    "predict_result['delta_total_volume'] = predict_result['predicted_total_volume'] - predict_result['real_total_volume']\n",
    "predict_result['delta_mean_volume'] = predict_result['predicted_mean_volume'] - predict_result['real_mean_volume']\n",
    "predict_result"
   ]
  },
  {
   "cell_type": "markdown",
   "id": "c21db89f",
   "metadata": {},
   "source": [
    "В результате сравнения средних реальных запасов нефти по регионам и средних предсказанных, можно сказать следующие **выводы**:\n",
    "- разница в среднем ожидаемом и среднем реальном объемах для регионов 1 и 2 не превышает по модулю 0.1 тыс. баррелей, что эквивалентно 45 тыс. рублей средней выручки. Для региона 1 модель предсказала объем сырья меньше реального, для региона 2 - больше реального;\n",
    "- ошибка в определении общего объема сырья по предсказаниям увеличивается пропорционально количеству скважин: так при количестве скважин ~25 тысяч, ожидаемый объем сырья для региона 1 меньше реального на 193 тыс баррелей (87 млн рублей, что в принципе неплохо - ожидаем меньше, получим больше), для региона 2 - больше реального на 2015 тыс баррелей (907 млн рублей). Можно предположить, что полученные ошибки в оценке среднего и общего объема сырья (следовательно, и выручки) приемлемы в рамках действия крупной корпорации;\n",
    "- для региона 0 ошибка в среднем объеме составила 0.6 тыс баррелей, что немного для одной скважины, однако для 25 тыс скважин ошибка в объеме суммарно будет составлять 15,8 мн баррелей (7.1 млрд выручки);\n",
    "- наилучшим RMSE (0.89) обладает модель для региона 1, значение метрики RMSE для моделей регионов 0 и 2 близки - 38 и 40 тыс баррелей соответственно;\n",
    "- по объемам запасов наименее перспективный - регион 1, наиболее - регионы 0 и 2 (с небольшим отрывом друг от друга)."
   ]
  },
  {
   "cell_type": "markdown",
   "id": "8cc48fdb",
   "metadata": {},
   "source": [
    "# 3. Подготовка к расчету прибыли"
   ]
  },
  {
   "cell_type": "markdown",
   "id": "467de457",
   "metadata": {},
   "source": [
    "Весь бюджет на разработку скважин в регионе составляет BUDGET = 10 млрд руб. Количество планируемых новых скважин в регионе составляет N = 200. Доход REVENUE с 1 единицы сырья составляет 450 000 рублей. \n",
    "\n",
    "Для обеспечения безубыточности разработки, доход от каждой скважины в среднем должен быть не менее суммы, затрачиваемой на ее разработку. В таком случае минимальный средний объем нефти по двумстам разрабатываемым скважинам можно рассчитать по формуле: \n",
    "\n",
    "**Vm = BUDGET/(N x REVENUE)**\n",
    "\n",
    "Минимальный объем добываемой нефти с региона в зоне разработки новых скважин составляет: **Vt = BUDGET/REVENUE**"
   ]
  },
  {
   "cell_type": "code",
   "execution_count": 330,
   "id": "af5de139",
   "metadata": {},
   "outputs": [],
   "source": [
    "BUDGET = 10**10\n",
    "N = 200\n",
    "REVENUE = 45*10**4"
   ]
  },
  {
   "cell_type": "code",
   "execution_count": 331,
   "id": "ed90677c",
   "metadata": {},
   "outputs": [
    {
     "name": "stdout",
     "output_type": "stream",
     "text": [
      "Минимальный средний объем добычи с одной скважины: 111.11 тыс. баррелей\n",
      "Минимальный объем добычи с участка: 22222.22 тыс. баррелей\n"
     ]
    }
   ],
   "source": [
    "#рассчитаем средний объем добычи с одной скважины\n",
    "vm = BUDGET/(N*REVENUE)\n",
    "\n",
    "#рассчитаем минимальный объем добычи с участка\n",
    "vt = BUDGET/REVENUE\n",
    "\n",
    "#покажем результаты\n",
    "print('Минимальный средний объем добычи с одной скважины:', round(vm, 2), 'тыс. баррелей')\n",
    "print('Минимальный объем добычи с участка:', round(vt, 2), 'тыс. баррелей')"
   ]
  },
  {
   "cell_type": "code",
   "execution_count": null,
   "id": "0c4d2cb8",
   "metadata": {},
   "outputs": [],
   "source": [
    "#рассчитаем средние значения объемов сырья по регионам\n",
    "display(geo_0['product'].mean())\n",
    "display(geo_1['product'].mean())\n",
    "display(geo_2['product'].mean())"
   ]
  },
  {
   "cell_type": "markdown",
   "id": "b201b307",
   "metadata": {},
   "source": [
    "Средние показатели объемов добычи для каждого региона меньше минимального безубыточного объема - 111.11 тыс баррелей."
   ]
  },
  {
   "cell_type": "markdown",
   "id": "090a9d35",
   "metadata": {},
   "source": [
    "# 4. Создание функции для расчета прибыли"
   ]
  },
  {
   "cell_type": "markdown",
   "id": "31da9c75",
   "metadata": {},
   "source": [
    "Напишем функцию, принимающую на вход следующие аргументы:\n",
    "- выборку с предполагаемым объемом добычи с каждой скважины;\n",
    "- выборку с реальным объемом добычи с каждой скважины;\n",
    "- количество планируемых скважин;\n",
    "- бюджет на разработку новых скважин;\n",
    "- сумму выручки с единицы продукта.\n",
    "\n",
    "Функция выбирает заданное количество наилучших скважин (по предсказанию), затем для этих скважин осуществляет расчет фактических объемов добычи (по target из исходных данных), на основании чего производит расчет прибыли.\n",
    "\n",
    "\n",
    "Функция должна возвращать:\n",
    "- общий объем добычи;\n",
    "- средний объем добычи;\n",
    "- общую выручку;\n",
    "- общую прибыль."
   ]
  },
  {
   "cell_type": "code",
   "execution_count": 342,
   "id": "59f104d8",
   "metadata": {},
   "outputs": [],
   "source": [
    "def profit_calculate(data_predict, data_real, amount, budget, revenue):\n",
    "    \n",
    "    #выберем заданное количество наиболее продуктивных скважин\n",
    "    best_oilwell_pred = data_predict.sort_values(ascending=False)[:amount]\n",
    "    best_oilwell_real = data_real[best_oilwell_pred.index]\n",
    "    \n",
    "    #рассчитаем общее предполагаемое количество сырья\n",
    "    total_product_real = round(best_oilwell_real.sum(), 3)\n",
    "    \n",
    "    #рассчитаем среднее количество предполагаемого сырья\n",
    "    mean_product_real = round(best_oilwell_real.mean(), 3)\n",
    "    \n",
    "    #рассчитаем общую выручку от предполагаемого объема добычи\n",
    "    total_revenue = total_product_real*revenue\n",
    "    \n",
    "    #рассчитаем общую прибыль от предполагаемого объема добычи\n",
    "    total_profit = total_revenue - budget\n",
    "    \n",
    "    return total_product_real, mean_product_real, total_revenue, total_profit"
   ]
  },
  {
   "cell_type": "markdown",
   "id": "f0700009",
   "metadata": {},
   "source": [
    "Рассчитаем прибыль для 200 самых перспективных скважин."
   ]
  },
  {
   "cell_type": "code",
   "execution_count": 343,
   "id": "11aee1be",
   "metadata": {},
   "outputs": [
    {
     "data": {
      "text/html": [
       "<div>\n",
       "<style scoped>\n",
       "    .dataframe tbody tr th:only-of-type {\n",
       "        vertical-align: middle;\n",
       "    }\n",
       "\n",
       "    .dataframe tbody tr th {\n",
       "        vertical-align: top;\n",
       "    }\n",
       "\n",
       "    .dataframe thead th {\n",
       "        text-align: right;\n",
       "    }\n",
       "</style>\n",
       "<table border=\"1\" class=\"dataframe\">\n",
       "  <thead>\n",
       "    <tr style=\"text-align: right;\">\n",
       "      <th></th>\n",
       "      <th>region</th>\n",
       "      <th>total_product</th>\n",
       "      <th>mean_product</th>\n",
       "      <th>total_revenue</th>\n",
       "      <th>total_profit</th>\n",
       "    </tr>\n",
       "  </thead>\n",
       "  <tbody>\n",
       "    <tr>\n",
       "      <th>0</th>\n",
       "      <td>0</td>\n",
       "      <td>29700.416</td>\n",
       "      <td>148.502</td>\n",
       "      <td>13365187200</td>\n",
       "      <td>3365187200</td>\n",
       "    </tr>\n",
       "    <tr>\n",
       "      <th>1</th>\n",
       "      <td>1</td>\n",
       "      <td>27589.082</td>\n",
       "      <td>137.945</td>\n",
       "      <td>12415086900</td>\n",
       "      <td>2415086900</td>\n",
       "    </tr>\n",
       "    <tr>\n",
       "      <th>2</th>\n",
       "      <td>2</td>\n",
       "      <td>27780.631</td>\n",
       "      <td>138.903</td>\n",
       "      <td>12501283950</td>\n",
       "      <td>2501283950</td>\n",
       "    </tr>\n",
       "  </tbody>\n",
       "</table>\n",
       "</div>"
      ],
      "text/plain": [
       "   region  total_product  mean_product total_revenue total_profit\n",
       "0       0      29700.416       148.502   13365187200   3365187200\n",
       "1       1      27589.082       137.945   12415086900   2415086900\n",
       "2       2      27780.631       138.903   12501283950   2501283950"
      ]
     },
     "execution_count": 343,
     "metadata": {},
     "output_type": "execute_result"
    }
   ],
   "source": [
    "#создадим словарь для сохранения результатов\n",
    "pivot_pred_revenue = {'region':[0, 1, 2],\n",
    "                     'total_product':[],\n",
    "                     'mean_product':[],\n",
    "                     'total_revenue':[],\n",
    "                     'total_profit':[]}\n",
    "\n",
    "#создадим список, используем его в цикле далее\n",
    "real_product = [target_valid_0, target_valid_1, target_valid_2]\n",
    "predicted_product = [predictions_0, predictions_1, predictions_2]\n",
    "\n",
    "#рассчитаем ожидаемую прибыль для регионов\n",
    "for i in range(0, 3):\n",
    "    \n",
    "    #обнулим значения рассчитываемых показателей\n",
    "    tprod=0\n",
    "    mprod=0\n",
    "    trev=0\n",
    "    tprof=0\n",
    "\n",
    "    #рассчитаем требуемые значения\n",
    "    tprod, mprod, trev, tprof = profit_calculate(predicted_product[i], real_product[i], N, BUDGET, REVENUE)\n",
    "    \n",
    "    #сохраним результаты\n",
    "    pivot_pred_revenue['total_product'].append(tprod)\n",
    "    pivot_pred_revenue['mean_product'].append(mprod)\n",
    "    pivot_pred_revenue['total_revenue'].append(format(trev, '.0f'))\n",
    "    pivot_pred_revenue['total_profit'].append(format(tprof, '.0f'))\n",
    "\n",
    "#преобразуем словарь с результатами в датафрейм\n",
    "pivot_pred_revenue = pd.DataFrame(pivot_pred_revenue)\n",
    "pivot_pred_revenue"
   ]
  },
  {
   "cell_type": "markdown",
   "id": "a31ae198",
   "metadata": {},
   "source": [
    "Двести лучших скважин в регионе 0 позволяют получить прибыль +3.4 млрд рублей, в регионе 1 - +2.4 млрд рублей, в регионе 2 - +2.5 млрд рублей. \n",
    "\n",
    "Несмотря на то, что общие запасы в регионе 1 в 1.4 раза меньше, чем в регионе 2, разница в прибыли составляет всего ~3%.\n",
    "Средний запас сырья в регионах 0 и 2 практически одинаков, однако предполагаемая прибыль в регионе 0 на 36% выше."
   ]
  },
  {
   "cell_type": "markdown",
   "id": "e3408313",
   "metadata": {},
   "source": [
    "# 5. Расчет рисков и прибыли для каждого региона"
   ]
  },
  {
   "cell_type": "markdown",
   "id": "a0a35e7d",
   "metadata": {},
   "source": [
    "С помощью техники Bootstrap рассчитаем риски и прибыль для каждого региона.\n",
    "\n",
    "Напишем функцию, выполняющую следующие операции:\n",
    "- формирование тысячи выборок объемом 500 скважин;\n",
    "- расчет прибыли для двухсот лучших скважин (средняя общая прибыль) для каждой выборки;\n",
    "- расчет среднего значения прибыли для двухсот лучших скважин;\n",
    "- расчет границ 95% доверительного интервала среднего значения прибыли;\n",
    "- вероятность убытков."
   ]
  },
  {
   "cell_type": "code",
   "execution_count": 360,
   "id": "80655da5",
   "metadata": {},
   "outputs": [],
   "source": [
    "def bootstrap_profit(pred_data, real_data):\n",
    "    \n",
    "    #сформируем псевдослучайную последовательность \n",
    "    state = np.random.RandomState(STATE)\n",
    "    #создадим список для хранения прибыли\n",
    "    profits = []\n",
    "    \n",
    "    #ассчитаем значения прибыли для 1000 выборок\n",
    "    for i in range(1000):\n",
    "        subsample = pred_data.sample(500, replace=True, random_state=state)\n",
    "        btprod, bmprod, btrev, btprof = profit_calculate(subsample, real_data, N, BUDGET, REVENUE)\n",
    "        profits.append(btprof)\n",
    "        \n",
    "    profits = pd.Series(profits)\n",
    "    \n",
    "    #рассчитаем среднее значение прибыли, нижний и верхний границы 95%-го интервала доверия и вероятность убыточной прибыли\n",
    "    mean_profit = profits.mean()\n",
    "    lower = round(profits.quantile(0.025), 2)\n",
    "    upper = round(profits.quantile(0.975), 2)\n",
    "    loss_percent = (profits<0).mean()*100   \n",
    "        \n",
    "    return mean_profit, lower, upper, loss_percent"
   ]
  },
  {
   "cell_type": "code",
   "execution_count": 362,
   "id": "9640e0a2",
   "metadata": {},
   "outputs": [
    {
     "data": {
      "text/html": [
       "<div>\n",
       "<style scoped>\n",
       "    .dataframe tbody tr th:only-of-type {\n",
       "        vertical-align: middle;\n",
       "    }\n",
       "\n",
       "    .dataframe tbody tr th {\n",
       "        vertical-align: top;\n",
       "    }\n",
       "\n",
       "    .dataframe thead th {\n",
       "        text-align: right;\n",
       "    }\n",
       "</style>\n",
       "<table border=\"1\" class=\"dataframe\">\n",
       "  <thead>\n",
       "    <tr style=\"text-align: right;\">\n",
       "      <th></th>\n",
       "      <th>reg</th>\n",
       "      <th>mean_profit</th>\n",
       "      <th>lower_bord</th>\n",
       "      <th>upper_bord</th>\n",
       "      <th>loss_percent</th>\n",
       "    </tr>\n",
       "  </thead>\n",
       "  <tbody>\n",
       "    <tr>\n",
       "      <th>0</th>\n",
       "      <td>0</td>\n",
       "      <td>380613472.100</td>\n",
       "      <td>-142942667.500</td>\n",
       "      <td>890976837.500</td>\n",
       "      <td>7.7</td>\n",
       "    </tr>\n",
       "    <tr>\n",
       "      <th>1</th>\n",
       "      <td>1</td>\n",
       "      <td>478484941.400</td>\n",
       "      <td>89525138.750</td>\n",
       "      <td>866604691.250</td>\n",
       "      <td>1.2</td>\n",
       "    </tr>\n",
       "    <tr>\n",
       "      <th>2</th>\n",
       "      <td>2</td>\n",
       "      <td>330546262.850</td>\n",
       "      <td>-190365771.250</td>\n",
       "      <td>840467273.750</td>\n",
       "      <td>11.3</td>\n",
       "    </tr>\n",
       "  </tbody>\n",
       "</table>\n",
       "</div>"
      ],
      "text/plain": [
       "   reg    mean_profit      lower_bord     upper_bord  loss_percent\n",
       "0    0  380613472.100  -142942667.500  890976837.500           7.7\n",
       "1    1  478484941.400    89525138.750  866604691.250           1.2\n",
       "2    2  330546262.850  -190365771.250  840467273.750          11.3"
      ]
     },
     "execution_count": 362,
     "metadata": {},
     "output_type": "execute_result"
    }
   ],
   "source": [
    "#создадим словарь для записи результатов\n",
    "pivot_butstrap_profit = {'reg':[0, 1, 2],\n",
    "                        'mean_profit':[],\n",
    "                        'lower_bord':[],\n",
    "                        'upper_bord':[],\n",
    "                        'loss_percent':[]}\n",
    "for i in range(0, 3):\n",
    "    \n",
    "    #обнулим рассчитываемые показатели\n",
    "    mean_profit = 0\n",
    "    lower = 0\n",
    "    upper = 0\n",
    "    loss_percent = 0\n",
    "    \n",
    "    #рассчитаем среднее значение прибыли, нижний и верхний границы 95%-го интервала доверия и вероятность убыточной прибыли\n",
    "    mean_profit, lower, upper, loss_percent = bootstrap_profit(predicted_product[i], real_product[i])\n",
    "    \n",
    "    #сохраним результаты\n",
    "    pivot_butstrap_profit['mean_profit'].append(format(mean_profit, '.3f'))\n",
    "    pivot_butstrap_profit['lower_bord'].append(format(lower, '.3f'))\n",
    "    pivot_butstrap_profit['upper_bord'].append(format(upper, '.3f'))\n",
    "    pivot_butstrap_profit['loss_percent'].append(loss_percent)\n",
    "    \n",
    "#сформируем результаты и покажем их    \n",
    "pivot_butstrap_profit = pd.DataFrame(pivot_butstrap_profit)\n",
    "pivot_butstrap_profit"
   ]
  },
  {
   "cell_type": "markdown",
   "id": "6079e40d",
   "metadata": {},
   "source": [
    "**Выводы**:\n",
    "- наибольшая средняя общая прибыль (478.5 млн рублей) ожидается для региона 1. Для этого же региона характерна наименьшая вероятность убытков (1.2%);\n",
    "- промежуточное значение средней общей прибыли (380.6 млн руб) ожидается в регионе 0, вероятность убытков - 7.7%;\n",
    "- наименьшая ожидаемая средняя общая прибыль характерна для региона 2 и составляет 330.5 млн. руб. Вероятность убытков наибольшая и составляет 11.3%."
   ]
  },
  {
   "cell_type": "markdown",
   "id": "37c2f244",
   "metadata": {},
   "source": [
    "# 6. Общий вывод"
   ]
  },
  {
   "cell_type": "markdown",
   "id": "18db0707",
   "metadata": {},
   "source": [
    "- В рамках выполнения проекта для каждого региона на основе алгоритма линейной регрессии была обучена модель предсказания объема добычии. Качество модели оценивалось по значению метрики RMSE. Наилучшее значение RMSE наблюдается для региона 1 (0.89 баррелей), наихудшее - для региона 2 (40.08 тыс. баррелей). RMSE для региона 0 составяляет 37.85, что очень близко к наихудшему значению. Подобные результаты могут быть обусловлены как качеством самих моделей, так и недостаточной чистотой данных - например, для региона 1 с наилучшим RMSE корреляция между характеристикой f2 и объемом сырья составляет 0.999.\n",
    "\n",
    "- В целом для всех регионов средний предсказанный объем отличается от реального менее, чем на 1 тыс баррелей: ошибка для региона 1 составляет -0.008 тыс баррелей (предсказано чуть меньше реального значения), для региона 0 - +0,63 тыс баррелей, для региона 2 - +0,081 тыс. баррелей, что в эквиваленте выручки составляет менее 450 тыс рублей. Можно предположить, что полученные ошибки в значении предполагаемого среднего приемлемы в рамках работы крупной нефтяной компании, однако следует учитывать, что ошибка в определении общего объема, а следовательно, и выручки, будет увеличиваться пропорционально количеству скважин;\n",
    "\n",
    "- Безубыточный средний объем сырья для каждой скважины составляет 111.11 тыс баррелей, что больше средних запасов по каждому региону (из расчета по всем скважинам в регионе). Наименьшим запасом сырья обладает регион 1 (69.2 тыс баррелей), примерно одинаковые запасы у регионов 1 и 3 - 92.2 и 94.8 тыс. баррелей.\n",
    "\n",
    "- Средний запас сырья для двухсот лучших скважин составляет 148.5, 137.9 и 138.9 тыс баррелей для регионов 0, 1, 2 соответственно. \n",
    "\n",
    "\n",
    "- На основании расчетов распределения прибыли и вероятности убытков, можно **рекомендовать к разработке регион 1**:\n",
    "    - средняя ожидаемая общая прибыль для региона 1 максимальна и составляет 478.5 млн рублей (2.4 млн рублей/скважину);\n",
    "    - вероятность убытков составляет 1.2% (наименьшая вероятность убытков среди всех регионов и единственная не превышающая порог в 2.5%);\n",
    "    - модель прогноза объема добычи для региона 1 имеет самое лучшее значение метрики RMSE, на основании чего можно судить о достоверности полученных результатов для этого региона.\n"
   ]
  }
 ],
 "metadata": {
  "ExecuteTimeLog": [
   {
    "duration": 1232,
    "start_time": "2022-08-19T07:37:18.928Z"
   },
   {
    "duration": 3,
    "start_time": "2022-08-19T07:37:21.444Z"
   },
   {
    "duration": 4,
    "start_time": "2022-08-19T07:37:23.561Z"
   },
   {
    "duration": 666,
    "start_time": "2022-08-19T07:37:26.151Z"
   }
  ],
  "kernelspec": {
   "display_name": "Python 3 (ipykernel)",
   "language": "python",
   "name": "python3"
  },
  "language_info": {
   "codemirror_mode": {
    "name": "ipython",
    "version": 3
   },
   "file_extension": ".py",
   "mimetype": "text/x-python",
   "name": "python",
   "nbconvert_exporter": "python",
   "pygments_lexer": "ipython3",
   "version": "3.9.12"
  },
  "toc": {
   "base_numbering": 1,
   "nav_menu": {},
   "number_sections": true,
   "sideBar": true,
   "skip_h1_title": true,
   "title_cell": "Table of Contents",
   "title_sidebar": "Contents",
   "toc_cell": false,
   "toc_position": {},
   "toc_section_display": true,
   "toc_window_display": false
  }
 },
 "nbformat": 4,
 "nbformat_minor": 5
}
