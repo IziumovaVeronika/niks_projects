{
 "cells": [
  {
   "cell_type": "markdown",
   "id": "fcf9fe46",
   "metadata": {},
   "source": [
    "# **ИССЛЕДОВАНИЕ НАДЕЖНОСТИ ЗАЕМЩИКОВ**"
   ]
  },
  {
   "cell_type": "markdown",
   "id": "66f98a57",
   "metadata": {},
   "source": [
    "## **1. Обзор данных** <a id = 'step_1'></a>"
   ]
  },
  {
   "cell_type": "code",
   "execution_count": 938,
   "id": "f3480969",
   "metadata": {
    "scrolled": true
   },
   "outputs": [
    {
     "name": "stdout",
     "output_type": "stream",
     "text": [
      "<class 'pandas.core.frame.DataFrame'>\n",
      "RangeIndex: 21525 entries, 0 to 21524\n",
      "Data columns (total 12 columns):\n",
      " #   Column            Non-Null Count  Dtype  \n",
      "---  ------            --------------  -----  \n",
      " 0   children          21525 non-null  int64  \n",
      " 1   days_employed     19351 non-null  float64\n",
      " 2   dob_years         21525 non-null  int64  \n",
      " 3   education         21525 non-null  object \n",
      " 4   education_id      21525 non-null  int64  \n",
      " 5   family_status     21525 non-null  object \n",
      " 6   family_status_id  21525 non-null  int64  \n",
      " 7   gender            21525 non-null  object \n",
      " 8   income_type       21525 non-null  object \n",
      " 9   debt              21525 non-null  int64  \n",
      " 10  total_income      19351 non-null  float64\n",
      " 11  purpose           21525 non-null  object \n",
      "dtypes: float64(2), int64(5), object(5)\n",
      "memory usage: 2.0+ MB\n"
     ]
    }
   ],
   "source": [
    "import pandas as pd # импорт библиотеки pandas для работы с датафреймом\n",
    "\n",
    "#создание датафрейма, сохранение данных в переменной df\n",
    "df = pd.read_csv(r'C:\\Users\\vizum\\Desktop\\yandex_practicum\\project_2_credit_scoring\\data.csv')\n",
    "\n",
    "df.info() # вывод общей информации о датафрейме"
   ]
  },
  {
   "cell_type": "code",
   "execution_count": 939,
   "id": "84b5e9f0",
   "metadata": {},
   "outputs": [
    {
     "data": {
      "text/plain": [
       "'Доля пропущенных значений в столбце days_employed и столбце total_income: 10.1%'"
      ]
     },
     "execution_count": 939,
     "metadata": {},
     "output_type": "execute_result"
    }
   ],
   "source": [
    "#Определение доли пропущенных значений в столбцах days_employed и total_income\n",
    "#Количество пропущенных значений сохраним в отдельную переменную, в дальнейшем пригодится\n",
    "start_missed_value = df['days_employed'].isna().sum()\n",
    "\n",
    "#Доля пропущенных значений в процентах\n",
    "miss_rate = start_missed_value/df.shape[0] \n",
    "\n",
    "#вывод доли пропущщенных значений\n",
    "f'Доля пропущенных значений в столбце days_employed и столбце total_income: {miss_rate:.1%}'"
   ]
  },
  {
   "cell_type": "code",
   "execution_count": 940,
   "id": "017a7b8b",
   "metadata": {},
   "outputs": [
    {
     "data": {
      "text/html": [
       "<div>\n",
       "<style scoped>\n",
       "    .dataframe tbody tr th:only-of-type {\n",
       "        vertical-align: middle;\n",
       "    }\n",
       "\n",
       "    .dataframe tbody tr th {\n",
       "        vertical-align: top;\n",
       "    }\n",
       "\n",
       "    .dataframe thead th {\n",
       "        text-align: right;\n",
       "    }\n",
       "</style>\n",
       "<table border=\"1\" class=\"dataframe\">\n",
       "  <thead>\n",
       "    <tr style=\"text-align: right;\">\n",
       "      <th></th>\n",
       "      <th>children</th>\n",
       "      <th>days_employed</th>\n",
       "      <th>dob_years</th>\n",
       "      <th>education</th>\n",
       "      <th>education_id</th>\n",
       "      <th>family_status</th>\n",
       "      <th>family_status_id</th>\n",
       "      <th>gender</th>\n",
       "      <th>income_type</th>\n",
       "      <th>debt</th>\n",
       "      <th>total_income</th>\n",
       "      <th>purpose</th>\n",
       "    </tr>\n",
       "  </thead>\n",
       "  <tbody>\n",
       "    <tr>\n",
       "      <th>0</th>\n",
       "      <td>1</td>\n",
       "      <td>-8437.673028</td>\n",
       "      <td>42</td>\n",
       "      <td>высшее</td>\n",
       "      <td>0</td>\n",
       "      <td>женат / замужем</td>\n",
       "      <td>0</td>\n",
       "      <td>F</td>\n",
       "      <td>сотрудник</td>\n",
       "      <td>0</td>\n",
       "      <td>253875.639453</td>\n",
       "      <td>покупка жилья</td>\n",
       "    </tr>\n",
       "    <tr>\n",
       "      <th>1</th>\n",
       "      <td>1</td>\n",
       "      <td>-4024.803754</td>\n",
       "      <td>36</td>\n",
       "      <td>среднее</td>\n",
       "      <td>1</td>\n",
       "      <td>женат / замужем</td>\n",
       "      <td>0</td>\n",
       "      <td>F</td>\n",
       "      <td>сотрудник</td>\n",
       "      <td>0</td>\n",
       "      <td>112080.014102</td>\n",
       "      <td>приобретение автомобиля</td>\n",
       "    </tr>\n",
       "    <tr>\n",
       "      <th>2</th>\n",
       "      <td>0</td>\n",
       "      <td>-5623.422610</td>\n",
       "      <td>33</td>\n",
       "      <td>Среднее</td>\n",
       "      <td>1</td>\n",
       "      <td>женат / замужем</td>\n",
       "      <td>0</td>\n",
       "      <td>M</td>\n",
       "      <td>сотрудник</td>\n",
       "      <td>0</td>\n",
       "      <td>145885.952297</td>\n",
       "      <td>покупка жилья</td>\n",
       "    </tr>\n",
       "    <tr>\n",
       "      <th>3</th>\n",
       "      <td>3</td>\n",
       "      <td>-4124.747207</td>\n",
       "      <td>32</td>\n",
       "      <td>среднее</td>\n",
       "      <td>1</td>\n",
       "      <td>женат / замужем</td>\n",
       "      <td>0</td>\n",
       "      <td>M</td>\n",
       "      <td>сотрудник</td>\n",
       "      <td>0</td>\n",
       "      <td>267628.550329</td>\n",
       "      <td>дополнительное образование</td>\n",
       "    </tr>\n",
       "    <tr>\n",
       "      <th>4</th>\n",
       "      <td>0</td>\n",
       "      <td>340266.072047</td>\n",
       "      <td>53</td>\n",
       "      <td>среднее</td>\n",
       "      <td>1</td>\n",
       "      <td>гражданский брак</td>\n",
       "      <td>1</td>\n",
       "      <td>F</td>\n",
       "      <td>пенсионер</td>\n",
       "      <td>0</td>\n",
       "      <td>158616.077870</td>\n",
       "      <td>сыграть свадьбу</td>\n",
       "    </tr>\n",
       "    <tr>\n",
       "      <th>5</th>\n",
       "      <td>0</td>\n",
       "      <td>-926.185831</td>\n",
       "      <td>27</td>\n",
       "      <td>высшее</td>\n",
       "      <td>0</td>\n",
       "      <td>гражданский брак</td>\n",
       "      <td>1</td>\n",
       "      <td>M</td>\n",
       "      <td>компаньон</td>\n",
       "      <td>0</td>\n",
       "      <td>255763.565419</td>\n",
       "      <td>покупка жилья</td>\n",
       "    </tr>\n",
       "    <tr>\n",
       "      <th>6</th>\n",
       "      <td>0</td>\n",
       "      <td>-2879.202052</td>\n",
       "      <td>43</td>\n",
       "      <td>высшее</td>\n",
       "      <td>0</td>\n",
       "      <td>женат / замужем</td>\n",
       "      <td>0</td>\n",
       "      <td>F</td>\n",
       "      <td>компаньон</td>\n",
       "      <td>0</td>\n",
       "      <td>240525.971920</td>\n",
       "      <td>операции с жильем</td>\n",
       "    </tr>\n",
       "    <tr>\n",
       "      <th>7</th>\n",
       "      <td>0</td>\n",
       "      <td>-152.779569</td>\n",
       "      <td>50</td>\n",
       "      <td>СРЕДНЕЕ</td>\n",
       "      <td>1</td>\n",
       "      <td>женат / замужем</td>\n",
       "      <td>0</td>\n",
       "      <td>M</td>\n",
       "      <td>сотрудник</td>\n",
       "      <td>0</td>\n",
       "      <td>135823.934197</td>\n",
       "      <td>образование</td>\n",
       "    </tr>\n",
       "    <tr>\n",
       "      <th>8</th>\n",
       "      <td>2</td>\n",
       "      <td>-6929.865299</td>\n",
       "      <td>35</td>\n",
       "      <td>ВЫСШЕЕ</td>\n",
       "      <td>0</td>\n",
       "      <td>гражданский брак</td>\n",
       "      <td>1</td>\n",
       "      <td>F</td>\n",
       "      <td>сотрудник</td>\n",
       "      <td>0</td>\n",
       "      <td>95856.832424</td>\n",
       "      <td>на проведение свадьбы</td>\n",
       "    </tr>\n",
       "    <tr>\n",
       "      <th>9</th>\n",
       "      <td>0</td>\n",
       "      <td>-2188.756445</td>\n",
       "      <td>41</td>\n",
       "      <td>среднее</td>\n",
       "      <td>1</td>\n",
       "      <td>женат / замужем</td>\n",
       "      <td>0</td>\n",
       "      <td>M</td>\n",
       "      <td>сотрудник</td>\n",
       "      <td>0</td>\n",
       "      <td>144425.938277</td>\n",
       "      <td>покупка жилья для семьи</td>\n",
       "    </tr>\n",
       "  </tbody>\n",
       "</table>\n",
       "</div>"
      ],
      "text/plain": [
       "   children  days_employed  dob_years education  education_id  \\\n",
       "0         1   -8437.673028         42    высшее             0   \n",
       "1         1   -4024.803754         36   среднее             1   \n",
       "2         0   -5623.422610         33   Среднее             1   \n",
       "3         3   -4124.747207         32   среднее             1   \n",
       "4         0  340266.072047         53   среднее             1   \n",
       "5         0    -926.185831         27    высшее             0   \n",
       "6         0   -2879.202052         43    высшее             0   \n",
       "7         0    -152.779569         50   СРЕДНЕЕ             1   \n",
       "8         2   -6929.865299         35    ВЫСШЕЕ             0   \n",
       "9         0   -2188.756445         41   среднее             1   \n",
       "\n",
       "      family_status  family_status_id gender income_type  debt   total_income  \\\n",
       "0   женат / замужем                 0      F   сотрудник     0  253875.639453   \n",
       "1   женат / замужем                 0      F   сотрудник     0  112080.014102   \n",
       "2   женат / замужем                 0      M   сотрудник     0  145885.952297   \n",
       "3   женат / замужем                 0      M   сотрудник     0  267628.550329   \n",
       "4  гражданский брак                 1      F   пенсионер     0  158616.077870   \n",
       "5  гражданский брак                 1      M   компаньон     0  255763.565419   \n",
       "6   женат / замужем                 0      F   компаньон     0  240525.971920   \n",
       "7   женат / замужем                 0      M   сотрудник     0  135823.934197   \n",
       "8  гражданский брак                 1      F   сотрудник     0   95856.832424   \n",
       "9   женат / замужем                 0      M   сотрудник     0  144425.938277   \n",
       "\n",
       "                      purpose  \n",
       "0               покупка жилья  \n",
       "1     приобретение автомобиля  \n",
       "2               покупка жилья  \n",
       "3  дополнительное образование  \n",
       "4             сыграть свадьбу  \n",
       "5               покупка жилья  \n",
       "6           операции с жильем  \n",
       "7                 образование  \n",
       "8       на проведение свадьбы  \n",
       "9     покупка жилья для семьи  "
      ]
     },
     "metadata": {},
     "output_type": "display_data"
    },
    {
     "data": {
      "text/html": [
       "<div>\n",
       "<style scoped>\n",
       "    .dataframe tbody tr th:only-of-type {\n",
       "        vertical-align: middle;\n",
       "    }\n",
       "\n",
       "    .dataframe tbody tr th {\n",
       "        vertical-align: top;\n",
       "    }\n",
       "\n",
       "    .dataframe thead th {\n",
       "        text-align: right;\n",
       "    }\n",
       "</style>\n",
       "<table border=\"1\" class=\"dataframe\">\n",
       "  <thead>\n",
       "    <tr style=\"text-align: right;\">\n",
       "      <th></th>\n",
       "      <th>children</th>\n",
       "      <th>days_employed</th>\n",
       "      <th>dob_years</th>\n",
       "      <th>education</th>\n",
       "      <th>education_id</th>\n",
       "      <th>family_status</th>\n",
       "      <th>family_status_id</th>\n",
       "      <th>gender</th>\n",
       "      <th>income_type</th>\n",
       "      <th>debt</th>\n",
       "      <th>total_income</th>\n",
       "      <th>purpose</th>\n",
       "    </tr>\n",
       "  </thead>\n",
       "  <tbody>\n",
       "    <tr>\n",
       "      <th>21515</th>\n",
       "      <td>1</td>\n",
       "      <td>-467.685130</td>\n",
       "      <td>28</td>\n",
       "      <td>среднее</td>\n",
       "      <td>1</td>\n",
       "      <td>женат / замужем</td>\n",
       "      <td>0</td>\n",
       "      <td>F</td>\n",
       "      <td>сотрудник</td>\n",
       "      <td>1</td>\n",
       "      <td>109486.327999</td>\n",
       "      <td>заняться образованием</td>\n",
       "    </tr>\n",
       "    <tr>\n",
       "      <th>21516</th>\n",
       "      <td>0</td>\n",
       "      <td>-914.391429</td>\n",
       "      <td>42</td>\n",
       "      <td>высшее</td>\n",
       "      <td>0</td>\n",
       "      <td>женат / замужем</td>\n",
       "      <td>0</td>\n",
       "      <td>F</td>\n",
       "      <td>компаньон</td>\n",
       "      <td>0</td>\n",
       "      <td>322807.776603</td>\n",
       "      <td>покупка своего жилья</td>\n",
       "    </tr>\n",
       "    <tr>\n",
       "      <th>21517</th>\n",
       "      <td>0</td>\n",
       "      <td>-404.679034</td>\n",
       "      <td>42</td>\n",
       "      <td>высшее</td>\n",
       "      <td>0</td>\n",
       "      <td>гражданский брак</td>\n",
       "      <td>1</td>\n",
       "      <td>F</td>\n",
       "      <td>компаньон</td>\n",
       "      <td>0</td>\n",
       "      <td>178059.553491</td>\n",
       "      <td>на покупку своего автомобиля</td>\n",
       "    </tr>\n",
       "    <tr>\n",
       "      <th>21518</th>\n",
       "      <td>0</td>\n",
       "      <td>373995.710838</td>\n",
       "      <td>59</td>\n",
       "      <td>СРЕДНЕЕ</td>\n",
       "      <td>1</td>\n",
       "      <td>женат / замужем</td>\n",
       "      <td>0</td>\n",
       "      <td>F</td>\n",
       "      <td>пенсионер</td>\n",
       "      <td>0</td>\n",
       "      <td>153864.650328</td>\n",
       "      <td>сделка с автомобилем</td>\n",
       "    </tr>\n",
       "    <tr>\n",
       "      <th>21519</th>\n",
       "      <td>1</td>\n",
       "      <td>-2351.431934</td>\n",
       "      <td>37</td>\n",
       "      <td>ученая степень</td>\n",
       "      <td>4</td>\n",
       "      <td>в разводе</td>\n",
       "      <td>3</td>\n",
       "      <td>M</td>\n",
       "      <td>сотрудник</td>\n",
       "      <td>0</td>\n",
       "      <td>115949.039788</td>\n",
       "      <td>покупка коммерческой недвижимости</td>\n",
       "    </tr>\n",
       "    <tr>\n",
       "      <th>21520</th>\n",
       "      <td>1</td>\n",
       "      <td>-4529.316663</td>\n",
       "      <td>43</td>\n",
       "      <td>среднее</td>\n",
       "      <td>1</td>\n",
       "      <td>гражданский брак</td>\n",
       "      <td>1</td>\n",
       "      <td>F</td>\n",
       "      <td>компаньон</td>\n",
       "      <td>0</td>\n",
       "      <td>224791.862382</td>\n",
       "      <td>операции с жильем</td>\n",
       "    </tr>\n",
       "    <tr>\n",
       "      <th>21521</th>\n",
       "      <td>0</td>\n",
       "      <td>343937.404131</td>\n",
       "      <td>67</td>\n",
       "      <td>среднее</td>\n",
       "      <td>1</td>\n",
       "      <td>женат / замужем</td>\n",
       "      <td>0</td>\n",
       "      <td>F</td>\n",
       "      <td>пенсионер</td>\n",
       "      <td>0</td>\n",
       "      <td>155999.806512</td>\n",
       "      <td>сделка с автомобилем</td>\n",
       "    </tr>\n",
       "    <tr>\n",
       "      <th>21522</th>\n",
       "      <td>1</td>\n",
       "      <td>-2113.346888</td>\n",
       "      <td>38</td>\n",
       "      <td>среднее</td>\n",
       "      <td>1</td>\n",
       "      <td>гражданский брак</td>\n",
       "      <td>1</td>\n",
       "      <td>M</td>\n",
       "      <td>сотрудник</td>\n",
       "      <td>1</td>\n",
       "      <td>89672.561153</td>\n",
       "      <td>недвижимость</td>\n",
       "    </tr>\n",
       "    <tr>\n",
       "      <th>21523</th>\n",
       "      <td>3</td>\n",
       "      <td>-3112.481705</td>\n",
       "      <td>38</td>\n",
       "      <td>среднее</td>\n",
       "      <td>1</td>\n",
       "      <td>женат / замужем</td>\n",
       "      <td>0</td>\n",
       "      <td>M</td>\n",
       "      <td>сотрудник</td>\n",
       "      <td>1</td>\n",
       "      <td>244093.050500</td>\n",
       "      <td>на покупку своего автомобиля</td>\n",
       "    </tr>\n",
       "    <tr>\n",
       "      <th>21524</th>\n",
       "      <td>2</td>\n",
       "      <td>-1984.507589</td>\n",
       "      <td>40</td>\n",
       "      <td>среднее</td>\n",
       "      <td>1</td>\n",
       "      <td>женат / замужем</td>\n",
       "      <td>0</td>\n",
       "      <td>F</td>\n",
       "      <td>сотрудник</td>\n",
       "      <td>0</td>\n",
       "      <td>82047.418899</td>\n",
       "      <td>на покупку автомобиля</td>\n",
       "    </tr>\n",
       "  </tbody>\n",
       "</table>\n",
       "</div>"
      ],
      "text/plain": [
       "       children  days_employed  dob_years       education  education_id  \\\n",
       "21515         1    -467.685130         28         среднее             1   \n",
       "21516         0    -914.391429         42          высшее             0   \n",
       "21517         0    -404.679034         42          высшее             0   \n",
       "21518         0  373995.710838         59         СРЕДНЕЕ             1   \n",
       "21519         1   -2351.431934         37  ученая степень             4   \n",
       "21520         1   -4529.316663         43         среднее             1   \n",
       "21521         0  343937.404131         67         среднее             1   \n",
       "21522         1   -2113.346888         38         среднее             1   \n",
       "21523         3   -3112.481705         38         среднее             1   \n",
       "21524         2   -1984.507589         40         среднее             1   \n",
       "\n",
       "          family_status  family_status_id gender income_type  debt  \\\n",
       "21515   женат / замужем                 0      F   сотрудник     1   \n",
       "21516   женат / замужем                 0      F   компаньон     0   \n",
       "21517  гражданский брак                 1      F   компаньон     0   \n",
       "21518   женат / замужем                 0      F   пенсионер     0   \n",
       "21519         в разводе                 3      M   сотрудник     0   \n",
       "21520  гражданский брак                 1      F   компаньон     0   \n",
       "21521   женат / замужем                 0      F   пенсионер     0   \n",
       "21522  гражданский брак                 1      M   сотрудник     1   \n",
       "21523   женат / замужем                 0      M   сотрудник     1   \n",
       "21524   женат / замужем                 0      F   сотрудник     0   \n",
       "\n",
       "        total_income                            purpose  \n",
       "21515  109486.327999              заняться образованием  \n",
       "21516  322807.776603               покупка своего жилья  \n",
       "21517  178059.553491       на покупку своего автомобиля  \n",
       "21518  153864.650328               сделка с автомобилем  \n",
       "21519  115949.039788  покупка коммерческой недвижимости  \n",
       "21520  224791.862382                  операции с жильем  \n",
       "21521  155999.806512               сделка с автомобилем  \n",
       "21522   89672.561153                       недвижимость  \n",
       "21523  244093.050500       на покупку своего автомобиля  \n",
       "21524   82047.418899              на покупку автомобиля  "
      ]
     },
     "execution_count": 940,
     "metadata": {},
     "output_type": "execute_result"
    }
   ],
   "source": [
    "display(df.head(10)) # вывод на экран первых десяти строк датафрейма\n",
    "df.tail(10) # вывод на экран последних десяти строк датафрейма"
   ]
  },
  {
   "cell_type": "markdown",
   "id": "c4ddc790",
   "metadata": {},
   "source": [
    "**Выводы:** <a id = 'concl_1'></a>\n",
    "1. В столбце ***days_employed*** присутствуют аномальные значения:\n",
    "  - отрицательные - стаж не может быть меньше 0;\n",
    "  - очень большие, превышающие продолжительность жизни человека;\n",
    "  \n",
    "  \n",
    "2. В столбце ***education*** присутствуют неявные дубликаты.\n",
    "\n",
    "\n",
    "3. В столбцах ***days_emloyed*** и ***total_income*** есть пропуски, причем количество пропусков одинаково. Возможно, пропуски обусловлены одним и тем же фактором. В связи с тем, что доля пропущенных значений для каждого из указанных столбцов составляет 10.1%, исключать строки с пропусками из обработки нежелательно - это может исказить результаты. \n",
    "\n",
    "\n",
    "4. Названия столбцов корректны: отсутствуют прописные буквы, нет пробелов, выдержан стиль snake_case.\n",
    "\n",
    "_Методиеские указания по проекту предлагает сначала заполнить пропуски в `total_income` медианными значениями, а затем выполнить проверку данных на аномальные значения. В таком случае медиана будет искажена аномальными значениями, в связи с этим выполним сначала исправление данных, а затем заполним пропуски_\n"
   ]
  },
  {
   "cell_type": "markdown",
   "id": "fdd796f6",
   "metadata": {},
   "source": [
    "## 2. Проверка данных на аномалии и исправления."
   ]
  },
  {
   "cell_type": "markdown",
   "id": "fb1ab367",
   "metadata": {},
   "source": [
    "Полученная на этапе [обзора данных](#step_1) информация не дает полное представление о качестве выборки. Для получения дополнительных сведений выполним детальный анализ по каждому столбцу и при необходимости выполним корректировку данных."
   ]
  },
  {
   "cell_type": "markdown",
   "id": "55c1eea8",
   "metadata": {},
   "source": [
    "### 2.1 Анализ значений столбца `children`"
   ]
  },
  {
   "cell_type": "markdown",
   "id": "f7a1c8cd",
   "metadata": {},
   "source": [
    "Проверим, есть ли аномальные значения в столбце `'children'`. Для этого определим, какие наборы количества детей в выборке присутствуют, и какое количество заемщиков соответствует каждому набору. "
   ]
  },
  {
   "cell_type": "code",
   "execution_count": 941,
   "id": "2dead707",
   "metadata": {},
   "outputs": [
    {
     "data": {
      "text/plain": [
       "-1        47\n",
       " 0     14149\n",
       " 1      4818\n",
       " 2      2055\n",
       " 3       330\n",
       " 4        41\n",
       " 5         9\n",
       " 20       76\n",
       "Name: children, dtype: int64"
      ]
     },
     "execution_count": 941,
     "metadata": {},
     "output_type": "execute_result"
    }
   ],
   "source": [
    "# Воспользуемся методом value_counts()\n",
    "# Отсортируем полученный Series по индексу - для облегчения визуального восприятия результатов.\n",
    "df['children'].value_counts().sort_index()"
   ]
  },
  {
   "cell_type": "markdown",
   "id": "31af2ec5",
   "metadata": {},
   "source": [
    "**Выводы:**\n",
    "1. У 47-и заемщиков количество детей отрицательное, что невозможно. Вероятно, ошибка возникла при подготовке выборки. Это предположение подтверждает и наличие отрицательных значений в столбце `days_employed`. Скорее всего, минус остался от какого-либо разделителя, поэтому для дальнейшей работы его просто откинем.\n",
    "\n",
    "2. У 76-и заемщиков 20 детей. В теории - возможно, но все же многовато. Посмотрим, что говорит статистика (и котики :)) ).\n"
   ]
  },
  {
   "cell_type": "markdown",
   "id": "c7486837",
   "metadata": {},
   "source": [
    "По данным сайта [RT](https://russian.rt.com/russia/article/372844-chislo-mnogodetnyh-semei-rossiya) в 2017 году количество семей с 11 и более детей составляет 929 семей. По данным [Росстата](https://view.officeapps.live.com/op/view.aspx?src=https%3A%2F%2Frosstat.gov.ru%2Fstorage%2Fmediabank%2Fdemo11(1).xls&wdOrigin=BROWSELINK) в России в 2017 году проживало 146.8 млн человек. Предположим, что выборка репрезентативна (другой нет :) ) и соответствует моменту создания выборки (действительно, количество детей быстро не растет). Рассчитаем ожидаемое количество заемщиков в выборке с количеством детей 11 и более."
   ]
  },
  {
   "cell_type": "code",
   "execution_count": 942,
   "id": "80bf6f14",
   "metadata": {},
   "outputs": [
    {
     "name": "stdout",
     "output_type": "stream",
     "text": [
      "Ожидаемое количество заемщиков с количеством детей 11 и более: 0.1\n"
     ]
    }
   ],
   "source": [
    "print(f'Ожидаемое количество заемщиков с количеством детей 11 и более: {929/(146.8*10**6)*df.shape[0]:.1}')"
   ]
  },
  {
   "cell_type": "markdown",
   "id": "d3ef912d",
   "metadata": {},
   "source": [
    "Число заемщиков с 20-ю детьми должно быть еще меньше, однако в текущей выборке их 76 человек, что не может быть правдой. Вероятно, в данные попал лишний ноль, далее его удалим."
   ]
  },
  {
   "cell_type": "markdown",
   "id": "d0daf541",
   "metadata": {},
   "source": [
    "Исправление аномальных значений столбца `children`"
   ]
  },
  {
   "cell_type": "code",
   "execution_count": 943,
   "id": "6631e8e8",
   "metadata": {
    "scrolled": true
   },
   "outputs": [],
   "source": [
    "# заменим отрицательные значения на положительные\n",
    "df.loc[df['children'] < 0, 'children'] = abs(df['children'])\n",
    "\n",
    "# уберем лишний 0 из данных\n",
    "df.loc[df['children'] == 20, 'children'] = 2"
   ]
  },
  {
   "cell_type": "markdown",
   "id": "b325a1ed",
   "metadata": {},
   "source": [
    "Проверим результаты:"
   ]
  },
  {
   "cell_type": "code",
   "execution_count": 944,
   "id": "02059690",
   "metadata": {},
   "outputs": [
    {
     "data": {
      "text/plain": [
       "0    14149\n",
       "1     4865\n",
       "2     2131\n",
       "3      330\n",
       "4       41\n",
       "5        9\n",
       "Name: children, dtype: int64"
      ]
     },
     "execution_count": 944,
     "metadata": {},
     "output_type": "execute_result"
    }
   ],
   "source": [
    "# Воспользуемся методом value_counts()\n",
    "# Отсортируем полученный Series по индексу - для облегчения визуального восприятия результатов.\n",
    "df['children'].value_counts().sort_index()"
   ]
  },
  {
   "cell_type": "markdown",
   "id": "0846b66f",
   "metadata": {},
   "source": [
    "Аномальных значений нет, столбец `children` готов к работе."
   ]
  },
  {
   "cell_type": "markdown",
   "id": "fadbb34a",
   "metadata": {},
   "source": [
    "### 2.2 Анализ значений столбца `income_type`"
   ]
  },
  {
   "cell_type": "markdown",
   "id": "d90291f1",
   "metadata": {},
   "source": [
    "Возможно, аномальные значения столбца `days_employed` связаны со значениями столбца `income_type`, поэтому для получения достоверных результатов анализа проверим корректность заполнения столбца `income_type`.\n",
    "\n",
    "Так как пропуски в этом столбце [отсутствуют](#step_1), проверим строку на неявные дубликаты:"
   ]
  },
  {
   "cell_type": "code",
   "execution_count": 945,
   "id": "58bfe994",
   "metadata": {},
   "outputs": [
    {
     "data": {
      "text/plain": [
       "array(['безработный', 'в декрете', 'госслужащий', 'компаньон',\n",
       "       'пенсионер', 'предприниматель', 'сотрудник', 'студент'],\n",
       "      dtype=object)"
      ]
     },
     "execution_count": 945,
     "metadata": {},
     "output_type": "execute_result"
    }
   ],
   "source": [
    "df['income_type'].sort_values().unique()"
   ]
  },
  {
   "cell_type": "markdown",
   "id": "c4a459a6",
   "metadata": {},
   "source": [
    "Неявных дубликатов нет, пропуски отсутствуют, можно идти дальше."
   ]
  },
  {
   "cell_type": "markdown",
   "id": "878aa4c8",
   "metadata": {},
   "source": [
    "### 2.3 Анализ значений столбца `days_employed`"
   ]
  },
  {
   "cell_type": "markdown",
   "id": "8ed8739e",
   "metadata": {},
   "source": [
    "_Для подтверждения гипотез данные этого столбца не нужны, но так как это учебный проект, почему бы не потренироваться :)_\n",
    "\n",
    "По результатам [предыдущих этапов](#concl_1) были выявлены следующие проблемы со столбцом `days_employed`:\n",
    "- в данных есть пропуски;\n",
    "- присутствуют аномально большие значения;\n",
    "- присутствуют отрицательные значения\n",
    "\n",
    "Проверим следующее:\n",
    "- связаны ли аномальные значения с категориями в `income_type`\n",
    "- связаны ли пропуски в столбцах `days_employed` и `total_income`\n",
    "\n"
   ]
  },
  {
   "cell_type": "markdown",
   "id": "385bc01a",
   "metadata": {},
   "source": [
    "**Проверка связи аномальных значений столбца `days_employed` с категориями в `income_type`**"
   ]
  },
  {
   "cell_type": "markdown",
   "id": "1559a421",
   "metadata": {},
   "source": [
    "Посчитаем количество отрицательных, нулевых и положительных значений в `days_employed`"
   ]
  },
  {
   "cell_type": "code",
   "execution_count": 946,
   "id": "b245ed90",
   "metadata": {},
   "outputs": [
    {
     "name": "stdout",
     "output_type": "stream",
     "text": [
      "Отрицательных значений: 15906\n",
      "Нулевых значений: 0\n",
      "Положительных значений: 3445\n"
     ]
    }
   ],
   "source": [
    "print('Отрицательных значений:', df[df['days_employed'] < 0]['days_employed'].count())\n",
    "print('Нулевых значений:', df[df['days_employed'] == 0]['days_employed'].count())\n",
    "print('Положительных значений:', df[df['days_employed'] > 0]['days_employed'].count())"
   ]
  },
  {
   "cell_type": "markdown",
   "id": "c0385115",
   "metadata": {},
   "source": [
    "Проверим, каким категориям и количеству заемщиков соответствуют отрицательные и положительные значения трудового стажа:"
   ]
  },
  {
   "cell_type": "code",
   "execution_count": 947,
   "id": "ca18d2a3",
   "metadata": {},
   "outputs": [
    {
     "name": "stdout",
     "output_type": "stream",
     "text": [
      "Распределение по отрицательным значениям\n"
     ]
    },
    {
     "data": {
      "text/plain": [
       "сотрудник          10014\n",
       "компаньон           4577\n",
       "госслужащий         1312\n",
       "предприниматель        1\n",
       "в декрете              1\n",
       "студент                1\n",
       "Name: income_type, dtype: int64"
      ]
     },
     "execution_count": 947,
     "metadata": {},
     "output_type": "execute_result"
    }
   ],
   "source": [
    "print('Распределение по отрицательным значениям')\n",
    "df[df['days_employed'] < 0]['income_type'].value_counts()"
   ]
  },
  {
   "cell_type": "code",
   "execution_count": 948,
   "id": "2884f3bf",
   "metadata": {},
   "outputs": [
    {
     "name": "stdout",
     "output_type": "stream",
     "text": [
      "Распределение по положительным значениям\n"
     ]
    },
    {
     "data": {
      "text/plain": [
       "пенсионер      3443\n",
       "безработный       2\n",
       "Name: income_type, dtype: int64"
      ]
     },
     "execution_count": 948,
     "metadata": {},
     "output_type": "execute_result"
    }
   ],
   "source": [
    "print('Распределение по положительным значениям')\n",
    "df[df['days_employed'] > 0]['income_type'].value_counts()"
   ]
  },
  {
   "cell_type": "markdown",
   "id": "d8970d2f",
   "metadata": {},
   "source": [
    "Среди заемщиков с отрицательным стажем нет ни одного пенсионера или безработного, а среди заемщиков с положительным стажем нет ни одного работающего. Вероятно, аномально большие значения трудового стажа соответствуют безработным и пенсионерам. Найдем минимальное значение положительного трудового стажа:"
   ]
  },
  {
   "cell_type": "code",
   "execution_count": 949,
   "id": "ea50b919",
   "metadata": {},
   "outputs": [
    {
     "data": {
      "text/plain": [
       "328728.72060451825"
      ]
     },
     "execution_count": 949,
     "metadata": {},
     "output_type": "execute_result"
    }
   ],
   "source": [
    "df[df['days_employed'] > 0]['days_employed'].min()"
   ]
  },
  {
   "cell_type": "markdown",
   "id": "283b87a8",
   "metadata": {},
   "source": [
    "Минимальный положительный трудовой стаж составляет чуть больше 900 лет. Действительно, гипотеза подтвердилась. В дальнейшем заменим аномально большие значения средним значением трудового стажа для пенсионеров и двух безработных, исходя из возраста начала работы и выхода на пенсию, а также пола заемщика. Отрицательные значения заменим их модулями."
   ]
  },
  {
   "cell_type": "markdown",
   "id": "b937bbbb",
   "metadata": {},
   "source": [
    "**Проверка связи пропусков в столбцах `days_employed` и `total_income`**"
   ]
  },
  {
   "cell_type": "markdown",
   "id": "07aa9c67",
   "metadata": {},
   "source": [
    "Посчитаем количество строк, для котoрых пропуски в столбцах `days_employed` и `total_income` совпадают:"
   ]
  },
  {
   "cell_type": "code",
   "execution_count": 950,
   "id": "185e5118",
   "metadata": {},
   "outputs": [
    {
     "name": "stdout",
     "output_type": "stream",
     "text": [
      "Строк с пропусками в обоих столбцах: 2174\n",
      "Пропущено значений в каждом столбце: 2174\n"
     ]
    }
   ],
   "source": [
    "print('Строк с пропусками в обоих столбцах:', df.loc[(df['days_employed'].isna())&(df['total_income'].isna())]['children'].count())\n",
    "print('Пропущено значений в каждом столбце:', start_missed_value)"
   ]
  },
  {
   "cell_type": "markdown",
   "id": "245551ca",
   "metadata": {},
   "source": [
    "Проверим распределение пропусков по категориям занятости: <a id = 'missing_by_tot_inc'></a>"
   ]
  },
  {
   "cell_type": "code",
   "execution_count": 951,
   "id": "5c0bfc44",
   "metadata": {},
   "outputs": [
    {
     "data": {
      "text/plain": [
       "сотрудник          1105\n",
       "компаньон           508\n",
       "пенсионер           413\n",
       "госслужащий         147\n",
       "предприниматель       1\n",
       "Name: income_type, dtype: int64"
      ]
     },
     "execution_count": 951,
     "metadata": {},
     "output_type": "execute_result"
    }
   ],
   "source": [
    "df[df['total_income'].isna()]['income_type'].value_counts()"
   ]
  },
  {
   "cell_type": "markdown",
   "id": "fad922a7",
   "metadata": {},
   "source": [
    "Количество строк с пропусками в обоих столбцах совпадает с общим количеством пропусков по каждому столбцу. Значит, пропуски вызваны либо одной и той же ошибкой при формировании выборки, либо информация не указана намеренно - может быть, заемщик работает неофициально. Для установления источника пропусков нужна дополнительная информация. Так как она недоступна, заменим пропуски в столбце `days_employed` медианным значением - в таком случае новые данные не будут искажены влиянием сильно отличающихся значений. "
   ]
  },
  {
   "cell_type": "markdown",
   "id": "c450a83a",
   "metadata": {},
   "source": [
    "**Исправление пропусков и аномальных значений в `days_employed`**"
   ]
  },
  {
   "cell_type": "markdown",
   "id": "23ac13d1",
   "metadata": {},
   "source": [
    "Заменим аномальные значения и пропуски для пенсионеров и двух безработных с аномально большим стажем на средний трудовой стаж для пенсионеров в России (будем считать, что здесь 'безработный' = 'пенсионер'). Так как возраст выхода на пенсию для мужчин и женщин различается, учтем этот фактор при корректировке данных. Однако перед началом исправления проверим, для всех ли заемщиков корректно указан пол:"
   ]
  },
  {
   "cell_type": "code",
   "execution_count": 952,
   "id": "184b470c",
   "metadata": {},
   "outputs": [
    {
     "data": {
      "text/plain": [
       "F      14236\n",
       "M       7288\n",
       "XNA        1\n",
       "Name: gender, dtype: int64"
      ]
     },
     "execution_count": 952,
     "metadata": {},
     "output_type": "execute_result"
    }
   ],
   "source": [
    "df['gender'].value_counts() #проверка корректности указания пола в датафрейме"
   ]
  },
  {
   "cell_type": "markdown",
   "id": "5b92d8f0",
   "metadata": {},
   "source": [
    "Неожиданно - количество заемщиков-женщин в два раза больше, чем мужчин! Интересный факт. \n",
    "В столбце `gender` выявлено некорректное значение 'XNA'. Посмотрим, какой категории занятости он соответствует:"
   ]
  },
  {
   "cell_type": "code",
   "execution_count": 953,
   "id": "84e9ee39",
   "metadata": {},
   "outputs": [
    {
     "data": {
      "text/html": [
       "<div>\n",
       "<style scoped>\n",
       "    .dataframe tbody tr th:only-of-type {\n",
       "        vertical-align: middle;\n",
       "    }\n",
       "\n",
       "    .dataframe tbody tr th {\n",
       "        vertical-align: top;\n",
       "    }\n",
       "\n",
       "    .dataframe thead th {\n",
       "        text-align: right;\n",
       "    }\n",
       "</style>\n",
       "<table border=\"1\" class=\"dataframe\">\n",
       "  <thead>\n",
       "    <tr style=\"text-align: right;\">\n",
       "      <th></th>\n",
       "      <th>children</th>\n",
       "      <th>days_employed</th>\n",
       "      <th>dob_years</th>\n",
       "      <th>education</th>\n",
       "      <th>education_id</th>\n",
       "      <th>family_status</th>\n",
       "      <th>family_status_id</th>\n",
       "      <th>gender</th>\n",
       "      <th>income_type</th>\n",
       "      <th>debt</th>\n",
       "      <th>total_income</th>\n",
       "      <th>purpose</th>\n",
       "    </tr>\n",
       "  </thead>\n",
       "  <tbody>\n",
       "    <tr>\n",
       "      <th>10701</th>\n",
       "      <td>0</td>\n",
       "      <td>-2358.600502</td>\n",
       "      <td>24</td>\n",
       "      <td>неоконченное высшее</td>\n",
       "      <td>2</td>\n",
       "      <td>гражданский брак</td>\n",
       "      <td>1</td>\n",
       "      <td>XNA</td>\n",
       "      <td>компаньон</td>\n",
       "      <td>0</td>\n",
       "      <td>203905.157261</td>\n",
       "      <td>покупка недвижимости</td>\n",
       "    </tr>\n",
       "  </tbody>\n",
       "</table>\n",
       "</div>"
      ],
      "text/plain": [
       "       children  days_employed  dob_years            education  education_id  \\\n",
       "10701         0   -2358.600502         24  неоконченное высшее             2   \n",
       "\n",
       "          family_status  family_status_id gender income_type  debt  \\\n",
       "10701  гражданский брак                 1    XNA   компаньон     0   \n",
       "\n",
       "        total_income               purpose  \n",
       "10701  203905.157261  покупка недвижимости  "
      ]
     },
     "execution_count": 953,
     "metadata": {},
     "output_type": "execute_result"
    }
   ],
   "source": [
    "df[df['gender'] == 'XNA']"
   ]
  },
  {
   "cell_type": "markdown",
   "id": "0b95a782",
   "metadata": {},
   "source": [
    "Заемщик со значением `df['gender'] = 'XNA'` не пенсионер и не безработный, пропуски в строке отсутствуют. Исходя из этого, пол этого заемщика не оказывает влияния на результат заполнения пропусков. Так как в дальнейшем пол заемщика не используется, оставим его без изменений.\n",
    "\n",
    "Выполним замену аномально больших значений и **пропусков** для пенсионеров и безработных:"
   ]
  },
  {
   "cell_type": "code",
   "execution_count": 954,
   "id": "2d01da59",
   "metadata": {},
   "outputs": [
    {
     "name": "stdout",
     "output_type": "stream",
     "text": [
      "Максимальное положительное значение после исправления: 17155.0\n",
      "Пропущенный стаж для пенсионеров и безработных: 0\n"
     ]
    }
   ],
   "source": [
    "# возраст выхода на пенсию для мужчин - 65 лет, для женщин - 60 лет. Возраст начала трудовой деятельность - 18 лет.\n",
    "# заполнение пропусков и исправление значений для пенсионеров\n",
    "df.loc[(df['gender'] == 'M') & (df['income_type'] == 'пенсионер'), 'days_employed'] = (65-18)*365 #для мужчин\n",
    "df.loc[(df['gender'] == 'F') & (df['income_type'] == 'пенсионер'), 'days_employed'] = (60-18)*365 #для женщин\n",
    "\n",
    "# заполнение пропусков для двух безработных с аномально большими значениями стажа\n",
    "df.loc[(df['gender'] == 'M') & (df['days_employed'] > 0), 'days_employed'] = (65-18)*365 #для мужчин\n",
    "df.loc[(df['gender'] == 'F') & (df['days_employed'] > 0), 'days_employed'] = (60-18)*365 #для женщин\n",
    "\n",
    "#проверка \n",
    "print('Максимальное положительное значение после исправления:', df[df['days_employed'] > 0]['days_employed'].max())\n",
    "print('Пропущенный стаж для пенсионеров и безработных:', df[df['income_type'] == 'пенсионер']['days_employed'].isna().sum())"
   ]
  },
  {
   "cell_type": "markdown",
   "id": "e9409886",
   "metadata": {},
   "source": [
    "Аномально большие значения исправлены, перейдем к отрицательным: заменим отрицательные значения на их модули и проверим результат:"
   ]
  },
  {
   "cell_type": "code",
   "execution_count": 955,
   "id": "3d0ee4f9",
   "metadata": {},
   "outputs": [
    {
     "name": "stdout",
     "output_type": "stream",
     "text": [
      "Отрицательных значений после исправления: 0\n"
     ]
    }
   ],
   "source": [
    "#замена отрицательных значений модулями\n",
    "df.loc[df['days_employed'] < 0, 'days_employed'] = abs(df['days_employed'])\n",
    "\n",
    "#проверка\n",
    "print('Отрицательных значений после исправления:', df[df['days_employed'] < 0]['days_employed'].count())"
   ]
  },
  {
   "cell_type": "markdown",
   "id": "ca1e0b8a",
   "metadata": {},
   "source": [
    "Проверим, для каких категорий занятости остались пропуски в трудовом стаже:"
   ]
  },
  {
   "cell_type": "code",
   "execution_count": 956,
   "id": "ca79129e",
   "metadata": {},
   "outputs": [
    {
     "data": {
      "text/plain": [
       "сотрудник          1105\n",
       "компаньон           508\n",
       "госслужащий         147\n",
       "предприниматель       1\n",
       "Name: income_type, dtype: int64"
      ]
     },
     "execution_count": 956,
     "metadata": {},
     "output_type": "execute_result"
    }
   ],
   "source": [
    "df[df['days_employed'].isna()]['income_type'].value_counts()"
   ]
  },
  {
   "cell_type": "markdown",
   "id": "254b79a4",
   "metadata": {},
   "source": [
    "Пропуски в столбце с трудовым стажем остались только для работающих слоев населения. \n",
    "\n",
    "Рассчитаем медианное значение для столбца `days_income` и заполним пропуски. Для расчета медианы стаж пенсионеров и безработных учитывать не будем, т.к.:\n",
    "- значения стажа для этих категорий искусственное;\n",
    "- указанные категории не имеют пропусков в столбце стажа;\n",
    "- возраст указанных категорий лиц не относится к трудоспособному населению (по умолчанию будем считать, что безработный = пенсионер)"
   ]
  },
  {
   "cell_type": "code",
   "execution_count": 957,
   "id": "b598fcba",
   "metadata": {},
   "outputs": [
    {
     "name": "stdout",
     "output_type": "stream",
     "text": [
      "Медиана трудового стажа для трудоспособного населения: 1630 дней.\n",
      "Количество пропусков в столбце со стажем после исправления: 0 дней.\n"
     ]
    }
   ],
   "source": [
    "# Расчет медианы для трудового стажа\n",
    "days_employed_median = df.loc[(df['income_type'] != 'пенсионер') & (df['income_type'] != 'безработный')]['days_employed'].median()\n",
    "\n",
    "# Заполнение пропусков медианой\n",
    "df['days_employed'] = df['days_employed'].fillna(days_employed_median)\n",
    "\n",
    "# Проверка\n",
    "print('Медиана трудового стажа для трудоспособного населения:', round(days_employed_median), 'дней.')\n",
    "print('Количество пропусков в столбце со стажем после исправления:', df['days_employed'].isna().sum(), 'дней.')"
   ]
  },
  {
   "cell_type": "markdown",
   "id": "08731ee7",
   "metadata": {},
   "source": [
    "### 2.4 Анализ значений столбца `dob_years`"
   ]
  },
  {
   "cell_type": "markdown",
   "id": "5e39e30c",
   "metadata": {},
   "source": [
    "Проверим, корректно ли указан возраст заемщиков и исправим в случае необходимости."
   ]
  },
  {
   "cell_type": "code",
   "execution_count": 958,
   "id": "1426bbaf",
   "metadata": {},
   "outputs": [
    {
     "data": {
      "text/plain": [
       "array([ 0, 19, 20, 21, 22, 23, 24, 25, 26, 27, 28, 29, 30, 31, 32, 33, 34,\n",
       "       35, 36, 37, 38, 39, 40, 41, 42, 43, 44, 45, 46, 47, 48, 49, 50, 51,\n",
       "       52, 53, 54, 55, 56, 57, 58, 59, 60, 61, 62, 63, 64, 65, 66, 67, 68,\n",
       "       69, 70, 71, 72, 73, 74, 75], dtype=int64)"
      ]
     },
     "execution_count": 958,
     "metadata": {},
     "output_type": "execute_result"
    }
   ],
   "source": [
    "# Выведем уникальные возраста заемщиков\n",
    "df['dob_years'].sort_values().unique()"
   ]
  },
  {
   "cell_type": "markdown",
   "id": "75d66a6a",
   "metadata": {},
   "source": [
    "Возраст заемщика не может быть равным 0. Возможно, таким образом заменили пропуск значения. Остальные значения больше 18 (будем считать, что выборка приведена для заемщика из РФ :) ), что соответствует действительности."
   ]
  },
  {
   "cell_type": "code",
   "execution_count": 959,
   "id": "25c347c3",
   "metadata": {},
   "outputs": [
    {
     "name": "stdout",
     "output_type": "stream",
     "text": [
      "Количество заемщиков с некорректно указанным возрастом: 101\n",
      "Процент от общего числа заемщиков 0.5%\n"
     ]
    }
   ],
   "source": [
    "# Посчитаем, для скольких заемщиков указан возраст 0.\n",
    "age_zero = df[df['dob_years'] == 0]['dob_years'].count()\n",
    "\n",
    "# Процент заемщиков с некорректным возрастом\n",
    "age_zero_rate = age_zero/df.shape[0]\n",
    "\n",
    "# Вывод результата\n",
    "print(f'Количество заемщиков с некорректно указанным возрастом: {age_zero}\\nПроцент от общего числа заемщиков {age_zero_rate:.1%}')"
   ]
  },
  {
   "cell_type": "markdown",
   "id": "248a8139",
   "metadata": {},
   "source": [
    "Процент заемщиков с некорректным возрастом составляет 0.5% от общей выборки. Для этих заемщиков можно указать медианный возраст."
   ]
  },
  {
   "cell_type": "code",
   "execution_count": 960,
   "id": "e2b5fd16",
   "metadata": {},
   "outputs": [
    {
     "data": {
      "text/plain": [
       "array([19., 20., 21., 22., 23., 24., 25., 26., 27., 28., 29., 30., 31.,\n",
       "       32., 33., 34., 35., 36., 37., 38., 39., 40., 41., 42., 43., 44.,\n",
       "       45., 46., 47., 48., 49., 50., 51., 52., 53., 54., 55., 56., 57.,\n",
       "       58., 59., 60., 61., 62., 63., 64., 65., 66., 67., 68., 69., 70.,\n",
       "       71., 72., 73., 74., 75.])"
      ]
     },
     "execution_count": 960,
     "metadata": {},
     "output_type": "execute_result"
    }
   ],
   "source": [
    "# Расчет медианы возрастов заемщиков\n",
    "dob_year_median = df[df['dob_years'] != 0]['dob_years'].median()\n",
    "\n",
    "# Замена нулевых значений медианным\n",
    "df.loc[df['dob_years'] == 0, 'dob_years'] = dob_year_median\n",
    "\n",
    "# Проверка\n",
    "df['dob_years'].sort_values().unique()"
   ]
  },
  {
   "cell_type": "markdown",
   "id": "5574fa68",
   "metadata": {},
   "source": [
    "Нулевых значений нет, замена выполнена правильно."
   ]
  },
  {
   "cell_type": "markdown",
   "id": "05c90a12",
   "metadata": {},
   "source": [
    "### 2.5 Анализ значений столбца `total_income`"
   ]
  },
  {
   "cell_type": "markdown",
   "id": "a418f591",
   "metadata": {},
   "source": [
    "Полученная на этапе [обзора данных](#step_1) информация показала, что в столбце `total_income` присутствуют пропуски.\n",
    "\n",
    "Проверим данные столбца на аномальные значения и исправим их, проверим уровень дохода для каждой категории заемщиков и заполним пропуски."
   ]
  },
  {
   "cell_type": "code",
   "execution_count": 961,
   "id": "d7f9be08",
   "metadata": {
    "scrolled": true
   },
   "outputs": [
    {
     "data": {
      "text/plain": [
       "14585    20667.0\n",
       "13006    21205.0\n",
       "16174    21368.0\n",
       "1598     21695.0\n",
       "14276    21896.0\n",
       "Name: total_income, dtype: float64"
      ]
     },
     "execution_count": 961,
     "metadata": {},
     "output_type": "execute_result"
    }
   ],
   "source": [
    "# отсортируем значения дохода по возрастанию и посмотрим первые пять строк\n",
    "round(df['total_income'].sort_values().head())"
   ]
  },
  {
   "cell_type": "code",
   "execution_count": 962,
   "id": "2db3b0dc",
   "metadata": {},
   "outputs": [
    {
     "data": {
      "text/plain": [
       "12412    2265604.0\n",
       "19606    2200852.0\n",
       "9169     1726276.0\n",
       "20809    1715018.0\n",
       "17178    1711309.0\n",
       "Name: total_income, dtype: float64"
      ]
     },
     "execution_count": 962,
     "metadata": {},
     "output_type": "execute_result"
    }
   ],
   "source": [
    "# отсортируем значения дохода по убыванию и посмотрим первые пять строк\n",
    "round(df['total_income'].sort_values(ascending = False).head())"
   ]
  },
  {
   "cell_type": "markdown",
   "id": "313f90a1",
   "metadata": {},
   "source": [
    "Значения доходов вполне реальны - от 20 тысяч до 2 миллионов, все как в жизни)) Отрицательных значений нет, нулевые отсутствуют.\n",
    "\n",
    "Проверим распределение доходов по категориям заемщиков"
   ]
  },
  {
   "cell_type": "code",
   "execution_count": 963,
   "id": "e022683a",
   "metadata": {
    "scrolled": true
   },
   "outputs": [
    {
     "data": {
      "text/plain": [
       "income_type\n",
       "в декрете           53829.130729\n",
       "студент             98201.625314\n",
       "пенсионер          118514.486412\n",
       "безработный        131339.751676\n",
       "сотрудник          142594.396847\n",
       "госслужащий        150447.935283\n",
       "компаньон          172357.950966\n",
       "предприниматель    499163.144947\n",
       "Name: total_income, dtype: float64"
      ]
     },
     "execution_count": 963,
     "metadata": {},
     "output_type": "execute_result"
    }
   ],
   "source": [
    "df.groupby('income_type')['total_income'].median().sort_values()"
   ]
  },
  {
   "cell_type": "markdown",
   "id": "5b13bad9",
   "metadata": {},
   "source": [
    "Среди заемщиков с пропуущенными значениями ежемесячного дохода [встречаются](#missing_by_tot_inc) сотрудники, компаньоны, госслужащие, пенсионеры и предприниматель. Медианный доход предпринимателей превышает медианный доход пенсионеров почти в 4 раза, при этом доход предпринимателя и пенсионеров отличается от доходов сотрудников, госслужащих и компаньонов. Исходя из этого, пропущенные значения дохода целесообразнее заполнять медианным значением дохода для каждой категории, а не общей по выборке.\n",
    "\n",
    "Создадим словарь, в котором в качестве ключа будет категория заемщика, а в качестве значения - медианное значение дохода для текущей категории лиц:"
   ]
  },
  {
   "cell_type": "code",
   "execution_count": 964,
   "id": "80a0eb8e",
   "metadata": {},
   "outputs": [
    {
     "data": {
      "text/plain": [
       "{'в декрете': 53829.13072905995,\n",
       " 'студент': 98201.62531401133,\n",
       " 'пенсионер': 118514.48641164352,\n",
       " 'безработный': 131339.7516762103,\n",
       " 'сотрудник': 142594.39684740017,\n",
       " 'госслужащий': 150447.9352830068,\n",
       " 'компаньон': 172357.95096577113,\n",
       " 'предприниматель': 499163.1449470857}"
      ]
     },
     "execution_count": 964,
     "metadata": {},
     "output_type": "execute_result"
    }
   ],
   "source": [
    "total_income_dict = df.groupby('income_type')['total_income'].median().sort_values().to_dict()\n",
    "total_income_dict"
   ]
  },
  {
   "cell_type": "markdown",
   "id": "17e39e57",
   "metadata": {},
   "source": [
    "Заменим пропуски на соответствующие значения:"
   ]
  },
  {
   "cell_type": "code",
   "execution_count": 965,
   "id": "1600dd2f",
   "metadata": {
    "scrolled": true
   },
   "outputs": [
    {
     "name": "stdout",
     "output_type": "stream",
     "text": [
      "Выполнено замен: 2174\n",
      "Отлично, все заменено там, где нужно!\n"
     ]
    }
   ],
   "source": [
    "# Все мои варианты вытащить из df значение income_type и использовать их как ключ в словаре total_income_dict\n",
    "# заканчивались ошибкой \"TypeError: 'Series' objects are mutable, thus they cannot be hashed\", поэтому пришлось искать что-то похожее\n",
    "# в Интернете и переделывать под себя :(\n",
    "\n",
    "# Функция, которая по ключу определяет значение словаря. \n",
    "def chose_from_dict(x):\n",
    "    if x in total_income_dict:\n",
    "        return total_income_dict[x]\n",
    "\n",
    "# Протестируем найденное решение. Создадим новый столбец и заполним его любым значением, пусть будет 'test'\n",
    "df['test'] = 'test'\n",
    "\n",
    "# Выберем из столбца 'total_income' значения с NaN и определяем для них значения из словаря, результат запишем в df['test']\n",
    "df.loc[df['total_income'].isna(), 'test'] = df.loc[df['total_income'].isna()].apply(lambda row: chose_from_dict(row['income_type']), axis = 1)\n",
    "\n",
    "# Посчитаем количество выполненных замен\n",
    "print('Выполнено замен:',df[df['test'] != 'test']['test'].count())\n",
    "\n",
    "# Проверим, совпадают ли строки, в которых выполнены замены, со строками, в которых есть пропуски для значений total_income\n",
    "if df.loc[(df['total_income'].isna()) & (df['test'] != 'test'), 'children'].count() == start_missed_value:\n",
    "    print('Отлично, все заменено там, где нужно!')\n",
    "else:\n",
    "    print('Необходимо проверить код!')"
   ]
  },
  {
   "cell_type": "markdown",
   "id": "0d07316f",
   "metadata": {},
   "source": [
    "Первичная проверка работоспособности кода прошла успешно. Выполним код для столбца `total_income`:"
   ]
  },
  {
   "cell_type": "code",
   "execution_count": 966,
   "id": "c353487c",
   "metadata": {},
   "outputs": [],
   "source": [
    "#Выбираем из столбца 'total_income' значения с NaN и определяем для них значения из словаря\n",
    "df.loc[df['total_income'].isna(), 'total_income'] = df.loc[df['total_income'].isna()].apply(lambda row: chose_from_dict(row['income_type']), axis = 1)"
   ]
  },
  {
   "cell_type": "markdown",
   "id": "883d5f2b",
   "metadata": {},
   "source": [
    "Выполним проверку:\n",
    "\n",
    "Проверим количество пропусков:"
   ]
  },
  {
   "cell_type": "code",
   "execution_count": 967,
   "id": "1a7498a4",
   "metadata": {},
   "outputs": [
    {
     "name": "stdout",
     "output_type": "stream",
     "text": [
      "Пропусков после исправления: 0\n"
     ]
    }
   ],
   "source": [
    "print('Пропусков после исправления:', df['total_income'].isna().sum())"
   ]
  },
  {
   "cell_type": "markdown",
   "id": "93180f31",
   "metadata": {},
   "source": [
    "Заново рассчитаем медианные значения ежемесячного дохода для каждой категории занятости:"
   ]
  },
  {
   "cell_type": "code",
   "execution_count": 968,
   "id": "dc07bc1b",
   "metadata": {},
   "outputs": [
    {
     "data": {
      "text/plain": [
       "income_type\n",
       "в декрете           53829.130729\n",
       "студент             98201.625314\n",
       "пенсионер          118514.486412\n",
       "безработный        131339.751676\n",
       "сотрудник          142594.396847\n",
       "госслужащий        150447.935283\n",
       "компаньон          172357.950966\n",
       "предприниматель    499163.144947\n",
       "Name: total_income, dtype: float64"
      ]
     },
     "execution_count": 968,
     "metadata": {},
     "output_type": "execute_result"
    }
   ],
   "source": [
    "df.groupby('income_type')['total_income'].median().sort_values()"
   ]
  },
  {
   "cell_type": "markdown",
   "id": "5a1c91dd",
   "metadata": {},
   "source": [
    "Медианные значения для каждой категории не изменились, значит, ключи и значения при заполнении пропусков были определены верно.\n",
    "\n",
    "\n",
    "Так как пропусков нет, замены выполнены в нужных строках, а медианные значения не изменились - значит, исправление выполнено верно, можно переходить к следующему этапу.\n",
    "\n",
    "P.S. Столбец `df['test']` удалим, он больше не нужен:"
   ]
  },
  {
   "cell_type": "code",
   "execution_count": 969,
   "id": "ea00952c",
   "metadata": {},
   "outputs": [
    {
     "data": {
      "text/plain": [
       "Index(['children', 'days_employed', 'dob_years', 'education', 'education_id',\n",
       "       'family_status', 'family_status_id', 'gender', 'income_type', 'debt',\n",
       "       'total_income', 'purpose'],\n",
       "      dtype='object')"
      ]
     },
     "execution_count": 969,
     "metadata": {},
     "output_type": "execute_result"
    }
   ],
   "source": [
    "#удаление вспомогательного столбца\n",
    "df.pop('test')\n",
    "\n",
    "#проверка названий столбцов датафрейма после удаления вспомогательного столбца\n",
    "df.columns"
   ]
  },
  {
   "cell_type": "markdown",
   "id": "d0497c5d",
   "metadata": {},
   "source": [
    "В списке названи столбцов удаленный столбец отсутствует, удалено успешно."
   ]
  },
  {
   "cell_type": "markdown",
   "id": "39b8142a",
   "metadata": {},
   "source": [
    "## 3. Изменение типов данных"
   ]
  },
  {
   "cell_type": "markdown",
   "id": "ec1c63a3",
   "metadata": {},
   "source": [
    "Согласно заданию, заменим вещественный тип данных в столбце `total_income` на целочисленный Также выполним изменение типа для столбцаов `days_employed`, `dob_years`."
   ]
  },
  {
   "cell_type": "code",
   "execution_count": 970,
   "id": "95f20bbf",
   "metadata": {},
   "outputs": [
    {
     "name": "stdout",
     "output_type": "stream",
     "text": [
      "<class 'pandas.core.frame.DataFrame'>\n",
      "RangeIndex: 21525 entries, 0 to 21524\n",
      "Data columns (total 12 columns):\n",
      " #   Column            Non-Null Count  Dtype \n",
      "---  ------            --------------  ----- \n",
      " 0   children          21525 non-null  int64 \n",
      " 1   days_employed     21525 non-null  int32 \n",
      " 2   dob_years         21525 non-null  int32 \n",
      " 3   education         21525 non-null  object\n",
      " 4   education_id      21525 non-null  int64 \n",
      " 5   family_status     21525 non-null  object\n",
      " 6   family_status_id  21525 non-null  int64 \n",
      " 7   gender            21525 non-null  object\n",
      " 8   income_type       21525 non-null  object\n",
      " 9   debt              21525 non-null  int64 \n",
      " 10  total_income      21525 non-null  int32 \n",
      " 11  purpose           21525 non-null  object\n",
      "dtypes: int32(3), int64(4), object(5)\n",
      "memory usage: 1.7+ MB\n"
     ]
    }
   ],
   "source": [
    "#список с именами столбцов, для которых нужно выполнить замену типа данных\n",
    "list_to_replace = ['total_income', 'days_employed', 'dob_years']\n",
    "\n",
    "#цикл для замены типов данных для с названиями из списка\n",
    "for name in list_to_replace:\n",
    "    df[name] = df[name].astype('int')\n",
    "\n",
    "# Проверим результат\n",
    "df.info()"
   ]
  },
  {
   "cell_type": "markdown",
   "id": "dafceb80",
   "metadata": {},
   "source": [
    "Нужные столбцы стали целочисленными."
   ]
  },
  {
   "cell_type": "markdown",
   "id": "47810fb3",
   "metadata": {},
   "source": [
    "## 4. Удаление дубликатов"
   ]
  },
  {
   "cell_type": "markdown",
   "id": "91c8a554",
   "metadata": {},
   "source": [
    "### 4.1 Неявные дубликаты"
   ]
  },
  {
   "cell_type": "markdown",
   "id": "121c199d",
   "metadata": {},
   "source": [
    "Сначала удалим неявные дубликаты, поскольку за ними могут скрываться полные дубликаты.\n",
    "\n",
    "Неявные дубликаты могут скрываться в столбцах со строковыми значениями: `education`, `family_status`, `income_type`, `purpose`. Выполним проверку:"
   ]
  },
  {
   "cell_type": "code",
   "execution_count": 971,
   "id": "a9e2cfa7",
   "metadata": {},
   "outputs": [
    {
     "name": "stdout",
     "output_type": "stream",
     "text": [
      "Уникальных значений в столбце education :\n",
      "\n",
      "['ВЫСШЕЕ' 'Высшее' 'НАЧАЛЬНОЕ' 'НЕОКОНЧЕННОЕ ВЫСШЕЕ' 'Начальное'\n",
      " 'Неоконченное высшее' 'СРЕДНЕЕ' 'Среднее' 'УЧЕНАЯ СТЕПЕНЬ'\n",
      " 'Ученая степень' 'высшее' 'начальное' 'неоконченное высшее' 'среднее'\n",
      " 'ученая степень'] \n",
      "\n",
      "\n",
      "Уникальных значений в столбце family_status :\n",
      "\n",
      "['Не женат / не замужем' 'в разводе' 'вдовец / вдова' 'гражданский брак'\n",
      " 'женат / замужем'] \n",
      "\n",
      "\n",
      "Уникальных значений в столбце income_type :\n",
      "\n",
      "['безработный' 'в декрете' 'госслужащий' 'компаньон' 'пенсионер'\n",
      " 'предприниматель' 'сотрудник' 'студент'] \n",
      "\n",
      "\n",
      "Уникальных значений в столбце purpose :\n",
      "\n",
      "['автомобили' 'автомобиль' 'высшее образование'\n",
      " 'дополнительное образование' 'жилье' 'заняться высшим образованием'\n",
      " 'заняться образованием' 'на покупку автомобиля'\n",
      " 'на покупку подержанного автомобиля' 'на покупку своего автомобиля'\n",
      " 'на проведение свадьбы' 'недвижимость' 'образование' 'операции с жильем'\n",
      " 'операции с коммерческой недвижимостью' 'операции с недвижимостью'\n",
      " 'операции со своей недвижимостью' 'покупка жилой недвижимости'\n",
      " 'покупка жилья' 'покупка жилья для сдачи' 'покупка жилья для семьи'\n",
      " 'покупка коммерческой недвижимости' 'покупка недвижимости'\n",
      " 'покупка своего жилья' 'получение высшего образования'\n",
      " 'получение дополнительного образования' 'получение образования'\n",
      " 'приобретение автомобиля' 'профильное образование' 'ремонт жилью'\n",
      " 'свадьба' 'свой автомобиль' 'сделка с автомобилем'\n",
      " 'сделка с подержанным автомобилем' 'строительство жилой недвижимости'\n",
      " 'строительство недвижимости' 'строительство собственной недвижимости'\n",
      " 'сыграть свадьбу'] \n",
      "\n",
      "\n"
     ]
    }
   ],
   "source": [
    "#Сформируем список с названиями столбцов, для которых будем выполнять проверку на неявные дубликаты\n",
    "list_for_checking = ['education', 'family_status', 'income_type', 'purpose']\n",
    "\n",
    "#С помощью цикла выполним проверку каждого столбца из списка на неявные дубликаты \n",
    "for name in list_for_checking:\n",
    "    print('Уникальных значений в столбце', name, ':\\n') # Вывод заголовка для анализируемого столбца\n",
    "    print(df[name].sort_values().unique(), '\\n\\n') # Вывод уникальных значений анализируемого столбца"
   ]
  },
  {
   "cell_type": "markdown",
   "id": "a385b5ea",
   "metadata": {},
   "source": [
    "- в столбце `education` есть неявные дубликаты, возникшие из-за разного регистра в записи (вероятно, вызвано свободной формой заполнения). После приведения значений к нижнему регистру неявные дубликаты будут отсутствовать;\n",
    "\n",
    "\n",
    "- в столбце `family_status` неявных дубликатов нет, есть только прописные символы в значении категории \"Не женат/не замужем\", но это ни на что не влияет;\n",
    "\n",
    "\n",
    "- в столбце `income_type` неявных дубликатов нет;\n",
    "\n",
    "\n",
    "- в столбце `purpose` много неявных дубликатов, вероятно, вызванных свободной формой заполнения соответствующего поля.\n",
    "\n",
    "\n",
    "Выполним удаление неявных дубликатов для столбца `education`."
   ]
  },
  {
   "cell_type": "code",
   "execution_count": 972,
   "id": "d1210915",
   "metadata": {},
   "outputs": [
    {
     "data": {
      "text/plain": [
       "array(['высшее', 'среднее', 'неоконченное высшее', 'начальное',\n",
       "       'ученая степень'], dtype=object)"
      ]
     },
     "execution_count": 972,
     "metadata": {},
     "output_type": "execute_result"
    }
   ],
   "source": [
    "#удаление дубликатов в education путем приведения к нижнему регистру\n",
    "df['education'] = df['education'].str.lower()\n",
    "\n",
    "#проверка удаления неявных дубликатов в education\n",
    "df['education'].unique()"
   ]
  },
  {
   "cell_type": "markdown",
   "id": "9677c2ef",
   "metadata": {},
   "source": [
    "Неявные дубликаты в столбце `education` отсутствуют. Выбор метода устранения неявных дубликатов  `education` обусловлен тем, что род, число и падеж неявных дубликатов не меняются, и в связи с этим, приведение к нижнему регистру будет эффективнее, чем метод replace().\n",
    "\n",
    "\n",
    "Выполнять удаление неявных дубликатов для столбца `purpose` не будем по следующим причинам:\n",
    "- данные по этому столбцу в дальнейшем будут категоризированы;\n",
    "- унификация данных в столбце с целью займа может привести к искусственному созданию полных дубликатов, и при удалении полных дубликатов будут потеряны данные"
   ]
  },
  {
   "cell_type": "markdown",
   "id": "eb8c5dfa",
   "metadata": {},
   "source": [
    "### 4.2 Удаление явных дубликатов"
   ]
  },
  {
   "cell_type": "code",
   "execution_count": 973,
   "id": "b3f1e337",
   "metadata": {},
   "outputs": [
    {
     "name": "stdout",
     "output_type": "stream",
     "text": [
      "Полных дубликатов: 71\n"
     ]
    }
   ],
   "source": [
    "# Посчитаем количество полных дубликатов\n",
    "print('Полных дубликатов:', df.duplicated().sum())"
   ]
  },
  {
   "cell_type": "code",
   "execution_count": 974,
   "id": "67ba44bf",
   "metadata": {},
   "outputs": [],
   "source": [
    "# Удалим полные дубликаты\n",
    "df = df.drop_duplicates().reset_index(drop = True)"
   ]
  },
  {
   "cell_type": "code",
   "execution_count": 975,
   "id": "0d839116",
   "metadata": {},
   "outputs": [
    {
     "name": "stdout",
     "output_type": "stream",
     "text": [
      "Полных дубликатов после очистки: 0\n"
     ]
    }
   ],
   "source": [
    "# Проверим количество полных дубликатов после удаления\n",
    "print('Полных дубликатов после очистки:', df.duplicated().sum())"
   ]
  },
  {
   "cell_type": "markdown",
   "id": "65394a3c",
   "metadata": {},
   "source": [
    "Явные дубликаты удалены."
   ]
  },
  {
   "cell_type": "markdown",
   "id": "b9a43498",
   "metadata": {},
   "source": [
    "# 5. Формирование дополнительных датафреймов словарей, декомпозиция исходного датафрейма."
   ]
  },
  {
   "cell_type": "markdown",
   "id": "3ca09479",
   "metadata": {},
   "source": [
    "Cоздаем новый датафрейм, в котором каждому уникальному значению из `education` соответствует уникальное значение `education_id`"
   ]
  },
  {
   "cell_type": "code",
   "execution_count": 976,
   "id": "d24fd50c",
   "metadata": {},
   "outputs": [
    {
     "data": {
      "text/html": [
       "<div>\n",
       "<style scoped>\n",
       "    .dataframe tbody tr th:only-of-type {\n",
       "        vertical-align: middle;\n",
       "    }\n",
       "\n",
       "    .dataframe tbody tr th {\n",
       "        vertical-align: top;\n",
       "    }\n",
       "\n",
       "    .dataframe thead th {\n",
       "        text-align: right;\n",
       "    }\n",
       "</style>\n",
       "<table border=\"1\" class=\"dataframe\">\n",
       "  <thead>\n",
       "    <tr style=\"text-align: right;\">\n",
       "      <th></th>\n",
       "      <th>education</th>\n",
       "      <th>education_id</th>\n",
       "    </tr>\n",
       "  </thead>\n",
       "  <tbody>\n",
       "    <tr>\n",
       "      <th>0</th>\n",
       "      <td>высшее</td>\n",
       "      <td>0</td>\n",
       "    </tr>\n",
       "    <tr>\n",
       "      <th>1</th>\n",
       "      <td>среднее</td>\n",
       "      <td>1</td>\n",
       "    </tr>\n",
       "    <tr>\n",
       "      <th>2</th>\n",
       "      <td>неоконченное высшее</td>\n",
       "      <td>2</td>\n",
       "    </tr>\n",
       "    <tr>\n",
       "      <th>3</th>\n",
       "      <td>начальное</td>\n",
       "      <td>3</td>\n",
       "    </tr>\n",
       "    <tr>\n",
       "      <th>4</th>\n",
       "      <td>ученая степень</td>\n",
       "      <td>4</td>\n",
       "    </tr>\n",
       "  </tbody>\n",
       "</table>\n",
       "</div>"
      ],
      "text/plain": [
       "             education  education_id\n",
       "0               высшее             0\n",
       "1              среднее             1\n",
       "2  неоконченное высшее             2\n",
       "3            начальное             3\n",
       "4       ученая степень             4"
      ]
     },
     "execution_count": 976,
     "metadata": {},
     "output_type": "execute_result"
    }
   ],
   "source": [
    "#создаем новый датафрейм со столбцами education и education_id\n",
    "education_category = df[['education','education_id']]\n",
    "\n",
    "#удаляем дубликаты в новом датафрейме, чтобы остались только уникальные значения\n",
    "education_category = education_category.drop_duplicates().reset_index(drop = True).sort_values(by = 'education_id')\n",
    "\n",
    "#вывод датафррейма-словаря для education\n",
    "education_category"
   ]
  },
  {
   "cell_type": "markdown",
   "id": "8737cf40",
   "metadata": {},
   "source": [
    "Cоздаем новый датафрейм, в котором каждому уникальному значению из `family_status` соответствует уникальное значение `family_status_id`"
   ]
  },
  {
   "cell_type": "code",
   "execution_count": 977,
   "id": "5259f792",
   "metadata": {},
   "outputs": [
    {
     "data": {
      "text/html": [
       "<div>\n",
       "<style scoped>\n",
       "    .dataframe tbody tr th:only-of-type {\n",
       "        vertical-align: middle;\n",
       "    }\n",
       "\n",
       "    .dataframe tbody tr th {\n",
       "        vertical-align: top;\n",
       "    }\n",
       "\n",
       "    .dataframe thead th {\n",
       "        text-align: right;\n",
       "    }\n",
       "</style>\n",
       "<table border=\"1\" class=\"dataframe\">\n",
       "  <thead>\n",
       "    <tr style=\"text-align: right;\">\n",
       "      <th></th>\n",
       "      <th>family_status</th>\n",
       "      <th>family_status_id</th>\n",
       "    </tr>\n",
       "  </thead>\n",
       "  <tbody>\n",
       "    <tr>\n",
       "      <th>0</th>\n",
       "      <td>женат / замужем</td>\n",
       "      <td>0</td>\n",
       "    </tr>\n",
       "    <tr>\n",
       "      <th>1</th>\n",
       "      <td>гражданский брак</td>\n",
       "      <td>1</td>\n",
       "    </tr>\n",
       "    <tr>\n",
       "      <th>2</th>\n",
       "      <td>вдовец / вдова</td>\n",
       "      <td>2</td>\n",
       "    </tr>\n",
       "    <tr>\n",
       "      <th>3</th>\n",
       "      <td>в разводе</td>\n",
       "      <td>3</td>\n",
       "    </tr>\n",
       "    <tr>\n",
       "      <th>4</th>\n",
       "      <td>Не женат / не замужем</td>\n",
       "      <td>4</td>\n",
       "    </tr>\n",
       "  </tbody>\n",
       "</table>\n",
       "</div>"
      ],
      "text/plain": [
       "           family_status  family_status_id\n",
       "0        женат / замужем                 0\n",
       "1       гражданский брак                 1\n",
       "2         вдовец / вдова                 2\n",
       "3              в разводе                 3\n",
       "4  Не женат / не замужем                 4"
      ]
     },
     "execution_count": 977,
     "metadata": {},
     "output_type": "execute_result"
    }
   ],
   "source": [
    "#создаем новый датафрейм со столбцами family_status и family_status_id\n",
    "family_category = df[['family_status','family_status_id']]\n",
    "\n",
    "#удаляем дубликаты в новом датафрейме, чтобы остались только уникальные значения\n",
    "family = family_category.drop_duplicates().reset_index(drop = True).sort_values(by = 'family_status_id')\n",
    "\n",
    "#вывод датафррейма-словаря для семейного положения\n",
    "family"
   ]
  },
  {
   "cell_type": "markdown",
   "id": "52301864",
   "metadata": {},
   "source": [
    "Согласно заданию, удалим из датафрейма столбцы `education` и `family_status_id`"
   ]
  },
  {
   "cell_type": "code",
   "execution_count": 978,
   "id": "0a134d1d",
   "metadata": {},
   "outputs": [
    {
     "data": {
      "text/plain": [
       "Index(['children', 'days_employed', 'dob_years', 'education_id',\n",
       "       'family_status_id', 'gender', 'income_type', 'debt', 'total_income',\n",
       "       'purpose'],\n",
       "      dtype='object')"
      ]
     },
     "execution_count": 978,
     "metadata": {},
     "output_type": "execute_result"
    }
   ],
   "source": [
    "df.pop('education') #удаление столбца 'education'\n",
    "df.pop('family_status') #удаление столбца 'family_status'\n",
    "df.columns #вывод названий столбцов после удаления столбцов education и family_status"
   ]
  },
  {
   "cell_type": "markdown",
   "id": "fe15252e",
   "metadata": {},
   "source": [
    "Дополнительные датафреймы созданы, необходимые столбцы удалены."
   ]
  },
  {
   "cell_type": "markdown",
   "id": "8ce55a4a",
   "metadata": {},
   "source": [
    "# 6. Категоризация дохода"
   ]
  },
  {
   "cell_type": "markdown",
   "id": "bf4740dc",
   "metadata": {},
   "source": [
    "Напишем функцию `total_income_category`, присваивающую замщику категорию, соответствующую его доходу"
   ]
  },
  {
   "cell_type": "code",
   "execution_count": 979,
   "id": "a138b2c1",
   "metadata": {},
   "outputs": [],
   "source": [
    "def total_income_category(total_income):\n",
    "    if total_income < 0:\n",
    "        return 'Проверьте значение дохода!' # Индикатор ошибочного значения\n",
    "    elif total_income < 30001:\n",
    "        return 'E'\n",
    "    elif total_income < 50001:\n",
    "        return 'D'\n",
    "    elif total_income < 200001:\n",
    "        return 'C'\n",
    "    elif total_income < 1000001:\n",
    "        return 'B'\n",
    "    return 'A'"
   ]
  },
  {
   "cell_type": "markdown",
   "id": "a4740d73",
   "metadata": {},
   "source": [
    "Проверим работу функции:"
   ]
  },
  {
   "cell_type": "code",
   "execution_count": 980,
   "id": "f2f723c0",
   "metadata": {},
   "outputs": [
    {
     "name": "stdout",
     "output_type": "stream",
     "text": [
      "Проверьте значение дохода!\n",
      "E\n",
      "D\n",
      "C\n",
      "B\n",
      "A\n"
     ]
    }
   ],
   "source": [
    "print(total_income_category(-10))\n",
    "print(total_income_category(200))\n",
    "print(total_income_category(30001))\n",
    "print(total_income_category(150000))\n",
    "print(total_income_category(200500))\n",
    "print(total_income_category(22000000))"
   ]
  },
  {
   "cell_type": "markdown",
   "id": "d1dd9a07",
   "metadata": {},
   "source": [
    "Функция работает, выполним категоризацию заемщиков по доходу. Названия категорий сохраним в столбец `df['total_income_category']`"
   ]
  },
  {
   "cell_type": "code",
   "execution_count": 981,
   "id": "8875aa90",
   "metadata": {},
   "outputs": [
    {
     "data": {
      "text/html": [
       "<div>\n",
       "<style scoped>\n",
       "    .dataframe tbody tr th:only-of-type {\n",
       "        vertical-align: middle;\n",
       "    }\n",
       "\n",
       "    .dataframe tbody tr th {\n",
       "        vertical-align: top;\n",
       "    }\n",
       "\n",
       "    .dataframe thead th {\n",
       "        text-align: right;\n",
       "    }\n",
       "</style>\n",
       "<table border=\"1\" class=\"dataframe\">\n",
       "  <thead>\n",
       "    <tr style=\"text-align: right;\">\n",
       "      <th></th>\n",
       "      <th>children</th>\n",
       "      <th>days_employed</th>\n",
       "      <th>dob_years</th>\n",
       "      <th>education_id</th>\n",
       "      <th>family_status_id</th>\n",
       "      <th>gender</th>\n",
       "      <th>income_type</th>\n",
       "      <th>debt</th>\n",
       "      <th>total_income</th>\n",
       "      <th>purpose</th>\n",
       "      <th>total_income_category</th>\n",
       "    </tr>\n",
       "  </thead>\n",
       "  <tbody>\n",
       "    <tr>\n",
       "      <th>0</th>\n",
       "      <td>1</td>\n",
       "      <td>8437</td>\n",
       "      <td>42</td>\n",
       "      <td>0</td>\n",
       "      <td>0</td>\n",
       "      <td>F</td>\n",
       "      <td>сотрудник</td>\n",
       "      <td>0</td>\n",
       "      <td>253875</td>\n",
       "      <td>покупка жилья</td>\n",
       "      <td>B</td>\n",
       "    </tr>\n",
       "    <tr>\n",
       "      <th>1</th>\n",
       "      <td>1</td>\n",
       "      <td>4024</td>\n",
       "      <td>36</td>\n",
       "      <td>1</td>\n",
       "      <td>0</td>\n",
       "      <td>F</td>\n",
       "      <td>сотрудник</td>\n",
       "      <td>0</td>\n",
       "      <td>112080</td>\n",
       "      <td>приобретение автомобиля</td>\n",
       "      <td>C</td>\n",
       "    </tr>\n",
       "    <tr>\n",
       "      <th>2</th>\n",
       "      <td>0</td>\n",
       "      <td>5623</td>\n",
       "      <td>33</td>\n",
       "      <td>1</td>\n",
       "      <td>0</td>\n",
       "      <td>M</td>\n",
       "      <td>сотрудник</td>\n",
       "      <td>0</td>\n",
       "      <td>145885</td>\n",
       "      <td>покупка жилья</td>\n",
       "      <td>C</td>\n",
       "    </tr>\n",
       "    <tr>\n",
       "      <th>3</th>\n",
       "      <td>3</td>\n",
       "      <td>4124</td>\n",
       "      <td>32</td>\n",
       "      <td>1</td>\n",
       "      <td>0</td>\n",
       "      <td>M</td>\n",
       "      <td>сотрудник</td>\n",
       "      <td>0</td>\n",
       "      <td>267628</td>\n",
       "      <td>дополнительное образование</td>\n",
       "      <td>B</td>\n",
       "    </tr>\n",
       "    <tr>\n",
       "      <th>4</th>\n",
       "      <td>0</td>\n",
       "      <td>15330</td>\n",
       "      <td>53</td>\n",
       "      <td>1</td>\n",
       "      <td>1</td>\n",
       "      <td>F</td>\n",
       "      <td>пенсионер</td>\n",
       "      <td>0</td>\n",
       "      <td>158616</td>\n",
       "      <td>сыграть свадьбу</td>\n",
       "      <td>C</td>\n",
       "    </tr>\n",
       "    <tr>\n",
       "      <th>...</th>\n",
       "      <td>...</td>\n",
       "      <td>...</td>\n",
       "      <td>...</td>\n",
       "      <td>...</td>\n",
       "      <td>...</td>\n",
       "      <td>...</td>\n",
       "      <td>...</td>\n",
       "      <td>...</td>\n",
       "      <td>...</td>\n",
       "      <td>...</td>\n",
       "      <td>...</td>\n",
       "    </tr>\n",
       "    <tr>\n",
       "      <th>21449</th>\n",
       "      <td>1</td>\n",
       "      <td>4529</td>\n",
       "      <td>43</td>\n",
       "      <td>1</td>\n",
       "      <td>1</td>\n",
       "      <td>F</td>\n",
       "      <td>компаньон</td>\n",
       "      <td>0</td>\n",
       "      <td>224791</td>\n",
       "      <td>операции с жильем</td>\n",
       "      <td>B</td>\n",
       "    </tr>\n",
       "    <tr>\n",
       "      <th>21450</th>\n",
       "      <td>0</td>\n",
       "      <td>15330</td>\n",
       "      <td>67</td>\n",
       "      <td>1</td>\n",
       "      <td>0</td>\n",
       "      <td>F</td>\n",
       "      <td>пенсионер</td>\n",
       "      <td>0</td>\n",
       "      <td>155999</td>\n",
       "      <td>сделка с автомобилем</td>\n",
       "      <td>C</td>\n",
       "    </tr>\n",
       "    <tr>\n",
       "      <th>21451</th>\n",
       "      <td>1</td>\n",
       "      <td>2113</td>\n",
       "      <td>38</td>\n",
       "      <td>1</td>\n",
       "      <td>1</td>\n",
       "      <td>M</td>\n",
       "      <td>сотрудник</td>\n",
       "      <td>1</td>\n",
       "      <td>89672</td>\n",
       "      <td>недвижимость</td>\n",
       "      <td>C</td>\n",
       "    </tr>\n",
       "    <tr>\n",
       "      <th>21452</th>\n",
       "      <td>3</td>\n",
       "      <td>3112</td>\n",
       "      <td>38</td>\n",
       "      <td>1</td>\n",
       "      <td>0</td>\n",
       "      <td>M</td>\n",
       "      <td>сотрудник</td>\n",
       "      <td>1</td>\n",
       "      <td>244093</td>\n",
       "      <td>на покупку своего автомобиля</td>\n",
       "      <td>B</td>\n",
       "    </tr>\n",
       "    <tr>\n",
       "      <th>21453</th>\n",
       "      <td>2</td>\n",
       "      <td>1984</td>\n",
       "      <td>40</td>\n",
       "      <td>1</td>\n",
       "      <td>0</td>\n",
       "      <td>F</td>\n",
       "      <td>сотрудник</td>\n",
       "      <td>0</td>\n",
       "      <td>82047</td>\n",
       "      <td>на покупку автомобиля</td>\n",
       "      <td>C</td>\n",
       "    </tr>\n",
       "  </tbody>\n",
       "</table>\n",
       "<p>21454 rows × 11 columns</p>\n",
       "</div>"
      ],
      "text/plain": [
       "       children  days_employed  dob_years  education_id  family_status_id  \\\n",
       "0             1           8437         42             0                 0   \n",
       "1             1           4024         36             1                 0   \n",
       "2             0           5623         33             1                 0   \n",
       "3             3           4124         32             1                 0   \n",
       "4             0          15330         53             1                 1   \n",
       "...         ...            ...        ...           ...               ...   \n",
       "21449         1           4529         43             1                 1   \n",
       "21450         0          15330         67             1                 0   \n",
       "21451         1           2113         38             1                 1   \n",
       "21452         3           3112         38             1                 0   \n",
       "21453         2           1984         40             1                 0   \n",
       "\n",
       "      gender income_type  debt  total_income                       purpose  \\\n",
       "0          F   сотрудник     0        253875                 покупка жилья   \n",
       "1          F   сотрудник     0        112080       приобретение автомобиля   \n",
       "2          M   сотрудник     0        145885                 покупка жилья   \n",
       "3          M   сотрудник     0        267628    дополнительное образование   \n",
       "4          F   пенсионер     0        158616               сыграть свадьбу   \n",
       "...      ...         ...   ...           ...                           ...   \n",
       "21449      F   компаньон     0        224791             операции с жильем   \n",
       "21450      F   пенсионер     0        155999          сделка с автомобилем   \n",
       "21451      M   сотрудник     1         89672                  недвижимость   \n",
       "21452      M   сотрудник     1        244093  на покупку своего автомобиля   \n",
       "21453      F   сотрудник     0         82047         на покупку автомобиля   \n",
       "\n",
       "      total_income_category  \n",
       "0                         B  \n",
       "1                         C  \n",
       "2                         C  \n",
       "3                         B  \n",
       "4                         C  \n",
       "...                     ...  \n",
       "21449                     B  \n",
       "21450                     C  \n",
       "21451                     C  \n",
       "21452                     B  \n",
       "21453                     C  \n",
       "\n",
       "[21454 rows x 11 columns]"
      ]
     },
     "metadata": {},
     "output_type": "display_data"
    },
    {
     "name": "stdout",
     "output_type": "stream",
     "text": [
      "Все заполнено, идем дальше!\n"
     ]
    }
   ],
   "source": [
    "#запустим функцию категоризации по доходу\n",
    "df['total_income_category'] = df['total_income'].apply(total_income_category)\n",
    "\n",
    "#отобразим результат\n",
    "display(df)\n",
    "\n",
    "#Проверим, все ли строки заполнены:\n",
    "if df['total_income_category'].isna().sum() == 0:\n",
    "    print('Все заполнено, идем дальше!')\n",
    "else:\n",
    "    print('Нужно проверить работу функции!')"
   ]
  },
  {
   "cell_type": "markdown",
   "id": "65d5c345",
   "metadata": {},
   "source": [
    "# 7. Категоризация целей кредита"
   ]
  },
  {
   "cell_type": "markdown",
   "id": "f093b2c6",
   "metadata": {},
   "source": [
    "Напишем функцию, которая выполняет категоризацию целей кредита. Для дальнейшего удобства отображения на диаграммах переименуем предлагаемые Яндекс.Практикумом названия категорий следующим образом:\n",
    "- \"операции с недвижимостью\" - \"H\" *(house)*\n",
    "- \"операции с автомобилем\" - \"C\" *(car)*\n",
    "- \"получение образования\" - \"L\" *(learning)*\n",
    "- \"проведение свадьбы\" - \"W\" *(wedding)*\n",
    "\n",
    "Целям, которые не подходят под указанные категории, присвоим категорию \"AN\" *(another)"
   ]
  },
  {
   "cell_type": "code",
   "execution_count": 982,
   "id": "67856849",
   "metadata": {},
   "outputs": [],
   "source": [
    "#функция, выполняющая категоризацию заемщиков по цели кредита\n",
    "def purpose_category(purpose):\n",
    "    if ('авто' in purpose) or ('машин' in purpose):\n",
    "        return 'C' \n",
    "    elif 'свад' in purpose:\n",
    "        return 'W'\n",
    "    elif 'образ' in purpose:\n",
    "        return 'L'\n",
    "    elif ('жил' in purpose) or ('недвиж' in purpose):\n",
    "        return 'H'\n",
    "    return 'AN'"
   ]
  },
  {
   "cell_type": "markdown",
   "id": "2b0346d8",
   "metadata": {},
   "source": [
    "Проверим корректность работы функции на тестовых данных"
   ]
  },
  {
   "cell_type": "code",
   "execution_count": 983,
   "id": "27d9abfe",
   "metadata": {
    "scrolled": false
   },
   "outputs": [
    {
     "name": "stdout",
     "output_type": "stream",
     "text": [
      "['покупка недвижимости', 'приобретение жилья', 'сыграть свадьбу', 'получить образование', 'купить автомобиль', 'купить машину']\n",
      "H\n",
      "H\n",
      "W\n",
      "L\n",
      "C\n",
      "C\n"
     ]
    }
   ],
   "source": [
    "# тестовый лист с целями\n",
    "test_list = ['покупка недвижимости', 'приобретение жилья', 'сыграть свадьбу', 'получить образование', 'купить автомобиль', 'купить машину']\n",
    "\n",
    "# вывод тестового листа с целями\n",
    "print(test_list)\n",
    "\n",
    "# определение категории для каждой цели в тестовом листе\n",
    "for name in test_list:\n",
    "    # печать категории для каждой цели в тестовом листе\n",
    "    print(purpose_category(name)) "
   ]
  },
  {
   "cell_type": "markdown",
   "id": "8c41fd22",
   "metadata": {},
   "source": [
    "Определим категорию целей для каждого заемщика в датасете. Результат сохраним в столбце `df['purpose_category']`"
   ]
  },
  {
   "cell_type": "code",
   "execution_count": 984,
   "id": "3a03bd65",
   "metadata": {},
   "outputs": [
    {
     "data": {
      "text/html": [
       "<div>\n",
       "<style scoped>\n",
       "    .dataframe tbody tr th:only-of-type {\n",
       "        vertical-align: middle;\n",
       "    }\n",
       "\n",
       "    .dataframe tbody tr th {\n",
       "        vertical-align: top;\n",
       "    }\n",
       "\n",
       "    .dataframe thead th {\n",
       "        text-align: right;\n",
       "    }\n",
       "</style>\n",
       "<table border=\"1\" class=\"dataframe\">\n",
       "  <thead>\n",
       "    <tr style=\"text-align: right;\">\n",
       "      <th></th>\n",
       "      <th>children</th>\n",
       "      <th>days_employed</th>\n",
       "      <th>dob_years</th>\n",
       "      <th>education_id</th>\n",
       "      <th>family_status_id</th>\n",
       "      <th>gender</th>\n",
       "      <th>income_type</th>\n",
       "      <th>debt</th>\n",
       "      <th>total_income</th>\n",
       "      <th>purpose</th>\n",
       "      <th>total_income_category</th>\n",
       "      <th>purpose_category</th>\n",
       "    </tr>\n",
       "  </thead>\n",
       "  <tbody>\n",
       "    <tr>\n",
       "      <th>0</th>\n",
       "      <td>1</td>\n",
       "      <td>8437</td>\n",
       "      <td>42</td>\n",
       "      <td>0</td>\n",
       "      <td>0</td>\n",
       "      <td>F</td>\n",
       "      <td>сотрудник</td>\n",
       "      <td>0</td>\n",
       "      <td>253875</td>\n",
       "      <td>покупка жилья</td>\n",
       "      <td>B</td>\n",
       "      <td>H</td>\n",
       "    </tr>\n",
       "    <tr>\n",
       "      <th>1</th>\n",
       "      <td>1</td>\n",
       "      <td>4024</td>\n",
       "      <td>36</td>\n",
       "      <td>1</td>\n",
       "      <td>0</td>\n",
       "      <td>F</td>\n",
       "      <td>сотрудник</td>\n",
       "      <td>0</td>\n",
       "      <td>112080</td>\n",
       "      <td>приобретение автомобиля</td>\n",
       "      <td>C</td>\n",
       "      <td>C</td>\n",
       "    </tr>\n",
       "    <tr>\n",
       "      <th>2</th>\n",
       "      <td>0</td>\n",
       "      <td>5623</td>\n",
       "      <td>33</td>\n",
       "      <td>1</td>\n",
       "      <td>0</td>\n",
       "      <td>M</td>\n",
       "      <td>сотрудник</td>\n",
       "      <td>0</td>\n",
       "      <td>145885</td>\n",
       "      <td>покупка жилья</td>\n",
       "      <td>C</td>\n",
       "      <td>H</td>\n",
       "    </tr>\n",
       "    <tr>\n",
       "      <th>3</th>\n",
       "      <td>3</td>\n",
       "      <td>4124</td>\n",
       "      <td>32</td>\n",
       "      <td>1</td>\n",
       "      <td>0</td>\n",
       "      <td>M</td>\n",
       "      <td>сотрудник</td>\n",
       "      <td>0</td>\n",
       "      <td>267628</td>\n",
       "      <td>дополнительное образование</td>\n",
       "      <td>B</td>\n",
       "      <td>L</td>\n",
       "    </tr>\n",
       "    <tr>\n",
       "      <th>4</th>\n",
       "      <td>0</td>\n",
       "      <td>15330</td>\n",
       "      <td>53</td>\n",
       "      <td>1</td>\n",
       "      <td>1</td>\n",
       "      <td>F</td>\n",
       "      <td>пенсионер</td>\n",
       "      <td>0</td>\n",
       "      <td>158616</td>\n",
       "      <td>сыграть свадьбу</td>\n",
       "      <td>C</td>\n",
       "      <td>W</td>\n",
       "    </tr>\n",
       "    <tr>\n",
       "      <th>...</th>\n",
       "      <td>...</td>\n",
       "      <td>...</td>\n",
       "      <td>...</td>\n",
       "      <td>...</td>\n",
       "      <td>...</td>\n",
       "      <td>...</td>\n",
       "      <td>...</td>\n",
       "      <td>...</td>\n",
       "      <td>...</td>\n",
       "      <td>...</td>\n",
       "      <td>...</td>\n",
       "      <td>...</td>\n",
       "    </tr>\n",
       "    <tr>\n",
       "      <th>21449</th>\n",
       "      <td>1</td>\n",
       "      <td>4529</td>\n",
       "      <td>43</td>\n",
       "      <td>1</td>\n",
       "      <td>1</td>\n",
       "      <td>F</td>\n",
       "      <td>компаньон</td>\n",
       "      <td>0</td>\n",
       "      <td>224791</td>\n",
       "      <td>операции с жильем</td>\n",
       "      <td>B</td>\n",
       "      <td>H</td>\n",
       "    </tr>\n",
       "    <tr>\n",
       "      <th>21450</th>\n",
       "      <td>0</td>\n",
       "      <td>15330</td>\n",
       "      <td>67</td>\n",
       "      <td>1</td>\n",
       "      <td>0</td>\n",
       "      <td>F</td>\n",
       "      <td>пенсионер</td>\n",
       "      <td>0</td>\n",
       "      <td>155999</td>\n",
       "      <td>сделка с автомобилем</td>\n",
       "      <td>C</td>\n",
       "      <td>C</td>\n",
       "    </tr>\n",
       "    <tr>\n",
       "      <th>21451</th>\n",
       "      <td>1</td>\n",
       "      <td>2113</td>\n",
       "      <td>38</td>\n",
       "      <td>1</td>\n",
       "      <td>1</td>\n",
       "      <td>M</td>\n",
       "      <td>сотрудник</td>\n",
       "      <td>1</td>\n",
       "      <td>89672</td>\n",
       "      <td>недвижимость</td>\n",
       "      <td>C</td>\n",
       "      <td>H</td>\n",
       "    </tr>\n",
       "    <tr>\n",
       "      <th>21452</th>\n",
       "      <td>3</td>\n",
       "      <td>3112</td>\n",
       "      <td>38</td>\n",
       "      <td>1</td>\n",
       "      <td>0</td>\n",
       "      <td>M</td>\n",
       "      <td>сотрудник</td>\n",
       "      <td>1</td>\n",
       "      <td>244093</td>\n",
       "      <td>на покупку своего автомобиля</td>\n",
       "      <td>B</td>\n",
       "      <td>C</td>\n",
       "    </tr>\n",
       "    <tr>\n",
       "      <th>21453</th>\n",
       "      <td>2</td>\n",
       "      <td>1984</td>\n",
       "      <td>40</td>\n",
       "      <td>1</td>\n",
       "      <td>0</td>\n",
       "      <td>F</td>\n",
       "      <td>сотрудник</td>\n",
       "      <td>0</td>\n",
       "      <td>82047</td>\n",
       "      <td>на покупку автомобиля</td>\n",
       "      <td>C</td>\n",
       "      <td>C</td>\n",
       "    </tr>\n",
       "  </tbody>\n",
       "</table>\n",
       "<p>21454 rows × 12 columns</p>\n",
       "</div>"
      ],
      "text/plain": [
       "       children  days_employed  dob_years  education_id  family_status_id  \\\n",
       "0             1           8437         42             0                 0   \n",
       "1             1           4024         36             1                 0   \n",
       "2             0           5623         33             1                 0   \n",
       "3             3           4124         32             1                 0   \n",
       "4             0          15330         53             1                 1   \n",
       "...         ...            ...        ...           ...               ...   \n",
       "21449         1           4529         43             1                 1   \n",
       "21450         0          15330         67             1                 0   \n",
       "21451         1           2113         38             1                 1   \n",
       "21452         3           3112         38             1                 0   \n",
       "21453         2           1984         40             1                 0   \n",
       "\n",
       "      gender income_type  debt  total_income                       purpose  \\\n",
       "0          F   сотрудник     0        253875                 покупка жилья   \n",
       "1          F   сотрудник     0        112080       приобретение автомобиля   \n",
       "2          M   сотрудник     0        145885                 покупка жилья   \n",
       "3          M   сотрудник     0        267628    дополнительное образование   \n",
       "4          F   пенсионер     0        158616               сыграть свадьбу   \n",
       "...      ...         ...   ...           ...                           ...   \n",
       "21449      F   компаньон     0        224791             операции с жильем   \n",
       "21450      F   пенсионер     0        155999          сделка с автомобилем   \n",
       "21451      M   сотрудник     1         89672                  недвижимость   \n",
       "21452      M   сотрудник     1        244093  на покупку своего автомобиля   \n",
       "21453      F   сотрудник     0         82047         на покупку автомобиля   \n",
       "\n",
       "      total_income_category purpose_category  \n",
       "0                         B                H  \n",
       "1                         C                C  \n",
       "2                         C                H  \n",
       "3                         B                L  \n",
       "4                         C                W  \n",
       "...                     ...              ...  \n",
       "21449                     B                H  \n",
       "21450                     C                C  \n",
       "21451                     C                H  \n",
       "21452                     B                C  \n",
       "21453                     C                C  \n",
       "\n",
       "[21454 rows x 12 columns]"
      ]
     },
     "metadata": {},
     "output_type": "display_data"
    },
    {
     "name": "stdout",
     "output_type": "stream",
     "text": [
      "Все категории определены.\n"
     ]
    }
   ],
   "source": [
    "#выполнение категоризации заемщиков по цели кредита\n",
    "df['purpose_category'] = df['purpose'].apply(purpose_category)\n",
    "\n",
    "#вывод результата категоризации на экран\n",
    "display(df)\n",
    "\n",
    "#проверка, все ли категории определены:\n",
    "if df[df['purpose_category'] == 'AN']['purpose'].count() == 0:\n",
    "    print('Все категории определены.')\n",
    "else:\n",
    "    print('Нужно проверить работу функции!')"
   ]
  },
  {
   "cell_type": "markdown",
   "id": "49dad8bb",
   "metadata": {},
   "source": [
    "# 8. Ответы на вопросы"
   ]
  },
  {
   "cell_type": "markdown",
   "id": "8ab46ebf",
   "metadata": {},
   "source": [
    "Согласно заданию, необходимо привести ответы на следующие вопросы:\n",
    "- Есть ли зависимость между количеством детей и возвратом кредита в срок?\n",
    "- Есть ли зависимость между семейным положением и возвратом кредита в срок?\n",
    "- Есть ли зависимость между уровнем дохода и возвратом кредита в срок?\n",
    "- Как разные цели кредита влияют на его возврат в срок?\n",
    "\n",
    "Для ответа на эти вопросы создадим сводные таблицы, в которых для каждого исследуемого значения параметра рассчитано среднее значение показателя `'debt'`. Так как в исходном датасете случаям невозврата кредита вовремя соответствует 1, случаям возврата кредита вовремя 0, то чем выше среднее значение показателя `'debt'` в сводной таблице, тем выше вероятность **невозврата** кредита вовремя.\n",
    "\n",
    "Далее по сводным таблицам построим диаграммы и выполним их анализ."
   ]
  },
  {
   "cell_type": "markdown",
   "id": "51ab7c52",
   "metadata": {},
   "source": [
    "## 8.1 Создание сводных таблиц"
   ]
  },
  {
   "cell_type": "code",
   "execution_count": 985,
   "id": "1689c049",
   "metadata": {},
   "outputs": [
    {
     "data": {
      "text/html": [
       "<div>\n",
       "<style scoped>\n",
       "    .dataframe tbody tr th:only-of-type {\n",
       "        vertical-align: middle;\n",
       "    }\n",
       "\n",
       "    .dataframe tbody tr th {\n",
       "        vertical-align: top;\n",
       "    }\n",
       "\n",
       "    .dataframe thead th {\n",
       "        text-align: right;\n",
       "    }\n",
       "</style>\n",
       "<table border=\"1\" class=\"dataframe\">\n",
       "  <thead>\n",
       "    <tr style=\"text-align: right;\">\n",
       "      <th></th>\n",
       "      <th>children</th>\n",
       "      <th>debt</th>\n",
       "      <th>occurence</th>\n",
       "    </tr>\n",
       "  </thead>\n",
       "  <tbody>\n",
       "    <tr>\n",
       "      <th>0</th>\n",
       "      <td>0</td>\n",
       "      <td>0.075438</td>\n",
       "      <td>65.68</td>\n",
       "    </tr>\n",
       "    <tr>\n",
       "      <th>1</th>\n",
       "      <td>1</td>\n",
       "      <td>0.091658</td>\n",
       "      <td>22.63</td>\n",
       "    </tr>\n",
       "    <tr>\n",
       "      <th>2</th>\n",
       "      <td>2</td>\n",
       "      <td>0.094925</td>\n",
       "      <td>9.92</td>\n",
       "    </tr>\n",
       "    <tr>\n",
       "      <th>3</th>\n",
       "      <td>3</td>\n",
       "      <td>0.081818</td>\n",
       "      <td>1.54</td>\n",
       "    </tr>\n",
       "    <tr>\n",
       "      <th>4</th>\n",
       "      <td>4</td>\n",
       "      <td>0.097561</td>\n",
       "      <td>0.19</td>\n",
       "    </tr>\n",
       "    <tr>\n",
       "      <th>5</th>\n",
       "      <td>5</td>\n",
       "      <td>0.000000</td>\n",
       "      <td>0.04</td>\n",
       "    </tr>\n",
       "  </tbody>\n",
       "</table>\n",
       "</div>"
      ],
      "text/plain": [
       "   children      debt  occurence\n",
       "0         0  0.075438      65.68\n",
       "1         1  0.091658      22.63\n",
       "2         2  0.094925       9.92\n",
       "3         3  0.081818       1.54\n",
       "4         4  0.097561       0.19\n",
       "5         5  0.000000       0.04"
      ]
     },
     "execution_count": 985,
     "metadata": {},
     "output_type": "execute_result"
    }
   ],
   "source": [
    "# Так как нам нужно создать четыре сводных таблицы, для каждой из которых необходимо рассчитать не только вероятность невозврата\n",
    "# кредита, но и частоту встречаемости каждого из вариантов анализируемых параметров, для уменьшения кода создадим функцию,\n",
    "# выполняющую создание сводной таблицы по указанному параметру\n",
    "\n",
    "def my_pivot_table(df, name): #df - датасет для создания сводной таблицы, name - параметр группировки (исследуемый)\n",
    "    \n",
    "    #1. Cоздадим сводную таблицу для оценки влияния параметра на возврат кредита в срок\n",
    "    #На данном этапе в сводной таблице для параметра группировки приведена только вероятность невозврата кредита\n",
    "    pivot_data = df.pivot_table(index = name, values = 'debt', aggfunc = 'mean').reset_index()\n",
    "    \n",
    "    #2. Cоздадим вспомогательную таблицу, в которой посчитана встречаемость каждого варианта исследуемого параметра\n",
    "    #2.1 Создадим вспомогательную таблицу, в которой посчитано количество каждого варианта исследуемого параметра\n",
    "    data_by_name_count = df.groupby(name)['purpose'].count().reset_index()  \n",
    "    #2.2 Переименуем столбец 'purpose' в 'occurence'\n",
    "    data_by_name_count = data_by_name_count.rename(columns = {'purpose':'occurence'})\n",
    "    #2.3 Рассчитаем встречаемость в процентах во столбце 'occurence' вспомогательной таблицы\n",
    "    data_by_name_count['occurence'] = round(data_by_name_count['occurence']/df.shape[0]*100, 2)\n",
    "    \n",
    "    #3. Добавим в сводную таблицу данные о встречаемости\n",
    "    pivot_data = pivot_data.merge(data_by_name_count, on = name)\n",
    "\n",
    "    return pivot_data\n",
    "\n",
    "#создание сводной таблицы для оценки влияния количества детей на возврат кредита в срок\n",
    "children_and_debt = my_pivot_table(df, 'children')\n",
    "\n",
    "#выведем результат\n",
    "children_and_debt"
   ]
  },
  {
   "cell_type": "code",
   "execution_count": 986,
   "id": "82d94feb",
   "metadata": {},
   "outputs": [
    {
     "data": {
      "text/html": [
       "<div>\n",
       "<style scoped>\n",
       "    .dataframe tbody tr th:only-of-type {\n",
       "        vertical-align: middle;\n",
       "    }\n",
       "\n",
       "    .dataframe tbody tr th {\n",
       "        vertical-align: top;\n",
       "    }\n",
       "\n",
       "    .dataframe thead th {\n",
       "        text-align: right;\n",
       "    }\n",
       "</style>\n",
       "<table border=\"1\" class=\"dataframe\">\n",
       "  <thead>\n",
       "    <tr style=\"text-align: right;\">\n",
       "      <th></th>\n",
       "      <th>family_status_id</th>\n",
       "      <th>debt</th>\n",
       "      <th>occurence</th>\n",
       "    </tr>\n",
       "  </thead>\n",
       "  <tbody>\n",
       "    <tr>\n",
       "      <th>0</th>\n",
       "      <td>0</td>\n",
       "      <td>0.075452</td>\n",
       "      <td>57.51</td>\n",
       "    </tr>\n",
       "    <tr>\n",
       "      <th>1</th>\n",
       "      <td>1</td>\n",
       "      <td>0.093471</td>\n",
       "      <td>19.35</td>\n",
       "    </tr>\n",
       "    <tr>\n",
       "      <th>2</th>\n",
       "      <td>2</td>\n",
       "      <td>0.065693</td>\n",
       "      <td>4.47</td>\n",
       "    </tr>\n",
       "    <tr>\n",
       "      <th>3</th>\n",
       "      <td>3</td>\n",
       "      <td>0.071130</td>\n",
       "      <td>5.57</td>\n",
       "    </tr>\n",
       "    <tr>\n",
       "      <th>4</th>\n",
       "      <td>4</td>\n",
       "      <td>0.097509</td>\n",
       "      <td>13.10</td>\n",
       "    </tr>\n",
       "  </tbody>\n",
       "</table>\n",
       "</div>"
      ],
      "text/plain": [
       "   family_status_id      debt  occurence\n",
       "0                 0  0.075452      57.51\n",
       "1                 1  0.093471      19.35\n",
       "2                 2  0.065693       4.47\n",
       "3                 3  0.071130       5.57\n",
       "4                 4  0.097509      13.10"
      ]
     },
     "execution_count": 986,
     "metadata": {},
     "output_type": "execute_result"
    }
   ],
   "source": [
    "#создание сводной таблицы для оценки влияния семейного положения на возврат кредита в срок\n",
    "family_and_debt = my_pivot_table(df, 'family_status_id')\n",
    "\n",
    "#выведем результат\n",
    "family_and_debt"
   ]
  },
  {
   "cell_type": "code",
   "execution_count": 987,
   "id": "7493c797",
   "metadata": {},
   "outputs": [
    {
     "data": {
      "text/html": [
       "<div>\n",
       "<style scoped>\n",
       "    .dataframe tbody tr th:only-of-type {\n",
       "        vertical-align: middle;\n",
       "    }\n",
       "\n",
       "    .dataframe tbody tr th {\n",
       "        vertical-align: top;\n",
       "    }\n",
       "\n",
       "    .dataframe thead th {\n",
       "        text-align: right;\n",
       "    }\n",
       "</style>\n",
       "<table border=\"1\" class=\"dataframe\">\n",
       "  <thead>\n",
       "    <tr style=\"text-align: right;\">\n",
       "      <th></th>\n",
       "      <th>total_income_category</th>\n",
       "      <th>debt</th>\n",
       "      <th>occurence</th>\n",
       "    </tr>\n",
       "  </thead>\n",
       "  <tbody>\n",
       "    <tr>\n",
       "      <th>0</th>\n",
       "      <td>A</td>\n",
       "      <td>0.080000</td>\n",
       "      <td>0.12</td>\n",
       "    </tr>\n",
       "    <tr>\n",
       "      <th>1</th>\n",
       "      <td>B</td>\n",
       "      <td>0.070607</td>\n",
       "      <td>23.50</td>\n",
       "    </tr>\n",
       "    <tr>\n",
       "      <th>2</th>\n",
       "      <td>C</td>\n",
       "      <td>0.084920</td>\n",
       "      <td>74.65</td>\n",
       "    </tr>\n",
       "    <tr>\n",
       "      <th>3</th>\n",
       "      <td>D</td>\n",
       "      <td>0.060000</td>\n",
       "      <td>1.63</td>\n",
       "    </tr>\n",
       "    <tr>\n",
       "      <th>4</th>\n",
       "      <td>E</td>\n",
       "      <td>0.090909</td>\n",
       "      <td>0.10</td>\n",
       "    </tr>\n",
       "  </tbody>\n",
       "</table>\n",
       "</div>"
      ],
      "text/plain": [
       "  total_income_category      debt  occurence\n",
       "0                     A  0.080000       0.12\n",
       "1                     B  0.070607      23.50\n",
       "2                     C  0.084920      74.65\n",
       "3                     D  0.060000       1.63\n",
       "4                     E  0.090909       0.10"
      ]
     },
     "execution_count": 987,
     "metadata": {},
     "output_type": "execute_result"
    }
   ],
   "source": [
    "# Создадим сводную таблицу для оценки влияния дохода на возврат кредита в срок\n",
    "income_and_debt = my_pivot_table(df, 'total_income_category')\n",
    "\n",
    "#выведем результат\n",
    "income_and_debt"
   ]
  },
  {
   "cell_type": "code",
   "execution_count": 988,
   "id": "ddfb791d",
   "metadata": {
    "scrolled": false
   },
   "outputs": [
    {
     "data": {
      "text/html": [
       "<div>\n",
       "<style scoped>\n",
       "    .dataframe tbody tr th:only-of-type {\n",
       "        vertical-align: middle;\n",
       "    }\n",
       "\n",
       "    .dataframe tbody tr th {\n",
       "        vertical-align: top;\n",
       "    }\n",
       "\n",
       "    .dataframe thead th {\n",
       "        text-align: right;\n",
       "    }\n",
       "</style>\n",
       "<table border=\"1\" class=\"dataframe\">\n",
       "  <thead>\n",
       "    <tr style=\"text-align: right;\">\n",
       "      <th></th>\n",
       "      <th>purpose_category</th>\n",
       "      <th>debt</th>\n",
       "      <th>occurence</th>\n",
       "    </tr>\n",
       "  </thead>\n",
       "  <tbody>\n",
       "    <tr>\n",
       "      <th>0</th>\n",
       "      <td>C</td>\n",
       "      <td>0.093590</td>\n",
       "      <td>20.07</td>\n",
       "    </tr>\n",
       "    <tr>\n",
       "      <th>1</th>\n",
       "      <td>H</td>\n",
       "      <td>0.072334</td>\n",
       "      <td>50.39</td>\n",
       "    </tr>\n",
       "    <tr>\n",
       "      <th>2</th>\n",
       "      <td>L</td>\n",
       "      <td>0.092200</td>\n",
       "      <td>18.71</td>\n",
       "    </tr>\n",
       "    <tr>\n",
       "      <th>3</th>\n",
       "      <td>W</td>\n",
       "      <td>0.080034</td>\n",
       "      <td>10.83</td>\n",
       "    </tr>\n",
       "  </tbody>\n",
       "</table>\n",
       "</div>"
      ],
      "text/plain": [
       "  purpose_category      debt  occurence\n",
       "0                C  0.093590      20.07\n",
       "1                H  0.072334      50.39\n",
       "2                L  0.092200      18.71\n",
       "3                W  0.080034      10.83"
      ]
     },
     "execution_count": 988,
     "metadata": {},
     "output_type": "execute_result"
    }
   ],
   "source": [
    "#Создадим сводную таблицу для оценки влияния цели кредита на возврат кредита в срок\n",
    "purpose_and_debt = my_pivot_table(df, 'purpose_category')\n",
    "\n",
    "#выведем результат\n",
    "purpose_and_debt"
   ]
  },
  {
   "cell_type": "markdown",
   "id": "7af9dea9",
   "metadata": {},
   "source": [
    "## 8.2 Построение диаграмм вероятности невозврата кредита"
   ]
  },
  {
   "cell_type": "markdown",
   "id": "ce2dd619",
   "metadata": {},
   "source": [
    "### 8.2.1 Диаграммы вероятности невозврата кредита в зависимости от количества детей\n",
    "Построим диаграмму вероятности (в долях единицы) невозврата кредита в срок, в зависимости от **количества детей**. <a id = 'child_and_debt'></a>\n",
    "В качестве исходных данных используем сводную таблицу children_and_debt.\n",
    "Дополнительно построим диаграмму встречаемости каждой категории."
   ]
  },
  {
   "cell_type": "code",
   "execution_count": 989,
   "id": "c306003d",
   "metadata": {
    "scrolled": true
   },
   "outputs": [
    {
     "data": {
      "text/plain": [
       "<AxesSubplot:xlabel='children', ylabel='debt'>"
      ]
     },
     "execution_count": 989,
     "metadata": {},
     "output_type": "execute_result"
    },
    {
     "data": {
      "image/png": "[encoded data removed]",
      "text/plain": [
       "<Figure size 432x288 with 1 Axes>"
      ]
     },
     "metadata": {
      "needs_background": "light"
     },
     "output_type": "display_data"
    }
   ],
   "source": [
    "#импортируем библиотеку seaborn и сохраняем ее в переменной sns\n",
    "import seaborn as sns \n",
    "\n",
    "#строим диаграмму вероятности (в долях единицы) невозврата кредита в срок, в зависимости от количества детей\n",
    "sns.barplot(x = children_and_debt['children'], y = children_and_debt['debt'])"
   ]
  },
  {
   "cell_type": "code",
   "execution_count": 990,
   "id": "92080021",
   "metadata": {
    "scrolled": true
   },
   "outputs": [
    {
     "data": {
      "text/plain": [
       "<AxesSubplot:xlabel='children', ylabel='occurence'>"
      ]
     },
     "execution_count": 990,
     "metadata": {},
     "output_type": "execute_result"
    },
    {
     "data": {
      "image/png": "[encoded data removed]",
      "text/plain": [
       "<Figure size 432x288 with 1 Axes>"
      ]
     },
     "metadata": {
      "needs_background": "light"
     },
     "output_type": "display_data"
    }
   ],
   "source": [
    "#строим диаграмму встречаемости (в процентах) каждой категории заемщиков по наличию дтей\n",
    "sns.barplot(x = children_and_debt['children'], y = children_and_debt['occurence'])"
   ]
  },
  {
   "cell_type": "markdown",
   "id": "acc1ba73",
   "metadata": {},
   "source": [
    "### 8.2.2 Диаграммы вероятности невозврата кредита в зависимости от семейного положения\n",
    "Построим диаграмму вероятности (в долях единицы) невозврата кредита в срок, в зависимости от **семейного положения**. <a id = 'fam_and_debt'></a>\n",
    "В качестве исходных данных используем сводную таблицу family_status_and_debt. Дополнительно построим диаграмму встречаемости каждой категории."
   ]
  },
  {
   "cell_type": "code",
   "execution_count": 991,
   "id": "a595b5b8",
   "metadata": {
    "scrolled": true
   },
   "outputs": [
    {
     "data": {
      "text/plain": [
       "<AxesSubplot:xlabel='family_status_id', ylabel='debt'>"
      ]
     },
     "execution_count": 991,
     "metadata": {},
     "output_type": "execute_result"
    },
    {
     "data": {
      "image/png": "[encoded data removed]",
      "text/plain": [
       "<Figure size 432x288 with 1 Axes>"
      ]
     },
     "metadata": {
      "needs_background": "light"
     },
     "output_type": "display_data"
    }
   ],
   "source": [
    "#строим диаграмму вероятности (в долях единицы) невозврата кредита в срок, в зависимости от семейного положения\n",
    "sns.barplot(x = family_status_and_debt['family_status_id'], y = family_status_and_debt['debt'])"
   ]
  },
  {
   "cell_type": "code",
   "execution_count": 992,
   "id": "f8170a67",
   "metadata": {
    "scrolled": true
   },
   "outputs": [
    {
     "data": {
      "text/plain": [
       "<AxesSubplot:xlabel='family_status_id', ylabel='occurence'>"
      ]
     },
     "execution_count": 992,
     "metadata": {},
     "output_type": "execute_result"
    },
    {
     "data": {
      "image/png": "[encoded data removed]",
      "text/plain": [
       "<Figure size 432x288 with 1 Axes>"
      ]
     },
     "metadata": {
      "needs_background": "light"
     },
     "output_type": "display_data"
    }
   ],
   "source": [
    "#строим диаграмму встречаемости (в процентах) каждой категории заемщиков по семейному положению\n",
    "sns.barplot(x = family_status_and_debt['family_status_id'], y = family_status_and_debt['occurence'])"
   ]
  },
  {
   "cell_type": "markdown",
   "id": "e1740286",
   "metadata": {},
   "source": [
    "### 8.2.3 Диаграммы вероятности невозврата кредита в зависимости от уровня ежемесячного дохода\n",
    "Построим диаграмму вероятности (в долях единицы) невозврата кредита в срок, в зависимости от **уровня ежемесячного дохода**. <a id = 'income_and_debt'></a>\n",
    "В качестве исходных данных используем сводную таблицу income_and_debt.  Дополнительно построим диаграмму встречаемости каждой категории."
   ]
  },
  {
   "cell_type": "code",
   "execution_count": 993,
   "id": "dc3763ba",
   "metadata": {
    "scrolled": false
   },
   "outputs": [
    {
     "data": {
      "text/plain": [
       "<AxesSubplot:xlabel='total_income_category', ylabel='debt'>"
      ]
     },
     "execution_count": 993,
     "metadata": {},
     "output_type": "execute_result"
    },
    {
     "data": {
      "image/png": "[encoded data removed]",
      "text/plain": [
       "<Figure size 432x288 with 1 Axes>"
      ]
     },
     "metadata": {
      "needs_background": "light"
     },
     "output_type": "display_data"
    }
   ],
   "source": [
    "#строим диаграмму вероятности (в долях единицы) невозврата кредита в срок, в зависимости от уровня дохода\n",
    "sns.barplot(x = income_and_debt['total_income_category'], y = income_and_debt['debt'])"
   ]
  },
  {
   "cell_type": "code",
   "execution_count": 994,
   "id": "abf3a72a",
   "metadata": {},
   "outputs": [
    {
     "data": {
      "text/plain": [
       "<AxesSubplot:xlabel='total_income_category', ylabel='occurence'>"
      ]
     },
     "execution_count": 994,
     "metadata": {},
     "output_type": "execute_result"
    },
    {
     "data": {
      "image/png": "[encoded data removed]",
      "text/plain": [
       "<Figure size 432x288 with 1 Axes>"
      ]
     },
     "metadata": {
      "needs_background": "light"
     },
     "output_type": "display_data"
    }
   ],
   "source": [
    "#строим диаграмму встречаемости (в процентах) каждой категории заемщиков по семейному положению\n",
    "sns.barplot(x = income_and_debt['total_income_category'], y = income_and_debt['occurence'])"
   ]
  },
  {
   "cell_type": "markdown",
   "id": "f0cc11a2",
   "metadata": {},
   "source": [
    "### 8.2.4 Диаграммы вероятности невозврата кредита в зависимости от целей кредита\n",
    "Построим диаграмму вероятности (в долях единицы) невозврата кредита в срок, в зависимости от **цели кредита**. <a id = 'purpose_and_debt'></a>\n",
    "В качестве исходных данных используем сводную таблицу purpose_and_debt.  Дополнительно построим диаграмму встречаемости каждой категории."
   ]
  },
  {
   "cell_type": "code",
   "execution_count": 995,
   "id": "b642f8d5",
   "metadata": {
    "scrolled": false
   },
   "outputs": [
    {
     "data": {
      "text/plain": [
       "<AxesSubplot:xlabel='purpose_category', ylabel='debt'>"
      ]
     },
     "execution_count": 995,
     "metadata": {},
     "output_type": "execute_result"
    },
    {
     "data": {
      "image/png": "[encoded data removed]",
      "text/plain": [
       "<Figure size 432x288 with 1 Axes>"
      ]
     },
     "metadata": {
      "needs_background": "light"
     },
     "output_type": "display_data"
    }
   ],
   "source": [
    "#строим диаграмму вероятности (в долях единицы) невозврата кредита в срок, в зависимости от цели кредита\n",
    "sns.barplot(x = purpose_and_debt['purpose_category'], y = purpose_and_debt['debt'])"
   ]
  },
  {
   "cell_type": "code",
   "execution_count": 996,
   "id": "14d7a837",
   "metadata": {},
   "outputs": [
    {
     "data": {
      "text/plain": [
       "<AxesSubplot:xlabel='purpose_category', ylabel='occurence'>"
      ]
     },
     "execution_count": 996,
     "metadata": {},
     "output_type": "execute_result"
    },
    {
     "data": {
      "image/png": "[encoded data removed]",
      "text/plain": [
       "<Figure size 432x288 with 1 Axes>"
      ]
     },
     "metadata": {
      "needs_background": "light"
     },
     "output_type": "display_data"
    }
   ],
   "source": [
    "#строим диаграмму встречаемости (в процентах) каждой категории заемщиков по цели кредита\n",
    "sns.barplot(x = purpose_and_debt['purpose_category'], y = purpose_and_debt['occurence'])"
   ]
  },
  {
   "cell_type": "markdown",
   "id": "4507daa1",
   "metadata": {},
   "source": [
    "## 8.3 Ответы на поставленные вопросы"
   ]
  },
  {
   "cell_type": "markdown",
   "id": "be7eaa67",
   "metadata": {},
   "source": [
    "**Вопрос №1:** есть ли зависимость между количеством детей и возвратом кредита в срок?\n",
    "\n",
    "**Ответ:** анализируя [диаграмму](#child_and_debt) вероятности невозврата кредита в срок в зависимости от количества детей, можно сказать,что при рассмотрении заемщиков с 0, 1, 2, 4 детьми прослеживается прямая зависимость: при увеличении количества детей вероятность просрочки возрастает. Так, вероятность невозврата кредита бездетными составляет ≈7%, при наличии одного ребенка ≈9.2% при наличии 4-х детей - ≈10%. Наличие детей увеличивает вероятность невозврата кредита вовремя относительно бездетных заемщиков на 1.5-2%. Однако из общего графика выбивается значения для заемщиков с 3-мя и 5-ю детьми. Причем все заемщики с 5-ю детьми вернули кредит в срок. Вероятно, здесь присутствует влияние других факторов. \n",
    "Следует отметить также, что заемщиков с количеством детей 3 и более - менее двух процентов от всей выборки, что также может сказываться на полученных результатах. Однако такой объем заемщиков с количеством детей 3 и более относительно всей выборки может соответствовать реальным данным, так как многодетных семей меньше, чем бездетных или с 1-2 детьми.\n",
    "\n",
    "\n",
    "**Вопрос №2:** есть ли зависимость между семейным положением и возвратом кредита в срок?\n",
    "\n",
    "**Ответ:** анализируя [диаграмму](#fam_and_debt) вероятности невозврата кредита в срок в зависимости от семейного положения, можно сделать следующие выводы:\n",
    "\n",
    "- из пяти категорий семейного положения, для заемщиков, состоящих в зарегистрированном браке, наблюдается медианная вероятность невозврата кредита вовремя (7.5%);\n",
    "- наиболее ответственные заемщики - заемщики, ранее состоявшие в браке. Наименьшая вероятность невозврата кредита наблюдается у вдов/вдовцов (6.6%), затем идут разведенные (7.1%). Может быть, такой результат связан с психологическим фактором - люди, потерявшие близкого человека, не берут большие кредиты, так как рассчитывают только на свои силы.\n",
    "- наименее ответственные заемщики - заемщики, не состоявшие в браке. Наибольшей вероятностью невозврата кредита обладают холостые (9.8%), четвертое место занимают состоящие в гражданском браке (9.3%).\n",
    "\n",
    "**Вопрос №3:** есть ли зависимость между уровнем дохода и возвратом кредита в срок?\n",
    "\n",
    "**Ответ:** анализируя [диаграмму](#income_and_debt) вероятности невозврата кредита в срок в зависимости от уровня дохода, можно сделать следующие выводы:\n",
    "\n",
    "- распределение встречаемости для категорий уровня дохода резко отличается от распределения встречаемости для остальных категорий. Так, лица с доходом 1 000 000 и более и лица с доходом 30 000 и менее составляют 0.2% всей выборки (по 0.1% на категории А и D). В связи с этим, полученные для этих категорий заемщиков значения могут быть не показательны;\n",
    "- вероятно, можно сказать, что есть тенденция задержки выплаты кредита с уменьшением дохода, если считать показатели для категорий A и D состоятельными. В противном случае зависимости нет;\n",
    "- Наболее рискованная категория заемщиков - Е. Для лиц с доходами 30 000 и ниже наблюдается максимальная вероятность невозврата кредита (9.1%);\n",
    "- Наименее рискованная группа заемщиков - D. Для лиц с доходами 30 000 и ниже наблюдается максимальная вероятность невозврата кредита (6.0%);\n",
    "\n",
    "**Вопрос №4:** как разные цели кредита влияют на его возврат в срок?\n",
    "\n",
    "**Ответ:** анализируя [диаграмму](#purpose_and_debt) вероятности невозврата кредита в срок в зависимости от целей кредита, можно сделать следующие выводы:\n",
    "\n",
    "- наибольшая вероятность задержки кредита наблюдается для заемщиков, целью займа которых является покупка машины (9.4%) и обучение (9.2%).\n",
    "- наименьшая вероятность задержки кредита наблюдается для заемщиков, цель займа которых - операции с жильем (7.2%). Причем таких заемщиков ≈50% от всей выборки. Возможно, минимальный риск для этой категории лиц обусловлен суммой кредита и важностью наличия собственного жилья.\n",
    "- заемщики, взявшие кредит на свадьбу, показали медианное значение вероятности возврата кредита в срок: 8.0%.\n",
    "\n"
   ]
  },
  {
   "cell_type": "markdown",
   "id": "1066e1ea",
   "metadata": {},
   "source": [
    "# 9. Общий вывод\n",
    "\n",
    "В рамках выполнения проекта было проведено исследование влияния таких факторов, как: количество детей, семейное положение, уровень дохода, цель кредита - на возврат кредита в срок.\n",
    "\n",
    "В результате получены следующие результаты:\n",
    "- с увеличением количества детей возрастает вероятность задержки кредита. Наиболее надежные заемщики - бездетные;\n",
    "- наиболее надежные заемщики - состоявшие в браке и на момент займа имеющие статус \"разведен/а\", \"вдовец/ва\". Наименее надежные заемщики - не состоявшие в официальном браке: холостые или находящиеся в гражданском браке. Состоящие в официальном браке имеют медианные показатели возврата кредита в срок.\n",
    "- четкой зависимости между уровнем дохода и вероятностью задержки выплаты по кредиту не наблюдается. Нужны дополнительные данные.\n",
    "- цель кредита влияет на возврат кредита в срок. Наиболее надежные заемщики - взявшие кредит на недвижимость, наименее надежные - взявшие кредит на автомобиль или обучение. Взявшие кредит на свадьбу имеют медианные показатери возврата кредита в срок.\n",
    "\n",
    "Для более детального анализа платежеспособности заемщиков возможно следующее:\n",
    "- провести совместный анализ вероятности возврата кредита в срок, исходя из нескольких факторов влияния;\n",
    "- выделить подкатегории заемщиков. Например, категорию цели \"операции с недвижимостью\" разбить на подкатегории: \"коммерческие операции\" и \"некоммерческие операции\";\n",
    "- обогатить выборку дополнительными данными, например, суммой взятых кредитов или информацией о количестве кредитов выплаченных вовремя и/или задержанных."
   ]
  },
  {
   "cell_type": "markdown",
   "id": "c306d2a6",
   "metadata": {},
   "source": [
    "<div align=\"center\"><b> КОТИК ДЛЯ РЕВЬЮЕРА :) </b></div> \n",
    "<img src=\"https://thumbs.dreamstime.com/b/%D0%BB%D0%B5%D0%B6%D0%B0-%D0%BA%D0%BE%D1%82-%D0%BE%D0%BC%D0%B0-64985031.jpg\" align=center width=700, heigth=50>"
   ]
  }
 ],
 "metadata": {
  "ExecuteTimeLog": [
   {
    "duration": 98,
    "start_time": "2022-04-14T04:27:58.526Z"
   },
   {
    "duration": 83,
    "start_time": "2022-04-14T04:31:33.157Z"
   }
  ],
  "kernelspec": {
   "display_name": "Python 3 (ipykernel)",
   "language": "python",
   "name": "python3"
  },
  "language_info": {
   "codemirror_mode": {
    "name": "ipython",
    "version": 3
   },
   "file_extension": ".py",
   "mimetype": "text/x-python",
   "name": "python",
   "nbconvert_exporter": "python",
   "pygments_lexer": "ipython3",
   "version": "3.9.12"
  },
  "toc": {
   "base_numbering": 1,
   "nav_menu": {},
   "number_sections": true,
   "sideBar": true,
   "skip_h1_title": true,
   "title_cell": "Table of Contents",
   "title_sidebar": "Contents",
   "toc_cell": false,
   "toc_position": {},
   "toc_section_display": true,
   "toc_window_display": false
  }
 },
 "nbformat": 4,
 "nbformat_minor": 5
}
